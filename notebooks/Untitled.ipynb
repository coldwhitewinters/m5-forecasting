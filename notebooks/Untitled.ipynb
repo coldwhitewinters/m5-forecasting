{
 "cells": [
  {
   "cell_type": "markdown",
   "id": "1542a4a0-c3b5-48d9-bd67-076ca56ffaf6",
   "metadata": {
    "tags": []
   },
   "source": [
    "## Setup"
   ]
  },
  {
   "cell_type": "code",
   "execution_count": 1,
   "id": "94f97822-ef47-475c-9958-5773cd4b3658",
   "metadata": {},
   "outputs": [],
   "source": [
    "%load_ext autoreload\n",
    "%autoreload 2"
   ]
  },
  {
   "cell_type": "code",
   "execution_count": 2,
   "id": "836d26d5-0168-4ebc-b874-56d0f8706eca",
   "metadata": {},
   "outputs": [],
   "source": [
    "import sys\n",
    "sys.path.append(\"..\")\n",
    "\n",
    "# Libraries\n",
    "import pandas as pd\n",
    "import numpy as np\n",
    "import matplotlib.pyplot as plt\n",
    "\n",
    "import m5.config as cfg\n",
    "import m5.preprocessing\n",
    "from m5.metrics import rmsse\n",
    "\n",
    "import lightgbm as lgb\n",
    "import gc\n",
    "\n",
    "# Library settings\n",
    "pd.options.display.max_columns = 999\n",
    "plt.rcParams[\"figure.figsize\"] = (14, 4)"
   ]
  },
  {
   "cell_type": "code",
   "execution_count": 5,
   "id": "e6a63d0f-7aa9-4c17-bec3-2d8a9fd52eef",
   "metadata": {},
   "outputs": [],
   "source": [
    "def agg_sales(data, lvl):\n",
    "    agg_level = {\n",
    "        1: ['d'],\n",
    "        2: ['state_id', 'd'],\n",
    "        3: ['store_id', 'd'],\n",
    "        4: ['cat_id', 'd'],\n",
    "        5: ['dept_id', 'd'],\n",
    "        6: ['state_id', 'cat_id', 'd'],\n",
    "        7: ['state_id', 'dept_id', 'd'],\n",
    "        8: ['store_id', 'cat_id', 'd'],\n",
    "        9: ['store_id', 'dept_id', 'd'],\n",
    "        10: ['item_id', 'd'],\n",
    "        11: ['item_id', 'state_id', 'd'],\n",
    "        12: ['item_id', 'store_id', 'd'],\n",
    "    }\n",
    "    \n",
    "    data_agg = data.groupby(agg_level[lvl])[\"sales\"].sum().reset_index()\n",
    "    return data_agg"
   ]
  },
  {
   "cell_type": "code",
   "execution_count": 3,
   "id": "c1c23d4b-8008-4b61-ba29-517a2a2d76eb",
   "metadata": {},
   "outputs": [],
   "source": [
    "train = pd.read_parquet(cfg.DATA_PROCESSED_DIR / \"train.parquet\")"
   ]
  },
  {
   "cell_type": "code",
   "execution_count": 6,
   "id": "f2447ca4-3eac-49f3-886b-3267d9ba6b69",
   "metadata": {},
   "outputs": [],
   "source": [
    "train = train.iloc[:, :8]"
   ]
  },
  {
   "cell_type": "code",
   "execution_count": 8,
   "id": "c343183f-4948-40b7-aff1-cd7e3bbea231",
   "metadata": {},
   "outputs": [],
   "source": [
    "for lvl in range(1, 12+1):\n",
    "    agg_sales(train, lvl).to_parquet(cfg.DATA_PROCESSED_DIR / f\"agg_sales_lvl_{lvl}.parquet\")"
   ]
  },
  {
   "cell_type": "code",
   "execution_count": 9,
   "id": "eaf09aca-d948-4a44-82ef-6329b770a1bc",
   "metadata": {},
   "outputs": [],
   "source": [
    "df = pd.read_parquet(cfg.DATA_PROCESSED_DIR / \"agg_sales_lvl_12.parquet\")"
   ]
  },
  {
   "cell_type": "code",
   "execution_count": 12,
   "id": "ec2d88ca-e076-4c60-8e36-1e115cdcf1fc",
   "metadata": {},
   "outputs": [
    {
     "data": {
      "text/html": [
       "<div>\n",
       "<style scoped>\n",
       "    .dataframe tbody tr th:only-of-type {\n",
       "        vertical-align: middle;\n",
       "    }\n",
       "\n",
       "    .dataframe tbody tr th {\n",
       "        vertical-align: top;\n",
       "    }\n",
       "\n",
       "    .dataframe thead th {\n",
       "        text-align: right;\n",
       "    }\n",
       "</style>\n",
       "<table border=\"1\" class=\"dataframe\">\n",
       "  <thead>\n",
       "    <tr style=\"text-align: right;\">\n",
       "      <th></th>\n",
       "      <th>item_id</th>\n",
       "      <th>store_id</th>\n",
       "      <th>d</th>\n",
       "      <th>sales</th>\n",
       "    </tr>\n",
       "  </thead>\n",
       "  <tbody>\n",
       "    <tr>\n",
       "      <th>0</th>\n",
       "      <td>0</td>\n",
       "      <td>0</td>\n",
       "      <td>42</td>\n",
       "      <td>0</td>\n",
       "    </tr>\n",
       "    <tr>\n",
       "      <th>1</th>\n",
       "      <td>0</td>\n",
       "      <td>0</td>\n",
       "      <td>43</td>\n",
       "      <td>1</td>\n",
       "    </tr>\n",
       "    <tr>\n",
       "      <th>2</th>\n",
       "      <td>0</td>\n",
       "      <td>0</td>\n",
       "      <td>44</td>\n",
       "      <td>5</td>\n",
       "    </tr>\n",
       "    <tr>\n",
       "      <th>3</th>\n",
       "      <td>0</td>\n",
       "      <td>0</td>\n",
       "      <td>45</td>\n",
       "      <td>0</td>\n",
       "    </tr>\n",
       "    <tr>\n",
       "      <th>4</th>\n",
       "      <td>0</td>\n",
       "      <td>0</td>\n",
       "      <td>46</td>\n",
       "      <td>0</td>\n",
       "    </tr>\n",
       "    <tr>\n",
       "      <th>...</th>\n",
       "      <td>...</td>\n",
       "      <td>...</td>\n",
       "      <td>...</td>\n",
       "      <td>...</td>\n",
       "    </tr>\n",
       "    <tr>\n",
       "      <th>43838687</th>\n",
       "      <td>3048</td>\n",
       "      <td>9</td>\n",
       "      <td>1881</td>\n",
       "      <td>0</td>\n",
       "    </tr>\n",
       "    <tr>\n",
       "      <th>43838688</th>\n",
       "      <td>3048</td>\n",
       "      <td>9</td>\n",
       "      <td>1882</td>\n",
       "      <td>0</td>\n",
       "    </tr>\n",
       "    <tr>\n",
       "      <th>43838689</th>\n",
       "      <td>3048</td>\n",
       "      <td>9</td>\n",
       "      <td>1883</td>\n",
       "      <td>0</td>\n",
       "    </tr>\n",
       "    <tr>\n",
       "      <th>43838690</th>\n",
       "      <td>3048</td>\n",
       "      <td>9</td>\n",
       "      <td>1884</td>\n",
       "      <td>0</td>\n",
       "    </tr>\n",
       "    <tr>\n",
       "      <th>43838691</th>\n",
       "      <td>3048</td>\n",
       "      <td>9</td>\n",
       "      <td>1885</td>\n",
       "      <td>0</td>\n",
       "    </tr>\n",
       "  </tbody>\n",
       "</table>\n",
       "<p>43838692 rows × 4 columns</p>\n",
       "</div>"
      ],
      "text/plain": [
       "          item_id  store_id     d  sales\n",
       "0               0         0    42      0\n",
       "1               0         0    43      1\n",
       "2               0         0    44      5\n",
       "3               0         0    45      0\n",
       "4               0         0    46      0\n",
       "...           ...       ...   ...    ...\n",
       "43838687     3048         9  1881      0\n",
       "43838688     3048         9  1882      0\n",
       "43838689     3048         9  1883      0\n",
       "43838690     3048         9  1884      0\n",
       "43838691     3048         9  1885      0\n",
       "\n",
       "[43838692 rows x 4 columns]"
      ]
     },
     "execution_count": 12,
     "metadata": {},
     "output_type": "execute_result"
    }
   ],
   "source": [
    "df"
   ]
  },
  {
   "cell_type": "code",
   "execution_count": null,
   "id": "d25eb622-5dff-4599-a57c-0be0199a6593",
   "metadata": {},
   "outputs": [],
   "source": []
  }
 ],
 "metadata": {
  "kernelspec": {
   "display_name": "Python 3 (ipykernel)",
   "language": "python",
   "name": "python3"
  },
  "language_info": {
   "codemirror_mode": {
    "name": "ipython",
    "version": 3
   },
   "file_extension": ".py",
   "mimetype": "text/x-python",
   "name": "python",
   "nbconvert_exporter": "python",
   "pygments_lexer": "ipython3",
   "version": "3.9.7"
  }
 },
 "nbformat": 4,
 "nbformat_minor": 5
}
