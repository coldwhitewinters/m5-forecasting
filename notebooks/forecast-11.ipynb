{
 "cells": [
  {
   "cell_type": "markdown",
   "id": "2e97f892-e21b-412e-9d7c-0401cd572d32",
   "metadata": {
    "papermill": {
     "duration": 0.007924,
     "end_time": "2021-10-14T00:33:08.063296",
     "exception": false,
     "start_time": "2021-10-14T00:33:08.055372",
     "status": "completed"
    },
    "tags": []
   },
   "source": [
    "# Forecast"
   ]
  },
  {
   "cell_type": "markdown",
   "id": "db01a074-52df-475b-a54a-a754b84f2251",
   "metadata": {
    "papermill": {
     "duration": 0.005741,
     "end_time": "2021-10-14T00:33:08.078134",
     "exception": false,
     "start_time": "2021-10-14T00:33:08.072393",
     "status": "completed"
    },
    "tags": []
   },
   "source": [
    "## Setup"
   ]
  },
  {
   "cell_type": "code",
   "execution_count": 1,
   "id": "fb6ab9fc-2b2d-4c69-bccf-13a545604b52",
   "metadata": {
    "execution": {
     "iopub.execute_input": "2021-10-14T00:33:08.096404Z",
     "iopub.status.busy": "2021-10-14T00:33:08.095894Z",
     "iopub.status.idle": "2021-10-14T00:33:08.104114Z",
     "shell.execute_reply": "2021-10-14T00:33:08.103765Z"
    },
    "papermill": {
     "duration": 0.020635,
     "end_time": "2021-10-14T00:33:08.104199",
     "exception": false,
     "start_time": "2021-10-14T00:33:08.083564",
     "status": "completed"
    },
    "tags": []
   },
   "outputs": [],
   "source": [
    "%load_ext autoreload\n",
    "%autoreload 2"
   ]
  },
  {
   "cell_type": "code",
   "execution_count": 2,
   "id": "372f5539-cb1b-4dd8-8d3d-2d9506e3d476",
   "metadata": {
    "execution": {
     "iopub.execute_input": "2021-10-14T00:33:08.118636Z",
     "iopub.status.busy": "2021-10-14T00:33:08.118242Z",
     "iopub.status.idle": "2021-10-14T00:33:08.967009Z",
     "shell.execute_reply": "2021-10-14T00:33:08.966735Z"
    },
    "papermill": {
     "duration": 0.857586,
     "end_time": "2021-10-14T00:33:08.967098",
     "exception": false,
     "start_time": "2021-10-14T00:33:08.109512",
     "status": "completed"
    },
    "tags": []
   },
   "outputs": [],
   "source": [
    "import sys\n",
    "sys.path.append(\"..\")\n",
    "\n",
    "# Libraries\n",
    "import pandas as pd\n",
    "import numpy as np\n",
    "import matplotlib.pyplot as plt\n",
    "\n",
    "import m5.config as cfg\n",
    "from m5.model import train, predict\n",
    "from m5.evaluate import accuracy\n",
    "from m5.plot import plot_fcst\n",
    "\n",
    "# Library settings\n",
    "pd.options.display.max_columns = 999\n",
    "plt.rcParams[\"figure.figsize\"] = (14, 4)"
   ]
  },
  {
   "cell_type": "markdown",
   "id": "d9d6177b-3189-4b70-9542-ca825a007af1",
   "metadata": {
    "papermill": {
     "duration": 0.005699,
     "end_time": "2021-10-14T00:33:08.979012",
     "exception": false,
     "start_time": "2021-10-14T00:33:08.973313",
     "status": "completed"
    },
    "tags": []
   },
   "source": [
    "## Parameters"
   ]
  },
  {
   "cell_type": "code",
   "execution_count": 3,
   "id": "ca52ac99-bbcd-4bdd-9b6c-a8cc8e448eb2",
   "metadata": {
    "execution": {
     "iopub.execute_input": "2021-10-14T00:33:08.995972Z",
     "iopub.status.busy": "2021-10-14T00:33:08.995391Z",
     "iopub.status.idle": "2021-10-14T00:33:09.007318Z",
     "shell.execute_reply": "2021-10-14T00:33:09.006971Z"
    },
    "papermill": {
     "duration": 0.021928,
     "end_time": "2021-10-14T00:33:09.007399",
     "exception": false,
     "start_time": "2021-10-14T00:33:08.985471",
     "status": "completed"
    },
    "tags": [
     "parameters"
    ]
   },
   "outputs": [],
   "source": [
    "level = 1"
   ]
  },
  {
   "cell_type": "code",
   "execution_count": 4,
   "id": "44513e0d",
   "metadata": {
    "execution": {
     "iopub.execute_input": "2021-10-14T00:33:09.020510Z",
     "iopub.status.busy": "2021-10-14T00:33:09.020191Z",
     "iopub.status.idle": "2021-10-14T00:33:09.031198Z",
     "shell.execute_reply": "2021-10-14T00:33:09.030881Z"
    },
    "papermill": {
     "duration": 0.018694,
     "end_time": "2021-10-14T00:33:09.031273",
     "exception": false,
     "start_time": "2021-10-14T00:33:09.012579",
     "status": "completed"
    },
    "tags": [
     "injected-parameters"
    ]
   },
   "outputs": [],
   "source": [
    "# Parameters\n",
    "level = 11\n"
   ]
  },
  {
   "cell_type": "markdown",
   "id": "5e8ebb71-583a-4cd1-b60e-7006ebc85e82",
   "metadata": {
    "papermill": {
     "duration": 0.005505,
     "end_time": "2021-10-14T00:33:09.042257",
     "exception": false,
     "start_time": "2021-10-14T00:33:09.036752",
     "status": "completed"
    },
    "tags": []
   },
   "source": [
    "## Train"
   ]
  },
  {
   "cell_type": "code",
   "execution_count": 5,
   "id": "a462d470-398d-4f64-927f-7d9a0538508b",
   "metadata": {
    "execution": {
     "iopub.execute_input": "2021-10-14T00:33:09.057393Z",
     "iopub.status.busy": "2021-10-14T00:33:09.057074Z",
     "iopub.status.idle": "2021-10-14T00:33:09.066757Z",
     "shell.execute_reply": "2021-10-14T00:33:09.066997Z"
    },
    "papermill": {
     "duration": 0.019387,
     "end_time": "2021-10-14T00:33:09.067101",
     "exception": false,
     "start_time": "2021-10-14T00:33:09.047714",
     "status": "completed"
    },
    "tags": []
   },
   "outputs": [],
   "source": [
    "params = {\n",
    "    \"task\": \"train\",\n",
    "    \"objective\": \"tweedie\",\n",
    "    \"num_iterations\": 1000,\n",
    "    \"learning_rate\": 0.1,\n",
    "    \"num_leaves\": 31,\n",
    "    \"num_threads\": 4,\n",
    "    \"early_stopping_round\": 100,\n",
    "}"
   ]
  },
  {
   "cell_type": "code",
   "execution_count": 6,
   "id": "1a9cdb58-c9eb-4839-b1c6-5e6d44b4a36a",
   "metadata": {
    "execution": {
     "iopub.execute_input": "2021-10-14T00:33:09.082011Z",
     "iopub.status.busy": "2021-10-14T00:33:09.081692Z",
     "iopub.status.idle": "2021-10-14T00:34:59.764456Z",
     "shell.execute_reply": "2021-10-14T00:34:59.764748Z"
    },
    "papermill": {
     "duration": 110.69218,
     "end_time": "2021-10-14T00:34:59.764855",
     "exception": false,
     "start_time": "2021-10-14T00:33:09.072675",
     "status": "completed"
    },
    "tags": []
   },
   "outputs": [
    {
     "name": "stdout",
     "output_type": "stream",
     "text": [
      "Training model...\n",
      "[LightGBM] [Info] Load from binary file /home/ariel/Playground/m5-forecasting/data/processed/datasets/11/train.bin\n"
     ]
    },
    {
     "name": "stderr",
     "output_type": "stream",
     "text": [
      "/home/ariel/anaconda3/envs/merlion/lib/python3.9/site-packages/lightgbm/engine.py:148: UserWarning: Found `num_iterations` in params. Will use it instead of argument\n",
      "  _log_warning(\"Found `{}` in params. Will use it instead of argument\".format(alias))\n",
      "/home/ariel/anaconda3/envs/merlion/lib/python3.9/site-packages/lightgbm/engine.py:153: UserWarning: Found `early_stopping_round` in params. Will use it instead of argument\n",
      "  _log_warning(\"Found `{}` in params. Will use it instead of argument\".format(alias))\n"
     ]
    },
    {
     "name": "stdout",
     "output_type": "stream",
     "text": [
      "[LightGBM] [Warning] Auto-choosing row-wise multi-threading, the overhead of testing was 0.493636 seconds.\n",
      "You can set `force_row_wise=true` to remove the overhead.\n",
      "And if memory is not enough, you can set `force_col_wise=true`.\n",
      "[LightGBM] [Info] Total Bins 7562\n",
      "[LightGBM] [Info] Number of data points in the train set: 13624783, number of used features: 27\n",
      "[LightGBM] [Info] Start training from score 1.527395\n"
     ]
    },
    {
     "name": "stdout",
     "output_type": "stream",
     "text": [
      "[1]\tvalid_0's tweedie: 8.38576\n",
      "Training until validation scores don't improve for 100 rounds\n"
     ]
    },
    {
     "name": "stdout",
     "output_type": "stream",
     "text": [
      "[2]\tvalid_0's tweedie: 8.20399\n"
     ]
    },
    {
     "name": "stdout",
     "output_type": "stream",
     "text": [
      "[3]\tvalid_0's tweedie: 8.04904\n"
     ]
    },
    {
     "name": "stdout",
     "output_type": "stream",
     "text": [
      "[4]\tvalid_0's tweedie: 7.91582\n"
     ]
    },
    {
     "name": "stdout",
     "output_type": "stream",
     "text": [
      "[5]\tvalid_0's tweedie: 7.80359\n"
     ]
    },
    {
     "name": "stdout",
     "output_type": "stream",
     "text": [
      "[6]\tvalid_0's tweedie: 7.7082\n"
     ]
    },
    {
     "name": "stdout",
     "output_type": "stream",
     "text": [
      "[7]\tvalid_0's tweedie: 7.62748\n"
     ]
    },
    {
     "name": "stdout",
     "output_type": "stream",
     "text": [
      "[8]\tvalid_0's tweedie: 7.55897\n"
     ]
    },
    {
     "name": "stdout",
     "output_type": "stream",
     "text": [
      "[9]\tvalid_0's tweedie: 7.50147\n"
     ]
    },
    {
     "name": "stdout",
     "output_type": "stream",
     "text": [
      "[10]\tvalid_0's tweedie: 7.4536\n"
     ]
    },
    {
     "name": "stdout",
     "output_type": "stream",
     "text": [
      "[11]\tvalid_0's tweedie: 7.4126\n"
     ]
    },
    {
     "name": "stdout",
     "output_type": "stream",
     "text": [
      "[12]\tvalid_0's tweedie: 7.37798\n"
     ]
    },
    {
     "name": "stdout",
     "output_type": "stream",
     "text": [
      "[13]\tvalid_0's tweedie: 7.34879\n"
     ]
    },
    {
     "name": "stdout",
     "output_type": "stream",
     "text": [
      "[14]\tvalid_0's tweedie: 7.32434\n"
     ]
    },
    {
     "name": "stdout",
     "output_type": "stream",
     "text": [
      "[15]\tvalid_0's tweedie: 7.30421\n"
     ]
    },
    {
     "name": "stdout",
     "output_type": "stream",
     "text": [
      "[16]\tvalid_0's tweedie: 7.28689\n"
     ]
    },
    {
     "name": "stdout",
     "output_type": "stream",
     "text": [
      "[17]\tvalid_0's tweedie: 7.27255\n"
     ]
    },
    {
     "name": "stdout",
     "output_type": "stream",
     "text": [
      "[18]\tvalid_0's tweedie: 7.26016\n"
     ]
    },
    {
     "name": "stdout",
     "output_type": "stream",
     "text": [
      "[19]\tvalid_0's tweedie: 7.24987\n"
     ]
    },
    {
     "name": "stdout",
     "output_type": "stream",
     "text": [
      "[20]\tvalid_0's tweedie: 7.24093\n"
     ]
    },
    {
     "name": "stdout",
     "output_type": "stream",
     "text": [
      "[21]\tvalid_0's tweedie: 7.23344\n"
     ]
    },
    {
     "name": "stdout",
     "output_type": "stream",
     "text": [
      "[22]\tvalid_0's tweedie: 7.22722\n"
     ]
    },
    {
     "name": "stdout",
     "output_type": "stream",
     "text": [
      "[23]\tvalid_0's tweedie: 7.22214\n"
     ]
    },
    {
     "name": "stdout",
     "output_type": "stream",
     "text": [
      "[24]\tvalid_0's tweedie: 7.21774\n"
     ]
    },
    {
     "name": "stdout",
     "output_type": "stream",
     "text": [
      "[25]\tvalid_0's tweedie: 7.21332\n"
     ]
    },
    {
     "name": "stdout",
     "output_type": "stream",
     "text": [
      "[26]\tvalid_0's tweedie: 7.21022\n"
     ]
    },
    {
     "name": "stdout",
     "output_type": "stream",
     "text": [
      "[27]\tvalid_0's tweedie: 7.20754\n"
     ]
    },
    {
     "name": "stdout",
     "output_type": "stream",
     "text": [
      "[28]\tvalid_0's tweedie: 7.20454\n"
     ]
    },
    {
     "name": "stdout",
     "output_type": "stream",
     "text": [
      "[29]\tvalid_0's tweedie: 7.20251\n"
     ]
    },
    {
     "name": "stdout",
     "output_type": "stream",
     "text": [
      "[30]\tvalid_0's tweedie: 7.2009\n"
     ]
    },
    {
     "name": "stdout",
     "output_type": "stream",
     "text": [
      "[31]\tvalid_0's tweedie: 7.19943\n"
     ]
    },
    {
     "name": "stdout",
     "output_type": "stream",
     "text": [
      "[32]\tvalid_0's tweedie: 7.19818\n"
     ]
    },
    {
     "name": "stdout",
     "output_type": "stream",
     "text": [
      "[33]\tvalid_0's tweedie: 7.19679\n"
     ]
    },
    {
     "name": "stdout",
     "output_type": "stream",
     "text": [
      "[34]\tvalid_0's tweedie: 7.19595\n"
     ]
    },
    {
     "name": "stdout",
     "output_type": "stream",
     "text": [
      "[35]\tvalid_0's tweedie: 7.19478\n"
     ]
    },
    {
     "name": "stdout",
     "output_type": "stream",
     "text": [
      "[36]\tvalid_0's tweedie: 7.19404\n"
     ]
    },
    {
     "name": "stdout",
     "output_type": "stream",
     "text": [
      "[37]\tvalid_0's tweedie: 7.19352\n"
     ]
    },
    {
     "name": "stdout",
     "output_type": "stream",
     "text": [
      "[38]\tvalid_0's tweedie: 7.19314\n"
     ]
    },
    {
     "name": "stdout",
     "output_type": "stream",
     "text": [
      "[39]\tvalid_0's tweedie: 7.19304\n"
     ]
    },
    {
     "name": "stdout",
     "output_type": "stream",
     "text": [
      "[40]\tvalid_0's tweedie: 7.1934\n"
     ]
    },
    {
     "name": "stdout",
     "output_type": "stream",
     "text": [
      "[41]\tvalid_0's tweedie: 7.192\n"
     ]
    },
    {
     "name": "stdout",
     "output_type": "stream",
     "text": [
      "[42]\tvalid_0's tweedie: 7.19134\n"
     ]
    },
    {
     "name": "stdout",
     "output_type": "stream",
     "text": [
      "[43]\tvalid_0's tweedie: 7.19045\n"
     ]
    },
    {
     "name": "stdout",
     "output_type": "stream",
     "text": [
      "[44]\tvalid_0's tweedie: 7.18972\n"
     ]
    },
    {
     "name": "stdout",
     "output_type": "stream",
     "text": [
      "[45]\tvalid_0's tweedie: 7.18946\n"
     ]
    },
    {
     "name": "stdout",
     "output_type": "stream",
     "text": [
      "[46]\tvalid_0's tweedie: 7.18918\n"
     ]
    },
    {
     "name": "stdout",
     "output_type": "stream",
     "text": [
      "[47]\tvalid_0's tweedie: 7.1887\n"
     ]
    },
    {
     "name": "stdout",
     "output_type": "stream",
     "text": [
      "[48]\tvalid_0's tweedie: 7.18798\n"
     ]
    },
    {
     "name": "stdout",
     "output_type": "stream",
     "text": [
      "[49]\tvalid_0's tweedie: 7.18766\n"
     ]
    },
    {
     "name": "stdout",
     "output_type": "stream",
     "text": [
      "[50]\tvalid_0's tweedie: 7.18754\n"
     ]
    },
    {
     "name": "stdout",
     "output_type": "stream",
     "text": [
      "[51]\tvalid_0's tweedie: 7.18741\n"
     ]
    },
    {
     "name": "stdout",
     "output_type": "stream",
     "text": [
      "[52]\tvalid_0's tweedie: 7.18736\n"
     ]
    },
    {
     "name": "stdout",
     "output_type": "stream",
     "text": [
      "[53]\tvalid_0's tweedie: 7.1871\n"
     ]
    },
    {
     "name": "stdout",
     "output_type": "stream",
     "text": [
      "[54]\tvalid_0's tweedie: 7.18683\n"
     ]
    },
    {
     "name": "stdout",
     "output_type": "stream",
     "text": [
      "[55]\tvalid_0's tweedie: 7.18654\n"
     ]
    },
    {
     "name": "stdout",
     "output_type": "stream",
     "text": [
      "[56]\tvalid_0's tweedie: 7.18629\n"
     ]
    },
    {
     "name": "stdout",
     "output_type": "stream",
     "text": [
      "[57]\tvalid_0's tweedie: 7.18599\n"
     ]
    },
    {
     "name": "stdout",
     "output_type": "stream",
     "text": [
      "[58]\tvalid_0's tweedie: 7.18555\n"
     ]
    },
    {
     "name": "stdout",
     "output_type": "stream",
     "text": [
      "[59]\tvalid_0's tweedie: 7.18541\n"
     ]
    },
    {
     "name": "stdout",
     "output_type": "stream",
     "text": [
      "[60]\tvalid_0's tweedie: 7.18521\n"
     ]
    },
    {
     "name": "stdout",
     "output_type": "stream",
     "text": [
      "[61]\tvalid_0's tweedie: 7.18508\n"
     ]
    },
    {
     "name": "stdout",
     "output_type": "stream",
     "text": [
      "[62]\tvalid_0's tweedie: 7.18495\n"
     ]
    },
    {
     "name": "stdout",
     "output_type": "stream",
     "text": [
      "[63]\tvalid_0's tweedie: 7.1848\n"
     ]
    },
    {
     "name": "stdout",
     "output_type": "stream",
     "text": [
      "[64]\tvalid_0's tweedie: 7.18461\n"
     ]
    },
    {
     "name": "stdout",
     "output_type": "stream",
     "text": [
      "[65]\tvalid_0's tweedie: 7.18454\n"
     ]
    },
    {
     "name": "stdout",
     "output_type": "stream",
     "text": [
      "[66]\tvalid_0's tweedie: 7.18451\n"
     ]
    },
    {
     "name": "stdout",
     "output_type": "stream",
     "text": [
      "[67]\tvalid_0's tweedie: 7.18381\n"
     ]
    },
    {
     "name": "stdout",
     "output_type": "stream",
     "text": [
      "[68]\tvalid_0's tweedie: 7.18375\n"
     ]
    },
    {
     "name": "stdout",
     "output_type": "stream",
     "text": [
      "[69]\tvalid_0's tweedie: 7.18366\n"
     ]
    },
    {
     "name": "stdout",
     "output_type": "stream",
     "text": [
      "[70]\tvalid_0's tweedie: 7.18323\n"
     ]
    },
    {
     "name": "stdout",
     "output_type": "stream",
     "text": [
      "[71]\tvalid_0's tweedie: 7.18303\n"
     ]
    },
    {
     "name": "stdout",
     "output_type": "stream",
     "text": [
      "[72]\tvalid_0's tweedie: 7.18278\n"
     ]
    },
    {
     "name": "stdout",
     "output_type": "stream",
     "text": [
      "[73]\tvalid_0's tweedie: 7.18235\n"
     ]
    },
    {
     "name": "stdout",
     "output_type": "stream",
     "text": [
      "[74]\tvalid_0's tweedie: 7.18283\n"
     ]
    },
    {
     "name": "stdout",
     "output_type": "stream",
     "text": [
      "[75]\tvalid_0's tweedie: 7.18274\n"
     ]
    },
    {
     "name": "stdout",
     "output_type": "stream",
     "text": [
      "[76]\tvalid_0's tweedie: 7.18328\n"
     ]
    },
    {
     "name": "stdout",
     "output_type": "stream",
     "text": [
      "[77]\tvalid_0's tweedie: 7.18321\n"
     ]
    },
    {
     "name": "stdout",
     "output_type": "stream",
     "text": [
      "[78]\tvalid_0's tweedie: 7.18409\n"
     ]
    },
    {
     "name": "stdout",
     "output_type": "stream",
     "text": [
      "[79]\tvalid_0's tweedie: 7.18382\n"
     ]
    },
    {
     "name": "stdout",
     "output_type": "stream",
     "text": [
      "[80]\tvalid_0's tweedie: 7.18368\n"
     ]
    },
    {
     "name": "stdout",
     "output_type": "stream",
     "text": [
      "[81]\tvalid_0's tweedie: 7.18351\n"
     ]
    },
    {
     "name": "stdout",
     "output_type": "stream",
     "text": [
      "[82]\tvalid_0's tweedie: 7.18333\n"
     ]
    },
    {
     "name": "stdout",
     "output_type": "stream",
     "text": [
      "[83]\tvalid_0's tweedie: 7.18335\n"
     ]
    },
    {
     "name": "stdout",
     "output_type": "stream",
     "text": [
      "[84]\tvalid_0's tweedie: 7.1829\n"
     ]
    },
    {
     "name": "stdout",
     "output_type": "stream",
     "text": [
      "[85]\tvalid_0's tweedie: 7.1826\n"
     ]
    },
    {
     "name": "stdout",
     "output_type": "stream",
     "text": [
      "[86]\tvalid_0's tweedie: 7.1826\n"
     ]
    },
    {
     "name": "stdout",
     "output_type": "stream",
     "text": [
      "[87]\tvalid_0's tweedie: 7.18274\n"
     ]
    },
    {
     "name": "stdout",
     "output_type": "stream",
     "text": [
      "[88]\tvalid_0's tweedie: 7.18264\n"
     ]
    },
    {
     "name": "stdout",
     "output_type": "stream",
     "text": [
      "[89]\tvalid_0's tweedie: 7.18263\n"
     ]
    },
    {
     "name": "stdout",
     "output_type": "stream",
     "text": [
      "[90]\tvalid_0's tweedie: 7.18246\n"
     ]
    },
    {
     "name": "stdout",
     "output_type": "stream",
     "text": [
      "[91]\tvalid_0's tweedie: 7.18226\n"
     ]
    },
    {
     "name": "stdout",
     "output_type": "stream",
     "text": [
      "[92]\tvalid_0's tweedie: 7.18221\n"
     ]
    },
    {
     "name": "stdout",
     "output_type": "stream",
     "text": [
      "[93]\tvalid_0's tweedie: 7.1822\n"
     ]
    },
    {
     "name": "stdout",
     "output_type": "stream",
     "text": [
      "[94]\tvalid_0's tweedie: 7.18194\n"
     ]
    },
    {
     "name": "stdout",
     "output_type": "stream",
     "text": [
      "[95]\tvalid_0's tweedie: 7.18186\n"
     ]
    },
    {
     "name": "stdout",
     "output_type": "stream",
     "text": [
      "[96]\tvalid_0's tweedie: 7.18192\n"
     ]
    },
    {
     "name": "stdout",
     "output_type": "stream",
     "text": [
      "[97]\tvalid_0's tweedie: 7.182\n"
     ]
    },
    {
     "name": "stdout",
     "output_type": "stream",
     "text": [
      "[98]\tvalid_0's tweedie: 7.18216\n"
     ]
    },
    {
     "name": "stdout",
     "output_type": "stream",
     "text": [
      "[99]\tvalid_0's tweedie: 7.18202\n"
     ]
    },
    {
     "name": "stdout",
     "output_type": "stream",
     "text": [
      "[100]\tvalid_0's tweedie: 7.18193\n"
     ]
    },
    {
     "name": "stdout",
     "output_type": "stream",
     "text": [
      "[101]\tvalid_0's tweedie: 7.18191\n"
     ]
    },
    {
     "name": "stdout",
     "output_type": "stream",
     "text": [
      "[102]\tvalid_0's tweedie: 7.18173\n"
     ]
    },
    {
     "name": "stdout",
     "output_type": "stream",
     "text": [
      "[103]\tvalid_0's tweedie: 7.18153\n"
     ]
    },
    {
     "name": "stdout",
     "output_type": "stream",
     "text": [
      "[104]\tvalid_0's tweedie: 7.18134\n"
     ]
    },
    {
     "name": "stdout",
     "output_type": "stream",
     "text": [
      "[105]\tvalid_0's tweedie: 7.18123\n"
     ]
    },
    {
     "name": "stdout",
     "output_type": "stream",
     "text": [
      "[106]\tvalid_0's tweedie: 7.18111\n"
     ]
    },
    {
     "name": "stdout",
     "output_type": "stream",
     "text": [
      "[107]\tvalid_0's tweedie: 7.18091\n"
     ]
    },
    {
     "name": "stdout",
     "output_type": "stream",
     "text": [
      "[108]\tvalid_0's tweedie: 7.18154\n"
     ]
    },
    {
     "name": "stdout",
     "output_type": "stream",
     "text": [
      "[109]\tvalid_0's tweedie: 7.18151\n"
     ]
    },
    {
     "name": "stdout",
     "output_type": "stream",
     "text": [
      "[110]\tvalid_0's tweedie: 7.18166\n"
     ]
    },
    {
     "name": "stdout",
     "output_type": "stream",
     "text": [
      "[111]\tvalid_0's tweedie: 7.18168\n"
     ]
    },
    {
     "name": "stdout",
     "output_type": "stream",
     "text": [
      "[112]\tvalid_0's tweedie: 7.18144\n"
     ]
    },
    {
     "name": "stdout",
     "output_type": "stream",
     "text": [
      "[113]\tvalid_0's tweedie: 7.18145\n"
     ]
    },
    {
     "name": "stdout",
     "output_type": "stream",
     "text": [
      "[114]\tvalid_0's tweedie: 7.18125\n"
     ]
    },
    {
     "name": "stdout",
     "output_type": "stream",
     "text": [
      "[115]\tvalid_0's tweedie: 7.18113\n"
     ]
    },
    {
     "name": "stdout",
     "output_type": "stream",
     "text": [
      "[116]\tvalid_0's tweedie: 7.18108\n"
     ]
    },
    {
     "name": "stdout",
     "output_type": "stream",
     "text": [
      "[117]\tvalid_0's tweedie: 7.18167\n"
     ]
    },
    {
     "name": "stdout",
     "output_type": "stream",
     "text": [
      "[118]\tvalid_0's tweedie: 7.18161\n"
     ]
    },
    {
     "name": "stdout",
     "output_type": "stream",
     "text": [
      "[119]\tvalid_0's tweedie: 7.18167\n"
     ]
    },
    {
     "name": "stdout",
     "output_type": "stream",
     "text": [
      "[120]\tvalid_0's tweedie: 7.1815\n"
     ]
    },
    {
     "name": "stdout",
     "output_type": "stream",
     "text": [
      "[121]\tvalid_0's tweedie: 7.18143\n"
     ]
    },
    {
     "name": "stdout",
     "output_type": "stream",
     "text": [
      "[122]\tvalid_0's tweedie: 7.18123\n"
     ]
    },
    {
     "name": "stdout",
     "output_type": "stream",
     "text": [
      "[123]\tvalid_0's tweedie: 7.1812\n"
     ]
    },
    {
     "name": "stdout",
     "output_type": "stream",
     "text": [
      "[124]\tvalid_0's tweedie: 7.18107\n"
     ]
    },
    {
     "name": "stdout",
     "output_type": "stream",
     "text": [
      "[125]\tvalid_0's tweedie: 7.18154\n"
     ]
    },
    {
     "name": "stdout",
     "output_type": "stream",
     "text": [
      "[126]\tvalid_0's tweedie: 7.1819\n"
     ]
    },
    {
     "name": "stdout",
     "output_type": "stream",
     "text": [
      "[127]\tvalid_0's tweedie: 7.18183\n"
     ]
    },
    {
     "name": "stdout",
     "output_type": "stream",
     "text": [
      "[128]\tvalid_0's tweedie: 7.18201\n"
     ]
    },
    {
     "name": "stdout",
     "output_type": "stream",
     "text": [
      "[129]\tvalid_0's tweedie: 7.1819\n"
     ]
    },
    {
     "name": "stdout",
     "output_type": "stream",
     "text": [
      "[130]\tvalid_0's tweedie: 7.18185\n"
     ]
    },
    {
     "name": "stdout",
     "output_type": "stream",
     "text": [
      "[131]\tvalid_0's tweedie: 7.18198\n"
     ]
    },
    {
     "name": "stdout",
     "output_type": "stream",
     "text": [
      "[132]\tvalid_0's tweedie: 7.18192\n"
     ]
    },
    {
     "name": "stdout",
     "output_type": "stream",
     "text": [
      "[133]\tvalid_0's tweedie: 7.18188\n"
     ]
    },
    {
     "name": "stdout",
     "output_type": "stream",
     "text": [
      "[134]\tvalid_0's tweedie: 7.18183\n"
     ]
    },
    {
     "name": "stdout",
     "output_type": "stream",
     "text": [
      "[135]\tvalid_0's tweedie: 7.18157\n"
     ]
    },
    {
     "name": "stdout",
     "output_type": "stream",
     "text": [
      "[136]\tvalid_0's tweedie: 7.18146\n"
     ]
    },
    {
     "name": "stdout",
     "output_type": "stream",
     "text": [
      "[137]\tvalid_0's tweedie: 7.18139\n"
     ]
    },
    {
     "name": "stdout",
     "output_type": "stream",
     "text": [
      "[138]\tvalid_0's tweedie: 7.18137\n"
     ]
    },
    {
     "name": "stdout",
     "output_type": "stream",
     "text": [
      "[139]\tvalid_0's tweedie: 7.18138\n"
     ]
    },
    {
     "name": "stdout",
     "output_type": "stream",
     "text": [
      "[140]\tvalid_0's tweedie: 7.18137\n"
     ]
    },
    {
     "name": "stdout",
     "output_type": "stream",
     "text": [
      "[141]\tvalid_0's tweedie: 7.1813\n"
     ]
    },
    {
     "name": "stdout",
     "output_type": "stream",
     "text": [
      "[142]\tvalid_0's tweedie: 7.1813\n"
     ]
    },
    {
     "name": "stdout",
     "output_type": "stream",
     "text": [
      "[143]\tvalid_0's tweedie: 7.18129\n"
     ]
    },
    {
     "name": "stdout",
     "output_type": "stream",
     "text": [
      "[144]\tvalid_0's tweedie: 7.18133\n"
     ]
    },
    {
     "name": "stdout",
     "output_type": "stream",
     "text": [
      "[145]\tvalid_0's tweedie: 7.18124\n"
     ]
    },
    {
     "name": "stdout",
     "output_type": "stream",
     "text": [
      "[146]\tvalid_0's tweedie: 7.18161\n"
     ]
    },
    {
     "name": "stdout",
     "output_type": "stream",
     "text": [
      "[147]\tvalid_0's tweedie: 7.18161\n"
     ]
    },
    {
     "name": "stdout",
     "output_type": "stream",
     "text": [
      "[148]\tvalid_0's tweedie: 7.18153\n"
     ]
    },
    {
     "name": "stdout",
     "output_type": "stream",
     "text": [
      "[149]\tvalid_0's tweedie: 7.18148\n"
     ]
    },
    {
     "name": "stdout",
     "output_type": "stream",
     "text": [
      "[150]\tvalid_0's tweedie: 7.18147\n"
     ]
    },
    {
     "name": "stdout",
     "output_type": "stream",
     "text": [
      "[151]\tvalid_0's tweedie: 7.18137\n"
     ]
    },
    {
     "name": "stdout",
     "output_type": "stream",
     "text": [
      "[152]\tvalid_0's tweedie: 7.18138\n"
     ]
    },
    {
     "name": "stdout",
     "output_type": "stream",
     "text": [
      "[153]\tvalid_0's tweedie: 7.18124\n"
     ]
    },
    {
     "name": "stdout",
     "output_type": "stream",
     "text": [
      "[154]\tvalid_0's tweedie: 7.18197\n"
     ]
    },
    {
     "name": "stdout",
     "output_type": "stream",
     "text": [
      "[155]\tvalid_0's tweedie: 7.18199\n"
     ]
    },
    {
     "name": "stdout",
     "output_type": "stream",
     "text": [
      "[156]\tvalid_0's tweedie: 7.18197\n"
     ]
    },
    {
     "name": "stdout",
     "output_type": "stream",
     "text": [
      "[157]\tvalid_0's tweedie: 7.1819\n"
     ]
    },
    {
     "name": "stdout",
     "output_type": "stream",
     "text": [
      "[158]\tvalid_0's tweedie: 7.1824\n"
     ]
    },
    {
     "name": "stdout",
     "output_type": "stream",
     "text": [
      "[159]\tvalid_0's tweedie: 7.18235\n"
     ]
    },
    {
     "name": "stdout",
     "output_type": "stream",
     "text": [
      "[160]\tvalid_0's tweedie: 7.18258\n"
     ]
    },
    {
     "name": "stdout",
     "output_type": "stream",
     "text": [
      "[161]\tvalid_0's tweedie: 7.18354\n"
     ]
    },
    {
     "name": "stdout",
     "output_type": "stream",
     "text": [
      "[162]\tvalid_0's tweedie: 7.18359\n"
     ]
    },
    {
     "name": "stdout",
     "output_type": "stream",
     "text": [
      "[163]\tvalid_0's tweedie: 7.18356\n"
     ]
    },
    {
     "name": "stdout",
     "output_type": "stream",
     "text": [
      "[164]\tvalid_0's tweedie: 7.1835\n"
     ]
    },
    {
     "name": "stdout",
     "output_type": "stream",
     "text": [
      "[165]\tvalid_0's tweedie: 7.18352\n"
     ]
    },
    {
     "name": "stdout",
     "output_type": "stream",
     "text": [
      "[166]\tvalid_0's tweedie: 7.18383\n"
     ]
    },
    {
     "name": "stdout",
     "output_type": "stream",
     "text": [
      "[167]\tvalid_0's tweedie: 7.18373\n"
     ]
    },
    {
     "name": "stdout",
     "output_type": "stream",
     "text": [
      "[168]\tvalid_0's tweedie: 7.18384\n"
     ]
    },
    {
     "name": "stdout",
     "output_type": "stream",
     "text": [
      "[169]\tvalid_0's tweedie: 7.18451\n"
     ]
    },
    {
     "name": "stdout",
     "output_type": "stream",
     "text": [
      "[170]\tvalid_0's tweedie: 7.18444\n"
     ]
    },
    {
     "name": "stdout",
     "output_type": "stream",
     "text": [
      "[171]\tvalid_0's tweedie: 7.18439\n"
     ]
    },
    {
     "name": "stdout",
     "output_type": "stream",
     "text": [
      "[172]\tvalid_0's tweedie: 7.18435\n"
     ]
    },
    {
     "name": "stdout",
     "output_type": "stream",
     "text": [
      "[173]\tvalid_0's tweedie: 7.18431\n"
     ]
    },
    {
     "name": "stdout",
     "output_type": "stream",
     "text": [
      "[174]\tvalid_0's tweedie: 7.18425\n"
     ]
    },
    {
     "name": "stdout",
     "output_type": "stream",
     "text": [
      "[175]\tvalid_0's tweedie: 7.18416\n"
     ]
    },
    {
     "name": "stdout",
     "output_type": "stream",
     "text": [
      "[176]\tvalid_0's tweedie: 7.18415\n"
     ]
    },
    {
     "name": "stdout",
     "output_type": "stream",
     "text": [
      "[177]\tvalid_0's tweedie: 7.18405\n"
     ]
    },
    {
     "name": "stdout",
     "output_type": "stream",
     "text": [
      "[178]\tvalid_0's tweedie: 7.18401\n"
     ]
    },
    {
     "name": "stdout",
     "output_type": "stream",
     "text": [
      "[179]\tvalid_0's tweedie: 7.18399\n"
     ]
    },
    {
     "name": "stdout",
     "output_type": "stream",
     "text": [
      "[180]\tvalid_0's tweedie: 7.18395\n"
     ]
    },
    {
     "name": "stdout",
     "output_type": "stream",
     "text": [
      "[181]\tvalid_0's tweedie: 7.18399\n"
     ]
    },
    {
     "name": "stdout",
     "output_type": "stream",
     "text": [
      "[182]\tvalid_0's tweedie: 7.18418\n"
     ]
    },
    {
     "name": "stdout",
     "output_type": "stream",
     "text": [
      "[183]\tvalid_0's tweedie: 7.18425\n"
     ]
    },
    {
     "name": "stdout",
     "output_type": "stream",
     "text": [
      "[184]\tvalid_0's tweedie: 7.1842\n"
     ]
    },
    {
     "name": "stdout",
     "output_type": "stream",
     "text": [
      "[185]\tvalid_0's tweedie: 7.18422\n"
     ]
    },
    {
     "name": "stdout",
     "output_type": "stream",
     "text": [
      "[186]\tvalid_0's tweedie: 7.18422\n"
     ]
    },
    {
     "name": "stdout",
     "output_type": "stream",
     "text": [
      "[187]\tvalid_0's tweedie: 7.18414\n"
     ]
    },
    {
     "name": "stdout",
     "output_type": "stream",
     "text": [
      "[188]\tvalid_0's tweedie: 7.1841\n"
     ]
    },
    {
     "name": "stdout",
     "output_type": "stream",
     "text": [
      "[189]\tvalid_0's tweedie: 7.18406\n"
     ]
    },
    {
     "name": "stdout",
     "output_type": "stream",
     "text": [
      "[190]\tvalid_0's tweedie: 7.18495\n"
     ]
    },
    {
     "name": "stdout",
     "output_type": "stream",
     "text": [
      "[191]\tvalid_0's tweedie: 7.18488\n"
     ]
    },
    {
     "name": "stdout",
     "output_type": "stream",
     "text": [
      "[192]\tvalid_0's tweedie: 7.1849\n"
     ]
    },
    {
     "name": "stdout",
     "output_type": "stream",
     "text": [
      "[193]\tvalid_0's tweedie: 7.18485\n"
     ]
    },
    {
     "name": "stdout",
     "output_type": "stream",
     "text": [
      "[194]\tvalid_0's tweedie: 7.18477\n"
     ]
    },
    {
     "name": "stdout",
     "output_type": "stream",
     "text": [
      "[195]\tvalid_0's tweedie: 7.18477\n"
     ]
    },
    {
     "name": "stdout",
     "output_type": "stream",
     "text": [
      "[196]\tvalid_0's tweedie: 7.18474\n"
     ]
    },
    {
     "name": "stdout",
     "output_type": "stream",
     "text": [
      "[197]\tvalid_0's tweedie: 7.18528\n"
     ]
    },
    {
     "name": "stdout",
     "output_type": "stream",
     "text": [
      "[198]\tvalid_0's tweedie: 7.18527\n"
     ]
    },
    {
     "name": "stdout",
     "output_type": "stream",
     "text": [
      "[199]\tvalid_0's tweedie: 7.18519\n"
     ]
    },
    {
     "name": "stdout",
     "output_type": "stream",
     "text": [
      "[200]\tvalid_0's tweedie: 7.18513\n"
     ]
    },
    {
     "name": "stdout",
     "output_type": "stream",
     "text": [
      "[201]\tvalid_0's tweedie: 7.18531\n"
     ]
    },
    {
     "name": "stdout",
     "output_type": "stream",
     "text": [
      "[202]\tvalid_0's tweedie: 7.18529\n"
     ]
    },
    {
     "name": "stdout",
     "output_type": "stream",
     "text": [
      "[203]\tvalid_0's tweedie: 7.1853\n"
     ]
    },
    {
     "name": "stdout",
     "output_type": "stream",
     "text": [
      "[204]\tvalid_0's tweedie: 7.1853\n"
     ]
    },
    {
     "name": "stdout",
     "output_type": "stream",
     "text": [
      "[205]\tvalid_0's tweedie: 7.18527\n"
     ]
    },
    {
     "name": "stdout",
     "output_type": "stream",
     "text": [
      "[206]\tvalid_0's tweedie: 7.18512\n"
     ]
    },
    {
     "name": "stdout",
     "output_type": "stream",
     "text": [
      "[207]\tvalid_0's tweedie: 7.18508\n",
      "Early stopping, best iteration is:\n",
      "[107]\tvalid_0's tweedie: 7.18091\n",
      "Done.\n"
     ]
    }
   ],
   "source": [
    "train(cfg.DATA_DIR, cfg.MODEL_DIR, level, params)"
   ]
  },
  {
   "cell_type": "markdown",
   "id": "e40d6d12-d2da-4317-8bf1-1395e76d2d0c",
   "metadata": {
    "papermill": {
     "duration": 0.037443,
     "end_time": "2021-10-14T00:34:59.838746",
     "exception": false,
     "start_time": "2021-10-14T00:34:59.801303",
     "status": "completed"
    },
    "tags": []
   },
   "source": [
    "## Predict"
   ]
  },
  {
   "cell_type": "code",
   "execution_count": 7,
   "id": "40387698-a478-4d41-90ec-889a8401b7e5",
   "metadata": {
    "execution": {
     "iopub.execute_input": "2021-10-14T00:34:59.916020Z",
     "iopub.status.busy": "2021-10-14T00:34:59.915699Z",
     "iopub.status.idle": "2021-10-14T00:35:00.506587Z",
     "shell.execute_reply": "2021-10-14T00:35:00.506828Z"
    },
    "papermill": {
     "duration": 0.631869,
     "end_time": "2021-10-14T00:35:00.506919",
     "exception": false,
     "start_time": "2021-10-14T00:34:59.875050",
     "status": "completed"
    },
    "tags": []
   },
   "outputs": [
    {
     "data": {
      "text/html": [
       "<div>\n",
       "<style scoped>\n",
       "    .dataframe tbody tr th:only-of-type {\n",
       "        vertical-align: middle;\n",
       "    }\n",
       "\n",
       "    .dataframe tbody tr th {\n",
       "        vertical-align: top;\n",
       "    }\n",
       "\n",
       "    .dataframe thead th {\n",
       "        text-align: right;\n",
       "    }\n",
       "</style>\n",
       "<table border=\"1\" class=\"dataframe\">\n",
       "  <thead>\n",
       "    <tr style=\"text-align: right;\">\n",
       "      <th></th>\n",
       "      <th>item_id</th>\n",
       "      <th>state_id</th>\n",
       "      <th>d</th>\n",
       "      <th>sales</th>\n",
       "      <th>fcst</th>\n",
       "    </tr>\n",
       "  </thead>\n",
       "  <tbody>\n",
       "    <tr>\n",
       "      <th>13999810</th>\n",
       "      <td>0</td>\n",
       "      <td>0</td>\n",
       "      <td>1886</td>\n",
       "      <td>4</td>\n",
       "      <td>3.086317</td>\n",
       "    </tr>\n",
       "    <tr>\n",
       "      <th>14008957</th>\n",
       "      <td>0</td>\n",
       "      <td>0</td>\n",
       "      <td>1887</td>\n",
       "      <td>1</td>\n",
       "      <td>2.721245</td>\n",
       "    </tr>\n",
       "    <tr>\n",
       "      <th>14018104</th>\n",
       "      <td>0</td>\n",
       "      <td>0</td>\n",
       "      <td>1888</td>\n",
       "      <td>2</td>\n",
       "      <td>3.237421</td>\n",
       "    </tr>\n",
       "    <tr>\n",
       "      <th>14027251</th>\n",
       "      <td>0</td>\n",
       "      <td>0</td>\n",
       "      <td>1889</td>\n",
       "      <td>0</td>\n",
       "      <td>2.752825</td>\n",
       "    </tr>\n",
       "    <tr>\n",
       "      <th>14036398</th>\n",
       "      <td>0</td>\n",
       "      <td>0</td>\n",
       "      <td>1890</td>\n",
       "      <td>4</td>\n",
       "      <td>3.002682</td>\n",
       "    </tr>\n",
       "    <tr>\n",
       "      <th>...</th>\n",
       "      <td>...</td>\n",
       "      <td>...</td>\n",
       "      <td>...</td>\n",
       "      <td>...</td>\n",
       "      <td>...</td>\n",
       "    </tr>\n",
       "    <tr>\n",
       "      <th>14219337</th>\n",
       "      <td>3048</td>\n",
       "      <td>2</td>\n",
       "      <td>1909</td>\n",
       "      <td>0</td>\n",
       "      <td>0.262613</td>\n",
       "    </tr>\n",
       "    <tr>\n",
       "      <th>14228484</th>\n",
       "      <td>3048</td>\n",
       "      <td>2</td>\n",
       "      <td>1910</td>\n",
       "      <td>1</td>\n",
       "      <td>0.231287</td>\n",
       "    </tr>\n",
       "    <tr>\n",
       "      <th>14237631</th>\n",
       "      <td>3048</td>\n",
       "      <td>2</td>\n",
       "      <td>1911</td>\n",
       "      <td>0</td>\n",
       "      <td>0.289190</td>\n",
       "    </tr>\n",
       "    <tr>\n",
       "      <th>14246778</th>\n",
       "      <td>3048</td>\n",
       "      <td>2</td>\n",
       "      <td>1912</td>\n",
       "      <td>0</td>\n",
       "      <td>0.397018</td>\n",
       "    </tr>\n",
       "    <tr>\n",
       "      <th>14255925</th>\n",
       "      <td>3048</td>\n",
       "      <td>2</td>\n",
       "      <td>1913</td>\n",
       "      <td>0</td>\n",
       "      <td>0.387102</td>\n",
       "    </tr>\n",
       "  </tbody>\n",
       "</table>\n",
       "<p>256116 rows × 5 columns</p>\n",
       "</div>"
      ],
      "text/plain": [
       "          item_id  state_id     d  sales      fcst\n",
       "13999810        0         0  1886      4  3.086317\n",
       "14008957        0         0  1887      1  2.721245\n",
       "14018104        0         0  1888      2  3.237421\n",
       "14027251        0         0  1889      0  2.752825\n",
       "14036398        0         0  1890      4  3.002682\n",
       "...           ...       ...   ...    ...       ...\n",
       "14219337     3048         2  1909      0  0.262613\n",
       "14228484     3048         2  1910      1  0.231287\n",
       "14237631     3048         2  1911      0  0.289190\n",
       "14246778     3048         2  1912      0  0.397018\n",
       "14255925     3048         2  1913      0  0.387102\n",
       "\n",
       "[256116 rows x 5 columns]"
      ]
     },
     "execution_count": 7,
     "metadata": {},
     "output_type": "execute_result"
    }
   ],
   "source": [
    "fcst = predict(cfg.DATA_DIR, cfg.MODEL_DIR, cfg.FCST_DIR, level)\n",
    "fcst"
   ]
  },
  {
   "cell_type": "code",
   "execution_count": 8,
   "id": "2b597f99-2385-4c62-8b50-e15b1d61869c",
   "metadata": {
    "execution": {
     "iopub.execute_input": "2021-10-14T00:35:00.628765Z",
     "iopub.status.busy": "2021-10-14T00:35:00.628450Z",
     "iopub.status.idle": "2021-10-14T00:35:02.327996Z",
     "shell.execute_reply": "2021-10-14T00:35:02.328241Z"
    },
    "papermill": {
     "duration": 1.739338,
     "end_time": "2021-10-14T00:35:02.328335",
     "exception": false,
     "start_time": "2021-10-14T00:35:00.588997",
     "status": "completed"
    },
    "tags": []
   },
   "outputs": [
    {
     "data": {
      "image/png": "[encoded data removed]",
      "text/plain": [
       "<Figure size 1008x288 with 1 Axes>"
      ]
     },
     "metadata": {
      "needs_background": "light"
     },
     "output_type": "display_data"
    }
   ],
   "source": [
    "plot_fcst(cfg.DATA_DIR, cfg.FCST_DIR, level=level)"
   ]
  },
  {
   "cell_type": "markdown",
   "id": "09bfab3b-9cf9-41f0-a340-7c0363b7df0d",
   "metadata": {
    "papermill": {
     "duration": 0.038262,
     "end_time": "2021-10-14T00:35:02.403061",
     "exception": false,
     "start_time": "2021-10-14T00:35:02.364799",
     "status": "completed"
    },
    "tags": []
   },
   "source": [
    "## Evaluate"
   ]
  },
  {
   "cell_type": "code",
   "execution_count": 9,
   "id": "d8b7a2f7-996f-4a76-8adf-c77b27d83b02",
   "metadata": {
    "execution": {
     "iopub.execute_input": "2021-10-14T00:35:02.477247Z",
     "iopub.status.busy": "2021-10-14T00:35:02.476778Z",
     "iopub.status.idle": "2021-10-14T00:35:08.429179Z",
     "shell.execute_reply": "2021-10-14T00:35:08.429421Z"
    },
    "papermill": {
     "duration": 5.990731,
     "end_time": "2021-10-14T00:35:08.429514",
     "exception": false,
     "start_time": "2021-10-14T00:35:02.438783",
     "status": "completed"
    },
    "tags": []
   },
   "outputs": [
    {
     "data": {
      "text/html": [
       "<div>\n",
       "<style scoped>\n",
       "    .dataframe tbody tr th:only-of-type {\n",
       "        vertical-align: middle;\n",
       "    }\n",
       "\n",
       "    .dataframe tbody tr th {\n",
       "        vertical-align: top;\n",
       "    }\n",
       "\n",
       "    .dataframe thead th {\n",
       "        text-align: right;\n",
       "    }\n",
       "</style>\n",
       "<table border=\"1\" class=\"dataframe\">\n",
       "  <thead>\n",
       "    <tr style=\"text-align: right;\">\n",
       "      <th></th>\n",
       "      <th>item_id</th>\n",
       "      <th>state_id</th>\n",
       "      <th>mse_fcst</th>\n",
       "      <th>mse_naive_insample</th>\n",
       "      <th>weights</th>\n",
       "      <th>msse</th>\n",
       "      <th>rmsse</th>\n",
       "      <th>wrmsse</th>\n",
       "    </tr>\n",
       "  </thead>\n",
       "  <tbody>\n",
       "    <tr>\n",
       "      <th>0</th>\n",
       "      <td>0</td>\n",
       "      <td>0</td>\n",
       "      <td>21.548042</td>\n",
       "      <td>20.966561</td>\n",
       "      <td>0.000060</td>\n",
       "      <td>1.027734</td>\n",
       "      <td>1.013772</td>\n",
       "      <td>6.071472e-05</td>\n",
       "    </tr>\n",
       "    <tr>\n",
       "      <th>1</th>\n",
       "      <td>0</td>\n",
       "      <td>1</td>\n",
       "      <td>1.271571</td>\n",
       "      <td>7.702602</td>\n",
       "      <td>0.000028</td>\n",
       "      <td>0.165083</td>\n",
       "      <td>0.406304</td>\n",
       "      <td>1.142186e-05</td>\n",
       "    </tr>\n",
       "    <tr>\n",
       "      <th>2</th>\n",
       "      <td>0</td>\n",
       "      <td>2</td>\n",
       "      <td>5.387213</td>\n",
       "      <td>3.917153</td>\n",
       "      <td>0.000015</td>\n",
       "      <td>1.375288</td>\n",
       "      <td>1.172727</td>\n",
       "      <td>1.791696e-05</td>\n",
       "    </tr>\n",
       "    <tr>\n",
       "      <th>3</th>\n",
       "      <td>1</td>\n",
       "      <td>0</td>\n",
       "      <td>2.624454</td>\n",
       "      <td>4.211253</td>\n",
       "      <td>0.000155</td>\n",
       "      <td>0.623200</td>\n",
       "      <td>0.789430</td>\n",
       "      <td>1.225048e-04</td>\n",
       "    </tr>\n",
       "    <tr>\n",
       "      <th>4</th>\n",
       "      <td>1</td>\n",
       "      <td>1</td>\n",
       "      <td>0.866177</td>\n",
       "      <td>1.862912</td>\n",
       "      <td>0.000036</td>\n",
       "      <td>0.464959</td>\n",
       "      <td>0.681879</td>\n",
       "      <td>2.469011e-05</td>\n",
       "    </tr>\n",
       "    <tr>\n",
       "      <th>...</th>\n",
       "      <td>...</td>\n",
       "      <td>...</td>\n",
       "      <td>...</td>\n",
       "      <td>...</td>\n",
       "      <td>...</td>\n",
       "      <td>...</td>\n",
       "      <td>...</td>\n",
       "      <td>...</td>\n",
       "    </tr>\n",
       "    <tr>\n",
       "      <th>9142</th>\n",
       "      <td>3047</td>\n",
       "      <td>1</td>\n",
       "      <td>0.115751</td>\n",
       "      <td>1.008557</td>\n",
       "      <td>0.000003</td>\n",
       "      <td>0.114769</td>\n",
       "      <td>0.338775</td>\n",
       "      <td>9.103905e-07</td>\n",
       "    </tr>\n",
       "    <tr>\n",
       "      <th>9143</th>\n",
       "      <td>3047</td>\n",
       "      <td>2</td>\n",
       "      <td>0.211526</td>\n",
       "      <td>0.767614</td>\n",
       "      <td>0.000005</td>\n",
       "      <td>0.275563</td>\n",
       "      <td>0.524941</td>\n",
       "      <td>2.821344e-06</td>\n",
       "    </tr>\n",
       "    <tr>\n",
       "      <th>9144</th>\n",
       "      <td>3048</td>\n",
       "      <td>0</td>\n",
       "      <td>0.993552</td>\n",
       "      <td>1.352098</td>\n",
       "      <td>0.000028</td>\n",
       "      <td>0.734823</td>\n",
       "      <td>0.857218</td>\n",
       "      <td>2.361600e-05</td>\n",
       "    </tr>\n",
       "    <tr>\n",
       "      <th>9145</th>\n",
       "      <td>3048</td>\n",
       "      <td>1</td>\n",
       "      <td>0.419029</td>\n",
       "      <td>1.102442</td>\n",
       "      <td>0.000029</td>\n",
       "      <td>0.380092</td>\n",
       "      <td>0.616516</td>\n",
       "      <td>1.798386e-05</td>\n",
       "    </tr>\n",
       "    <tr>\n",
       "      <th>9146</th>\n",
       "      <td>3048</td>\n",
       "      <td>2</td>\n",
       "      <td>0.142205</td>\n",
       "      <td>0.532661</td>\n",
       "      <td>0.000008</td>\n",
       "      <td>0.266972</td>\n",
       "      <td>0.516693</td>\n",
       "      <td>4.186669e-06</td>\n",
       "    </tr>\n",
       "  </tbody>\n",
       "</table>\n",
       "<p>9147 rows × 8 columns</p>\n",
       "</div>"
      ],
      "text/plain": [
       "      item_id  state_id   mse_fcst  mse_naive_insample   weights      msse  \\\n",
       "0           0         0  21.548042           20.966561  0.000060  1.027734   \n",
       "1           0         1   1.271571            7.702602  0.000028  0.165083   \n",
       "2           0         2   5.387213            3.917153  0.000015  1.375288   \n",
       "3           1         0   2.624454            4.211253  0.000155  0.623200   \n",
       "4           1         1   0.866177            1.862912  0.000036  0.464959   \n",
       "...       ...       ...        ...                 ...       ...       ...   \n",
       "9142     3047         1   0.115751            1.008557  0.000003  0.114769   \n",
       "9143     3047         2   0.211526            0.767614  0.000005  0.275563   \n",
       "9144     3048         0   0.993552            1.352098  0.000028  0.734823   \n",
       "9145     3048         1   0.419029            1.102442  0.000029  0.380092   \n",
       "9146     3048         2   0.142205            0.532661  0.000008  0.266972   \n",
       "\n",
       "         rmsse        wrmsse  \n",
       "0     1.013772  6.071472e-05  \n",
       "1     0.406304  1.142186e-05  \n",
       "2     1.172727  1.791696e-05  \n",
       "3     0.789430  1.225048e-04  \n",
       "4     0.681879  2.469011e-05  \n",
       "...        ...           ...  \n",
       "9142  0.338775  9.103905e-07  \n",
       "9143  0.524941  2.821344e-06  \n",
       "9144  0.857218  2.361600e-05  \n",
       "9145  0.616516  1.798386e-05  \n",
       "9146  0.516693  4.186669e-06  \n",
       "\n",
       "[9147 rows x 8 columns]"
      ]
     },
     "execution_count": 9,
     "metadata": {},
     "output_type": "execute_result"
    }
   ],
   "source": [
    "accuracy_df = accuracy(cfg.DATA_DIR, cfg.FCST_DIR, cfg.METRICS_DIR, level)\n",
    "accuracy_df"
   ]
  },
  {
   "cell_type": "code",
   "execution_count": 10,
   "id": "2f7e4bc6-8e33-449a-9853-3cae4192d1ea",
   "metadata": {
    "execution": {
     "iopub.execute_input": "2021-10-14T00:35:08.509578Z",
     "iopub.status.busy": "2021-10-14T00:35:08.509255Z",
     "iopub.status.idle": "2021-10-14T00:35:08.520451Z",
     "shell.execute_reply": "2021-10-14T00:35:08.520682Z"
    },
    "papermill": {
     "duration": 0.053822,
     "end_time": "2021-10-14T00:35:08.520778",
     "exception": false,
     "start_time": "2021-10-14T00:35:08.466956",
     "status": "completed"
    },
    "tags": []
   },
   "outputs": [
    {
     "data": {
      "text/plain": [
       "1.0"
      ]
     },
     "execution_count": 10,
     "metadata": {},
     "output_type": "execute_result"
    }
   ],
   "source": [
    "accuracy_df[\"weights\"].sum()"
   ]
  },
  {
   "cell_type": "code",
   "execution_count": 11,
   "id": "a0258800-c530-4b7c-98c5-2274bb70e942",
   "metadata": {
    "execution": {
     "iopub.execute_input": "2021-10-14T00:35:08.594740Z",
     "iopub.status.busy": "2021-10-14T00:35:08.594423Z",
     "iopub.status.idle": "2021-10-14T00:35:08.606157Z",
     "shell.execute_reply": "2021-10-14T00:35:08.606403Z"
    },
    "papermill": {
     "duration": 0.049458,
     "end_time": "2021-10-14T00:35:08.606495",
     "exception": false,
     "start_time": "2021-10-14T00:35:08.557037",
     "status": "completed"
    },
    "tags": []
   },
   "outputs": [
    {
     "data": {
      "text/plain": [
       "0.8755819542215141"
      ]
     },
     "execution_count": 11,
     "metadata": {},
     "output_type": "execute_result"
    }
   ],
   "source": [
    "accuracy_df[\"wrmsse\"].sum()"
   ]
  },
  {
   "cell_type": "markdown",
   "id": "1ceb0cd5-c916-463f-a49b-4377d84f54ee",
   "metadata": {
    "papermill": {
     "duration": 0.038085,
     "end_time": "2021-10-14T00:35:08.679584",
     "exception": false,
     "start_time": "2021-10-14T00:35:08.641499",
     "status": "completed"
    },
    "tags": []
   },
   "source": [
    "## Misc"
   ]
  },
  {
   "cell_type": "code",
   "execution_count": null,
   "id": "475d6cb9-66f8-4102-8e08-349557a780c5",
   "metadata": {
    "papermill": {
     "duration": 0.036869,
     "end_time": "2021-10-14T00:35:08.753036",
     "exception": false,
     "start_time": "2021-10-14T00:35:08.716167",
     "status": "completed"
    },
    "tags": []
   },
   "outputs": [],
   "source": []
  }
 ],
 "metadata": {
  "kernelspec": {
   "display_name": "Python 3 (ipykernel)",
   "language": "python",
   "name": "python3"
  },
  "language_info": {
   "codemirror_mode": {
    "name": "ipython",
    "version": 3
   },
   "file_extension": ".py",
   "mimetype": "text/x-python",
   "name": "python",
   "nbconvert_exporter": "python",
   "pygments_lexer": "ipython3",
   "version": "3.9.7"
  },
  "papermill": {
   "default_parameters": {},
   "duration": 121.717052,
   "end_time": "2021-10-14T00:35:09.094746",
   "environment_variables": {},
   "exception": null,
   "input_path": "/home/ariel/Playground/m5-forecasting/notebooks/forecast.ipynb",
   "output_path": "/home/ariel/Playground/m5-forecasting/notebooks/forecast-11.ipynb",
   "parameters": {
    "level": 11
   },
   "start_time": "2021-10-14T00:33:07.377694",
   "version": "2.3.3"
  }
 },
 "nbformat": 4,
 "nbformat_minor": 5
}