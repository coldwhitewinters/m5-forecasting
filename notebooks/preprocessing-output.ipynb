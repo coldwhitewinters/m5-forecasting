{
 "cells": [
  {
   "cell_type": "markdown",
   "id": "cf67e8b4-3f43-437a-afb3-d666def58e02",
   "metadata": {
    "papermill": {
     "duration": 0.005595,
     "end_time": "2021-10-14T00:16:54.049464",
     "exception": false,
     "start_time": "2021-10-14T00:16:54.043869",
     "status": "completed"
    },
    "tags": []
   },
   "source": [
    "# Preprocessing"
   ]
  },
  {
   "cell_type": "markdown",
   "id": "db01a074-52df-475b-a54a-a754b84f2251",
   "metadata": {
    "papermill": {
     "duration": 0.0034,
     "end_time": "2021-10-14T00:16:54.056770",
     "exception": false,
     "start_time": "2021-10-14T00:16:54.053370",
     "status": "completed"
    },
    "tags": []
   },
   "source": [
    "## Setup"
   ]
  },
  {
   "cell_type": "code",
   "execution_count": 1,
   "id": "fb6ab9fc-2b2d-4c69-bccf-13a545604b52",
   "metadata": {
    "execution": {
     "iopub.execute_input": "2021-10-14T00:16:54.075580Z",
     "iopub.status.busy": "2021-10-14T00:16:54.075235Z",
     "iopub.status.idle": "2021-10-14T00:16:54.087334Z",
     "shell.execute_reply": "2021-10-14T00:16:54.087913Z"
    },
    "papermill": {
     "duration": 0.027717,
     "end_time": "2021-10-14T00:16:54.088138",
     "exception": false,
     "start_time": "2021-10-14T00:16:54.060421",
     "status": "completed"
    },
    "tags": []
   },
   "outputs": [],
   "source": [
    "%load_ext autoreload\n",
    "%autoreload 2"
   ]
  },
  {
   "cell_type": "code",
   "execution_count": 2,
   "id": "372f5539-cb1b-4dd8-8d3d-2d9506e3d476",
   "metadata": {
    "execution": {
     "iopub.execute_input": "2021-10-14T00:16:54.102626Z",
     "iopub.status.busy": "2021-10-14T00:16:54.101835Z",
     "iopub.status.idle": "2021-10-14T00:16:55.355817Z",
     "shell.execute_reply": "2021-10-14T00:16:55.355556Z"
    },
    "papermill": {
     "duration": 1.263578,
     "end_time": "2021-10-14T00:16:55.355894",
     "exception": false,
     "start_time": "2021-10-14T00:16:54.092316",
     "status": "completed"
    },
    "tags": []
   },
   "outputs": [],
   "source": [
    "import sys\n",
    "sys.path.append(\"..\")\n",
    "\n",
    "# Libraries\n",
    "import pandas as pd\n",
    "import numpy as np\n",
    "import matplotlib.pyplot as plt\n",
    "\n",
    "import m5.config as cfg\n",
    "import m5.preprocessing\n",
    "\n",
    "# Library settings\n",
    "pd.options.display.max_columns = 999\n",
    "plt.rcParams[\"figure.figsize\"] = (14, 4)"
   ]
  },
  {
   "cell_type": "markdown",
   "id": "d9d6177b-3189-4b70-9542-ca825a007af1",
   "metadata": {
    "papermill": {
     "duration": 0.004329,
     "end_time": "2021-10-14T00:16:55.363911",
     "exception": false,
     "start_time": "2021-10-14T00:16:55.359582",
     "status": "completed"
    },
    "tags": []
   },
   "source": [
    "## Preprocessing"
   ]
  },
  {
   "cell_type": "code",
   "execution_count": 3,
   "id": "1e9a3659-8ea3-47b7-9ab5-2fb06201438e",
   "metadata": {
    "execution": {
     "iopub.execute_input": "2021-10-14T00:16:55.375537Z",
     "iopub.status.busy": "2021-10-14T00:16:55.375000Z",
     "iopub.status.idle": "2021-10-14T00:18:03.930902Z",
     "shell.execute_reply": "2021-10-14T00:18:03.930087Z"
    },
    "papermill": {
     "duration": 68.562491,
     "end_time": "2021-10-14T00:18:03.931098",
     "exception": false,
     "start_time": "2021-10-14T00:16:55.368607",
     "status": "completed"
    },
    "tags": []
   },
   "outputs": [],
   "source": [
    "m5.preprocessing.prepare_base_data(cfg.DATA_DIR)"
   ]
  },
  {
   "cell_type": "code",
   "execution_count": 4,
   "id": "197e599f-05f7-4c3c-b871-f10a52b343ed",
   "metadata": {
    "execution": {
     "iopub.execute_input": "2021-10-14T00:18:03.947898Z",
     "iopub.status.busy": "2021-10-14T00:18:03.947351Z",
     "iopub.status.idle": "2021-10-14T00:19:04.398724Z",
     "shell.execute_reply": "2021-10-14T00:19:04.399048Z"
    },
    "papermill": {
     "duration": 60.462322,
     "end_time": "2021-10-14T00:19:04.399178",
     "exception": false,
     "start_time": "2021-10-14T00:18:03.936856",
     "status": "completed"
    },
    "tags": []
   },
   "outputs": [
    {
     "name": "stdout",
     "output_type": "stream",
     "text": [
      "Preparing agg level 12\n"
     ]
    },
    {
     "name": "stdout",
     "output_type": "stream",
     "text": [
      "Preparing agg level 1\n"
     ]
    },
    {
     "name": "stdout",
     "output_type": "stream",
     "text": [
      "Preparing agg level 2\n"
     ]
    },
    {
     "name": "stdout",
     "output_type": "stream",
     "text": [
      "Preparing agg level 3\n"
     ]
    },
    {
     "name": "stdout",
     "output_type": "stream",
     "text": [
      "Preparing agg level 4\n"
     ]
    },
    {
     "name": "stdout",
     "output_type": "stream",
     "text": [
      "Preparing agg level 5\n"
     ]
    },
    {
     "name": "stdout",
     "output_type": "stream",
     "text": [
      "Preparing agg level 6\n"
     ]
    },
    {
     "name": "stdout",
     "output_type": "stream",
     "text": [
      "Preparing agg level 7\n"
     ]
    },
    {
     "name": "stdout",
     "output_type": "stream",
     "text": [
      "Preparing agg level 8\n"
     ]
    },
    {
     "name": "stdout",
     "output_type": "stream",
     "text": [
      "Preparing agg level 9\n"
     ]
    },
    {
     "name": "stdout",
     "output_type": "stream",
     "text": [
      "Preparing agg level 10\n"
     ]
    },
    {
     "name": "stdout",
     "output_type": "stream",
     "text": [
      "Preparing agg level 11\n"
     ]
    }
   ],
   "source": [
    "m5.preprocessing.prepare_agg_levels(cfg.DATA_DIR)"
   ]
  },
  {
   "cell_type": "code",
   "execution_count": 5,
   "id": "6464e446-3fb3-4a15-9cbb-00eb862a9bee",
   "metadata": {
    "execution": {
     "iopub.execute_input": "2021-10-14T00:19:04.414931Z",
     "iopub.status.busy": "2021-10-14T00:19:04.414572Z",
     "iopub.status.idle": "2021-10-14T00:28:12.809025Z",
     "shell.execute_reply": "2021-10-14T00:28:12.808756Z"
    },
    "papermill": {
     "duration": 548.404367,
     "end_time": "2021-10-14T00:28:12.809101",
     "exception": false,
     "start_time": "2021-10-14T00:19:04.404734",
     "status": "completed"
    },
    "tags": []
   },
   "outputs": [
    {
     "name": "stdout",
     "output_type": "stream",
     "text": [
      "Preparing dataset level 1\n",
      "Preparing dataset level 2\n",
      "Preparing dataset level 3\n"
     ]
    },
    {
     "name": "stdout",
     "output_type": "stream",
     "text": [
      "Preparing dataset level 4\n",
      "Preparing dataset level 5\n",
      "Preparing dataset level 6\n"
     ]
    },
    {
     "name": "stdout",
     "output_type": "stream",
     "text": [
      "Preparing dataset level 7\n"
     ]
    },
    {
     "name": "stdout",
     "output_type": "stream",
     "text": [
      "Preparing dataset level 8\n"
     ]
    },
    {
     "name": "stdout",
     "output_type": "stream",
     "text": [
      "Preparing dataset level 9\n"
     ]
    },
    {
     "name": "stdout",
     "output_type": "stream",
     "text": [
      "Preparing dataset level 10\n"
     ]
    },
    {
     "name": "stdout",
     "output_type": "stream",
     "text": [
      "Preparing dataset level 11\n"
     ]
    },
    {
     "name": "stdout",
     "output_type": "stream",
     "text": [
      "Preparing dataset level 12\n"
     ]
    }
   ],
   "source": [
    "m5.preprocessing.prepare_datasets(cfg.DATA_DIR, cfg.TARGET, cfg.FH, cfg.N_LAGS)"
   ]
  },
  {
   "cell_type": "code",
   "execution_count": 6,
   "id": "a114f7a4-bc7d-4def-845f-38fc427c141d",
   "metadata": {
    "execution": {
     "iopub.execute_input": "2021-10-14T00:28:12.827162Z",
     "iopub.status.busy": "2021-10-14T00:28:12.826799Z",
     "iopub.status.idle": "2021-10-14T00:31:33.272231Z",
     "shell.execute_reply": "2021-10-14T00:31:33.271920Z"
    },
    "papermill": {
     "duration": 200.456703,
     "end_time": "2021-10-14T00:31:33.272323",
     "exception": false,
     "start_time": "2021-10-14T00:28:12.815620",
     "status": "completed"
    },
    "tags": []
   },
   "outputs": [
    {
     "name": "stdout",
     "output_type": "stream",
     "text": [
      "Splitting dataset level 1\n",
      "Splitting dataset level 2\n",
      "Splitting dataset level 3\n",
      "Splitting dataset level 4\n"
     ]
    },
    {
     "name": "stdout",
     "output_type": "stream",
     "text": [
      "Splitting dataset level 5\n",
      "Splitting dataset level 6\n",
      "Splitting dataset level 7\n"
     ]
    },
    {
     "name": "stdout",
     "output_type": "stream",
     "text": [
      "Splitting dataset level 8\n"
     ]
    },
    {
     "name": "stdout",
     "output_type": "stream",
     "text": [
      "Splitting dataset level 9\n"
     ]
    },
    {
     "name": "stdout",
     "output_type": "stream",
     "text": [
      "Splitting dataset level 10\n"
     ]
    },
    {
     "name": "stdout",
     "output_type": "stream",
     "text": [
      "Splitting dataset level 11\n"
     ]
    },
    {
     "name": "stdout",
     "output_type": "stream",
     "text": [
      "Splitting dataset level 12\n"
     ]
    }
   ],
   "source": [
    "m5.preprocessing.prepare_train_val_split(cfg.DATA_DIR, cfg.FH)"
   ]
  },
  {
   "cell_type": "code",
   "execution_count": 7,
   "id": "8163162f-1103-458c-8070-313bd34f38ec",
   "metadata": {
    "execution": {
     "iopub.execute_input": "2021-10-14T00:31:33.298424Z",
     "iopub.status.busy": "2021-10-14T00:31:33.298097Z",
     "iopub.status.idle": "2021-10-14T00:31:53.926256Z",
     "shell.execute_reply": "2021-10-14T00:31:53.925987Z"
    },
    "papermill": {
     "duration": 20.643334,
     "end_time": "2021-10-14T00:31:53.926333",
     "exception": false,
     "start_time": "2021-10-14T00:31:33.282999",
     "status": "completed"
    },
    "tags": []
   },
   "outputs": [
    {
     "name": "stdout",
     "output_type": "stream",
     "text": [
      "[LightGBM] [Warning] Met categorical feature which contains sparse values. Consider renumbering to consecutive integers started from zero\n",
      "[LightGBM] [Info] Construct bin mappers from text data time 0.09 seconds\n",
      "[LightGBM] [Info] Saving data to binary file /home/ariel/Playground/m5-forecasting/data/processed/datasets/1/train.bin\n",
      "[LightGBM] [Info] Saving data to binary file /home/ariel/Playground/m5-forecasting/data/processed/datasets/1/val.bin\n",
      "[LightGBM] [Warning] Met categorical feature which contains sparse values. Consider renumbering to consecutive integers started from zero\n",
      "[LightGBM] [Info] Construct bin mappers from text data time 0.00 seconds\n",
      "[LightGBM] [Info] Saving data to binary file /home/ariel/Playground/m5-forecasting/data/processed/datasets/2/train.bin\n",
      "[LightGBM] [Info] Saving data to binary file /home/ariel/Playground/m5-forecasting/data/processed/datasets/2/val.bin\n",
      "[LightGBM] [Warning] Met categorical feature which contains sparse values. Consider renumbering to consecutive integers started from zero\n",
      "[LightGBM] [Info] Construct bin mappers from text data time 0.01 seconds\n",
      "[LightGBM] [Info] Saving data to binary file /home/ariel/Playground/m5-forecasting/data/processed/datasets/3/train.bin\n",
      "[LightGBM] [Info] Saving data to binary file /home/ariel/Playground/m5-forecasting/data/processed/datasets/3/val.bin\n",
      "[LightGBM] [Warning] Met categorical feature which contains sparse values. Consider renumbering to consecutive integers started from zero\n",
      "[LightGBM] [Info] Construct bin mappers from text data time 0.00 seconds\n"
     ]
    },
    {
     "name": "stderr",
     "output_type": "stream",
     "text": [
      "/home/ariel/anaconda3/envs/merlion/lib/python3.9/site-packages/lightgbm/basic.py:1433: UserWarning: Overriding the parameters from Reference Dataset.\n",
      "  _log_warning('Overriding the parameters from Reference Dataset.')\n",
      "/home/ariel/anaconda3/envs/merlion/lib/python3.9/site-packages/lightgbm/basic.py:1245: UserWarning: categorical_column in param dict is overridden.\n",
      "  _log_warning('{} in param dict is overridden.'.format(cat_alias))\n"
     ]
    },
    {
     "name": "stdout",
     "output_type": "stream",
     "text": [
      "[LightGBM] [Info] Saving data to binary file /home/ariel/Playground/m5-forecasting/data/processed/datasets/4/train.bin\n",
      "[LightGBM] [Info] Saving data to binary file /home/ariel/Playground/m5-forecasting/data/processed/datasets/4/val.bin\n",
      "[LightGBM] [Warning] Met categorical feature which contains sparse values. Consider renumbering to consecutive integers started from zero\n",
      "[LightGBM] [Info] Construct bin mappers from text data time 0.02 seconds\n",
      "[LightGBM] [Info] Saving data to binary file /home/ariel/Playground/m5-forecasting/data/processed/datasets/5/train.bin\n",
      "[LightGBM] [Info] Saving data to binary file /home/ariel/Playground/m5-forecasting/data/processed/datasets/5/val.bin\n",
      "[LightGBM] [Warning] Met categorical feature which contains sparse values. Consider renumbering to consecutive integers started from zero\n",
      "[LightGBM] [Info] Construct bin mappers from text data time 0.02 seconds\n",
      "[LightGBM] [Info] Saving data to binary file /home/ariel/Playground/m5-forecasting/data/processed/datasets/6/train.bin\n",
      "[LightGBM] [Info] Saving data to binary file /home/ariel/Playground/m5-forecasting/data/processed/datasets/6/val.bin\n",
      "[LightGBM] [Warning] Met categorical feature which contains sparse values. Consider renumbering to consecutive integers started from zero\n"
     ]
    },
    {
     "name": "stdout",
     "output_type": "stream",
     "text": [
      "[LightGBM] [Info] Construct bin mappers from text data time 0.03 seconds\n",
      "[LightGBM] [Info] Saving data to binary file /home/ariel/Playground/m5-forecasting/data/processed/datasets/7/train.bin\n",
      "[LightGBM] [Info] Saving data to binary file /home/ariel/Playground/m5-forecasting/data/processed/datasets/7/val.bin\n",
      "[LightGBM] [Warning] Met categorical feature which contains sparse values. Consider renumbering to consecutive integers started from zero\n",
      "[LightGBM] [Info] Construct bin mappers from text data time 0.03 seconds\n",
      "[LightGBM] [Info] Saving data to binary file /home/ariel/Playground/m5-forecasting/data/processed/datasets/8/train.bin\n",
      "[LightGBM] [Info] Saving data to binary file /home/ariel/Playground/m5-forecasting/data/processed/datasets/8/val.bin\n"
     ]
    },
    {
     "name": "stdout",
     "output_type": "stream",
     "text": [
      "[LightGBM] [Warning] Met categorical feature which contains sparse values. Consider renumbering to consecutive integers started from zero\n",
      "[LightGBM] [Info] Construct bin mappers from text data time 0.09 seconds\n",
      "[LightGBM] [Info] Saving data to binary file /home/ariel/Playground/m5-forecasting/data/processed/datasets/9/train.bin\n",
      "[LightGBM] [Info] Saving data to binary file /home/ariel/Playground/m5-forecasting/data/processed/datasets/9/val.bin\n"
     ]
    },
    {
     "name": "stdout",
     "output_type": "stream",
     "text": [
      "[LightGBM] [Warning] Met categorical feature which contains sparse values. Consider renumbering to consecutive integers started from zero\n",
      "[LightGBM] [Info] Construct bin mappers from text data time 0.15 seconds\n"
     ]
    },
    {
     "name": "stdout",
     "output_type": "stream",
     "text": [
      "[LightGBM] [Info] Saving data to binary file /home/ariel/Playground/m5-forecasting/data/processed/datasets/10/train.bin\n",
      "[LightGBM] [Info] Saving data to binary file /home/ariel/Playground/m5-forecasting/data/processed/datasets/10/val.bin\n"
     ]
    },
    {
     "name": "stdout",
     "output_type": "stream",
     "text": [
      "[LightGBM] [Warning] Met categorical feature which contains sparse values. Consider renumbering to consecutive integers started from zero\n",
      "[LightGBM] [Info] Construct bin mappers from text data time 0.20 seconds\n"
     ]
    },
    {
     "name": "stdout",
     "output_type": "stream",
     "text": [
      "[LightGBM] [Info] Saving data to binary file /home/ariel/Playground/m5-forecasting/data/processed/datasets/11/train.bin\n"
     ]
    },
    {
     "name": "stdout",
     "output_type": "stream",
     "text": [
      "[LightGBM] [Info] Saving data to binary file /home/ariel/Playground/m5-forecasting/data/processed/datasets/11/val.bin\n"
     ]
    },
    {
     "name": "stdout",
     "output_type": "stream",
     "text": [
      "[LightGBM] [Warning] Met categorical feature which contains sparse values. Consider renumbering to consecutive integers started from zero\n"
     ]
    },
    {
     "name": "stdout",
     "output_type": "stream",
     "text": [
      "[LightGBM] [Info] Construct bin mappers from text data time 0.30 seconds\n"
     ]
    },
    {
     "name": "stdout",
     "output_type": "stream",
     "text": [
      "[LightGBM] [Info] Saving data to binary file /home/ariel/Playground/m5-forecasting/data/processed/datasets/12/train.bin\n"
     ]
    },
    {
     "name": "stdout",
     "output_type": "stream",
     "text": [
      "[LightGBM] [Info] Saving data to binary file /home/ariel/Playground/m5-forecasting/data/processed/datasets/12/val.bin\n"
     ]
    }
   ],
   "source": [
    "m5.preprocessing.prepare_dataset_binaries(cfg.DATA_DIR, cfg.N_LAGS)"
   ]
  },
  {
   "cell_type": "code",
   "execution_count": null,
   "id": "cce0735a-24e7-44d5-ae61-ff3be03c844d",
   "metadata": {
    "papermill": {
     "duration": 0.019198,
     "end_time": "2021-10-14T00:31:53.960284",
     "exception": false,
     "start_time": "2021-10-14T00:31:53.941086",
     "status": "completed"
    },
    "tags": []
   },
   "outputs": [],
   "source": []
  }
 ],
 "metadata": {
  "kernelspec": {
   "display_name": "Python 3 (ipykernel)",
   "language": "python",
   "name": "python3"
  },
  "language_info": {
   "codemirror_mode": {
    "name": "ipython",
    "version": 3
   },
   "file_extension": ".py",
   "mimetype": "text/x-python",
   "name": "python",
   "nbconvert_exporter": "python",
   "pygments_lexer": "ipython3",
   "version": "3.9.7"
  },
  "papermill": {
   "default_parameters": {},
   "duration": 901.642749,
   "end_time": "2021-10-14T00:31:54.536122",
   "environment_variables": {},
   "exception": null,
   "input_path": "/home/ariel/Playground/m5-forecasting/notebooks/preprocessing.ipynb",
   "output_path": "/home/ariel/Playground/m5-forecasting/notebooks/preprocessing-output.ipynb",
   "parameters": {},
   "start_time": "2021-10-14T00:16:52.893373",
   "version": "2.3.3"
  }
 },
 "nbformat": 4,
 "nbformat_minor": 5
}