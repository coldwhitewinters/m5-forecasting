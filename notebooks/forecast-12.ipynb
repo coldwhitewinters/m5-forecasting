{
 "cells": [
  {
   "cell_type": "markdown",
   "id": "2e97f892-e21b-412e-9d7c-0401cd572d32",
   "metadata": {
    "papermill": {
     "duration": 0.013419,
     "end_time": "2021-10-14T00:35:10.001390",
     "exception": false,
     "start_time": "2021-10-14T00:35:09.987971",
     "status": "completed"
    },
    "tags": []
   },
   "source": [
    "# Forecast"
   ]
  },
  {
   "cell_type": "markdown",
   "id": "db01a074-52df-475b-a54a-a754b84f2251",
   "metadata": {
    "papermill": {
     "duration": 0.005718,
     "end_time": "2021-10-14T00:35:10.014465",
     "exception": false,
     "start_time": "2021-10-14T00:35:10.008747",
     "status": "completed"
    },
    "tags": []
   },
   "source": [
    "## Setup"
   ]
  },
  {
   "cell_type": "code",
   "execution_count": 1,
   "id": "fb6ab9fc-2b2d-4c69-bccf-13a545604b52",
   "metadata": {
    "execution": {
     "iopub.execute_input": "2021-10-14T00:35:10.031652Z",
     "iopub.status.busy": "2021-10-14T00:35:10.031162Z",
     "iopub.status.idle": "2021-10-14T00:35:10.038995Z",
     "shell.execute_reply": "2021-10-14T00:35:10.039307Z"
    },
    "papermill": {
     "duration": 0.018901,
     "end_time": "2021-10-14T00:35:10.039442",
     "exception": false,
     "start_time": "2021-10-14T00:35:10.020541",
     "status": "completed"
    },
    "tags": []
   },
   "outputs": [],
   "source": [
    "%load_ext autoreload\n",
    "%autoreload 2"
   ]
  },
  {
   "cell_type": "code",
   "execution_count": 2,
   "id": "372f5539-cb1b-4dd8-8d3d-2d9506e3d476",
   "metadata": {
    "execution": {
     "iopub.execute_input": "2021-10-14T00:35:10.053582Z",
     "iopub.status.busy": "2021-10-14T00:35:10.053092Z",
     "iopub.status.idle": "2021-10-14T00:35:10.895807Z",
     "shell.execute_reply": "2021-10-14T00:35:10.896032Z"
    },
    "papermill": {
     "duration": 0.851462,
     "end_time": "2021-10-14T00:35:10.896125",
     "exception": false,
     "start_time": "2021-10-14T00:35:10.044663",
     "status": "completed"
    },
    "tags": []
   },
   "outputs": [],
   "source": [
    "import sys\n",
    "sys.path.append(\"..\")\n",
    "\n",
    "# Libraries\n",
    "import pandas as pd\n",
    "import numpy as np\n",
    "import matplotlib.pyplot as plt\n",
    "\n",
    "import m5.config as cfg\n",
    "from m5.model import train, predict\n",
    "from m5.evaluate import accuracy\n",
    "from m5.plot import plot_fcst\n",
    "\n",
    "# Library settings\n",
    "pd.options.display.max_columns = 999\n",
    "plt.rcParams[\"figure.figsize\"] = (14, 4)"
   ]
  },
  {
   "cell_type": "markdown",
   "id": "d9d6177b-3189-4b70-9542-ca825a007af1",
   "metadata": {
    "papermill": {
     "duration": 0.005578,
     "end_time": "2021-10-14T00:35:10.907245",
     "exception": false,
     "start_time": "2021-10-14T00:35:10.901667",
     "status": "completed"
    },
    "tags": []
   },
   "source": [
    "## Parameters"
   ]
  },
  {
   "cell_type": "code",
   "execution_count": 3,
   "id": "ca52ac99-bbcd-4bdd-9b6c-a8cc8e448eb2",
   "metadata": {
    "execution": {
     "iopub.execute_input": "2021-10-14T00:35:10.922107Z",
     "iopub.status.busy": "2021-10-14T00:35:10.921701Z",
     "iopub.status.idle": "2021-10-14T00:35:10.932262Z",
     "shell.execute_reply": "2021-10-14T00:35:10.931970Z"
    },
    "papermill": {
     "duration": 0.019712,
     "end_time": "2021-10-14T00:35:10.932332",
     "exception": false,
     "start_time": "2021-10-14T00:35:10.912620",
     "status": "completed"
    },
    "tags": [
     "parameters"
    ]
   },
   "outputs": [],
   "source": [
    "level = 1"
   ]
  },
  {
   "cell_type": "code",
   "execution_count": 4,
   "id": "8536d12c",
   "metadata": {
    "execution": {
     "iopub.execute_input": "2021-10-14T00:35:10.946474Z",
     "iopub.status.busy": "2021-10-14T00:35:10.946154Z",
     "iopub.status.idle": "2021-10-14T00:35:10.956568Z",
     "shell.execute_reply": "2021-10-14T00:35:10.956811Z"
    },
    "papermill": {
     "duration": 0.018529,
     "end_time": "2021-10-14T00:35:10.956911",
     "exception": false,
     "start_time": "2021-10-14T00:35:10.938382",
     "status": "completed"
    },
    "tags": [
     "injected-parameters"
    ]
   },
   "outputs": [],
   "source": [
    "# Parameters\n",
    "level = 12\n"
   ]
  },
  {
   "cell_type": "markdown",
   "id": "5e8ebb71-583a-4cd1-b60e-7006ebc85e82",
   "metadata": {
    "papermill": {
     "duration": 0.006277,
     "end_time": "2021-10-14T00:35:10.969240",
     "exception": false,
     "start_time": "2021-10-14T00:35:10.962963",
     "status": "completed"
    },
    "tags": []
   },
   "source": [
    "## Train"
   ]
  },
  {
   "cell_type": "code",
   "execution_count": 5,
   "id": "a462d470-398d-4f64-927f-7d9a0538508b",
   "metadata": {
    "execution": {
     "iopub.execute_input": "2021-10-14T00:35:10.983145Z",
     "iopub.status.busy": "2021-10-14T00:35:10.982817Z",
     "iopub.status.idle": "2021-10-14T00:35:10.993309Z",
     "shell.execute_reply": "2021-10-14T00:35:10.993064Z"
    },
    "papermill": {
     "duration": 0.018621,
     "end_time": "2021-10-14T00:35:10.993382",
     "exception": false,
     "start_time": "2021-10-14T00:35:10.974761",
     "status": "completed"
    },
    "tags": []
   },
   "outputs": [],
   "source": [
    "params = {\n",
    "    \"task\": \"train\",\n",
    "    \"objective\": \"tweedie\",\n",
    "    \"num_iterations\": 1000,\n",
    "    \"learning_rate\": 0.1,\n",
    "    \"num_leaves\": 31,\n",
    "    \"num_threads\": 4,\n",
    "    \"early_stopping_round\": 100,\n",
    "}"
   ]
  },
  {
   "cell_type": "code",
   "execution_count": 6,
   "id": "1a9cdb58-c9eb-4839-b1c6-5e6d44b4a36a",
   "metadata": {
    "execution": {
     "iopub.execute_input": "2021-10-14T00:35:11.007448Z",
     "iopub.status.busy": "2021-10-14T00:35:11.007134Z",
     "iopub.status.idle": "2021-10-14T00:42:28.058117Z",
     "shell.execute_reply": "2021-10-14T00:42:28.057716Z"
    },
    "papermill": {
     "duration": 437.059385,
     "end_time": "2021-10-14T00:42:28.058209",
     "exception": false,
     "start_time": "2021-10-14T00:35:10.998824",
     "status": "completed"
    },
    "tags": []
   },
   "outputs": [
    {
     "name": "stdout",
     "output_type": "stream",
     "text": [
      "Training model...\n",
      "[LightGBM] [Info] Load from binary file /home/ariel/Playground/m5-forecasting/data/processed/datasets/12/train.bin\n"
     ]
    },
    {
     "name": "stderr",
     "output_type": "stream",
     "text": [
      "/home/ariel/anaconda3/envs/merlion/lib/python3.9/site-packages/lightgbm/engine.py:148: UserWarning: Found `num_iterations` in params. Will use it instead of argument\n",
      "  _log_warning(\"Found `{}` in params. Will use it instead of argument\".format(alias))\n",
      "/home/ariel/anaconda3/envs/merlion/lib/python3.9/site-packages/lightgbm/engine.py:153: UserWarning: Found `early_stopping_round` in params. Will use it instead of argument\n",
      "  _log_warning(\"Found `{}` in params. Will use it instead of argument\".format(alias))\n"
     ]
    },
    {
     "name": "stdout",
     "output_type": "stream",
     "text": [
      "[LightGBM] [Warning] Auto-choosing row-wise multi-threading, the overhead of testing was 2.559239 seconds.\n",
      "You can set `force_row_wise=true` to remove the overhead.\n",
      "And if memory is not enough, you can set `force_col_wise=true`.\n",
      "[LightGBM] [Info] Total Bins 6157\n",
      "[LightGBM] [Info] Number of data points in the train set: 43838692, number of used features: 27\n"
     ]
    },
    {
     "name": "stdout",
     "output_type": "stream",
     "text": [
      "[LightGBM] [Info] Start training from score 0.355291\n"
     ]
    },
    {
     "name": "stdout",
     "output_type": "stream",
     "text": [
      "[1]\tvalid_0's tweedie: 4.59732\n",
      "Training until validation scores don't improve for 100 rounds\n"
     ]
    },
    {
     "name": "stdout",
     "output_type": "stream",
     "text": [
      "[2]\tvalid_0's tweedie: 4.50064\n"
     ]
    },
    {
     "name": "stdout",
     "output_type": "stream",
     "text": [
      "[3]\tvalid_0's tweedie: 4.41692\n"
     ]
    },
    {
     "name": "stdout",
     "output_type": "stream",
     "text": [
      "[4]\tvalid_0's tweedie: 4.34572\n"
     ]
    },
    {
     "name": "stdout",
     "output_type": "stream",
     "text": [
      "[5]\tvalid_0's tweedie: 4.28488\n"
     ]
    },
    {
     "name": "stdout",
     "output_type": "stream",
     "text": [
      "[6]\tvalid_0's tweedie: 4.23276\n"
     ]
    },
    {
     "name": "stdout",
     "output_type": "stream",
     "text": [
      "[7]\tvalid_0's tweedie: 4.18844\n"
     ]
    },
    {
     "name": "stdout",
     "output_type": "stream",
     "text": [
      "[8]\tvalid_0's tweedie: 4.15063\n"
     ]
    },
    {
     "name": "stdout",
     "output_type": "stream",
     "text": [
      "[9]\tvalid_0's tweedie: 4.11808\n"
     ]
    },
    {
     "name": "stdout",
     "output_type": "stream",
     "text": [
      "[10]\tvalid_0's tweedie: 4.09085\n"
     ]
    },
    {
     "name": "stdout",
     "output_type": "stream",
     "text": [
      "[11]\tvalid_0's tweedie: 4.06696\n"
     ]
    },
    {
     "name": "stdout",
     "output_type": "stream",
     "text": [
      "[12]\tvalid_0's tweedie: 4.04719\n"
     ]
    },
    {
     "name": "stdout",
     "output_type": "stream",
     "text": [
      "[13]\tvalid_0's tweedie: 4.03\n"
     ]
    },
    {
     "name": "stdout",
     "output_type": "stream",
     "text": [
      "[14]\tvalid_0's tweedie: 4.01501\n"
     ]
    },
    {
     "name": "stdout",
     "output_type": "stream",
     "text": [
      "[15]\tvalid_0's tweedie: 4.00222\n"
     ]
    },
    {
     "name": "stdout",
     "output_type": "stream",
     "text": [
      "[16]\tvalid_0's tweedie: 3.99135\n"
     ]
    },
    {
     "name": "stdout",
     "output_type": "stream",
     "text": [
      "[17]\tvalid_0's tweedie: 3.98266\n"
     ]
    },
    {
     "name": "stdout",
     "output_type": "stream",
     "text": [
      "[18]\tvalid_0's tweedie: 3.97479\n"
     ]
    },
    {
     "name": "stdout",
     "output_type": "stream",
     "text": [
      "[19]\tvalid_0's tweedie: 3.96825\n"
     ]
    },
    {
     "name": "stdout",
     "output_type": "stream",
     "text": [
      "[20]\tvalid_0's tweedie: 3.9616\n"
     ]
    },
    {
     "name": "stdout",
     "output_type": "stream",
     "text": [
      "[21]\tvalid_0's tweedie: 3.95684\n"
     ]
    },
    {
     "name": "stdout",
     "output_type": "stream",
     "text": [
      "[22]\tvalid_0's tweedie: 3.95206\n"
     ]
    },
    {
     "name": "stdout",
     "output_type": "stream",
     "text": [
      "[23]\tvalid_0's tweedie: 3.9488\n"
     ]
    },
    {
     "name": "stdout",
     "output_type": "stream",
     "text": [
      "[24]\tvalid_0's tweedie: 3.94521\n"
     ]
    },
    {
     "name": "stdout",
     "output_type": "stream",
     "text": [
      "[25]\tvalid_0's tweedie: 3.94173\n"
     ]
    },
    {
     "name": "stdout",
     "output_type": "stream",
     "text": [
      "[26]\tvalid_0's tweedie: 3.93909\n"
     ]
    },
    {
     "name": "stdout",
     "output_type": "stream",
     "text": [
      "[27]\tvalid_0's tweedie: 3.93705\n"
     ]
    },
    {
     "name": "stdout",
     "output_type": "stream",
     "text": [
      "[28]\tvalid_0's tweedie: 3.93486\n"
     ]
    },
    {
     "name": "stdout",
     "output_type": "stream",
     "text": [
      "[29]\tvalid_0's tweedie: 3.93345\n"
     ]
    },
    {
     "name": "stdout",
     "output_type": "stream",
     "text": [
      "[30]\tvalid_0's tweedie: 3.93178\n"
     ]
    },
    {
     "name": "stdout",
     "output_type": "stream",
     "text": [
      "[31]\tvalid_0's tweedie: 3.92993\n"
     ]
    },
    {
     "name": "stdout",
     "output_type": "stream",
     "text": [
      "[32]\tvalid_0's tweedie: 3.92876\n"
     ]
    },
    {
     "name": "stdout",
     "output_type": "stream",
     "text": [
      "[33]\tvalid_0's tweedie: 3.92763\n"
     ]
    },
    {
     "name": "stdout",
     "output_type": "stream",
     "text": [
      "[34]\tvalid_0's tweedie: 3.92655\n"
     ]
    },
    {
     "name": "stdout",
     "output_type": "stream",
     "text": [
      "[35]\tvalid_0's tweedie: 3.92582\n"
     ]
    },
    {
     "name": "stdout",
     "output_type": "stream",
     "text": [
      "[36]\tvalid_0's tweedie: 3.92504\n"
     ]
    },
    {
     "name": "stdout",
     "output_type": "stream",
     "text": [
      "[37]\tvalid_0's tweedie: 3.92435\n"
     ]
    },
    {
     "name": "stdout",
     "output_type": "stream",
     "text": [
      "[38]\tvalid_0's tweedie: 3.92361\n"
     ]
    },
    {
     "name": "stdout",
     "output_type": "stream",
     "text": [
      "[39]\tvalid_0's tweedie: 3.92273\n"
     ]
    },
    {
     "name": "stdout",
     "output_type": "stream",
     "text": [
      "[40]\tvalid_0's tweedie: 3.92204\n"
     ]
    },
    {
     "name": "stdout",
     "output_type": "stream",
     "text": [
      "[41]\tvalid_0's tweedie: 3.92127\n"
     ]
    },
    {
     "name": "stdout",
     "output_type": "stream",
     "text": [
      "[42]\tvalid_0's tweedie: 3.92075\n"
     ]
    },
    {
     "name": "stdout",
     "output_type": "stream",
     "text": [
      "[43]\tvalid_0's tweedie: 3.9204\n"
     ]
    },
    {
     "name": "stdout",
     "output_type": "stream",
     "text": [
      "[44]\tvalid_0's tweedie: 3.91984\n"
     ]
    },
    {
     "name": "stdout",
     "output_type": "stream",
     "text": [
      "[45]\tvalid_0's tweedie: 3.91942\n"
     ]
    },
    {
     "name": "stdout",
     "output_type": "stream",
     "text": [
      "[46]\tvalid_0's tweedie: 3.919\n"
     ]
    },
    {
     "name": "stdout",
     "output_type": "stream",
     "text": [
      "[47]\tvalid_0's tweedie: 3.91851\n"
     ]
    },
    {
     "name": "stdout",
     "output_type": "stream",
     "text": [
      "[48]\tvalid_0's tweedie: 3.91794\n"
     ]
    },
    {
     "name": "stdout",
     "output_type": "stream",
     "text": [
      "[49]\tvalid_0's tweedie: 3.9178\n"
     ]
    },
    {
     "name": "stdout",
     "output_type": "stream",
     "text": [
      "[50]\tvalid_0's tweedie: 3.91727\n"
     ]
    },
    {
     "name": "stdout",
     "output_type": "stream",
     "text": [
      "[51]\tvalid_0's tweedie: 3.91694\n"
     ]
    },
    {
     "name": "stdout",
     "output_type": "stream",
     "text": [
      "[52]\tvalid_0's tweedie: 3.91664\n"
     ]
    },
    {
     "name": "stdout",
     "output_type": "stream",
     "text": [
      "[53]\tvalid_0's tweedie: 3.91619\n"
     ]
    },
    {
     "name": "stdout",
     "output_type": "stream",
     "text": [
      "[54]\tvalid_0's tweedie: 3.91606\n"
     ]
    },
    {
     "name": "stdout",
     "output_type": "stream",
     "text": [
      "[55]\tvalid_0's tweedie: 3.91588\n"
     ]
    },
    {
     "name": "stdout",
     "output_type": "stream",
     "text": [
      "[56]\tvalid_0's tweedie: 3.91574\n"
     ]
    },
    {
     "name": "stdout",
     "output_type": "stream",
     "text": [
      "[57]\tvalid_0's tweedie: 3.91572\n"
     ]
    },
    {
     "name": "stdout",
     "output_type": "stream",
     "text": [
      "[58]\tvalid_0's tweedie: 3.91551\n"
     ]
    },
    {
     "name": "stdout",
     "output_type": "stream",
     "text": [
      "[59]\tvalid_0's tweedie: 3.91535\n"
     ]
    },
    {
     "name": "stdout",
     "output_type": "stream",
     "text": [
      "[60]\tvalid_0's tweedie: 3.91518\n"
     ]
    },
    {
     "name": "stdout",
     "output_type": "stream",
     "text": [
      "[61]\tvalid_0's tweedie: 3.9151\n"
     ]
    },
    {
     "name": "stdout",
     "output_type": "stream",
     "text": [
      "[62]\tvalid_0's tweedie: 3.91489\n"
     ]
    },
    {
     "name": "stdout",
     "output_type": "stream",
     "text": [
      "[63]\tvalid_0's tweedie: 3.91484\n"
     ]
    },
    {
     "name": "stdout",
     "output_type": "stream",
     "text": [
      "[64]\tvalid_0's tweedie: 3.91485\n"
     ]
    },
    {
     "name": "stdout",
     "output_type": "stream",
     "text": [
      "[65]\tvalid_0's tweedie: 3.91479\n"
     ]
    },
    {
     "name": "stdout",
     "output_type": "stream",
     "text": [
      "[66]\tvalid_0's tweedie: 3.91464\n"
     ]
    },
    {
     "name": "stdout",
     "output_type": "stream",
     "text": [
      "[67]\tvalid_0's tweedie: 3.91465\n"
     ]
    },
    {
     "name": "stdout",
     "output_type": "stream",
     "text": [
      "[68]\tvalid_0's tweedie: 3.91455\n"
     ]
    },
    {
     "name": "stdout",
     "output_type": "stream",
     "text": [
      "[69]\tvalid_0's tweedie: 3.91446\n"
     ]
    },
    {
     "name": "stdout",
     "output_type": "stream",
     "text": [
      "[70]\tvalid_0's tweedie: 3.91438\n"
     ]
    },
    {
     "name": "stdout",
     "output_type": "stream",
     "text": [
      "[71]\tvalid_0's tweedie: 3.91423\n"
     ]
    },
    {
     "name": "stdout",
     "output_type": "stream",
     "text": [
      "[72]\tvalid_0's tweedie: 3.91412\n"
     ]
    },
    {
     "name": "stdout",
     "output_type": "stream",
     "text": [
      "[73]\tvalid_0's tweedie: 3.91399\n"
     ]
    },
    {
     "name": "stdout",
     "output_type": "stream",
     "text": [
      "[74]\tvalid_0's tweedie: 3.91391\n"
     ]
    },
    {
     "name": "stdout",
     "output_type": "stream",
     "text": [
      "[75]\tvalid_0's tweedie: 3.91421\n"
     ]
    },
    {
     "name": "stdout",
     "output_type": "stream",
     "text": [
      "[76]\tvalid_0's tweedie: 3.91399\n"
     ]
    },
    {
     "name": "stdout",
     "output_type": "stream",
     "text": [
      "[77]\tvalid_0's tweedie: 3.91389\n"
     ]
    },
    {
     "name": "stdout",
     "output_type": "stream",
     "text": [
      "[78]\tvalid_0's tweedie: 3.91381\n"
     ]
    },
    {
     "name": "stdout",
     "output_type": "stream",
     "text": [
      "[79]\tvalid_0's tweedie: 3.91363\n"
     ]
    },
    {
     "name": "stdout",
     "output_type": "stream",
     "text": [
      "[80]\tvalid_0's tweedie: 3.91355\n"
     ]
    },
    {
     "name": "stdout",
     "output_type": "stream",
     "text": [
      "[81]\tvalid_0's tweedie: 3.91329\n"
     ]
    },
    {
     "name": "stdout",
     "output_type": "stream",
     "text": [
      "[82]\tvalid_0's tweedie: 3.91314\n"
     ]
    },
    {
     "name": "stdout",
     "output_type": "stream",
     "text": [
      "[83]\tvalid_0's tweedie: 3.91306\n"
     ]
    },
    {
     "name": "stdout",
     "output_type": "stream",
     "text": [
      "[84]\tvalid_0's tweedie: 3.91287\n"
     ]
    },
    {
     "name": "stdout",
     "output_type": "stream",
     "text": [
      "[85]\tvalid_0's tweedie: 3.91306\n"
     ]
    },
    {
     "name": "stdout",
     "output_type": "stream",
     "text": [
      "[86]\tvalid_0's tweedie: 3.91295\n"
     ]
    },
    {
     "name": "stdout",
     "output_type": "stream",
     "text": [
      "[87]\tvalid_0's tweedie: 3.91288\n"
     ]
    },
    {
     "name": "stdout",
     "output_type": "stream",
     "text": [
      "[88]\tvalid_0's tweedie: 3.91277\n"
     ]
    },
    {
     "name": "stdout",
     "output_type": "stream",
     "text": [
      "[89]\tvalid_0's tweedie: 3.91271\n"
     ]
    },
    {
     "name": "stdout",
     "output_type": "stream",
     "text": [
      "[90]\tvalid_0's tweedie: 3.91259\n"
     ]
    },
    {
     "name": "stdout",
     "output_type": "stream",
     "text": [
      "[91]\tvalid_0's tweedie: 3.91251\n"
     ]
    },
    {
     "name": "stdout",
     "output_type": "stream",
     "text": [
      "[92]\tvalid_0's tweedie: 3.9125\n"
     ]
    },
    {
     "name": "stdout",
     "output_type": "stream",
     "text": [
      "[93]\tvalid_0's tweedie: 3.91239\n"
     ]
    },
    {
     "name": "stdout",
     "output_type": "stream",
     "text": [
      "[94]\tvalid_0's tweedie: 3.91221\n"
     ]
    },
    {
     "name": "stdout",
     "output_type": "stream",
     "text": [
      "[95]\tvalid_0's tweedie: 3.91209\n"
     ]
    },
    {
     "name": "stdout",
     "output_type": "stream",
     "text": [
      "[96]\tvalid_0's tweedie: 3.91184\n"
     ]
    },
    {
     "name": "stdout",
     "output_type": "stream",
     "text": [
      "[97]\tvalid_0's tweedie: 3.91163\n"
     ]
    },
    {
     "name": "stdout",
     "output_type": "stream",
     "text": [
      "[98]\tvalid_0's tweedie: 3.9115\n"
     ]
    },
    {
     "name": "stdout",
     "output_type": "stream",
     "text": [
      "[99]\tvalid_0's tweedie: 3.91149\n"
     ]
    },
    {
     "name": "stdout",
     "output_type": "stream",
     "text": [
      "[100]\tvalid_0's tweedie: 3.91141\n"
     ]
    },
    {
     "name": "stdout",
     "output_type": "stream",
     "text": [
      "[101]\tvalid_0's tweedie: 3.91134\n"
     ]
    },
    {
     "name": "stdout",
     "output_type": "stream",
     "text": [
      "[102]\tvalid_0's tweedie: 3.91127\n"
     ]
    },
    {
     "name": "stdout",
     "output_type": "stream",
     "text": [
      "[103]\tvalid_0's tweedie: 3.91123\n"
     ]
    },
    {
     "name": "stdout",
     "output_type": "stream",
     "text": [
      "[104]\tvalid_0's tweedie: 3.9112\n"
     ]
    },
    {
     "name": "stdout",
     "output_type": "stream",
     "text": [
      "[105]\tvalid_0's tweedie: 3.91115\n"
     ]
    },
    {
     "name": "stdout",
     "output_type": "stream",
     "text": [
      "[106]\tvalid_0's tweedie: 3.9111\n"
     ]
    },
    {
     "name": "stdout",
     "output_type": "stream",
     "text": [
      "[107]\tvalid_0's tweedie: 3.91103\n"
     ]
    },
    {
     "name": "stdout",
     "output_type": "stream",
     "text": [
      "[108]\tvalid_0's tweedie: 3.91102\n"
     ]
    },
    {
     "name": "stdout",
     "output_type": "stream",
     "text": [
      "[109]\tvalid_0's tweedie: 3.91102\n"
     ]
    },
    {
     "name": "stdout",
     "output_type": "stream",
     "text": [
      "[110]\tvalid_0's tweedie: 3.91095\n"
     ]
    },
    {
     "name": "stdout",
     "output_type": "stream",
     "text": [
      "[111]\tvalid_0's tweedie: 3.91093\n"
     ]
    },
    {
     "name": "stdout",
     "output_type": "stream",
     "text": [
      "[112]\tvalid_0's tweedie: 3.91085\n"
     ]
    },
    {
     "name": "stdout",
     "output_type": "stream",
     "text": [
      "[113]\tvalid_0's tweedie: 3.91082\n"
     ]
    },
    {
     "name": "stdout",
     "output_type": "stream",
     "text": [
      "[114]\tvalid_0's tweedie: 3.91054\n"
     ]
    },
    {
     "name": "stdout",
     "output_type": "stream",
     "text": [
      "[115]\tvalid_0's tweedie: 3.91043\n"
     ]
    },
    {
     "name": "stdout",
     "output_type": "stream",
     "text": [
      "[116]\tvalid_0's tweedie: 3.9104\n"
     ]
    },
    {
     "name": "stdout",
     "output_type": "stream",
     "text": [
      "[117]\tvalid_0's tweedie: 3.91024\n"
     ]
    },
    {
     "name": "stdout",
     "output_type": "stream",
     "text": [
      "[118]\tvalid_0's tweedie: 3.91025\n"
     ]
    },
    {
     "name": "stdout",
     "output_type": "stream",
     "text": [
      "[119]\tvalid_0's tweedie: 3.91018\n"
     ]
    },
    {
     "name": "stdout",
     "output_type": "stream",
     "text": [
      "[120]\tvalid_0's tweedie: 3.91018\n"
     ]
    },
    {
     "name": "stdout",
     "output_type": "stream",
     "text": [
      "[121]\tvalid_0's tweedie: 3.91009\n"
     ]
    },
    {
     "name": "stdout",
     "output_type": "stream",
     "text": [
      "[122]\tvalid_0's tweedie: 3.90997\n"
     ]
    },
    {
     "name": "stdout",
     "output_type": "stream",
     "text": [
      "[123]\tvalid_0's tweedie: 3.90994\n"
     ]
    },
    {
     "name": "stdout",
     "output_type": "stream",
     "text": [
      "[124]\tvalid_0's tweedie: 3.90989\n"
     ]
    },
    {
     "name": "stdout",
     "output_type": "stream",
     "text": [
      "[125]\tvalid_0's tweedie: 3.90985\n"
     ]
    },
    {
     "name": "stdout",
     "output_type": "stream",
     "text": [
      "[126]\tvalid_0's tweedie: 3.90981\n"
     ]
    },
    {
     "name": "stdout",
     "output_type": "stream",
     "text": [
      "[127]\tvalid_0's tweedie: 3.90978\n"
     ]
    },
    {
     "name": "stdout",
     "output_type": "stream",
     "text": [
      "[128]\tvalid_0's tweedie: 3.90975\n"
     ]
    },
    {
     "name": "stdout",
     "output_type": "stream",
     "text": [
      "[129]\tvalid_0's tweedie: 3.90972\n"
     ]
    },
    {
     "name": "stdout",
     "output_type": "stream",
     "text": [
      "[130]\tvalid_0's tweedie: 3.9096\n"
     ]
    },
    {
     "name": "stdout",
     "output_type": "stream",
     "text": [
      "[131]\tvalid_0's tweedie: 3.90955\n"
     ]
    },
    {
     "name": "stdout",
     "output_type": "stream",
     "text": [
      "[132]\tvalid_0's tweedie: 3.90947\n"
     ]
    },
    {
     "name": "stdout",
     "output_type": "stream",
     "text": [
      "[133]\tvalid_0's tweedie: 3.90949\n"
     ]
    },
    {
     "name": "stdout",
     "output_type": "stream",
     "text": [
      "[134]\tvalid_0's tweedie: 3.90944\n"
     ]
    },
    {
     "name": "stdout",
     "output_type": "stream",
     "text": [
      "[135]\tvalid_0's tweedie: 3.90944\n"
     ]
    },
    {
     "name": "stdout",
     "output_type": "stream",
     "text": [
      "[136]\tvalid_0's tweedie: 3.90933\n"
     ]
    },
    {
     "name": "stdout",
     "output_type": "stream",
     "text": [
      "[137]\tvalid_0's tweedie: 3.90931\n"
     ]
    },
    {
     "name": "stdout",
     "output_type": "stream",
     "text": [
      "[138]\tvalid_0's tweedie: 3.9093\n"
     ]
    },
    {
     "name": "stdout",
     "output_type": "stream",
     "text": [
      "[139]\tvalid_0's tweedie: 3.90924\n"
     ]
    },
    {
     "name": "stdout",
     "output_type": "stream",
     "text": [
      "[140]\tvalid_0's tweedie: 3.90901\n"
     ]
    },
    {
     "name": "stdout",
     "output_type": "stream",
     "text": [
      "[141]\tvalid_0's tweedie: 3.90899\n"
     ]
    },
    {
     "name": "stdout",
     "output_type": "stream",
     "text": [
      "[142]\tvalid_0's tweedie: 3.90898\n"
     ]
    },
    {
     "name": "stdout",
     "output_type": "stream",
     "text": [
      "[143]\tvalid_0's tweedie: 3.90896\n"
     ]
    },
    {
     "name": "stdout",
     "output_type": "stream",
     "text": [
      "[144]\tvalid_0's tweedie: 3.90899\n"
     ]
    },
    {
     "name": "stdout",
     "output_type": "stream",
     "text": [
      "[145]\tvalid_0's tweedie: 3.90897\n"
     ]
    },
    {
     "name": "stdout",
     "output_type": "stream",
     "text": [
      "[146]\tvalid_0's tweedie: 3.90889\n"
     ]
    },
    {
     "name": "stdout",
     "output_type": "stream",
     "text": [
      "[147]\tvalid_0's tweedie: 3.9089\n"
     ]
    },
    {
     "name": "stdout",
     "output_type": "stream",
     "text": [
      "[148]\tvalid_0's tweedie: 3.90885\n"
     ]
    },
    {
     "name": "stdout",
     "output_type": "stream",
     "text": [
      "[149]\tvalid_0's tweedie: 3.90882\n"
     ]
    },
    {
     "name": "stdout",
     "output_type": "stream",
     "text": [
      "[150]\tvalid_0's tweedie: 3.9088\n"
     ]
    },
    {
     "name": "stdout",
     "output_type": "stream",
     "text": [
      "[151]\tvalid_0's tweedie: 3.9088\n"
     ]
    },
    {
     "name": "stdout",
     "output_type": "stream",
     "text": [
      "[152]\tvalid_0's tweedie: 3.90884\n"
     ]
    },
    {
     "name": "stdout",
     "output_type": "stream",
     "text": [
      "[153]\tvalid_0's tweedie: 3.90881\n"
     ]
    },
    {
     "name": "stdout",
     "output_type": "stream",
     "text": [
      "[154]\tvalid_0's tweedie: 3.90877\n"
     ]
    },
    {
     "name": "stdout",
     "output_type": "stream",
     "text": [
      "[155]\tvalid_0's tweedie: 3.90878\n"
     ]
    },
    {
     "name": "stdout",
     "output_type": "stream",
     "text": [
      "[156]\tvalid_0's tweedie: 3.90907\n"
     ]
    },
    {
     "name": "stdout",
     "output_type": "stream",
     "text": [
      "[157]\tvalid_0's tweedie: 3.90908\n"
     ]
    },
    {
     "name": "stdout",
     "output_type": "stream",
     "text": [
      "[158]\tvalid_0's tweedie: 3.90912\n"
     ]
    },
    {
     "name": "stdout",
     "output_type": "stream",
     "text": [
      "[159]\tvalid_0's tweedie: 3.90909\n"
     ]
    },
    {
     "name": "stdout",
     "output_type": "stream",
     "text": [
      "[160]\tvalid_0's tweedie: 3.90906\n"
     ]
    },
    {
     "name": "stdout",
     "output_type": "stream",
     "text": [
      "[161]\tvalid_0's tweedie: 3.909\n"
     ]
    },
    {
     "name": "stdout",
     "output_type": "stream",
     "text": [
      "[162]\tvalid_0's tweedie: 3.90896\n"
     ]
    },
    {
     "name": "stdout",
     "output_type": "stream",
     "text": [
      "[163]\tvalid_0's tweedie: 3.90899\n"
     ]
    },
    {
     "name": "stdout",
     "output_type": "stream",
     "text": [
      "[164]\tvalid_0's tweedie: 3.90894\n"
     ]
    },
    {
     "name": "stdout",
     "output_type": "stream",
     "text": [
      "[165]\tvalid_0's tweedie: 3.90894\n"
     ]
    },
    {
     "name": "stdout",
     "output_type": "stream",
     "text": [
      "[166]\tvalid_0's tweedie: 3.9089\n"
     ]
    },
    {
     "name": "stdout",
     "output_type": "stream",
     "text": [
      "[167]\tvalid_0's tweedie: 3.90888\n"
     ]
    },
    {
     "name": "stdout",
     "output_type": "stream",
     "text": [
      "[168]\tvalid_0's tweedie: 3.90885\n"
     ]
    },
    {
     "name": "stdout",
     "output_type": "stream",
     "text": [
      "[169]\tvalid_0's tweedie: 3.90877\n"
     ]
    },
    {
     "name": "stdout",
     "output_type": "stream",
     "text": [
      "[170]\tvalid_0's tweedie: 3.90876\n"
     ]
    },
    {
     "name": "stdout",
     "output_type": "stream",
     "text": [
      "[171]\tvalid_0's tweedie: 3.90872\n"
     ]
    },
    {
     "name": "stdout",
     "output_type": "stream",
     "text": [
      "[172]\tvalid_0's tweedie: 3.90889\n"
     ]
    },
    {
     "name": "stdout",
     "output_type": "stream",
     "text": [
      "[173]\tvalid_0's tweedie: 3.90888\n"
     ]
    },
    {
     "name": "stdout",
     "output_type": "stream",
     "text": [
      "[174]\tvalid_0's tweedie: 3.90887\n"
     ]
    },
    {
     "name": "stdout",
     "output_type": "stream",
     "text": [
      "[175]\tvalid_0's tweedie: 3.90884\n"
     ]
    },
    {
     "name": "stdout",
     "output_type": "stream",
     "text": [
      "[176]\tvalid_0's tweedie: 3.90884\n"
     ]
    },
    {
     "name": "stdout",
     "output_type": "stream",
     "text": [
      "[177]\tvalid_0's tweedie: 3.90874\n"
     ]
    },
    {
     "name": "stdout",
     "output_type": "stream",
     "text": [
      "[178]\tvalid_0's tweedie: 3.90873\n"
     ]
    },
    {
     "name": "stdout",
     "output_type": "stream",
     "text": [
      "[179]\tvalid_0's tweedie: 3.90806\n"
     ]
    },
    {
     "name": "stdout",
     "output_type": "stream",
     "text": [
      "[180]\tvalid_0's tweedie: 3.90807\n"
     ]
    },
    {
     "name": "stdout",
     "output_type": "stream",
     "text": [
      "[181]\tvalid_0's tweedie: 3.90806\n"
     ]
    },
    {
     "name": "stdout",
     "output_type": "stream",
     "text": [
      "[182]\tvalid_0's tweedie: 3.90803\n"
     ]
    },
    {
     "name": "stdout",
     "output_type": "stream",
     "text": [
      "[183]\tvalid_0's tweedie: 3.90802\n"
     ]
    },
    {
     "name": "stdout",
     "output_type": "stream",
     "text": [
      "[184]\tvalid_0's tweedie: 3.908\n"
     ]
    },
    {
     "name": "stdout",
     "output_type": "stream",
     "text": [
      "[185]\tvalid_0's tweedie: 3.90799\n"
     ]
    },
    {
     "name": "stdout",
     "output_type": "stream",
     "text": [
      "[186]\tvalid_0's tweedie: 3.90798\n"
     ]
    },
    {
     "name": "stdout",
     "output_type": "stream",
     "text": [
      "[187]\tvalid_0's tweedie: 3.90797\n"
     ]
    },
    {
     "name": "stdout",
     "output_type": "stream",
     "text": [
      "[188]\tvalid_0's tweedie: 3.90797\n"
     ]
    },
    {
     "name": "stdout",
     "output_type": "stream",
     "text": [
      "[189]\tvalid_0's tweedie: 3.90795\n"
     ]
    },
    {
     "name": "stdout",
     "output_type": "stream",
     "text": [
      "[190]\tvalid_0's tweedie: 3.90795\n"
     ]
    },
    {
     "name": "stdout",
     "output_type": "stream",
     "text": [
      "[191]\tvalid_0's tweedie: 3.90792\n"
     ]
    },
    {
     "name": "stdout",
     "output_type": "stream",
     "text": [
      "[192]\tvalid_0's tweedie: 3.90795\n"
     ]
    },
    {
     "name": "stdout",
     "output_type": "stream",
     "text": [
      "[193]\tvalid_0's tweedie: 3.90794\n"
     ]
    },
    {
     "name": "stdout",
     "output_type": "stream",
     "text": [
      "[194]\tvalid_0's tweedie: 3.90785\n"
     ]
    },
    {
     "name": "stdout",
     "output_type": "stream",
     "text": [
      "[195]\tvalid_0's tweedie: 3.90782\n"
     ]
    },
    {
     "name": "stdout",
     "output_type": "stream",
     "text": [
      "[196]\tvalid_0's tweedie: 3.90783\n"
     ]
    },
    {
     "name": "stdout",
     "output_type": "stream",
     "text": [
      "[197]\tvalid_0's tweedie: 3.90813\n"
     ]
    },
    {
     "name": "stdout",
     "output_type": "stream",
     "text": [
      "[198]\tvalid_0's tweedie: 3.90807\n"
     ]
    },
    {
     "name": "stdout",
     "output_type": "stream",
     "text": [
      "[199]\tvalid_0's tweedie: 3.90807\n"
     ]
    },
    {
     "name": "stdout",
     "output_type": "stream",
     "text": [
      "[200]\tvalid_0's tweedie: 3.90808\n"
     ]
    },
    {
     "name": "stdout",
     "output_type": "stream",
     "text": [
      "[201]\tvalid_0's tweedie: 3.90808\n"
     ]
    },
    {
     "name": "stdout",
     "output_type": "stream",
     "text": [
      "[202]\tvalid_0's tweedie: 3.90807\n"
     ]
    },
    {
     "name": "stdout",
     "output_type": "stream",
     "text": [
      "[203]\tvalid_0's tweedie: 3.90809\n"
     ]
    },
    {
     "name": "stdout",
     "output_type": "stream",
     "text": [
      "[204]\tvalid_0's tweedie: 3.90822\n"
     ]
    },
    {
     "name": "stdout",
     "output_type": "stream",
     "text": [
      "[205]\tvalid_0's tweedie: 3.90815\n"
     ]
    },
    {
     "name": "stdout",
     "output_type": "stream",
     "text": [
      "[206]\tvalid_0's tweedie: 3.9081\n"
     ]
    },
    {
     "name": "stdout",
     "output_type": "stream",
     "text": [
      "[207]\tvalid_0's tweedie: 3.9081\n"
     ]
    },
    {
     "name": "stdout",
     "output_type": "stream",
     "text": [
      "[208]\tvalid_0's tweedie: 3.9081\n"
     ]
    },
    {
     "name": "stdout",
     "output_type": "stream",
     "text": [
      "[209]\tvalid_0's tweedie: 3.90809\n"
     ]
    },
    {
     "name": "stdout",
     "output_type": "stream",
     "text": [
      "[210]\tvalid_0's tweedie: 3.90806\n"
     ]
    },
    {
     "name": "stdout",
     "output_type": "stream",
     "text": [
      "[211]\tvalid_0's tweedie: 3.90809\n"
     ]
    },
    {
     "name": "stdout",
     "output_type": "stream",
     "text": [
      "[212]\tvalid_0's tweedie: 3.9085\n"
     ]
    },
    {
     "name": "stdout",
     "output_type": "stream",
     "text": [
      "[213]\tvalid_0's tweedie: 3.90854\n"
     ]
    },
    {
     "name": "stdout",
     "output_type": "stream",
     "text": [
      "[214]\tvalid_0's tweedie: 3.90853\n"
     ]
    },
    {
     "name": "stdout",
     "output_type": "stream",
     "text": [
      "[215]\tvalid_0's tweedie: 3.9085\n"
     ]
    },
    {
     "name": "stdout",
     "output_type": "stream",
     "text": [
      "[216]\tvalid_0's tweedie: 3.9085\n"
     ]
    },
    {
     "name": "stdout",
     "output_type": "stream",
     "text": [
      "[217]\tvalid_0's tweedie: 3.90849\n"
     ]
    },
    {
     "name": "stdout",
     "output_type": "stream",
     "text": [
      "[218]\tvalid_0's tweedie: 3.9085\n"
     ]
    },
    {
     "name": "stdout",
     "output_type": "stream",
     "text": [
      "[219]\tvalid_0's tweedie: 3.90851\n"
     ]
    },
    {
     "name": "stdout",
     "output_type": "stream",
     "text": [
      "[220]\tvalid_0's tweedie: 3.90846\n"
     ]
    },
    {
     "name": "stdout",
     "output_type": "stream",
     "text": [
      "[221]\tvalid_0's tweedie: 3.90846\n"
     ]
    },
    {
     "name": "stdout",
     "output_type": "stream",
     "text": [
      "[222]\tvalid_0's tweedie: 3.90847\n"
     ]
    },
    {
     "name": "stdout",
     "output_type": "stream",
     "text": [
      "[223]\tvalid_0's tweedie: 3.90839\n"
     ]
    },
    {
     "name": "stdout",
     "output_type": "stream",
     "text": [
      "[224]\tvalid_0's tweedie: 3.90837\n"
     ]
    },
    {
     "name": "stdout",
     "output_type": "stream",
     "text": [
      "[225]\tvalid_0's tweedie: 3.90838\n"
     ]
    },
    {
     "name": "stdout",
     "output_type": "stream",
     "text": [
      "[226]\tvalid_0's tweedie: 3.90835\n"
     ]
    },
    {
     "name": "stdout",
     "output_type": "stream",
     "text": [
      "[227]\tvalid_0's tweedie: 3.90833\n"
     ]
    },
    {
     "name": "stdout",
     "output_type": "stream",
     "text": [
      "[228]\tvalid_0's tweedie: 3.90832\n"
     ]
    },
    {
     "name": "stdout",
     "output_type": "stream",
     "text": [
      "[229]\tvalid_0's tweedie: 3.90833\n"
     ]
    },
    {
     "name": "stdout",
     "output_type": "stream",
     "text": [
      "[230]\tvalid_0's tweedie: 3.90835\n"
     ]
    },
    {
     "name": "stdout",
     "output_type": "stream",
     "text": [
      "[231]\tvalid_0's tweedie: 3.90835\n"
     ]
    },
    {
     "name": "stdout",
     "output_type": "stream",
     "text": [
      "[232]\tvalid_0's tweedie: 3.90833\n"
     ]
    },
    {
     "name": "stdout",
     "output_type": "stream",
     "text": [
      "[233]\tvalid_0's tweedie: 3.90834\n"
     ]
    },
    {
     "name": "stdout",
     "output_type": "stream",
     "text": [
      "[234]\tvalid_0's tweedie: 3.9083\n"
     ]
    },
    {
     "name": "stdout",
     "output_type": "stream",
     "text": [
      "[235]\tvalid_0's tweedie: 3.9083\n"
     ]
    },
    {
     "name": "stdout",
     "output_type": "stream",
     "text": [
      "[236]\tvalid_0's tweedie: 3.90835\n"
     ]
    },
    {
     "name": "stdout",
     "output_type": "stream",
     "text": [
      "[237]\tvalid_0's tweedie: 3.90833\n"
     ]
    },
    {
     "name": "stdout",
     "output_type": "stream",
     "text": [
      "[238]\tvalid_0's tweedie: 3.90833\n"
     ]
    },
    {
     "name": "stdout",
     "output_type": "stream",
     "text": [
      "[239]\tvalid_0's tweedie: 3.90832\n"
     ]
    },
    {
     "name": "stdout",
     "output_type": "stream",
     "text": [
      "[240]\tvalid_0's tweedie: 3.90829\n"
     ]
    },
    {
     "name": "stdout",
     "output_type": "stream",
     "text": [
      "[241]\tvalid_0's tweedie: 3.90829\n"
     ]
    },
    {
     "name": "stdout",
     "output_type": "stream",
     "text": [
      "[242]\tvalid_0's tweedie: 3.90848\n"
     ]
    },
    {
     "name": "stdout",
     "output_type": "stream",
     "text": [
      "[243]\tvalid_0's tweedie: 3.90846\n"
     ]
    },
    {
     "name": "stdout",
     "output_type": "stream",
     "text": [
      "[244]\tvalid_0's tweedie: 3.90845\n"
     ]
    },
    {
     "name": "stdout",
     "output_type": "stream",
     "text": [
      "[245]\tvalid_0's tweedie: 3.9084\n"
     ]
    },
    {
     "name": "stdout",
     "output_type": "stream",
     "text": [
      "[246]\tvalid_0's tweedie: 3.90839\n"
     ]
    },
    {
     "name": "stdout",
     "output_type": "stream",
     "text": [
      "[247]\tvalid_0's tweedie: 3.9083\n"
     ]
    },
    {
     "name": "stdout",
     "output_type": "stream",
     "text": [
      "[248]\tvalid_0's tweedie: 3.9083\n"
     ]
    },
    {
     "name": "stdout",
     "output_type": "stream",
     "text": [
      "[249]\tvalid_0's tweedie: 3.9083\n"
     ]
    },
    {
     "name": "stdout",
     "output_type": "stream",
     "text": [
      "[250]\tvalid_0's tweedie: 3.9083\n"
     ]
    },
    {
     "name": "stdout",
     "output_type": "stream",
     "text": [
      "[251]\tvalid_0's tweedie: 3.90829\n"
     ]
    },
    {
     "name": "stdout",
     "output_type": "stream",
     "text": [
      "[252]\tvalid_0's tweedie: 3.90827\n"
     ]
    },
    {
     "name": "stdout",
     "output_type": "stream",
     "text": [
      "[253]\tvalid_0's tweedie: 3.90827\n"
     ]
    },
    {
     "name": "stdout",
     "output_type": "stream",
     "text": [
      "[254]\tvalid_0's tweedie: 3.90826\n"
     ]
    },
    {
     "name": "stdout",
     "output_type": "stream",
     "text": [
      "[255]\tvalid_0's tweedie: 3.9083\n"
     ]
    },
    {
     "name": "stdout",
     "output_type": "stream",
     "text": [
      "[256]\tvalid_0's tweedie: 3.90831\n"
     ]
    },
    {
     "name": "stdout",
     "output_type": "stream",
     "text": [
      "[257]\tvalid_0's tweedie: 3.9083\n"
     ]
    },
    {
     "name": "stdout",
     "output_type": "stream",
     "text": [
      "[258]\tvalid_0's tweedie: 3.9083\n"
     ]
    },
    {
     "name": "stdout",
     "output_type": "stream",
     "text": [
      "[259]\tvalid_0's tweedie: 3.90829\n"
     ]
    },
    {
     "name": "stdout",
     "output_type": "stream",
     "text": [
      "[260]\tvalid_0's tweedie: 3.9083\n"
     ]
    },
    {
     "name": "stdout",
     "output_type": "stream",
     "text": [
      "[261]\tvalid_0's tweedie: 3.90826\n"
     ]
    },
    {
     "name": "stdout",
     "output_type": "stream",
     "text": [
      "[262]\tvalid_0's tweedie: 3.90827\n"
     ]
    },
    {
     "name": "stdout",
     "output_type": "stream",
     "text": [
      "[263]\tvalid_0's tweedie: 3.90824\n"
     ]
    },
    {
     "name": "stdout",
     "output_type": "stream",
     "text": [
      "[264]\tvalid_0's tweedie: 3.90822\n"
     ]
    },
    {
     "name": "stdout",
     "output_type": "stream",
     "text": [
      "[265]\tvalid_0's tweedie: 3.90822\n"
     ]
    },
    {
     "name": "stdout",
     "output_type": "stream",
     "text": [
      "[266]\tvalid_0's tweedie: 3.90822\n"
     ]
    },
    {
     "name": "stdout",
     "output_type": "stream",
     "text": [
      "[267]\tvalid_0's tweedie: 3.90814\n"
     ]
    },
    {
     "name": "stdout",
     "output_type": "stream",
     "text": [
      "[268]\tvalid_0's tweedie: 3.90811\n"
     ]
    },
    {
     "name": "stdout",
     "output_type": "stream",
     "text": [
      "[269]\tvalid_0's tweedie: 3.90811\n"
     ]
    },
    {
     "name": "stdout",
     "output_type": "stream",
     "text": [
      "[270]\tvalid_0's tweedie: 3.9081\n"
     ]
    },
    {
     "name": "stdout",
     "output_type": "stream",
     "text": [
      "[271]\tvalid_0's tweedie: 3.9081\n"
     ]
    },
    {
     "name": "stdout",
     "output_type": "stream",
     "text": [
      "[272]\tvalid_0's tweedie: 3.9081\n"
     ]
    },
    {
     "name": "stdout",
     "output_type": "stream",
     "text": [
      "[273]\tvalid_0's tweedie: 3.90811\n"
     ]
    },
    {
     "name": "stdout",
     "output_type": "stream",
     "text": [
      "[274]\tvalid_0's tweedie: 3.90811\n"
     ]
    },
    {
     "name": "stdout",
     "output_type": "stream",
     "text": [
      "[275]\tvalid_0's tweedie: 3.90811\n"
     ]
    },
    {
     "name": "stdout",
     "output_type": "stream",
     "text": [
      "[276]\tvalid_0's tweedie: 3.9081\n"
     ]
    },
    {
     "name": "stdout",
     "output_type": "stream",
     "text": [
      "[277]\tvalid_0's tweedie: 3.90808\n"
     ]
    },
    {
     "name": "stdout",
     "output_type": "stream",
     "text": [
      "[278]\tvalid_0's tweedie: 3.9082\n"
     ]
    },
    {
     "name": "stdout",
     "output_type": "stream",
     "text": [
      "[279]\tvalid_0's tweedie: 3.90818\n"
     ]
    },
    {
     "name": "stdout",
     "output_type": "stream",
     "text": [
      "[280]\tvalid_0's tweedie: 3.90817\n"
     ]
    },
    {
     "name": "stdout",
     "output_type": "stream",
     "text": [
      "[281]\tvalid_0's tweedie: 3.90815\n"
     ]
    },
    {
     "name": "stdout",
     "output_type": "stream",
     "text": [
      "[282]\tvalid_0's tweedie: 3.90811\n"
     ]
    },
    {
     "name": "stdout",
     "output_type": "stream",
     "text": [
      "[283]\tvalid_0's tweedie: 3.90807\n"
     ]
    },
    {
     "name": "stdout",
     "output_type": "stream",
     "text": [
      "[284]\tvalid_0's tweedie: 3.90806\n"
     ]
    },
    {
     "name": "stdout",
     "output_type": "stream",
     "text": [
      "[285]\tvalid_0's tweedie: 3.90807\n"
     ]
    },
    {
     "name": "stdout",
     "output_type": "stream",
     "text": [
      "[286]\tvalid_0's tweedie: 3.90808\n"
     ]
    },
    {
     "name": "stdout",
     "output_type": "stream",
     "text": [
      "[287]\tvalid_0's tweedie: 3.90806\n"
     ]
    },
    {
     "name": "stdout",
     "output_type": "stream",
     "text": [
      "[288]\tvalid_0's tweedie: 3.90806\n"
     ]
    },
    {
     "name": "stdout",
     "output_type": "stream",
     "text": [
      "[289]\tvalid_0's tweedie: 3.90805\n"
     ]
    },
    {
     "name": "stdout",
     "output_type": "stream",
     "text": [
      "[290]\tvalid_0's tweedie: 3.90805\n"
     ]
    },
    {
     "name": "stdout",
     "output_type": "stream",
     "text": [
      "[291]\tvalid_0's tweedie: 3.90804\n"
     ]
    },
    {
     "name": "stdout",
     "output_type": "stream",
     "text": [
      "[292]\tvalid_0's tweedie: 3.90805\n"
     ]
    },
    {
     "name": "stdout",
     "output_type": "stream",
     "text": [
      "[293]\tvalid_0's tweedie: 3.90801\n"
     ]
    },
    {
     "name": "stdout",
     "output_type": "stream",
     "text": [
      "[294]\tvalid_0's tweedie: 3.908\n"
     ]
    },
    {
     "name": "stdout",
     "output_type": "stream",
     "text": [
      "[295]\tvalid_0's tweedie: 3.90798\n",
      "Early stopping, best iteration is:\n",
      "[195]\tvalid_0's tweedie: 3.90782\n",
      "Done.\n"
     ]
    }
   ],
   "source": [
    "train(cfg.DATA_DIR, cfg.MODEL_DIR, level, params)"
   ]
  },
  {
   "cell_type": "markdown",
   "id": "e40d6d12-d2da-4317-8bf1-1395e76d2d0c",
   "metadata": {
    "papermill": {
     "duration": 0.04953,
     "end_time": "2021-10-14T00:42:28.156372",
     "exception": false,
     "start_time": "2021-10-14T00:42:28.106842",
     "status": "completed"
    },
    "tags": []
   },
   "source": [
    "## Predict"
   ]
  },
  {
   "cell_type": "code",
   "execution_count": 7,
   "id": "40387698-a478-4d41-90ec-889a8401b7e5",
   "metadata": {
    "execution": {
     "iopub.execute_input": "2021-10-14T00:42:28.255098Z",
     "iopub.status.busy": "2021-10-14T00:42:28.254723Z",
     "iopub.status.idle": "2021-10-14T00:42:31.963958Z",
     "shell.execute_reply": "2021-10-14T00:42:31.963409Z"
    },
    "papermill": {
     "duration": 3.760275,
     "end_time": "2021-10-14T00:42:31.964056",
     "exception": false,
     "start_time": "2021-10-14T00:42:28.203781",
     "status": "completed"
    },
    "tags": []
   },
   "outputs": [
    {
     "data": {
      "text/html": [
       "<div>\n",
       "<style scoped>\n",
       "    .dataframe tbody tr th:only-of-type {\n",
       "        vertical-align: middle;\n",
       "    }\n",
       "\n",
       "    .dataframe tbody tr th {\n",
       "        vertical-align: top;\n",
       "    }\n",
       "\n",
       "    .dataframe thead th {\n",
       "        text-align: right;\n",
       "    }\n",
       "</style>\n",
       "<table border=\"1\" class=\"dataframe\">\n",
       "  <thead>\n",
       "    <tr style=\"text-align: right;\">\n",
       "      <th></th>\n",
       "      <th>item_id</th>\n",
       "      <th>store_id</th>\n",
       "      <th>d</th>\n",
       "      <th>sales</th>\n",
       "      <th>fcst</th>\n",
       "    </tr>\n",
       "  </thead>\n",
       "  <tbody>\n",
       "    <tr>\n",
       "      <th>1885</th>\n",
       "      <td>0</td>\n",
       "      <td>0</td>\n",
       "      <td>1886</td>\n",
       "      <td>2</td>\n",
       "      <td>0.444386</td>\n",
       "    </tr>\n",
       "    <tr>\n",
       "      <th>1886</th>\n",
       "      <td>0</td>\n",
       "      <td>0</td>\n",
       "      <td>1887</td>\n",
       "      <td>1</td>\n",
       "      <td>0.442927</td>\n",
       "    </tr>\n",
       "    <tr>\n",
       "      <th>1887</th>\n",
       "      <td>0</td>\n",
       "      <td>0</td>\n",
       "      <td>1888</td>\n",
       "      <td>1</td>\n",
       "      <td>0.449601</td>\n",
       "    </tr>\n",
       "    <tr>\n",
       "      <th>1888</th>\n",
       "      <td>0</td>\n",
       "      <td>0</td>\n",
       "      <td>1889</td>\n",
       "      <td>0</td>\n",
       "      <td>0.508739</td>\n",
       "    </tr>\n",
       "    <tr>\n",
       "      <th>1889</th>\n",
       "      <td>0</td>\n",
       "      <td>0</td>\n",
       "      <td>1890</td>\n",
       "      <td>4</td>\n",
       "      <td>0.548512</td>\n",
       "    </tr>\n",
       "    <tr>\n",
       "      <th>...</th>\n",
       "      <td>...</td>\n",
       "      <td>...</td>\n",
       "      <td>...</td>\n",
       "      <td>...</td>\n",
       "      <td>...</td>\n",
       "    </tr>\n",
       "    <tr>\n",
       "      <th>45942495</th>\n",
       "      <td>3048</td>\n",
       "      <td>9</td>\n",
       "      <td>1909</td>\n",
       "      <td>0</td>\n",
       "      <td>0.099436</td>\n",
       "    </tr>\n",
       "    <tr>\n",
       "      <th>45942496</th>\n",
       "      <td>3048</td>\n",
       "      <td>9</td>\n",
       "      <td>1910</td>\n",
       "      <td>0</td>\n",
       "      <td>0.089450</td>\n",
       "    </tr>\n",
       "    <tr>\n",
       "      <th>45942497</th>\n",
       "      <td>3048</td>\n",
       "      <td>9</td>\n",
       "      <td>1911</td>\n",
       "      <td>0</td>\n",
       "      <td>0.083703</td>\n",
       "    </tr>\n",
       "    <tr>\n",
       "      <th>45942498</th>\n",
       "      <td>3048</td>\n",
       "      <td>9</td>\n",
       "      <td>1912</td>\n",
       "      <td>0</td>\n",
       "      <td>0.107511</td>\n",
       "    </tr>\n",
       "    <tr>\n",
       "      <th>45942499</th>\n",
       "      <td>3048</td>\n",
       "      <td>9</td>\n",
       "      <td>1913</td>\n",
       "      <td>0</td>\n",
       "      <td>0.118438</td>\n",
       "    </tr>\n",
       "  </tbody>\n",
       "</table>\n",
       "<p>853718 rows × 5 columns</p>\n",
       "</div>"
      ],
      "text/plain": [
       "          item_id  store_id     d  sales      fcst\n",
       "1885            0         0  1886      2  0.444386\n",
       "1886            0         0  1887      1  0.442927\n",
       "1887            0         0  1888      1  0.449601\n",
       "1888            0         0  1889      0  0.508739\n",
       "1889            0         0  1890      4  0.548512\n",
       "...           ...       ...   ...    ...       ...\n",
       "45942495     3048         9  1909      0  0.099436\n",
       "45942496     3048         9  1910      0  0.089450\n",
       "45942497     3048         9  1911      0  0.083703\n",
       "45942498     3048         9  1912      0  0.107511\n",
       "45942499     3048         9  1913      0  0.118438\n",
       "\n",
       "[853718 rows x 5 columns]"
      ]
     },
     "execution_count": 7,
     "metadata": {},
     "output_type": "execute_result"
    }
   ],
   "source": [
    "fcst = predict(cfg.DATA_DIR, cfg.MODEL_DIR, cfg.FCST_DIR, level)\n",
    "fcst"
   ]
  },
  {
   "cell_type": "code",
   "execution_count": 8,
   "id": "2b597f99-2385-4c62-8b50-e15b1d61869c",
   "metadata": {
    "execution": {
     "iopub.execute_input": "2021-10-14T00:42:32.063606Z",
     "iopub.status.busy": "2021-10-14T00:42:32.063271Z",
     "iopub.status.idle": "2021-10-14T00:42:35.355102Z",
     "shell.execute_reply": "2021-10-14T00:42:35.355436Z"
    },
    "papermill": {
     "duration": 3.344469,
     "end_time": "2021-10-14T00:42:35.355555",
     "exception": false,
     "start_time": "2021-10-14T00:42:32.011086",
     "status": "completed"
    },
    "tags": []
   },
   "outputs": [
    {
     "data": {
      "image/png": "[encoded data removed]",
      "text/plain": [
       "<Figure size 1008x288 with 1 Axes>"
      ]
     },
     "metadata": {
      "needs_background": "light"
     },
     "output_type": "display_data"
    }
   ],
   "source": [
    "plot_fcst(cfg.DATA_DIR, cfg.FCST_DIR, level=level)"
   ]
  },
  {
   "cell_type": "markdown",
   "id": "09bfab3b-9cf9-41f0-a340-7c0363b7df0d",
   "metadata": {
    "papermill": {
     "duration": 0.049192,
     "end_time": "2021-10-14T00:42:35.464038",
     "exception": false,
     "start_time": "2021-10-14T00:42:35.414846",
     "status": "completed"
    },
    "tags": []
   },
   "source": [
    "## Evaluate"
   ]
  },
  {
   "cell_type": "code",
   "execution_count": 9,
   "id": "d8b7a2f7-996f-4a76-8adf-c77b27d83b02",
   "metadata": {
    "execution": {
     "iopub.execute_input": "2021-10-14T00:42:35.570354Z",
     "iopub.status.busy": "2021-10-14T00:42:35.570037Z",
     "iopub.status.idle": "2021-10-14T00:42:54.192008Z",
     "shell.execute_reply": "2021-10-14T00:42:54.191745Z"
    },
    "papermill": {
     "duration": 18.67546,
     "end_time": "2021-10-14T00:42:54.192083",
     "exception": false,
     "start_time": "2021-10-14T00:42:35.516623",
     "status": "completed"
    },
    "tags": []
   },
   "outputs": [
    {
     "data": {
      "text/html": [
       "<div>\n",
       "<style scoped>\n",
       "    .dataframe tbody tr th:only-of-type {\n",
       "        vertical-align: middle;\n",
       "    }\n",
       "\n",
       "    .dataframe tbody tr th {\n",
       "        vertical-align: top;\n",
       "    }\n",
       "\n",
       "    .dataframe thead th {\n",
       "        text-align: right;\n",
       "    }\n",
       "</style>\n",
       "<table border=\"1\" class=\"dataframe\">\n",
       "  <thead>\n",
       "    <tr style=\"text-align: right;\">\n",
       "      <th></th>\n",
       "      <th>item_id</th>\n",
       "      <th>store_id</th>\n",
       "      <th>mse_fcst</th>\n",
       "      <th>mse_naive_insample</th>\n",
       "      <th>weights</th>\n",
       "      <th>msse</th>\n",
       "      <th>rmsse</th>\n",
       "      <th>wrmsse</th>\n",
       "    </tr>\n",
       "  </thead>\n",
       "  <tbody>\n",
       "    <tr>\n",
       "      <th>0</th>\n",
       "      <td>0</td>\n",
       "      <td>0</td>\n",
       "      <td>1.988412</td>\n",
       "      <td>2.899682</td>\n",
       "      <td>0.000015</td>\n",
       "      <td>0.685735</td>\n",
       "      <td>0.828091</td>\n",
       "      <td>1.214554e-05</td>\n",
       "    </tr>\n",
       "    <tr>\n",
       "      <th>1</th>\n",
       "      <td>0</td>\n",
       "      <td>1</td>\n",
       "      <td>7.502272</td>\n",
       "      <td>5.586518</td>\n",
       "      <td>0.000017</td>\n",
       "      <td>1.342925</td>\n",
       "      <td>1.158846</td>\n",
       "      <td>1.982949e-05</td>\n",
       "    </tr>\n",
       "    <tr>\n",
       "      <th>2</th>\n",
       "      <td>0</td>\n",
       "      <td>2</td>\n",
       "      <td>6.355793</td>\n",
       "      <td>10.154459</td>\n",
       "      <td>0.000020</td>\n",
       "      <td>0.625912</td>\n",
       "      <td>0.791146</td>\n",
       "      <td>1.547156e-05</td>\n",
       "    </tr>\n",
       "    <tr>\n",
       "      <th>3</th>\n",
       "      <td>0</td>\n",
       "      <td>3</td>\n",
       "      <td>0.413587</td>\n",
       "      <td>1.023367</td>\n",
       "      <td>0.000009</td>\n",
       "      <td>0.404144</td>\n",
       "      <td>0.635723</td>\n",
       "      <td>5.439057e-06</td>\n",
       "    </tr>\n",
       "    <tr>\n",
       "      <th>4</th>\n",
       "      <td>0</td>\n",
       "      <td>4</td>\n",
       "      <td>0.306272</td>\n",
       "      <td>3.511949</td>\n",
       "      <td>0.000010</td>\n",
       "      <td>0.087208</td>\n",
       "      <td>0.295311</td>\n",
       "      <td>3.068004e-06</td>\n",
       "    </tr>\n",
       "    <tr>\n",
       "      <th>...</th>\n",
       "      <td>...</td>\n",
       "      <td>...</td>\n",
       "      <td>...</td>\n",
       "      <td>...</td>\n",
       "      <td>...</td>\n",
       "      <td>...</td>\n",
       "      <td>...</td>\n",
       "      <td>...</td>\n",
       "    </tr>\n",
       "    <tr>\n",
       "      <th>30485</th>\n",
       "      <td>3048</td>\n",
       "      <td>5</td>\n",
       "      <td>0.212468</td>\n",
       "      <td>0.622411</td>\n",
       "      <td>0.000016</td>\n",
       "      <td>0.341363</td>\n",
       "      <td>0.584262</td>\n",
       "      <td>9.468343e-06</td>\n",
       "    </tr>\n",
       "    <tr>\n",
       "      <th>30486</th>\n",
       "      <td>3048</td>\n",
       "      <td>6</td>\n",
       "      <td>0.136353</td>\n",
       "      <td>0.223992</td>\n",
       "      <td>0.000008</td>\n",
       "      <td>0.608741</td>\n",
       "      <td>0.780218</td>\n",
       "      <td>6.321968e-06</td>\n",
       "    </tr>\n",
       "    <tr>\n",
       "      <th>30487</th>\n",
       "      <td>3048</td>\n",
       "      <td>7</td>\n",
       "      <td>0.041832</td>\n",
       "      <td>0.172780</td>\n",
       "      <td>0.000003</td>\n",
       "      <td>0.242110</td>\n",
       "      <td>0.492047</td>\n",
       "      <td>1.594786e-06</td>\n",
       "    </tr>\n",
       "    <tr>\n",
       "      <th>30488</th>\n",
       "      <td>3048</td>\n",
       "      <td>8</td>\n",
       "      <td>0.038144</td>\n",
       "      <td>0.069843</td>\n",
       "      <td>0.000002</td>\n",
       "      <td>0.546134</td>\n",
       "      <td>0.739009</td>\n",
       "      <td>1.197611e-06</td>\n",
       "    </tr>\n",
       "    <tr>\n",
       "      <th>30489</th>\n",
       "      <td>3048</td>\n",
       "      <td>9</td>\n",
       "      <td>0.011452</td>\n",
       "      <td>0.285183</td>\n",
       "      <td>0.000003</td>\n",
       "      <td>0.040157</td>\n",
       "      <td>0.200393</td>\n",
       "      <td>6.494992e-07</td>\n",
       "    </tr>\n",
       "  </tbody>\n",
       "</table>\n",
       "<p>30490 rows × 8 columns</p>\n",
       "</div>"
      ],
      "text/plain": [
       "       item_id  store_id  mse_fcst  mse_naive_insample   weights      msse  \\\n",
       "0            0         0  1.988412            2.899682  0.000015  0.685735   \n",
       "1            0         1  7.502272            5.586518  0.000017  1.342925   \n",
       "2            0         2  6.355793           10.154459  0.000020  0.625912   \n",
       "3            0         3  0.413587            1.023367  0.000009  0.404144   \n",
       "4            0         4  0.306272            3.511949  0.000010  0.087208   \n",
       "...        ...       ...       ...                 ...       ...       ...   \n",
       "30485     3048         5  0.212468            0.622411  0.000016  0.341363   \n",
       "30486     3048         6  0.136353            0.223992  0.000008  0.608741   \n",
       "30487     3048         7  0.041832            0.172780  0.000003  0.242110   \n",
       "30488     3048         8  0.038144            0.069843  0.000002  0.546134   \n",
       "30489     3048         9  0.011452            0.285183  0.000003  0.040157   \n",
       "\n",
       "          rmsse        wrmsse  \n",
       "0      0.828091  1.214554e-05  \n",
       "1      1.158846  1.982949e-05  \n",
       "2      0.791146  1.547156e-05  \n",
       "3      0.635723  5.439057e-06  \n",
       "4      0.295311  3.068004e-06  \n",
       "...         ...           ...  \n",
       "30485  0.584262  9.468343e-06  \n",
       "30486  0.780218  6.321968e-06  \n",
       "30487  0.492047  1.594786e-06  \n",
       "30488  0.739009  1.197611e-06  \n",
       "30489  0.200393  6.494992e-07  \n",
       "\n",
       "[30490 rows x 8 columns]"
      ]
     },
     "execution_count": 9,
     "metadata": {},
     "output_type": "execute_result"
    }
   ],
   "source": [
    "accuracy_df = accuracy(cfg.DATA_DIR, cfg.FCST_DIR, cfg.METRICS_DIR, level)\n",
    "accuracy_df"
   ]
  },
  {
   "cell_type": "code",
   "execution_count": 10,
   "id": "2f7e4bc6-8e33-449a-9853-3cae4192d1ea",
   "metadata": {
    "execution": {
     "iopub.execute_input": "2021-10-14T00:42:54.293831Z",
     "iopub.status.busy": "2021-10-14T00:42:54.293511Z",
     "iopub.status.idle": "2021-10-14T00:42:54.305559Z",
     "shell.execute_reply": "2021-10-14T00:42:54.305322Z"
    },
    "papermill": {
     "duration": 0.064326,
     "end_time": "2021-10-14T00:42:54.305629",
     "exception": false,
     "start_time": "2021-10-14T00:42:54.241303",
     "status": "completed"
    },
    "tags": []
   },
   "outputs": [
    {
     "data": {
      "text/plain": [
       "1.0000002"
      ]
     },
     "execution_count": 10,
     "metadata": {},
     "output_type": "execute_result"
    }
   ],
   "source": [
    "accuracy_df[\"weights\"].sum()"
   ]
  },
  {
   "cell_type": "code",
   "execution_count": 11,
   "id": "a0258800-c530-4b7c-98c5-2274bb70e942",
   "metadata": {
    "execution": {
     "iopub.execute_input": "2021-10-14T00:42:54.404892Z",
     "iopub.status.busy": "2021-10-14T00:42:54.404557Z",
     "iopub.status.idle": "2021-10-14T00:42:54.415240Z",
     "shell.execute_reply": "2021-10-14T00:42:54.415485Z"
    },
    "papermill": {
     "duration": 0.062363,
     "end_time": "2021-10-14T00:42:54.415579",
     "exception": false,
     "start_time": "2021-10-14T00:42:54.353216",
     "status": "completed"
    },
    "tags": []
   },
   "outputs": [
    {
     "data": {
      "text/plain": [
       "0.8576288459527038"
      ]
     },
     "execution_count": 11,
     "metadata": {},
     "output_type": "execute_result"
    }
   ],
   "source": [
    "accuracy_df[\"wrmsse\"].sum()"
   ]
  },
  {
   "cell_type": "markdown",
   "id": "1ceb0cd5-c916-463f-a49b-4377d84f54ee",
   "metadata": {
    "papermill": {
     "duration": 0.048513,
     "end_time": "2021-10-14T00:42:54.511738",
     "exception": false,
     "start_time": "2021-10-14T00:42:54.463225",
     "status": "completed"
    },
    "tags": []
   },
   "source": [
    "## Misc"
   ]
  },
  {
   "cell_type": "code",
   "execution_count": null,
   "id": "475d6cb9-66f8-4102-8e08-349557a780c5",
   "metadata": {
    "papermill": {
     "duration": 0.046493,
     "end_time": "2021-10-14T00:42:54.608531",
     "exception": false,
     "start_time": "2021-10-14T00:42:54.562038",
     "status": "completed"
    },
    "tags": []
   },
   "outputs": [],
   "source": []
  }
 ],
 "metadata": {
  "kernelspec": {
   "display_name": "Python 3 (ipykernel)",
   "language": "python",
   "name": "python3"
  },
  "language_info": {
   "codemirror_mode": {
    "name": "ipython",
    "version": 3
   },
   "file_extension": ".py",
   "mimetype": "text/x-python",
   "name": "python",
   "nbconvert_exporter": "python",
   "pygments_lexer": "ipython3",
   "version": "3.9.7"
  },
  "papermill": {
   "default_parameters": {},
   "duration": 465.789685,
   "end_time": "2021-10-14T00:42:54.970008",
   "environment_variables": {},
   "exception": null,
   "input_path": "/home/ariel/Playground/m5-forecasting/notebooks/forecast.ipynb",
   "output_path": "/home/ariel/Playground/m5-forecasting/notebooks/forecast-12.ipynb",
   "parameters": {
    "level": 12
   },
   "start_time": "2021-10-14T00:35:09.180323",
   "version": "2.3.3"
  }
 },
 "nbformat": 4,
 "nbformat_minor": 5
}