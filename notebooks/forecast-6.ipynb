{
 "cells": [
  {
   "cell_type": "markdown",
   "id": "2e97f892-e21b-412e-9d7c-0401cd572d32",
   "metadata": {
    "papermill": {
     "duration": 0.016173,
     "end_time": "2021-10-14T00:32:12.632882",
     "exception": false,
     "start_time": "2021-10-14T00:32:12.616709",
     "status": "completed"
    },
    "tags": []
   },
   "source": [
    "# Forecast"
   ]
  },
  {
   "cell_type": "markdown",
   "id": "db01a074-52df-475b-a54a-a754b84f2251",
   "metadata": {
    "papermill": {
     "duration": 0.005255,
     "end_time": "2021-10-14T00:32:12.647564",
     "exception": false,
     "start_time": "2021-10-14T00:32:12.642309",
     "status": "completed"
    },
    "tags": []
   },
   "source": [
    "## Setup"
   ]
  },
  {
   "cell_type": "code",
   "execution_count": 1,
   "id": "fb6ab9fc-2b2d-4c69-bccf-13a545604b52",
   "metadata": {
    "execution": {
     "iopub.execute_input": "2021-10-14T00:32:12.665657Z",
     "iopub.status.busy": "2021-10-14T00:32:12.665322Z",
     "iopub.status.idle": "2021-10-14T00:32:12.673187Z",
     "shell.execute_reply": "2021-10-14T00:32:12.673432Z"
    },
    "papermill": {
     "duration": 0.019927,
     "end_time": "2021-10-14T00:32:12.673575",
     "exception": false,
     "start_time": "2021-10-14T00:32:12.653648",
     "status": "completed"
    },
    "tags": []
   },
   "outputs": [],
   "source": [
    "%load_ext autoreload\n",
    "%autoreload 2"
   ]
  },
  {
   "cell_type": "code",
   "execution_count": 2,
   "id": "372f5539-cb1b-4dd8-8d3d-2d9506e3d476",
   "metadata": {
    "execution": {
     "iopub.execute_input": "2021-10-14T00:32:12.687811Z",
     "iopub.status.busy": "2021-10-14T00:32:12.687467Z",
     "iopub.status.idle": "2021-10-14T00:32:13.521196Z",
     "shell.execute_reply": "2021-10-14T00:32:13.521420Z"
    },
    "papermill": {
     "duration": 0.842633,
     "end_time": "2021-10-14T00:32:13.521510",
     "exception": false,
     "start_time": "2021-10-14T00:32:12.678877",
     "status": "completed"
    },
    "tags": []
   },
   "outputs": [],
   "source": [
    "import sys\n",
    "sys.path.append(\"..\")\n",
    "\n",
    "# Libraries\n",
    "import pandas as pd\n",
    "import numpy as np\n",
    "import matplotlib.pyplot as plt\n",
    "\n",
    "import m5.config as cfg\n",
    "from m5.model import train, predict\n",
    "from m5.evaluate import accuracy\n",
    "from m5.plot import plot_fcst\n",
    "\n",
    "# Library settings\n",
    "pd.options.display.max_columns = 999\n",
    "plt.rcParams[\"figure.figsize\"] = (14, 4)"
   ]
  },
  {
   "cell_type": "markdown",
   "id": "d9d6177b-3189-4b70-9542-ca825a007af1",
   "metadata": {
    "papermill": {
     "duration": 0.005785,
     "end_time": "2021-10-14T00:32:13.533857",
     "exception": false,
     "start_time": "2021-10-14T00:32:13.528072",
     "status": "completed"
    },
    "tags": []
   },
   "source": [
    "## Parameters"
   ]
  },
  {
   "cell_type": "code",
   "execution_count": 3,
   "id": "ca52ac99-bbcd-4bdd-9b6c-a8cc8e448eb2",
   "metadata": {
    "execution": {
     "iopub.execute_input": "2021-10-14T00:32:13.549216Z",
     "iopub.status.busy": "2021-10-14T00:32:13.548900Z",
     "iopub.status.idle": "2021-10-14T00:32:13.559760Z",
     "shell.execute_reply": "2021-10-14T00:32:13.560006Z"
    },
    "papermill": {
     "duration": 0.019188,
     "end_time": "2021-10-14T00:32:13.560104",
     "exception": false,
     "start_time": "2021-10-14T00:32:13.540916",
     "status": "completed"
    },
    "tags": [
     "parameters"
    ]
   },
   "outputs": [],
   "source": [
    "level = 1"
   ]
  },
  {
   "cell_type": "code",
   "execution_count": 4,
   "id": "4532a3cd",
   "metadata": {
    "execution": {
     "iopub.execute_input": "2021-10-14T00:32:13.573932Z",
     "iopub.status.busy": "2021-10-14T00:32:13.573616Z",
     "iopub.status.idle": "2021-10-14T00:32:13.583653Z",
     "shell.execute_reply": "2021-10-14T00:32:13.583904Z"
    },
    "papermill": {
     "duration": 0.018396,
     "end_time": "2021-10-14T00:32:13.583997",
     "exception": false,
     "start_time": "2021-10-14T00:32:13.565601",
     "status": "completed"
    },
    "tags": [
     "injected-parameters"
    ]
   },
   "outputs": [],
   "source": [
    "# Parameters\n",
    "level = 6\n"
   ]
  },
  {
   "cell_type": "markdown",
   "id": "5e8ebb71-583a-4cd1-b60e-7006ebc85e82",
   "metadata": {
    "papermill": {
     "duration": 0.005383,
     "end_time": "2021-10-14T00:32:13.594855",
     "exception": false,
     "start_time": "2021-10-14T00:32:13.589472",
     "status": "completed"
    },
    "tags": []
   },
   "source": [
    "## Train"
   ]
  },
  {
   "cell_type": "code",
   "execution_count": 5,
   "id": "a462d470-398d-4f64-927f-7d9a0538508b",
   "metadata": {
    "execution": {
     "iopub.execute_input": "2021-10-14T00:32:13.609983Z",
     "iopub.status.busy": "2021-10-14T00:32:13.609665Z",
     "iopub.status.idle": "2021-10-14T00:32:13.619613Z",
     "shell.execute_reply": "2021-10-14T00:32:13.619902Z"
    },
    "papermill": {
     "duration": 0.019877,
     "end_time": "2021-10-14T00:32:13.619993",
     "exception": false,
     "start_time": "2021-10-14T00:32:13.600116",
     "status": "completed"
    },
    "tags": []
   },
   "outputs": [],
   "source": [
    "params = {\n",
    "    \"task\": \"train\",\n",
    "    \"objective\": \"tweedie\",\n",
    "    \"num_iterations\": 1000,\n",
    "    \"learning_rate\": 0.1,\n",
    "    \"num_leaves\": 31,\n",
    "    \"num_threads\": 4,\n",
    "    \"early_stopping_round\": 100,\n",
    "}"
   ]
  },
  {
   "cell_type": "code",
   "execution_count": 6,
   "id": "1a9cdb58-c9eb-4839-b1c6-5e6d44b4a36a",
   "metadata": {
    "execution": {
     "iopub.execute_input": "2021-10-14T00:32:13.634120Z",
     "iopub.status.busy": "2021-10-14T00:32:13.633631Z",
     "iopub.status.idle": "2021-10-14T00:32:13.946779Z",
     "shell.execute_reply": "2021-10-14T00:32:13.947044Z"
    },
    "papermill": {
     "duration": 0.321645,
     "end_time": "2021-10-14T00:32:13.947151",
     "exception": false,
     "start_time": "2021-10-14T00:32:13.625506",
     "status": "completed"
    },
    "tags": []
   },
   "outputs": [
    {
     "name": "stdout",
     "output_type": "stream",
     "text": [
      "Training model...\n",
      "[LightGBM] [Info] Load from binary file /home/ariel/Playground/m5-forecasting/data/processed/datasets/6/train.bin\n",
      "[LightGBM] [Warning] Auto-choosing col-wise multi-threading, the overhead of testing was 0.001658 seconds.\n",
      "You can set `force_col_wise=true` to remove the overhead.\n",
      "[LightGBM] [Info] Total Bins 5486\n",
      "[LightGBM] [Info] Number of data points in the train set: 16596, number of used features: 27\n",
      "[LightGBM] [Info] Start training from score 8.248794\n",
      "[1]\tvalid_0's tweedie: 271.58\n",
      "Training until validation scores don't improve for 100 rounds\n",
      "[2]\tvalid_0's tweedie: 268.252\n",
      "[3]\tvalid_0's tweedie: 265.47\n",
      "[4]\tvalid_0's tweedie: 263.189\n",
      "[5]\tvalid_0's tweedie: 261.266\n",
      "[6]\tvalid_0's tweedie: 259.715\n",
      "[7]\tvalid_0's tweedie: 258.433\n",
      "[8]\tvalid_0's tweedie: 257.394\n",
      "[9]\tvalid_0's tweedie: 256.52\n",
      "[10]\tvalid_0's tweedie: 255.826\n",
      "[11]\tvalid_0's tweedie: 255.258\n",
      "[12]\tvalid_0's tweedie: 254.784\n",
      "[13]\tvalid_0's tweedie: 254.394\n",
      "[14]\tvalid_0's tweedie: 254.072\n",
      "[15]\tvalid_0's tweedie: 253.808\n",
      "[16]\tvalid_0's tweedie: 253.589\n",
      "[17]\tvalid_0's tweedie: 253.412\n",
      "[18]\tvalid_0's tweedie: 253.265\n",
      "[19]\tvalid_0's tweedie: 253.152\n",
      "[20]\tvalid_0's tweedie: 253.054\n",
      "[21]\tvalid_0's tweedie: 252.976\n",
      "[22]\tvalid_0's tweedie: 252.91\n",
      "[23]\tvalid_0's tweedie: 252.86\n",
      "[24]\tvalid_0's tweedie: 252.817\n",
      "[25]\tvalid_0's tweedie: 252.783\n",
      "[26]\tvalid_0's tweedie: 252.753\n",
      "[27]\tvalid_0's tweedie: 252.719\n",
      "[28]\tvalid_0's tweedie: 252.699\n",
      "[29]\tvalid_0's tweedie: 252.682\n",
      "[30]\tvalid_0's tweedie: 252.672\n",
      "[31]\tvalid_0's tweedie: 252.663\n",
      "[32]\tvalid_0's tweedie: 252.648\n",
      "[33]\tvalid_0's tweedie: 252.641\n",
      "[34]\tvalid_0's tweedie: 252.633\n",
      "[35]\tvalid_0's tweedie: 252.624\n",
      "[36]\tvalid_0's tweedie: 252.616\n",
      "[37]\tvalid_0's tweedie: 252.608\n",
      "[38]\tvalid_0's tweedie: 252.601\n",
      "[39]\tvalid_0's tweedie: 252.599\n",
      "[40]\tvalid_0's tweedie: 252.596\n",
      "[41]\tvalid_0's tweedie: 252.595\n",
      "[42]\tvalid_0's tweedie: 252.595\n",
      "[43]\tvalid_0's tweedie: 252.594\n",
      "[44]\tvalid_0's tweedie: 252.592\n",
      "[45]\tvalid_0's tweedie: 252.593\n",
      "[46]\tvalid_0's tweedie: 252.592\n",
      "[47]\tvalid_0's tweedie: 252.592\n",
      "[48]\tvalid_0's tweedie: 252.591\n",
      "[49]\tvalid_0's tweedie: 252.594\n",
      "[50]\tvalid_0's tweedie: 252.593\n",
      "[51]\tvalid_0's tweedie: 252.593\n",
      "[52]\tvalid_0's tweedie: 252.595\n",
      "[53]\tvalid_0's tweedie: 252.593\n",
      "[54]\tvalid_0's tweedie: 252.593\n",
      "[55]\tvalid_0's tweedie: 252.594\n",
      "[56]\tvalid_0's tweedie: 252.593\n",
      "[57]\tvalid_0's tweedie: 252.591\n",
      "[58]\tvalid_0's tweedie: 252.59\n",
      "[59]\tvalid_0's tweedie: 252.588\n",
      "[60]\tvalid_0's tweedie: 252.589\n",
      "[61]\tvalid_0's tweedie: 252.589\n",
      "[62]\tvalid_0's tweedie: 252.587\n",
      "[63]\tvalid_0's tweedie: 252.587\n",
      "[64]\tvalid_0's tweedie: 252.586\n",
      "[65]\tvalid_0's tweedie: 252.585\n",
      "[66]\tvalid_0's tweedie: 252.585\n",
      "[67]\tvalid_0's tweedie: 252.585\n",
      "[68]\tvalid_0's tweedie: 252.585\n",
      "[69]\tvalid_0's tweedie: 252.585\n",
      "[70]\tvalid_0's tweedie: 252.585\n",
      "[71]\tvalid_0's tweedie: 252.586\n",
      "[72]\tvalid_0's tweedie: 252.586\n",
      "[73]\tvalid_0's tweedie: 252.586\n",
      "[74]\tvalid_0's tweedie: 252.586\n",
      "[75]\tvalid_0's tweedie: 252.586\n",
      "[76]\tvalid_0's tweedie: 252.587\n",
      "[77]\tvalid_0's tweedie: 252.587\n",
      "[78]\tvalid_0's tweedie: 252.587\n",
      "[79]\tvalid_0's tweedie: 252.587\n",
      "[80]\tvalid_0's tweedie: 252.587\n",
      "[81]\tvalid_0's tweedie: 252.587\n",
      "[82]\tvalid_0's tweedie: 252.587\n",
      "[83]\tvalid_0's tweedie: 252.587\n",
      "[84]\tvalid_0's tweedie: 252.587\n",
      "[85]\tvalid_0's tweedie: 252.587\n",
      "[86]\tvalid_0's tweedie: 252.587\n",
      "[87]\tvalid_0's tweedie: 252.587\n",
      "[88]\tvalid_0's tweedie: 252.587\n",
      "[89]\tvalid_0's tweedie: 252.587\n",
      "[90]\tvalid_0's tweedie: 252.587\n",
      "[91]\tvalid_0's tweedie: 252.587\n",
      "[92]\tvalid_0's tweedie: 252.587\n",
      "[93]\tvalid_0's tweedie: 252.587\n",
      "[94]\tvalid_0's tweedie: 252.587\n",
      "[95]\tvalid_0's tweedie: 252.587\n",
      "[96]\tvalid_0's tweedie: 252.587\n",
      "[97]\tvalid_0's tweedie: 252.586\n",
      "[98]\tvalid_0's tweedie: 252.587\n",
      "[99]\tvalid_0's tweedie: 252.586\n",
      "[100]\tvalid_0's tweedie: 252.586\n",
      "[101]\tvalid_0's tweedie: 252.586\n",
      "[102]\tvalid_0's tweedie: 252.585\n",
      "[103]\tvalid_0's tweedie: 252.585\n",
      "[104]\tvalid_0's tweedie: 252.586\n",
      "[105]\tvalid_0's tweedie: 252.586\n",
      "[106]\tvalid_0's tweedie: 252.586\n",
      "[107]\tvalid_0's tweedie: 252.585\n",
      "[108]\tvalid_0's tweedie: 252.585\n",
      "[109]\tvalid_0's tweedie: 252.585\n",
      "[110]\tvalid_0's tweedie: 252.585\n",
      "[111]\tvalid_0's tweedie: 252.584\n",
      "[112]\tvalid_0's tweedie: 252.584\n",
      "[113]\tvalid_0's tweedie: 252.584\n",
      "[114]\tvalid_0's tweedie: 252.584\n",
      "[115]\tvalid_0's tweedie: 252.584\n",
      "[116]\tvalid_0's tweedie: 252.583\n",
      "[117]\tvalid_0's tweedie: 252.583\n",
      "[118]\tvalid_0's tweedie: 252.584\n",
      "[119]\tvalid_0's tweedie: 252.583\n",
      "[120]\tvalid_0's tweedie: 252.583\n",
      "[121]\tvalid_0's tweedie: 252.583\n",
      "[122]\tvalid_0's tweedie: 252.584\n",
      "[123]\tvalid_0's tweedie: 252.584\n",
      "[124]\tvalid_0's tweedie: 252.584\n",
      "[125]\tvalid_0's tweedie: 252.584\n",
      "[126]\tvalid_0's tweedie: 252.584\n",
      "[127]\tvalid_0's tweedie: 252.584\n",
      "[128]\tvalid_0's tweedie: 252.584\n",
      "[129]\tvalid_0's tweedie: 252.584\n",
      "[130]\tvalid_0's tweedie: 252.585\n",
      "[131]\tvalid_0's tweedie: 252.585\n",
      "[132]\tvalid_0's tweedie: 252.584\n",
      "[133]\tvalid_0's tweedie: 252.584\n",
      "[134]\tvalid_0's tweedie: 252.584\n",
      "[135]\tvalid_0's tweedie: 252.585\n",
      "[136]\tvalid_0's tweedie: 252.585\n"
     ]
    },
    {
     "name": "stderr",
     "output_type": "stream",
     "text": [
      "/home/ariel/anaconda3/envs/merlion/lib/python3.9/site-packages/lightgbm/engine.py:148: UserWarning: Found `num_iterations` in params. Will use it instead of argument\n",
      "  _log_warning(\"Found `{}` in params. Will use it instead of argument\".format(alias))\n",
      "/home/ariel/anaconda3/envs/merlion/lib/python3.9/site-packages/lightgbm/engine.py:153: UserWarning: Found `early_stopping_round` in params. Will use it instead of argument\n",
      "  _log_warning(\"Found `{}` in params. Will use it instead of argument\".format(alias))\n"
     ]
    },
    {
     "name": "stdout",
     "output_type": "stream",
     "text": [
      "[137]\tvalid_0's tweedie: 252.585\n",
      "[138]\tvalid_0's tweedie: 252.586\n",
      "[139]\tvalid_0's tweedie: 252.586\n",
      "[140]\tvalid_0's tweedie: 252.586\n",
      "[141]\tvalid_0's tweedie: 252.587\n",
      "[142]\tvalid_0's tweedie: 252.586\n",
      "[143]\tvalid_0's tweedie: 252.586\n",
      "[144]\tvalid_0's tweedie: 252.588\n",
      "[145]\tvalid_0's tweedie: 252.587\n",
      "[146]\tvalid_0's tweedie: 252.587\n",
      "[147]\tvalid_0's tweedie: 252.587\n",
      "[148]\tvalid_0's tweedie: 252.588\n",
      "[149]\tvalid_0's tweedie: 252.588\n",
      "[150]\tvalid_0's tweedie: 252.587\n",
      "[151]\tvalid_0's tweedie: 252.587\n",
      "[152]\tvalid_0's tweedie: 252.587\n",
      "[153]\tvalid_0's tweedie: 252.586\n",
      "[154]\tvalid_0's tweedie: 252.586\n",
      "[155]\tvalid_0's tweedie: 252.586\n",
      "[156]\tvalid_0's tweedie: 252.586\n",
      "[157]\tvalid_0's tweedie: 252.586\n",
      "[158]\tvalid_0's tweedie: 252.586\n",
      "[159]\tvalid_0's tweedie: 252.586\n",
      "[160]\tvalid_0's tweedie: 252.586\n",
      "[161]\tvalid_0's tweedie: 252.586\n",
      "[162]\tvalid_0's tweedie: 252.586\n",
      "[163]\tvalid_0's tweedie: 252.586\n",
      "[164]\tvalid_0's tweedie: 252.586\n",
      "[165]\tvalid_0's tweedie: 252.586\n",
      "[166]\tvalid_0's tweedie: 252.586\n",
      "[167]\tvalid_0's tweedie: 252.586\n",
      "[168]\tvalid_0's tweedie: 252.586\n",
      "[169]\tvalid_0's tweedie: 252.586\n",
      "[170]\tvalid_0's tweedie: 252.585\n",
      "[171]\tvalid_0's tweedie: 252.585\n",
      "[172]\tvalid_0's tweedie: 252.586\n",
      "[173]\tvalid_0's tweedie: 252.586\n",
      "[174]\tvalid_0's tweedie: 252.586\n",
      "[175]\tvalid_0's tweedie: 252.586\n",
      "[176]\tvalid_0's tweedie: 252.586\n",
      "[177]\tvalid_0's tweedie: 252.586\n",
      "[178]\tvalid_0's tweedie: 252.586\n",
      "[179]\tvalid_0's tweedie: 252.585\n",
      "[180]\tvalid_0's tweedie: 252.585\n",
      "[181]\tvalid_0's tweedie: 252.585\n",
      "[182]\tvalid_0's tweedie: 252.586\n",
      "[183]\tvalid_0's tweedie: 252.586\n",
      "[184]\tvalid_0's tweedie: 252.586\n",
      "[185]\tvalid_0's tweedie: 252.586\n",
      "[186]\tvalid_0's tweedie: 252.586\n",
      "[187]\tvalid_0's tweedie: 252.585\n",
      "[188]\tvalid_0's tweedie: 252.586\n",
      "[189]\tvalid_0's tweedie: 252.586\n",
      "[190]\tvalid_0's tweedie: 252.586\n",
      "[191]\tvalid_0's tweedie: 252.586\n",
      "[192]\tvalid_0's tweedie: 252.586\n",
      "[193]\tvalid_0's tweedie: 252.586\n",
      "[194]\tvalid_0's tweedie: 252.586\n",
      "[195]\tvalid_0's tweedie: 252.587\n",
      "[196]\tvalid_0's tweedie: 252.587\n",
      "[197]\tvalid_0's tweedie: 252.587\n",
      "[198]\tvalid_0's tweedie: 252.587\n",
      "[199]\tvalid_0's tweedie: 252.587\n",
      "[200]\tvalid_0's tweedie: 252.587\n",
      "[201]\tvalid_0's tweedie: 252.587\n",
      "[202]\tvalid_0's tweedie: 252.587\n",
      "[203]\tvalid_0's tweedie: 252.587\n",
      "[204]\tvalid_0's tweedie: 252.588\n",
      "[205]\tvalid_0's tweedie: 252.588\n",
      "[206]\tvalid_0's tweedie: 252.588\n",
      "[207]\tvalid_0's tweedie: 252.588\n",
      "[208]\tvalid_0's tweedie: 252.588\n",
      "[209]\tvalid_0's tweedie: 252.588\n",
      "[210]\tvalid_0's tweedie: 252.588\n",
      "[211]\tvalid_0's tweedie: 252.588\n",
      "[212]\tvalid_0's tweedie: 252.588\n",
      "[213]\tvalid_0's tweedie: 252.588\n",
      "[214]\tvalid_0's tweedie: 252.589\n",
      "[215]\tvalid_0's tweedie: 252.589\n",
      "[216]\tvalid_0's tweedie: 252.589\n",
      "Early stopping, best iteration is:\n",
      "[116]\tvalid_0's tweedie: 252.583\n",
      "Done.\n"
     ]
    }
   ],
   "source": [
    "train(cfg.DATA_DIR, cfg.MODEL_DIR, level, params)"
   ]
  },
  {
   "cell_type": "markdown",
   "id": "e40d6d12-d2da-4317-8bf1-1395e76d2d0c",
   "metadata": {
    "papermill": {
     "duration": 0.006563,
     "end_time": "2021-10-14T00:32:13.960331",
     "exception": false,
     "start_time": "2021-10-14T00:32:13.953768",
     "status": "completed"
    },
    "tags": []
   },
   "source": [
    "## Predict"
   ]
  },
  {
   "cell_type": "code",
   "execution_count": 7,
   "id": "40387698-a478-4d41-90ec-889a8401b7e5",
   "metadata": {
    "execution": {
     "iopub.execute_input": "2021-10-14T00:32:13.977415Z",
     "iopub.status.busy": "2021-10-14T00:32:13.977101Z",
     "iopub.status.idle": "2021-10-14T00:32:14.019801Z",
     "shell.execute_reply": "2021-10-14T00:32:14.019482Z"
    },
    "papermill": {
     "duration": 0.053279,
     "end_time": "2021-10-14T00:32:14.019878",
     "exception": false,
     "start_time": "2021-10-14T00:32:13.966599",
     "status": "completed"
    },
    "tags": []
   },
   "outputs": [
    {
     "data": {
      "text/html": [
       "<div>\n",
       "<style scoped>\n",
       "    .dataframe tbody tr th:only-of-type {\n",
       "        vertical-align: middle;\n",
       "    }\n",
       "\n",
       "    .dataframe tbody tr th {\n",
       "        vertical-align: top;\n",
       "    }\n",
       "\n",
       "    .dataframe thead th {\n",
       "        text-align: right;\n",
       "    }\n",
       "</style>\n",
       "<table border=\"1\" class=\"dataframe\">\n",
       "  <thead>\n",
       "    <tr style=\"text-align: right;\">\n",
       "      <th></th>\n",
       "      <th>state_id</th>\n",
       "      <th>cat_id</th>\n",
       "      <th>d</th>\n",
       "      <th>sales</th>\n",
       "      <th>fcst</th>\n",
       "    </tr>\n",
       "  </thead>\n",
       "  <tbody>\n",
       "    <tr>\n",
       "      <th>16965</th>\n",
       "      <td>0</td>\n",
       "      <td>0</td>\n",
       "      <td>1886</td>\n",
       "      <td>9821</td>\n",
       "      <td>10545.156941</td>\n",
       "    </tr>\n",
       "    <tr>\n",
       "      <th>16974</th>\n",
       "      <td>0</td>\n",
       "      <td>0</td>\n",
       "      <td>1887</td>\n",
       "      <td>9845</td>\n",
       "      <td>9958.782761</td>\n",
       "    </tr>\n",
       "    <tr>\n",
       "      <th>16983</th>\n",
       "      <td>0</td>\n",
       "      <td>0</td>\n",
       "      <td>1888</td>\n",
       "      <td>9165</td>\n",
       "      <td>9886.227404</td>\n",
       "    </tr>\n",
       "    <tr>\n",
       "      <th>16992</th>\n",
       "      <td>0</td>\n",
       "      <td>0</td>\n",
       "      <td>1889</td>\n",
       "      <td>9941</td>\n",
       "      <td>10071.501463</td>\n",
       "    </tr>\n",
       "    <tr>\n",
       "      <th>17001</th>\n",
       "      <td>0</td>\n",
       "      <td>0</td>\n",
       "      <td>1890</td>\n",
       "      <td>11891</td>\n",
       "      <td>11203.123720</td>\n",
       "    </tr>\n",
       "    <tr>\n",
       "      <th>...</th>\n",
       "      <td>...</td>\n",
       "      <td>...</td>\n",
       "      <td>...</td>\n",
       "      <td>...</td>\n",
       "      <td>...</td>\n",
       "    </tr>\n",
       "    <tr>\n",
       "      <th>17180</th>\n",
       "      <td>2</td>\n",
       "      <td>2</td>\n",
       "      <td>1909</td>\n",
       "      <td>2222</td>\n",
       "      <td>1879.222338</td>\n",
       "    </tr>\n",
       "    <tr>\n",
       "      <th>17189</th>\n",
       "      <td>2</td>\n",
       "      <td>2</td>\n",
       "      <td>1910</td>\n",
       "      <td>2391</td>\n",
       "      <td>1894.819166</td>\n",
       "    </tr>\n",
       "    <tr>\n",
       "      <th>17198</th>\n",
       "      <td>2</td>\n",
       "      <td>2</td>\n",
       "      <td>1911</td>\n",
       "      <td>2919</td>\n",
       "      <td>2756.429765</td>\n",
       "    </tr>\n",
       "    <tr>\n",
       "      <th>17207</th>\n",
       "      <td>2</td>\n",
       "      <td>2</td>\n",
       "      <td>1912</td>\n",
       "      <td>3431</td>\n",
       "      <td>3170.915243</td>\n",
       "    </tr>\n",
       "    <tr>\n",
       "      <th>17216</th>\n",
       "      <td>2</td>\n",
       "      <td>2</td>\n",
       "      <td>1913</td>\n",
       "      <td>3183</td>\n",
       "      <td>2503.382997</td>\n",
       "    </tr>\n",
       "  </tbody>\n",
       "</table>\n",
       "<p>252 rows × 5 columns</p>\n",
       "</div>"
      ],
      "text/plain": [
       "       state_id  cat_id     d  sales          fcst\n",
       "16965         0       0  1886   9821  10545.156941\n",
       "16974         0       0  1887   9845   9958.782761\n",
       "16983         0       0  1888   9165   9886.227404\n",
       "16992         0       0  1889   9941  10071.501463\n",
       "17001         0       0  1890  11891  11203.123720\n",
       "...         ...     ...   ...    ...           ...\n",
       "17180         2       2  1909   2222   1879.222338\n",
       "17189         2       2  1910   2391   1894.819166\n",
       "17198         2       2  1911   2919   2756.429765\n",
       "17207         2       2  1912   3431   3170.915243\n",
       "17216         2       2  1913   3183   2503.382997\n",
       "\n",
       "[252 rows x 5 columns]"
      ]
     },
     "execution_count": 7,
     "metadata": {},
     "output_type": "execute_result"
    }
   ],
   "source": [
    "fcst = predict(cfg.DATA_DIR, cfg.MODEL_DIR, cfg.FCST_DIR, level)\n",
    "fcst"
   ]
  },
  {
   "cell_type": "code",
   "execution_count": 8,
   "id": "2b597f99-2385-4c62-8b50-e15b1d61869c",
   "metadata": {
    "execution": {
     "iopub.execute_input": "2021-10-14T00:32:14.035725Z",
     "iopub.status.busy": "2021-10-14T00:32:14.035253Z",
     "iopub.status.idle": "2021-10-14T00:32:14.194280Z",
     "shell.execute_reply": "2021-10-14T00:32:14.193966Z"
    },
    "papermill": {
     "duration": 0.167856,
     "end_time": "2021-10-14T00:32:14.194354",
     "exception": false,
     "start_time": "2021-10-14T00:32:14.026498",
     "status": "completed"
    },
    "tags": []
   },
   "outputs": [
    {
     "data": {
      "image/png": "[encoded data removed]",
      "text/plain": [
       "<Figure size 1008x288 with 1 Axes>"
      ]
     },
     "metadata": {
      "needs_background": "light"
     },
     "output_type": "display_data"
    }
   ],
   "source": [
    "plot_fcst(cfg.DATA_DIR, cfg.FCST_DIR, level=level)"
   ]
  },
  {
   "cell_type": "markdown",
   "id": "09bfab3b-9cf9-41f0-a340-7c0363b7df0d",
   "metadata": {
    "papermill": {
     "duration": 0.00777,
     "end_time": "2021-10-14T00:32:14.209805",
     "exception": false,
     "start_time": "2021-10-14T00:32:14.202035",
     "status": "completed"
    },
    "tags": []
   },
   "source": [
    "## Evaluate"
   ]
  },
  {
   "cell_type": "code",
   "execution_count": 9,
   "id": "d8b7a2f7-996f-4a76-8adf-c77b27d83b02",
   "metadata": {
    "execution": {
     "iopub.execute_input": "2021-10-14T00:32:14.229172Z",
     "iopub.status.busy": "2021-10-14T00:32:14.228735Z",
     "iopub.status.idle": "2021-10-14T00:32:14.270953Z",
     "shell.execute_reply": "2021-10-14T00:32:14.271202Z"
    },
    "papermill": {
     "duration": 0.053936,
     "end_time": "2021-10-14T00:32:14.271297",
     "exception": false,
     "start_time": "2021-10-14T00:32:14.217361",
     "status": "completed"
    },
    "tags": []
   },
   "outputs": [
    {
     "data": {
      "text/html": [
       "<div>\n",
       "<style scoped>\n",
       "    .dataframe tbody tr th:only-of-type {\n",
       "        vertical-align: middle;\n",
       "    }\n",
       "\n",
       "    .dataframe tbody tr th {\n",
       "        vertical-align: top;\n",
       "    }\n",
       "\n",
       "    .dataframe thead th {\n",
       "        text-align: right;\n",
       "    }\n",
       "</style>\n",
       "<table border=\"1\" class=\"dataframe\">\n",
       "  <thead>\n",
       "    <tr style=\"text-align: right;\">\n",
       "      <th></th>\n",
       "      <th>state_id</th>\n",
       "      <th>cat_id</th>\n",
       "      <th>mse_fcst</th>\n",
       "      <th>mse_naive_insample</th>\n",
       "      <th>weights</th>\n",
       "      <th>msse</th>\n",
       "      <th>rmsse</th>\n",
       "      <th>wrmsse</th>\n",
       "    </tr>\n",
       "  </thead>\n",
       "  <tbody>\n",
       "    <tr>\n",
       "      <th>0</th>\n",
       "      <td>0</td>\n",
       "      <td>0</td>\n",
       "      <td>468468.453414</td>\n",
       "      <td>3.205337e+06</td>\n",
       "      <td>0.237349</td>\n",
       "      <td>0.146153</td>\n",
       "      <td>0.382299</td>\n",
       "      <td>0.090738</td>\n",
       "    </tr>\n",
       "    <tr>\n",
       "      <th>1</th>\n",
       "      <td>0</td>\n",
       "      <td>1</td>\n",
       "      <td>42703.132025</td>\n",
       "      <td>9.280698e+04</td>\n",
       "      <td>0.059405</td>\n",
       "      <td>0.460128</td>\n",
       "      <td>0.678328</td>\n",
       "      <td>0.040296</td>\n",
       "    </tr>\n",
       "    <tr>\n",
       "      <th>2</th>\n",
       "      <td>0</td>\n",
       "      <td>2</td>\n",
       "      <td>130879.993132</td>\n",
       "      <td>5.251645e+05</td>\n",
       "      <td>0.136996</td>\n",
       "      <td>0.249217</td>\n",
       "      <td>0.499217</td>\n",
       "      <td>0.068391</td>\n",
       "    </tr>\n",
       "    <tr>\n",
       "      <th>3</th>\n",
       "      <td>1</td>\n",
       "      <td>0</td>\n",
       "      <td>156507.014899</td>\n",
       "      <td>1.706684e+06</td>\n",
       "      <td>0.147692</td>\n",
       "      <td>0.091702</td>\n",
       "      <td>0.302824</td>\n",
       "      <td>0.044725</td>\n",
       "    </tr>\n",
       "    <tr>\n",
       "      <th>4</th>\n",
       "      <td>1</td>\n",
       "      <td>1</td>\n",
       "      <td>20643.844089</td>\n",
       "      <td>3.198486e+04</td>\n",
       "      <td>0.041424</td>\n",
       "      <td>0.645425</td>\n",
       "      <td>0.803384</td>\n",
       "      <td>0.033279</td>\n",
       "    </tr>\n",
       "    <tr>\n",
       "      <th>5</th>\n",
       "      <td>1</td>\n",
       "      <td>2</td>\n",
       "      <td>49235.738944</td>\n",
       "      <td>2.112258e+05</td>\n",
       "      <td>0.090253</td>\n",
       "      <td>0.233095</td>\n",
       "      <td>0.482799</td>\n",
       "      <td>0.043574</td>\n",
       "    </tr>\n",
       "    <tr>\n",
       "      <th>6</th>\n",
       "      <td>2</td>\n",
       "      <td>0</td>\n",
       "      <td>704940.589278</td>\n",
       "      <td>2.059258e+06</td>\n",
       "      <td>0.184660</td>\n",
       "      <td>0.342327</td>\n",
       "      <td>0.585088</td>\n",
       "      <td>0.108042</td>\n",
       "    </tr>\n",
       "    <tr>\n",
       "      <th>7</th>\n",
       "      <td>2</td>\n",
       "      <td>1</td>\n",
       "      <td>15113.799194</td>\n",
       "      <td>4.486487e+04</td>\n",
       "      <td>0.027841</td>\n",
       "      <td>0.336874</td>\n",
       "      <td>0.580408</td>\n",
       "      <td>0.016159</td>\n",
       "    </tr>\n",
       "    <tr>\n",
       "      <th>8</th>\n",
       "      <td>2</td>\n",
       "      <td>2</td>\n",
       "      <td>125781.518274</td>\n",
       "      <td>2.020229e+05</td>\n",
       "      <td>0.074380</td>\n",
       "      <td>0.622610</td>\n",
       "      <td>0.789057</td>\n",
       "      <td>0.058690</td>\n",
       "    </tr>\n",
       "  </tbody>\n",
       "</table>\n",
       "</div>"
      ],
      "text/plain": [
       "   state_id  cat_id       mse_fcst  mse_naive_insample   weights      msse  \\\n",
       "0         0       0  468468.453414        3.205337e+06  0.237349  0.146153   \n",
       "1         0       1   42703.132025        9.280698e+04  0.059405  0.460128   \n",
       "2         0       2  130879.993132        5.251645e+05  0.136996  0.249217   \n",
       "3         1       0  156507.014899        1.706684e+06  0.147692  0.091702   \n",
       "4         1       1   20643.844089        3.198486e+04  0.041424  0.645425   \n",
       "5         1       2   49235.738944        2.112258e+05  0.090253  0.233095   \n",
       "6         2       0  704940.589278        2.059258e+06  0.184660  0.342327   \n",
       "7         2       1   15113.799194        4.486487e+04  0.027841  0.336874   \n",
       "8         2       2  125781.518274        2.020229e+05  0.074380  0.622610   \n",
       "\n",
       "      rmsse    wrmsse  \n",
       "0  0.382299  0.090738  \n",
       "1  0.678328  0.040296  \n",
       "2  0.499217  0.068391  \n",
       "3  0.302824  0.044725  \n",
       "4  0.803384  0.033279  \n",
       "5  0.482799  0.043574  \n",
       "6  0.585088  0.108042  \n",
       "7  0.580408  0.016159  \n",
       "8  0.789057  0.058690  "
      ]
     },
     "execution_count": 9,
     "metadata": {},
     "output_type": "execute_result"
    }
   ],
   "source": [
    "accuracy_df = accuracy(cfg.DATA_DIR, cfg.FCST_DIR, cfg.METRICS_DIR, level)\n",
    "accuracy_df"
   ]
  },
  {
   "cell_type": "code",
   "execution_count": 10,
   "id": "2f7e4bc6-8e33-449a-9853-3cae4192d1ea",
   "metadata": {
    "execution": {
     "iopub.execute_input": "2021-10-14T00:32:14.289351Z",
     "iopub.status.busy": "2021-10-14T00:32:14.289039Z",
     "iopub.status.idle": "2021-10-14T00:32:14.300349Z",
     "shell.execute_reply": "2021-10-14T00:32:14.300055Z"
    },
    "papermill": {
     "duration": 0.021558,
     "end_time": "2021-10-14T00:32:14.300423",
     "exception": false,
     "start_time": "2021-10-14T00:32:14.278865",
     "status": "completed"
    },
    "tags": []
   },
   "outputs": [
    {
     "data": {
      "text/plain": [
       "1.0"
      ]
     },
     "execution_count": 10,
     "metadata": {},
     "output_type": "execute_result"
    }
   ],
   "source": [
    "accuracy_df[\"weights\"].sum()"
   ]
  },
  {
   "cell_type": "code",
   "execution_count": 11,
   "id": "a0258800-c530-4b7c-98c5-2274bb70e942",
   "metadata": {
    "execution": {
     "iopub.execute_input": "2021-10-14T00:32:14.319683Z",
     "iopub.status.busy": "2021-10-14T00:32:14.318733Z",
     "iopub.status.idle": "2021-10-14T00:32:14.332567Z",
     "shell.execute_reply": "2021-10-14T00:32:14.332790Z"
    },
    "papermill": {
     "duration": 0.024103,
     "end_time": "2021-10-14T00:32:14.332877",
     "exception": false,
     "start_time": "2021-10-14T00:32:14.308774",
     "status": "completed"
    },
    "tags": []
   },
   "outputs": [
    {
     "data": {
      "text/plain": [
       "0.5038944947623248"
      ]
     },
     "execution_count": 11,
     "metadata": {},
     "output_type": "execute_result"
    }
   ],
   "source": [
    "accuracy_df[\"wrmsse\"].sum()"
   ]
  },
  {
   "cell_type": "markdown",
   "id": "1ceb0cd5-c916-463f-a49b-4377d84f54ee",
   "metadata": {
    "papermill": {
     "duration": 0.008536,
     "end_time": "2021-10-14T00:32:14.350323",
     "exception": false,
     "start_time": "2021-10-14T00:32:14.341787",
     "status": "completed"
    },
    "tags": []
   },
   "source": [
    "## Misc"
   ]
  },
  {
   "cell_type": "code",
   "execution_count": null,
   "id": "475d6cb9-66f8-4102-8e08-349557a780c5",
   "metadata": {
    "papermill": {
     "duration": 0.007784,
     "end_time": "2021-10-14T00:32:14.366405",
     "exception": false,
     "start_time": "2021-10-14T00:32:14.358621",
     "status": "completed"
    },
    "tags": []
   },
   "outputs": [],
   "source": []
  }
 ],
 "metadata": {
  "kernelspec": {
   "display_name": "Python 3 (ipykernel)",
   "language": "python",
   "name": "python3"
  },
  "language_info": {
   "codemirror_mode": {
    "name": "ipython",
    "version": 3
   },
   "file_extension": ".py",
   "mimetype": "text/x-python",
   "name": "python",
   "nbconvert_exporter": "python",
   "pygments_lexer": "ipython3",
   "version": "3.9.7"
  },
  "papermill": {
   "default_parameters": {},
   "duration": 2.862003,
   "end_time": "2021-10-14T00:32:14.681670",
   "environment_variables": {},
   "exception": null,
   "input_path": "/home/ariel/Playground/m5-forecasting/notebooks/forecast.ipynb",
   "output_path": "/home/ariel/Playground/m5-forecasting/notebooks/forecast-6.ipynb",
   "parameters": {
    "level": 6
   },
   "start_time": "2021-10-14T00:32:11.819667",
   "version": "2.3.3"
  }
 },
 "nbformat": 4,
 "nbformat_minor": 5
}