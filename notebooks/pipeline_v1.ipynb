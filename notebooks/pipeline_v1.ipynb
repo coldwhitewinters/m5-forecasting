{
 "cells": [
  {
   "cell_type": "markdown",
   "id": "cf67e8b4-3f43-437a-afb3-d666def58e02",
   "metadata": {},
   "source": [
    "# Forecast"
   ]
  },
  {
   "cell_type": "markdown",
   "id": "db01a074-52df-475b-a54a-a754b84f2251",
   "metadata": {
    "tags": []
   },
   "source": [
    "## Setup"
   ]
  },
  {
   "cell_type": "code",
   "execution_count": null,
   "id": "372f5539-cb1b-4dd8-8d3d-2d9506e3d476",
   "metadata": {},
   "outputs": [],
   "source": [
    "import sys\n",
    "sys.path.append(\"..\")\n",
    "\n",
    "# Libraries\n",
    "import pandas as pd\n",
    "import numpy as np\n",
    "import matplotlib.pyplot as plt\n",
    "import plotly.express as px\n",
    "import scipy as sp\n",
    "\n",
    "from statsforecast import StatsForecast\n",
    "from statsforecast.models import AutoARIMA, ETS, Naive\n",
    "\n",
    "from pathlib import Path\n",
    "from joblib import Parallel, delayed\n",
    "from itertools import product\n",
    "from tqdm import tqdm\n",
    "\n",
    "# Library settings\n",
    "pd.options.display.max_columns = 999\n",
    "plt.rcParams[\"figure.figsize\"] = (16, 4)\n"
   ]
  },
  {
   "cell_type": "markdown",
   "id": "c63dc17a",
   "metadata": {},
   "source": [
    "## Prepare data"
   ]
  },
  {
   "cell_type": "code",
   "execution_count": null,
   "id": "070aeae0",
   "metadata": {},
   "outputs": [],
   "source": [
    "sales = pd.read_csv(\"../data/sales_train_evaluation.csv\")\n",
    "sales.head()\n"
   ]
  },
  {
   "cell_type": "code",
   "execution_count": null,
   "id": "4102cffa",
   "metadata": {},
   "outputs": [],
   "source": [
    "calendar = pd.read_csv(\"../data/calendar.csv\", parse_dates=[\"date\"])\n",
    "calendar.head()"
   ]
  },
  {
   "cell_type": "code",
   "execution_count": null,
   "id": "9a56482b",
   "metadata": {},
   "outputs": [],
   "source": [
    "sell_prices = pd.read_csv(\"../data/sell_prices.csv\")\n",
    "sell_prices.head()"
   ]
  },
  {
   "cell_type": "code",
   "execution_count": null,
   "id": "a3c50e10",
   "metadata": {},
   "outputs": [],
   "source": [
    "def prepare_data(sales, calendar, sell_prices, freq=None):\n",
    "    Path(\"../data/processed\").mkdir(exist_ok=True)\n",
    "\n",
    "    hierarchy_df = sales.iloc[:, 1:6].copy()\n",
    "    df = sales.drop(columns=[\"id\", \"dept_id\", \"cat_id\", \"state_id\"])\n",
    "    df = df.reset_index().rename(columns={\"index\": \"unique_id\"})\n",
    "    df_long = pd.melt(df, id_vars=df.columns[:3], var_name=\"d\", value_name=\"sales\")\n",
    "    df_long = df_long.merge(calendar[[\"date\", \"d\", \"wm_yr_wk\"]], on=\"d\", how=\"left\")\n",
    "    df_long = df_long.merge(sell_prices, on=[\"item_id\", \"store_id\", \"wm_yr_wk\"], how=\"left\")\n",
    "    df_long[\"dollar_sales\"] = df_long[\"sales\"] * df_long[\"sell_price\"]\n",
    "    df_long.loc[df_long.sales == 0, \"dollar_sales\"] = 0\n",
    "    df_long[\"d\"] = df_long[\"d\"].str[2:].astype(\"int\")\n",
    "    df = pd.pivot_table(df_long, values=[\"sales\", \"dollar_sales\"], index=[\"date\"], columns=[\"unique_id\"])\n",
    "\n",
    "    if freq is not None:\n",
    "        df = df.resample(freq).sum()\n",
    "\n",
    "    bts_df = df[\"sales\"].reset_index()\n",
    "    bts_df.columns = bts_df.columns.astype(\"str\")\n",
    "\n",
    "    bts_dollar_df = df[\"dollar_sales\"].reset_index()\n",
    "    bts_dollar_df.columns = bts_dollar_df.columns.astype(\"str\")\n",
    "\n",
    "    filepath = Path(\"../data/processed/bts.csv\")\n",
    "    bts_df.to_csv(filepath, index=False)\n",
    "    print(f\"Data written to {filepath}\")\n",
    "    \n",
    "    filepath = Path(\"../data/processed/bts_dollar.csv\")\n",
    "    bts_dollar_df.to_csv(filepath, index=False)\n",
    "    print(f\"Data written to {filepath}\")\n",
    "\n",
    "    filepath = Path(\"../data/processed/hierarchy.csv\")\n",
    "    hierarchy_df.to_csv(filepath, index=False)\n",
    "    print(f\"Data written to {filepath}\")\n",
    "    \n",
    "    return bts_df, bts_dollar_df, hierarchy_df"
   ]
  },
  {
   "cell_type": "code",
   "execution_count": null,
   "id": "d9f4e0d6",
   "metadata": {},
   "outputs": [],
   "source": [
    "bts_df, bts_dollar_df, hierarchy_df = prepare_data(sales, calendar, sell_prices, freq=\"MS\")"
   ]
  },
  {
   "cell_type": "code",
   "execution_count": null,
   "id": "ca922ed9",
   "metadata": {},
   "outputs": [],
   "source": [
    "bts_df"
   ]
  },
  {
   "cell_type": "code",
   "execution_count": null,
   "id": "232a6ed4",
   "metadata": {},
   "outputs": [],
   "source": [
    "bts_dollar_df"
   ]
  },
  {
   "cell_type": "code",
   "execution_count": null,
   "id": "edeecc4a",
   "metadata": {},
   "outputs": [],
   "source": [
    "hierarchy_df"
   ]
  },
  {
   "cell_type": "markdown",
   "id": "b88584e4",
   "metadata": {},
   "source": [
    "## Build S matrix"
   ]
  },
  {
   "cell_type": "code",
   "execution_count": null,
   "id": "373bfd31",
   "metadata": {},
   "outputs": [],
   "source": [
    "# hierarchy_df = pd.read_csv(\"../data/processed/hierarchy.csv\")"
   ]
  },
  {
   "cell_type": "code",
   "execution_count": null,
   "id": "bdc0d422",
   "metadata": {},
   "outputs": [],
   "source": [
    "agg_levels = (\n",
    "    tuple([\"TOTAL\"]),\n",
    "    tuple(['state_id']),\n",
    "    tuple(['store_id']),\n",
    "    tuple(['cat_id']),\n",
    "    tuple(['dept_id']),\n",
    "    tuple(['state_id', 'cat_id']),\n",
    "    tuple(['state_id', 'dept_id']),\n",
    "    tuple(['store_id', 'cat_id']),\n",
    "    tuple(['store_id', 'dept_id']),\n",
    "    tuple(['item_id']),\n",
    "    tuple(['item_id', 'state_id']),\n",
    "    tuple(['item_id', 'store_id']),\n",
    ")"
   ]
  },
  {
   "cell_type": "code",
   "execution_count": null,
   "id": "f442384d",
   "metadata": {},
   "outputs": [],
   "source": [
    "def generate_Smatrix(hierarchy_df, agg_levels, sparse=True):\n",
    "    arr = np.array\n",
    "    eye = np.eye\n",
    "    stack = np.row_stack\n",
    "    \n",
    "    if sparse:\n",
    "        arr = sp.sparse.csr_array\n",
    "        eye = sp.sparse.eye\n",
    "        stack = sp.sparse.vstack\n",
    "\n",
    "    def build_row(hierarchy_df, level, comb):\n",
    "        row = (hierarchy_df.loc[:, level] == comb).apply(lambda x: all(x), axis=1).astype(\"int16\")\n",
    "        return row\n",
    "    \n",
    "    top_row = np.ones(len(hierarchy_df))\n",
    "    S_rows = [top_row]\n",
    "\n",
    "    for level in agg_levels[1:-1]:\n",
    "        print(level)\n",
    "        combinations = hierarchy_df.loc[:, level].drop_duplicates().to_numpy()\n",
    "        rows = Parallel(n_jobs=8)(\n",
    "            delayed(build_row)(hierarchy_df, level, comb) for comb in combinations\n",
    "        )\n",
    "        S_rows.extend(rows)\n",
    "\n",
    "    S_top = arr(S_rows)\n",
    "    S_bottom = eye(len(hierarchy_df))\n",
    "    S_arr = stack([S_top, S_bottom])\n",
    "    \n",
    "    filepath = Path(\"../data/processed/S_arr.npz\")\n",
    "    sp.sparse.save_npz(filepath, S_arr)\n",
    "    print(f\"Data written to {filepath}\")\n",
    "    return S_arr"
   ]
  },
  {
   "cell_type": "code",
   "execution_count": null,
   "id": "40aa796c",
   "metadata": {},
   "outputs": [],
   "source": [
    "S_arr = generate_Smatrix(hierarchy_df, agg_levels)"
   ]
  },
  {
   "cell_type": "code",
   "execution_count": null,
   "id": "dbeafd7d",
   "metadata": {},
   "outputs": [],
   "source": [
    "S_arr.shape"
   ]
  },
  {
   "cell_type": "markdown",
   "id": "e087ac4e",
   "metadata": {},
   "source": [
    "## Generate all the timeseries from the hierarchy"
   ]
  },
  {
   "cell_type": "code",
   "execution_count": null,
   "id": "1e6674d7",
   "metadata": {},
   "outputs": [],
   "source": [
    "bts_df = pd.read_csv(\"../data/processed/bts.csv\", parse_dates=[\"date\"])\n",
    "bts_dollar_df = pd.read_csv(\"../data/processed/bts_dollar.csv\", parse_dates=[\"date\"])\n",
    "S_arr = sp.sparse.load_npz(\"../data/processed/S_arr.npz\")"
   ]
  },
  {
   "cell_type": "code",
   "execution_count": null,
   "id": "c0f118df",
   "metadata": {},
   "outputs": [],
   "source": [
    "def generate_yts(S_arr, bts_df):\n",
    "    bts_arr = bts_df.set_index(\"date\").to_numpy()\n",
    "    yts_arr = S_arr @ bts_arr.T\n",
    "    yts_df = pd.DataFrame(yts_arr.T)\n",
    "    yts_df.insert(0, \"date\", bts_df[\"date\"])\n",
    "    return yts_df\n",
    "\n",
    "yts_df = generate_yts(S_arr, bts_df)\n",
    "yts_dollar_df = generate_yts(S_arr, bts_dollar_df)\n",
    "\n",
    "filepath = Path(\"../data/processed/yts.csv\")\n",
    "yts_df.to_csv(filepath, index=False)\n",
    "print(f\"Data written to {filepath}\")\n",
    "\n",
    "filepath = Path(\"../data/processed/yts_dollar.csv\")\n",
    "yts_dollar_df.to_csv(filepath, index=False)\n",
    "print(f\"Data written to {filepath}\")"
   ]
  },
  {
   "cell_type": "code",
   "execution_count": null,
   "id": "7529c5e1",
   "metadata": {},
   "outputs": [],
   "source": [
    "yts_df"
   ]
  },
  {
   "cell_type": "code",
   "execution_count": null,
   "id": "22742aaf",
   "metadata": {},
   "outputs": [],
   "source": [
    "yts_dollar_df"
   ]
  },
  {
   "cell_type": "markdown",
   "id": "554a1019",
   "metadata": {},
   "source": [
    "## Create panel data"
   ]
  },
  {
   "cell_type": "code",
   "execution_count": null,
   "id": "c313b572",
   "metadata": {},
   "outputs": [],
   "source": [
    "yts_df = pd.read_csv(\"../data/processed/yts.csv\", parse_dates=[\"date\"])"
   ]
  },
  {
   "cell_type": "code",
   "execution_count": null,
   "id": "96cb470c",
   "metadata": {},
   "outputs": [],
   "source": [
    "def generate_panel_df(yts_df):\n",
    "    y_list = []\n",
    "    for col in tqdm(yts_df.columns[1:]):\n",
    "        y = yts_df[[\"date\", col]]\n",
    "        y = y.rename(columns={\"date\": \"ds\", col: \"y\"})\n",
    "        y.insert(0, \"unique_id\", col)\n",
    "        y_list.append(y)\n",
    "    yts_panel = pd.concat(y_list)\n",
    "\n",
    "    filepath = Path(\"../data/processed/yts_panel.csv\")\n",
    "    yts_panel.to_csv(filepath, index=False)\n",
    "    print(f\"Data written to {filepath}\")\n",
    "\n",
    "    return yts_panel"
   ]
  },
  {
   "cell_type": "code",
   "execution_count": null,
   "id": "28fd5f9b",
   "metadata": {},
   "outputs": [],
   "source": [
    "yts_panel = generate_panel_df(yts_df)"
   ]
  },
  {
   "cell_type": "markdown",
   "id": "2ad98be9",
   "metadata": {},
   "source": [
    "## Forecast"
   ]
  },
  {
   "cell_type": "code",
   "execution_count": null,
   "id": "f4dc396e",
   "metadata": {},
   "outputs": [],
   "source": [
    "# yts_panel = pd.read_csv(\"../data/processed/yts_panel.csv\", parse_dates=[\"ds\"])"
   ]
  },
  {
   "cell_type": "code",
   "execution_count": null,
   "id": "808a6ee6",
   "metadata": {},
   "outputs": [],
   "source": [
    "# We burn the first and last month because they had less data during resampling\n",
    "yts_panel = yts_panel[(yts_panel.ds > \"2011-01-01\") & (yts_panel.ds < \"2016-05-01\")]"
   ]
  },
  {
   "cell_type": "code",
   "execution_count": null,
   "id": "482285fa",
   "metadata": {},
   "outputs": [],
   "source": [
    "# Smaller dataset to test the pipeline\n",
    "yts_panel = yts_panel[yts_panel.unique_id < 100]"
   ]
  },
  {
   "cell_type": "code",
   "execution_count": null,
   "id": "4e83be51",
   "metadata": {},
   "outputs": [],
   "source": [
    "yts_train = yts_panel[(yts_panel.ds <= \"2015-04-01\")]\n",
    "yts_test = yts_panel[(yts_panel.ds > \"2015-04-01\")]"
   ]
  },
  {
   "cell_type": "code",
   "execution_count": null,
   "id": "47a24d8e",
   "metadata": {},
   "outputs": [],
   "source": [
    "i = 0\n",
    "yts_train.loc[yts_train.unique_id == i].set_index(\"ds\")[\"y\"].plot()\n",
    "yts_test.loc[yts_test.unique_id == i].set_index(\"ds\")[\"y\"].plot()"
   ]
  },
  {
   "cell_type": "code",
   "execution_count": null,
   "id": "330b4096",
   "metadata": {},
   "outputs": [],
   "source": [
    "models = [\n",
    "    ETS(season_length=12, model='ZZA'),\n",
    "    AutoARIMA(season_length=12, max_d=1, max_D=1)\n",
    "]\n",
    "\n",
    "model = StatsForecast(\n",
    "    df=yts_train, \n",
    "    models=models,\n",
    "    freq='MS',\n",
    "    fallback_model=Naive(),\n",
    "    n_jobs=-1,\n",
    ")\n",
    "\n",
    "fcst_df = model.forecast(12, level=[80, 95], fitted=True).reset_index()\n",
    "fitted_df = model.forecast_fitted_values().reset_index()\n",
    "\n",
    "Path(\"../fcst\").mkdir(exist_ok=True)\n",
    "\n",
    "filepath = Path(\"../fcst/fcst.csv\")\n",
    "fcst_df.to_csv(filepath, index=False)\n",
    "print(f\"Data written to {filepath}\")\n",
    "\n",
    "filepath = Path(\"../fcst/fitted.csv\")\n",
    "fitted_df.to_csv(filepath, index=False)\n",
    "print(f\"Data written to {filepath}\")"
   ]
  },
  {
   "cell_type": "markdown",
   "id": "062b1d0d",
   "metadata": {},
   "source": [
    "## Plot results"
   ]
  },
  {
   "cell_type": "code",
   "execution_count": null,
   "id": "b844f84b",
   "metadata": {},
   "outputs": [],
   "source": [
    "#fcst_df = pd.read_csv(\"../fcst/fcst.csv\", parse_dates=[\"ds\"])\n",
    "#fitted_df = pd.read_csv(\"../fcst/fitted.csv\", parse_dates=[\"ds\"])"
   ]
  },
  {
   "cell_type": "code",
   "execution_count": null,
   "id": "afb7817d",
   "metadata": {},
   "outputs": [],
   "source": [
    "i = 50\n",
    "\n",
    "yts_train.loc[yts_train.unique_id == i].set_index(\"ds\")[\"y\"].plot()\n",
    "yts_test.loc[yts_test.unique_id == i].set_index(\"ds\")[\"y\"].plot()\n",
    "\n",
    "fitted_df.loc[fitted_df.unique_id == i].set_index(\"ds\")[\"ETS\"].plot(style=\":\")\n",
    "fitted_df.loc[fitted_df.unique_id == i].set_index(\"ds\")[\"AutoARIMA\"].plot(style=\":\")\n",
    "\n",
    "fcst_df.loc[fcst_df.unique_id == i].set_index(\"ds\")[\"ETS\"].plot(style=\"--\")\n",
    "fcst_df.loc[fcst_df.unique_id == i].set_index(\"ds\")[\"AutoARIMA\"].plot(style=\"--\")\n",
    "\n",
    "plt.legend()"
   ]
  },
  {
   "cell_type": "code",
   "execution_count": null,
   "id": "8f819db5",
   "metadata": {},
   "outputs": [],
   "source": []
  }
 ],
 "metadata": {
  "kernelspec": {
   "display_name": "Python 3.10.6 ('forecasting')",
   "language": "python",
   "name": "python3"
  },
  "language_info": {
   "codemirror_mode": {
    "name": "ipython",
    "version": 3
   },
   "file_extension": ".py",
   "mimetype": "text/x-python",
   "name": "python",
   "nbconvert_exporter": "python",
   "pygments_lexer": "ipython3",
   "version": "3.10.6"
  },
  "vscode": {
   "interpreter": {
    "hash": "bd41d9743e1e42bb253cce585c0d50fe0bafd7f8987a0dd4ec647801d8d44c5f"
   }
  }
 },
 "nbformat": 4,
 "nbformat_minor": 5
}
