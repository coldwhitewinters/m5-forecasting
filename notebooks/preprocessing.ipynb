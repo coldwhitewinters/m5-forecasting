{
 "cells": [
  {
   "cell_type": "markdown",
   "id": "cf67e8b4-3f43-437a-afb3-d666def58e02",
   "metadata": {},
   "source": [
    "# Preprocessing"
   ]
  },
  {
   "cell_type": "markdown",
   "id": "db01a074-52df-475b-a54a-a754b84f2251",
   "metadata": {
    "tags": []
   },
   "source": [
    "## Setup"
   ]
  },
  {
   "cell_type": "code",
   "execution_count": 1,
   "id": "fb6ab9fc-2b2d-4c69-bccf-13a545604b52",
   "metadata": {},
   "outputs": [],
   "source": [
    "%load_ext autoreload\n",
    "%autoreload 2"
   ]
  },
  {
   "cell_type": "code",
   "execution_count": 2,
   "id": "372f5539-cb1b-4dd8-8d3d-2d9506e3d476",
   "metadata": {},
   "outputs": [],
   "source": [
    "import sys\n",
    "sys.path.append(\"..\")\n",
    "\n",
    "# Libraries\n",
    "import pandas as pd\n",
    "import numpy as np\n",
    "import matplotlib.pyplot as plt\n",
    "\n",
    "import m5.config as cfg\n",
    "import m5.preprocessing\n",
    "\n",
    "# Library settings\n",
    "pd.options.display.max_columns = 999\n",
    "plt.rcParams[\"figure.figsize\"] = (14, 4)"
   ]
  },
  {
   "cell_type": "markdown",
   "id": "d9d6177b-3189-4b70-9542-ca825a007af1",
   "metadata": {},
   "source": [
    "## Preprocessing"
   ]
  },
  {
   "cell_type": "code",
   "execution_count": 3,
   "id": "1e9a3659-8ea3-47b7-9ab5-2fb06201438e",
   "metadata": {},
   "outputs": [],
   "source": [
    "m5.preprocessing.prepare_base_data(cfg.DATA_DIR)"
   ]
  },
  {
   "cell_type": "code",
   "execution_count": 5,
   "id": "197e599f-05f7-4c3c-b871-f10a52b343ed",
   "metadata": {},
   "outputs": [
    {
     "name": "stdout",
     "output_type": "stream",
     "text": [
      "Preparing agg level 12\n",
      "Preparing agg level 1\n",
      "Preparing agg level 2\n",
      "Preparing agg level 3\n",
      "Preparing agg level 4\n",
      "Preparing agg level 5\n",
      "Preparing agg level 6\n",
      "Preparing agg level 7\n",
      "Preparing agg level 8\n",
      "Preparing agg level 9\n",
      "Preparing agg level 10\n",
      "Preparing agg level 11\n"
     ]
    }
   ],
   "source": [
    "m5.preprocessing.prepare_agg_levels(cfg.DATA_DIR)"
   ]
  },
  {
   "cell_type": "code",
   "execution_count": 3,
   "id": "28e924d1-ce68-4c6d-8b51-fccc81c66809",
   "metadata": {},
   "outputs": [
    {
     "name": "stdout",
     "output_type": "stream",
     "text": [
      "Preparing dataset for level 12 and step 1\n",
      "Preparing dataset for level 12 and step 2\n",
      "Preparing dataset for level 12 and step 3\n",
      "Preparing dataset for level 12 and step 4\n",
      "Preparing dataset for level 12 and step 5\n",
      "Preparing dataset for level 12 and step 6\n",
      "Preparing dataset for level 12 and step 7\n",
      "Preparing dataset for level 12 and step 8\n",
      "Preparing dataset for level 12 and step 9\n",
      "Preparing dataset for level 12 and step 10\n",
      "Preparing dataset for level 12 and step 11\n",
      "Preparing dataset for level 12 and step 12\n",
      "Preparing dataset for level 12 and step 13\n",
      "Preparing dataset for level 12 and step 14\n",
      "Preparing dataset for level 12 and step 15\n",
      "Preparing dataset for level 12 and step 16\n",
      "Preparing dataset for level 12 and step 17\n",
      "Preparing dataset for level 12 and step 18\n",
      "Preparing dataset for level 12 and step 19\n",
      "Preparing dataset for level 12 and step 20\n",
      "Preparing dataset for level 12 and step 21\n",
      "Preparing dataset for level 12 and step 22\n",
      "Preparing dataset for level 12 and step 23\n",
      "Preparing dataset for level 12 and step 24\n",
      "Preparing dataset for level 12 and step 25\n",
      "Preparing dataset for level 12 and step 26\n",
      "Preparing dataset for level 12 and step 27\n",
      "Preparing dataset for level 12 and step 28\n"
     ]
    }
   ],
   "source": [
    "m5.preprocessing.prepare_all_datasets(cfg.DATA_DIR, cfg.TARGET, cfg.FH, cfg.N_LAGS)"
   ]
  },
  {
   "cell_type": "code",
   "execution_count": 3,
   "id": "6464e446-3fb3-4a15-9cbb-00eb862a9bee",
   "metadata": {
    "tags": []
   },
   "outputs": [
    {
     "name": "stdout",
     "output_type": "stream",
     "text": [
      "Preparing dataset for level 12 and step 1\n"
     ]
    },
    {
     "name": "stderr",
     "output_type": "stream",
     "text": [
      "/home/ariel/Playground/m5-forecasting/notebooks/../m5/preprocessing.py:177: UserWarning: `meta` is not specified, inferred from partial data. Please provide `meta` if the result is unexpected.\n",
      "  Before: .apply(func)\n",
      "  After:  .apply(func, meta={'x': 'f8', 'y': 'f8'}) for dataframe result\n",
      "  or:     .apply(func, meta=('x', 'f8'))            for series result\n",
      "  dataset = data.groupby(id_cols, group_keys=False).apply(\n"
     ]
    },
    {
     "name": "stdout",
     "output_type": "stream",
     "text": [
      "Preparing dataset for level 12 and step 2\n",
      "Preparing dataset for level 12 and step 3\n",
      "Preparing dataset for level 12 and step 4\n",
      "Preparing dataset for level 12 and step 5\n",
      "Preparing dataset for level 12 and step 6\n",
      "Preparing dataset for level 12 and step 7\n",
      "Preparing dataset for level 12 and step 8\n"
     ]
    },
    {
     "ename": "KeyboardInterrupt",
     "evalue": "",
     "output_type": "error",
     "traceback": [
      "\u001b[0;31m---------------------------------------------------------------------------\u001b[0m",
      "\u001b[0;31mKeyboardInterrupt\u001b[0m                         Traceback (most recent call last)",
      "\u001b[0;32m/tmp/ipykernel_2526/1207230572.py\u001b[0m in \u001b[0;36m<module>\u001b[0;34m\u001b[0m\n\u001b[0;32m----> 1\u001b[0;31m \u001b[0mm5\u001b[0m\u001b[0;34m.\u001b[0m\u001b[0mpreprocessing\u001b[0m\u001b[0;34m.\u001b[0m\u001b[0mprepare_datasets\u001b[0m\u001b[0;34m(\u001b[0m\u001b[0mcfg\u001b[0m\u001b[0;34m.\u001b[0m\u001b[0mDATA_DIR\u001b[0m\u001b[0;34m,\u001b[0m \u001b[0mcfg\u001b[0m\u001b[0;34m.\u001b[0m\u001b[0mTARGET\u001b[0m\u001b[0;34m,\u001b[0m \u001b[0mcfg\u001b[0m\u001b[0;34m.\u001b[0m\u001b[0mFH\u001b[0m\u001b[0;34m,\u001b[0m \u001b[0mcfg\u001b[0m\u001b[0;34m.\u001b[0m\u001b[0mN_LAGS\u001b[0m\u001b[0;34m,\u001b[0m \u001b[0mlevels\u001b[0m\u001b[0;34m=\u001b[0m\u001b[0;34m[\u001b[0m\u001b[0;36m12\u001b[0m\u001b[0;34m]\u001b[0m\u001b[0;34m)\u001b[0m\u001b[0;34m\u001b[0m\u001b[0;34m\u001b[0m\u001b[0m\n\u001b[0m",
      "\u001b[0;32m~/Playground/m5-forecasting/notebooks/../m5/preprocessing.py\u001b[0m in \u001b[0;36mprepare_datasets\u001b[0;34m(data_dir, target, fh, lags, levels, n_partitions)\u001b[0m\n\u001b[1;32m    203\u001b[0m \u001b[0;34m\u001b[0m\u001b[0m\n\u001b[1;32m    204\u001b[0m             \u001b[0mtrain\u001b[0m\u001b[0;34m.\u001b[0m\u001b[0mto_parquet\u001b[0m\u001b[0;34m(\u001b[0m\u001b[0moutput_dir\u001b[0m \u001b[0;34m/\u001b[0m \u001b[0;34m\"train.parquet\"\u001b[0m\u001b[0;34m)\u001b[0m\u001b[0;34m\u001b[0m\u001b[0;34m\u001b[0m\u001b[0m\n\u001b[0;32m--> 205\u001b[0;31m             \u001b[0mval\u001b[0m\u001b[0;34m.\u001b[0m\u001b[0mto_parquet\u001b[0m\u001b[0;34m(\u001b[0m\u001b[0moutput_dir\u001b[0m \u001b[0;34m/\u001b[0m \u001b[0;34m\"val.parquet\"\u001b[0m\u001b[0;34m)\u001b[0m\u001b[0;34m\u001b[0m\u001b[0;34m\u001b[0m\u001b[0m\n\u001b[0m\u001b[1;32m    206\u001b[0m \u001b[0;34m\u001b[0m\u001b[0m\n\u001b[1;32m    207\u001b[0m \u001b[0;34m\u001b[0m\u001b[0m\n",
      "\u001b[0;32m~/anaconda3/envs/merlion/lib/python3.9/site-packages/dask/dataframe/core.py\u001b[0m in \u001b[0;36mto_parquet\u001b[0;34m(self, path, *args, **kwargs)\u001b[0m\n\u001b[1;32m   4538\u001b[0m         \u001b[0;32mfrom\u001b[0m \u001b[0;34m.\u001b[0m\u001b[0mio\u001b[0m \u001b[0;32mimport\u001b[0m \u001b[0mto_parquet\u001b[0m\u001b[0;34m\u001b[0m\u001b[0;34m\u001b[0m\u001b[0m\n\u001b[1;32m   4539\u001b[0m \u001b[0;34m\u001b[0m\u001b[0m\n\u001b[0;32m-> 4540\u001b[0;31m         \u001b[0;32mreturn\u001b[0m \u001b[0mto_parquet\u001b[0m\u001b[0;34m(\u001b[0m\u001b[0mself\u001b[0m\u001b[0;34m,\u001b[0m \u001b[0mpath\u001b[0m\u001b[0;34m,\u001b[0m \u001b[0;34m*\u001b[0m\u001b[0margs\u001b[0m\u001b[0;34m,\u001b[0m \u001b[0;34m**\u001b[0m\u001b[0mkwargs\u001b[0m\u001b[0;34m)\u001b[0m\u001b[0;34m\u001b[0m\u001b[0;34m\u001b[0m\u001b[0m\n\u001b[0m\u001b[1;32m   4541\u001b[0m \u001b[0;34m\u001b[0m\u001b[0m\n\u001b[1;32m   4542\u001b[0m     \u001b[0;32mdef\u001b[0m \u001b[0mto_orc\u001b[0m\u001b[0;34m(\u001b[0m\u001b[0mself\u001b[0m\u001b[0;34m,\u001b[0m \u001b[0mpath\u001b[0m\u001b[0;34m,\u001b[0m \u001b[0;34m*\u001b[0m\u001b[0margs\u001b[0m\u001b[0;34m,\u001b[0m \u001b[0;34m**\u001b[0m\u001b[0mkwargs\u001b[0m\u001b[0;34m)\u001b[0m\u001b[0;34m:\u001b[0m\u001b[0;34m\u001b[0m\u001b[0;34m\u001b[0m\u001b[0m\n",
      "\u001b[0;32m~/anaconda3/envs/merlion/lib/python3.9/site-packages/dask/dataframe/io/parquet/core.py\u001b[0m in \u001b[0;36mto_parquet\u001b[0;34m(df, path, engine, compression, write_index, append, overwrite, ignore_divisions, partition_on, storage_options, custom_metadata, write_metadata_file, compute, compute_kwargs, schema, **kwargs)\u001b[0m\n\u001b[1;32m    723\u001b[0m     \u001b[0;32mif\u001b[0m \u001b[0mcompute\u001b[0m\u001b[0;34m:\u001b[0m\u001b[0;34m\u001b[0m\u001b[0;34m\u001b[0m\u001b[0m\n\u001b[1;32m    724\u001b[0m         \u001b[0;32mif\u001b[0m \u001b[0mwrite_metadata_file\u001b[0m\u001b[0;34m:\u001b[0m\u001b[0;34m\u001b[0m\u001b[0;34m\u001b[0m\u001b[0m\n\u001b[0;32m--> 725\u001b[0;31m             return compute_as_if_collection(\n\u001b[0m\u001b[1;32m    726\u001b[0m                 \u001b[0mDataFrame\u001b[0m\u001b[0;34m,\u001b[0m \u001b[0mgraph\u001b[0m\u001b[0;34m,\u001b[0m \u001b[0;34m(\u001b[0m\u001b[0mfinal_name\u001b[0m\u001b[0;34m,\u001b[0m \u001b[0;36m0\u001b[0m\u001b[0;34m)\u001b[0m\u001b[0;34m,\u001b[0m \u001b[0;34m**\u001b[0m\u001b[0mcompute_kwargs\u001b[0m\u001b[0;34m\u001b[0m\u001b[0;34m\u001b[0m\u001b[0m\n\u001b[1;32m    727\u001b[0m             )\n",
      "\u001b[0;32m~/anaconda3/envs/merlion/lib/python3.9/site-packages/dask/base.py\u001b[0m in \u001b[0;36mcompute_as_if_collection\u001b[0;34m(cls, dsk, keys, scheduler, get, **kwargs)\u001b[0m\n\u001b[1;32m    313\u001b[0m     \u001b[0mschedule\u001b[0m \u001b[0;34m=\u001b[0m \u001b[0mget_scheduler\u001b[0m\u001b[0;34m(\u001b[0m\u001b[0mscheduler\u001b[0m\u001b[0;34m=\u001b[0m\u001b[0mscheduler\u001b[0m\u001b[0;34m,\u001b[0m \u001b[0mcls\u001b[0m\u001b[0;34m=\u001b[0m\u001b[0mcls\u001b[0m\u001b[0;34m,\u001b[0m \u001b[0mget\u001b[0m\u001b[0;34m=\u001b[0m\u001b[0mget\u001b[0m\u001b[0;34m)\u001b[0m\u001b[0;34m\u001b[0m\u001b[0;34m\u001b[0m\u001b[0m\n\u001b[1;32m    314\u001b[0m     \u001b[0mdsk2\u001b[0m \u001b[0;34m=\u001b[0m \u001b[0moptimization_function\u001b[0m\u001b[0;34m(\u001b[0m\u001b[0mcls\u001b[0m\u001b[0;34m)\u001b[0m\u001b[0;34m(\u001b[0m\u001b[0mdsk\u001b[0m\u001b[0;34m,\u001b[0m \u001b[0mkeys\u001b[0m\u001b[0;34m,\u001b[0m \u001b[0;34m**\u001b[0m\u001b[0mkwargs\u001b[0m\u001b[0;34m)\u001b[0m\u001b[0;34m\u001b[0m\u001b[0;34m\u001b[0m\u001b[0m\n\u001b[0;32m--> 315\u001b[0;31m     \u001b[0;32mreturn\u001b[0m \u001b[0mschedule\u001b[0m\u001b[0;34m(\u001b[0m\u001b[0mdsk2\u001b[0m\u001b[0;34m,\u001b[0m \u001b[0mkeys\u001b[0m\u001b[0;34m,\u001b[0m \u001b[0;34m**\u001b[0m\u001b[0mkwargs\u001b[0m\u001b[0;34m)\u001b[0m\u001b[0;34m\u001b[0m\u001b[0;34m\u001b[0m\u001b[0m\n\u001b[0m\u001b[1;32m    316\u001b[0m \u001b[0;34m\u001b[0m\u001b[0m\n\u001b[1;32m    317\u001b[0m \u001b[0;34m\u001b[0m\u001b[0m\n",
      "\u001b[0;32m~/anaconda3/envs/merlion/lib/python3.9/site-packages/dask/threaded.py\u001b[0m in \u001b[0;36mget\u001b[0;34m(dsk, result, cache, num_workers, pool, **kwargs)\u001b[0m\n\u001b[1;32m     77\u001b[0m             \u001b[0mpool\u001b[0m \u001b[0;34m=\u001b[0m \u001b[0mMultiprocessingPoolExecutor\u001b[0m\u001b[0;34m(\u001b[0m\u001b[0mpool\u001b[0m\u001b[0;34m)\u001b[0m\u001b[0;34m\u001b[0m\u001b[0;34m\u001b[0m\u001b[0m\n\u001b[1;32m     78\u001b[0m \u001b[0;34m\u001b[0m\u001b[0m\n\u001b[0;32m---> 79\u001b[0;31m     results = get_async(\n\u001b[0m\u001b[1;32m     80\u001b[0m         \u001b[0mpool\u001b[0m\u001b[0;34m.\u001b[0m\u001b[0msubmit\u001b[0m\u001b[0;34m,\u001b[0m\u001b[0;34m\u001b[0m\u001b[0;34m\u001b[0m\u001b[0m\n\u001b[1;32m     81\u001b[0m         \u001b[0mpool\u001b[0m\u001b[0;34m.\u001b[0m\u001b[0m_max_workers\u001b[0m\u001b[0;34m,\u001b[0m\u001b[0;34m\u001b[0m\u001b[0;34m\u001b[0m\u001b[0m\n",
      "\u001b[0;32m~/anaconda3/envs/merlion/lib/python3.9/site-packages/dask/local.py\u001b[0m in \u001b[0;36mget_async\u001b[0;34m(submit, num_workers, dsk, result, cache, get_id, rerun_exceptions_locally, pack_exception, raise_exception, callbacks, dumps, loads, chunksize, **kwargs)\u001b[0m\n\u001b[1;32m    504\u001b[0m             \u001b[0;32mwhile\u001b[0m \u001b[0mstate\u001b[0m\u001b[0;34m[\u001b[0m\u001b[0;34m\"waiting\"\u001b[0m\u001b[0;34m]\u001b[0m \u001b[0;32mor\u001b[0m \u001b[0mstate\u001b[0m\u001b[0;34m[\u001b[0m\u001b[0;34m\"ready\"\u001b[0m\u001b[0;34m]\u001b[0m \u001b[0;32mor\u001b[0m \u001b[0mstate\u001b[0m\u001b[0;34m[\u001b[0m\u001b[0;34m\"running\"\u001b[0m\u001b[0;34m]\u001b[0m\u001b[0;34m:\u001b[0m\u001b[0;34m\u001b[0m\u001b[0;34m\u001b[0m\u001b[0m\n\u001b[1;32m    505\u001b[0m                 \u001b[0mfire_tasks\u001b[0m\u001b[0;34m(\u001b[0m\u001b[0mchunksize\u001b[0m\u001b[0;34m)\u001b[0m\u001b[0;34m\u001b[0m\u001b[0;34m\u001b[0m\u001b[0m\n\u001b[0;32m--> 506\u001b[0;31m                 \u001b[0;32mfor\u001b[0m \u001b[0mkey\u001b[0m\u001b[0;34m,\u001b[0m \u001b[0mres_info\u001b[0m\u001b[0;34m,\u001b[0m \u001b[0mfailed\u001b[0m \u001b[0;32min\u001b[0m \u001b[0mqueue_get\u001b[0m\u001b[0;34m(\u001b[0m\u001b[0mqueue\u001b[0m\u001b[0;34m)\u001b[0m\u001b[0;34m.\u001b[0m\u001b[0mresult\u001b[0m\u001b[0;34m(\u001b[0m\u001b[0;34m)\u001b[0m\u001b[0;34m:\u001b[0m\u001b[0;34m\u001b[0m\u001b[0;34m\u001b[0m\u001b[0m\n\u001b[0m\u001b[1;32m    507\u001b[0m                     \u001b[0;32mif\u001b[0m \u001b[0mfailed\u001b[0m\u001b[0;34m:\u001b[0m\u001b[0;34m\u001b[0m\u001b[0;34m\u001b[0m\u001b[0m\n\u001b[1;32m    508\u001b[0m                         \u001b[0mexc\u001b[0m\u001b[0;34m,\u001b[0m \u001b[0mtb\u001b[0m \u001b[0;34m=\u001b[0m \u001b[0mloads\u001b[0m\u001b[0;34m(\u001b[0m\u001b[0mres_info\u001b[0m\u001b[0;34m)\u001b[0m\u001b[0;34m\u001b[0m\u001b[0;34m\u001b[0m\u001b[0m\n",
      "\u001b[0;32m~/anaconda3/envs/merlion/lib/python3.9/site-packages/dask/local.py\u001b[0m in \u001b[0;36mqueue_get\u001b[0;34m(q)\u001b[0m\n\u001b[1;32m    132\u001b[0m \u001b[0;34m\u001b[0m\u001b[0m\n\u001b[1;32m    133\u001b[0m     \u001b[0;32mdef\u001b[0m \u001b[0mqueue_get\u001b[0m\u001b[0;34m(\u001b[0m\u001b[0mq\u001b[0m\u001b[0;34m)\u001b[0m\u001b[0;34m:\u001b[0m\u001b[0;34m\u001b[0m\u001b[0;34m\u001b[0m\u001b[0m\n\u001b[0;32m--> 134\u001b[0;31m         \u001b[0;32mreturn\u001b[0m \u001b[0mq\u001b[0m\u001b[0;34m.\u001b[0m\u001b[0mget\u001b[0m\u001b[0;34m(\u001b[0m\u001b[0;34m)\u001b[0m\u001b[0;34m\u001b[0m\u001b[0;34m\u001b[0m\u001b[0m\n\u001b[0m\u001b[1;32m    135\u001b[0m \u001b[0;34m\u001b[0m\u001b[0m\n\u001b[1;32m    136\u001b[0m \u001b[0;34m\u001b[0m\u001b[0m\n",
      "\u001b[0;32m~/anaconda3/envs/merlion/lib/python3.9/queue.py\u001b[0m in \u001b[0;36mget\u001b[0;34m(self, block, timeout)\u001b[0m\n\u001b[1;32m    169\u001b[0m             \u001b[0;32melif\u001b[0m \u001b[0mtimeout\u001b[0m \u001b[0;32mis\u001b[0m \u001b[0;32mNone\u001b[0m\u001b[0;34m:\u001b[0m\u001b[0;34m\u001b[0m\u001b[0;34m\u001b[0m\u001b[0m\n\u001b[1;32m    170\u001b[0m                 \u001b[0;32mwhile\u001b[0m \u001b[0;32mnot\u001b[0m \u001b[0mself\u001b[0m\u001b[0;34m.\u001b[0m\u001b[0m_qsize\u001b[0m\u001b[0;34m(\u001b[0m\u001b[0;34m)\u001b[0m\u001b[0;34m:\u001b[0m\u001b[0;34m\u001b[0m\u001b[0;34m\u001b[0m\u001b[0m\n\u001b[0;32m--> 171\u001b[0;31m                     \u001b[0mself\u001b[0m\u001b[0;34m.\u001b[0m\u001b[0mnot_empty\u001b[0m\u001b[0;34m.\u001b[0m\u001b[0mwait\u001b[0m\u001b[0;34m(\u001b[0m\u001b[0;34m)\u001b[0m\u001b[0;34m\u001b[0m\u001b[0;34m\u001b[0m\u001b[0m\n\u001b[0m\u001b[1;32m    172\u001b[0m             \u001b[0;32melif\u001b[0m \u001b[0mtimeout\u001b[0m \u001b[0;34m<\u001b[0m \u001b[0;36m0\u001b[0m\u001b[0;34m:\u001b[0m\u001b[0;34m\u001b[0m\u001b[0;34m\u001b[0m\u001b[0m\n\u001b[1;32m    173\u001b[0m                 \u001b[0;32mraise\u001b[0m \u001b[0mValueError\u001b[0m\u001b[0;34m(\u001b[0m\u001b[0;34m\"'timeout' must be a non-negative number\"\u001b[0m\u001b[0;34m)\u001b[0m\u001b[0;34m\u001b[0m\u001b[0;34m\u001b[0m\u001b[0m\n",
      "\u001b[0;32m~/anaconda3/envs/merlion/lib/python3.9/threading.py\u001b[0m in \u001b[0;36mwait\u001b[0;34m(self, timeout)\u001b[0m\n\u001b[1;32m    310\u001b[0m         \u001b[0;32mtry\u001b[0m\u001b[0;34m:\u001b[0m    \u001b[0;31m# restore state no matter what (e.g., KeyboardInterrupt)\u001b[0m\u001b[0;34m\u001b[0m\u001b[0;34m\u001b[0m\u001b[0m\n\u001b[1;32m    311\u001b[0m             \u001b[0;32mif\u001b[0m \u001b[0mtimeout\u001b[0m \u001b[0;32mis\u001b[0m \u001b[0;32mNone\u001b[0m\u001b[0;34m:\u001b[0m\u001b[0;34m\u001b[0m\u001b[0;34m\u001b[0m\u001b[0m\n\u001b[0;32m--> 312\u001b[0;31m                 \u001b[0mwaiter\u001b[0m\u001b[0;34m.\u001b[0m\u001b[0macquire\u001b[0m\u001b[0;34m(\u001b[0m\u001b[0;34m)\u001b[0m\u001b[0;34m\u001b[0m\u001b[0;34m\u001b[0m\u001b[0m\n\u001b[0m\u001b[1;32m    313\u001b[0m                 \u001b[0mgotit\u001b[0m \u001b[0;34m=\u001b[0m \u001b[0;32mTrue\u001b[0m\u001b[0;34m\u001b[0m\u001b[0;34m\u001b[0m\u001b[0m\n\u001b[1;32m    314\u001b[0m             \u001b[0;32melse\u001b[0m\u001b[0;34m:\u001b[0m\u001b[0;34m\u001b[0m\u001b[0;34m\u001b[0m\u001b[0m\n",
      "\u001b[0;31mKeyboardInterrupt\u001b[0m: "
     ]
    }
   ],
   "source": [
    "m5.preprocessing.prepare_datasets(cfg.DATA_DIR, cfg.TARGET, cfg.FH, cfg.N_LAGS, levels=[12])"
   ]
  },
  {
   "cell_type": "code",
   "execution_count": 4,
   "id": "4d0d8f9d-74ce-44c3-b633-d45e41b92c01",
   "metadata": {
    "collapsed": true,
    "jupyter": {
     "outputs_hidden": true
    },
    "tags": []
   },
   "outputs": [
    {
     "name": "stdout",
     "output_type": "stream",
     "text": [
      "[LightGBM] [Warning] Met categorical feature which contains sparse values. Consider renumbering to consecutive integers started from zero\n",
      "[LightGBM] [Info] Construct bin mappers from text data time 0.29 seconds\n",
      "[LightGBM] [Info] Saving data to binary file /home/ariel/Playground/m5-forecasting/data/processed/datasets/12/1/train.bin\n"
     ]
    },
    {
     "name": "stderr",
     "output_type": "stream",
     "text": [
      "/home/ariel/anaconda3/envs/merlion/lib/python3.9/site-packages/lightgbm/basic.py:1433: UserWarning: Overriding the parameters from Reference Dataset.\n",
      "  _log_warning('Overriding the parameters from Reference Dataset.')\n",
      "/home/ariel/anaconda3/envs/merlion/lib/python3.9/site-packages/lightgbm/basic.py:1245: UserWarning: categorical_column in param dict is overridden.\n",
      "  _log_warning('{} in param dict is overridden.'.format(cat_alias))\n"
     ]
    },
    {
     "name": "stdout",
     "output_type": "stream",
     "text": [
      "[LightGBM] [Info] Saving data to binary file /home/ariel/Playground/m5-forecasting/data/processed/datasets/12/1/val.bin\n",
      "[LightGBM] [Warning] Met categorical feature which contains sparse values. Consider renumbering to consecutive integers started from zero\n",
      "[LightGBM] [Info] Construct bin mappers from text data time 0.28 seconds\n",
      "[LightGBM] [Info] Saving data to binary file /home/ariel/Playground/m5-forecasting/data/processed/datasets/12/2/train.bin\n",
      "[LightGBM] [Info] Saving data to binary file /home/ariel/Playground/m5-forecasting/data/processed/datasets/12/2/val.bin\n",
      "[LightGBM] [Warning] Met categorical feature which contains sparse values. Consider renumbering to consecutive integers started from zero\n",
      "[LightGBM] [Info] Construct bin mappers from text data time 0.28 seconds\n",
      "[LightGBM] [Info] Saving data to binary file /home/ariel/Playground/m5-forecasting/data/processed/datasets/12/3/train.bin\n",
      "[LightGBM] [Info] Saving data to binary file /home/ariel/Playground/m5-forecasting/data/processed/datasets/12/3/val.bin\n",
      "[LightGBM] [Warning] Met categorical feature which contains sparse values. Consider renumbering to consecutive integers started from zero\n",
      "[LightGBM] [Info] Construct bin mappers from text data time 0.29 seconds\n",
      "[LightGBM] [Info] Saving data to binary file /home/ariel/Playground/m5-forecasting/data/processed/datasets/12/4/train.bin\n",
      "[LightGBM] [Info] Saving data to binary file /home/ariel/Playground/m5-forecasting/data/processed/datasets/12/4/val.bin\n",
      "[LightGBM] [Warning] Met categorical feature which contains sparse values. Consider renumbering to consecutive integers started from zero\n",
      "[LightGBM] [Info] Construct bin mappers from text data time 0.28 seconds\n",
      "[LightGBM] [Info] Saving data to binary file /home/ariel/Playground/m5-forecasting/data/processed/datasets/12/5/train.bin\n",
      "[LightGBM] [Info] Saving data to binary file /home/ariel/Playground/m5-forecasting/data/processed/datasets/12/5/val.bin\n",
      "[LightGBM] [Warning] Met categorical feature which contains sparse values. Consider renumbering to consecutive integers started from zero\n",
      "[LightGBM] [Info] Construct bin mappers from text data time 0.27 seconds\n",
      "[LightGBM] [Info] Saving data to binary file /home/ariel/Playground/m5-forecasting/data/processed/datasets/12/6/train.bin\n",
      "[LightGBM] [Info] Saving data to binary file /home/ariel/Playground/m5-forecasting/data/processed/datasets/12/6/val.bin\n",
      "[LightGBM] [Warning] Met categorical feature which contains sparse values. Consider renumbering to consecutive integers started from zero\n",
      "[LightGBM] [Info] Construct bin mappers from text data time 0.27 seconds\n",
      "[LightGBM] [Info] Saving data to binary file /home/ariel/Playground/m5-forecasting/data/processed/datasets/12/7/train.bin\n",
      "[LightGBM] [Info] Saving data to binary file /home/ariel/Playground/m5-forecasting/data/processed/datasets/12/7/val.bin\n",
      "[LightGBM] [Warning] Met categorical feature which contains sparse values. Consider renumbering to consecutive integers started from zero\n",
      "[LightGBM] [Info] Construct bin mappers from text data time 0.27 seconds\n",
      "[LightGBM] [Info] Saving data to binary file /home/ariel/Playground/m5-forecasting/data/processed/datasets/12/8/train.bin\n",
      "[LightGBM] [Info] Saving data to binary file /home/ariel/Playground/m5-forecasting/data/processed/datasets/12/8/val.bin\n",
      "[LightGBM] [Warning] Met categorical feature which contains sparse values. Consider renumbering to consecutive integers started from zero\n",
      "[LightGBM] [Info] Construct bin mappers from text data time 0.26 seconds\n",
      "[LightGBM] [Info] Saving data to binary file /home/ariel/Playground/m5-forecasting/data/processed/datasets/12/9/train.bin\n",
      "[LightGBM] [Info] Saving data to binary file /home/ariel/Playground/m5-forecasting/data/processed/datasets/12/9/val.bin\n",
      "[LightGBM] [Warning] Met categorical feature which contains sparse values. Consider renumbering to consecutive integers started from zero\n",
      "[LightGBM] [Info] Construct bin mappers from text data time 0.28 seconds\n",
      "[LightGBM] [Info] Saving data to binary file /home/ariel/Playground/m5-forecasting/data/processed/datasets/12/10/train.bin\n",
      "[LightGBM] [Info] Saving data to binary file /home/ariel/Playground/m5-forecasting/data/processed/datasets/12/10/val.bin\n",
      "[LightGBM] [Warning] Met categorical feature which contains sparse values. Consider renumbering to consecutive integers started from zero\n",
      "[LightGBM] [Info] Construct bin mappers from text data time 0.29 seconds\n",
      "[LightGBM] [Info] Saving data to binary file /home/ariel/Playground/m5-forecasting/data/processed/datasets/12/11/train.bin\n",
      "[LightGBM] [Info] Saving data to binary file /home/ariel/Playground/m5-forecasting/data/processed/datasets/12/11/val.bin\n",
      "[LightGBM] [Warning] Met categorical feature which contains sparse values. Consider renumbering to consecutive integers started from zero\n",
      "[LightGBM] [Info] Construct bin mappers from text data time 0.28 seconds\n",
      "[LightGBM] [Info] Saving data to binary file /home/ariel/Playground/m5-forecasting/data/processed/datasets/12/12/train.bin\n",
      "[LightGBM] [Info] Saving data to binary file /home/ariel/Playground/m5-forecasting/data/processed/datasets/12/12/val.bin\n",
      "[LightGBM] [Warning] Met categorical feature which contains sparse values. Consider renumbering to consecutive integers started from zero\n",
      "[LightGBM] [Info] Construct bin mappers from text data time 0.28 seconds\n",
      "[LightGBM] [Info] Saving data to binary file /home/ariel/Playground/m5-forecasting/data/processed/datasets/12/13/train.bin\n",
      "[LightGBM] [Info] Saving data to binary file /home/ariel/Playground/m5-forecasting/data/processed/datasets/12/13/val.bin\n",
      "[LightGBM] [Warning] Met categorical feature which contains sparse values. Consider renumbering to consecutive integers started from zero\n",
      "[LightGBM] [Info] Construct bin mappers from text data time 0.28 seconds\n",
      "[LightGBM] [Info] Saving data to binary file /home/ariel/Playground/m5-forecasting/data/processed/datasets/12/14/train.bin\n",
      "[LightGBM] [Info] Saving data to binary file /home/ariel/Playground/m5-forecasting/data/processed/datasets/12/14/val.bin\n",
      "[LightGBM] [Warning] Met categorical feature which contains sparse values. Consider renumbering to consecutive integers started from zero\n",
      "[LightGBM] [Info] Construct bin mappers from text data time 0.28 seconds\n",
      "[LightGBM] [Info] Saving data to binary file /home/ariel/Playground/m5-forecasting/data/processed/datasets/12/15/train.bin\n",
      "[LightGBM] [Info] Saving data to binary file /home/ariel/Playground/m5-forecasting/data/processed/datasets/12/15/val.bin\n",
      "[LightGBM] [Warning] Met categorical feature which contains sparse values. Consider renumbering to consecutive integers started from zero\n",
      "[LightGBM] [Info] Construct bin mappers from text data time 0.27 seconds\n",
      "[LightGBM] [Info] Saving data to binary file /home/ariel/Playground/m5-forecasting/data/processed/datasets/12/16/train.bin\n",
      "[LightGBM] [Info] Saving data to binary file /home/ariel/Playground/m5-forecasting/data/processed/datasets/12/16/val.bin\n",
      "[LightGBM] [Warning] Met categorical feature which contains sparse values. Consider renumbering to consecutive integers started from zero\n",
      "[LightGBM] [Info] Construct bin mappers from text data time 0.28 seconds\n",
      "[LightGBM] [Info] Saving data to binary file /home/ariel/Playground/m5-forecasting/data/processed/datasets/12/17/train.bin\n",
      "[LightGBM] [Info] Saving data to binary file /home/ariel/Playground/m5-forecasting/data/processed/datasets/12/17/val.bin\n",
      "[LightGBM] [Warning] Met categorical feature which contains sparse values. Consider renumbering to consecutive integers started from zero\n",
      "[LightGBM] [Info] Construct bin mappers from text data time 0.28 seconds\n",
      "[LightGBM] [Info] Saving data to binary file /home/ariel/Playground/m5-forecasting/data/processed/datasets/12/18/train.bin\n",
      "[LightGBM] [Info] Saving data to binary file /home/ariel/Playground/m5-forecasting/data/processed/datasets/12/18/val.bin\n",
      "[LightGBM] [Warning] Met categorical feature which contains sparse values. Consider renumbering to consecutive integers started from zero\n",
      "[LightGBM] [Info] Construct bin mappers from text data time 0.28 seconds\n",
      "[LightGBM] [Info] Saving data to binary file /home/ariel/Playground/m5-forecasting/data/processed/datasets/12/19/train.bin\n",
      "[LightGBM] [Info] Saving data to binary file /home/ariel/Playground/m5-forecasting/data/processed/datasets/12/19/val.bin\n",
      "[LightGBM] [Warning] Met categorical feature which contains sparse values. Consider renumbering to consecutive integers started from zero\n",
      "[LightGBM] [Info] Construct bin mappers from text data time 0.29 seconds\n",
      "[LightGBM] [Info] Saving data to binary file /home/ariel/Playground/m5-forecasting/data/processed/datasets/12/20/train.bin\n",
      "[LightGBM] [Info] Saving data to binary file /home/ariel/Playground/m5-forecasting/data/processed/datasets/12/20/val.bin\n",
      "[LightGBM] [Warning] Met categorical feature which contains sparse values. Consider renumbering to consecutive integers started from zero\n",
      "[LightGBM] [Info] Construct bin mappers from text data time 0.28 seconds\n",
      "[LightGBM] [Info] Saving data to binary file /home/ariel/Playground/m5-forecasting/data/processed/datasets/12/21/train.bin\n",
      "[LightGBM] [Info] Saving data to binary file /home/ariel/Playground/m5-forecasting/data/processed/datasets/12/21/val.bin\n",
      "[LightGBM] [Warning] Met categorical feature which contains sparse values. Consider renumbering to consecutive integers started from zero\n",
      "[LightGBM] [Info] Construct bin mappers from text data time 0.27 seconds\n",
      "[LightGBM] [Info] Saving data to binary file /home/ariel/Playground/m5-forecasting/data/processed/datasets/12/22/train.bin\n",
      "[LightGBM] [Info] Saving data to binary file /home/ariel/Playground/m5-forecasting/data/processed/datasets/12/22/val.bin\n",
      "[LightGBM] [Warning] Met categorical feature which contains sparse values. Consider renumbering to consecutive integers started from zero\n",
      "[LightGBM] [Info] Construct bin mappers from text data time 0.28 seconds\n",
      "[LightGBM] [Info] Saving data to binary file /home/ariel/Playground/m5-forecasting/data/processed/datasets/12/23/train.bin\n",
      "[LightGBM] [Info] Saving data to binary file /home/ariel/Playground/m5-forecasting/data/processed/datasets/12/23/val.bin\n",
      "[LightGBM] [Warning] Met categorical feature which contains sparse values. Consider renumbering to consecutive integers started from zero\n",
      "[LightGBM] [Info] Construct bin mappers from text data time 0.27 seconds\n",
      "[LightGBM] [Info] Saving data to binary file /home/ariel/Playground/m5-forecasting/data/processed/datasets/12/24/train.bin\n",
      "[LightGBM] [Info] Saving data to binary file /home/ariel/Playground/m5-forecasting/data/processed/datasets/12/24/val.bin\n",
      "[LightGBM] [Warning] Met categorical feature which contains sparse values. Consider renumbering to consecutive integers started from zero\n",
      "[LightGBM] [Info] Construct bin mappers from text data time 0.29 seconds\n",
      "[LightGBM] [Info] Saving data to binary file /home/ariel/Playground/m5-forecasting/data/processed/datasets/12/25/train.bin\n",
      "[LightGBM] [Info] Saving data to binary file /home/ariel/Playground/m5-forecasting/data/processed/datasets/12/25/val.bin\n",
      "[LightGBM] [Warning] Met categorical feature which contains sparse values. Consider renumbering to consecutive integers started from zero\n",
      "[LightGBM] [Info] Construct bin mappers from text data time 0.27 seconds\n",
      "[LightGBM] [Info] Saving data to binary file /home/ariel/Playground/m5-forecasting/data/processed/datasets/12/26/train.bin\n",
      "[LightGBM] [Info] Saving data to binary file /home/ariel/Playground/m5-forecasting/data/processed/datasets/12/26/val.bin\n",
      "[LightGBM] [Warning] Met categorical feature which contains sparse values. Consider renumbering to consecutive integers started from zero\n",
      "[LightGBM] [Info] Construct bin mappers from text data time 0.28 seconds\n",
      "[LightGBM] [Info] Saving data to binary file /home/ariel/Playground/m5-forecasting/data/processed/datasets/12/27/train.bin\n",
      "[LightGBM] [Info] Saving data to binary file /home/ariel/Playground/m5-forecasting/data/processed/datasets/12/27/val.bin\n",
      "[LightGBM] [Warning] Met categorical feature which contains sparse values. Consider renumbering to consecutive integers started from zero\n",
      "[LightGBM] [Info] Construct bin mappers from text data time 0.27 seconds\n",
      "[LightGBM] [Info] Saving data to binary file /home/ariel/Playground/m5-forecasting/data/processed/datasets/12/28/train.bin\n",
      "[LightGBM] [Info] Saving data to binary file /home/ariel/Playground/m5-forecasting/data/processed/datasets/12/28/val.bin\n"
     ]
    }
   ],
   "source": [
    "m5.preprocessing.prepare_all_dataset_binaries(cfg.DATA_DIR, cfg.FH)"
   ]
  },
  {
   "cell_type": "code",
   "execution_count": null,
   "id": "cce0735a-24e7-44d5-ae61-ff3be03c844d",
   "metadata": {},
   "outputs": [],
   "source": []
  }
 ],
 "metadata": {
  "kernelspec": {
   "display_name": "Python 3 (ipykernel)",
   "language": "python",
   "name": "python3"
  },
  "language_info": {
   "codemirror_mode": {
    "name": "ipython",
    "version": 3
   },
   "file_extension": ".py",
   "mimetype": "text/x-python",
   "name": "python",
   "nbconvert_exporter": "python",
   "pygments_lexer": "ipython3",
   "version": "3.9.7"
  }
 },
 "nbformat": 4,
 "nbformat_minor": 5
}
