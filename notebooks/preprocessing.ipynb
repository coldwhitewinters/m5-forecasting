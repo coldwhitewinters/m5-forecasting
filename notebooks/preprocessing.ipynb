{
 "cells": [
  {
   "cell_type": "markdown",
   "id": "cf67e8b4-3f43-437a-afb3-d666def58e02",
   "metadata": {},
   "source": [
    "# Preprocessing"
   ]
  },
  {
   "cell_type": "markdown",
   "id": "db01a074-52df-475b-a54a-a754b84f2251",
   "metadata": {
    "tags": []
   },
   "source": [
    "## Setup"
   ]
  },
  {
   "cell_type": "code",
   "execution_count": null,
   "id": "fb6ab9fc-2b2d-4c69-bccf-13a545604b52",
   "metadata": {},
   "outputs": [],
   "source": [
    "%load_ext autoreload\n",
    "%autoreload 2"
   ]
  },
  {
   "cell_type": "code",
   "execution_count": null,
   "id": "372f5539-cb1b-4dd8-8d3d-2d9506e3d476",
   "metadata": {},
   "outputs": [],
   "source": [
    "import sys\n",
    "sys.path.append(\"..\")\n",
    "\n",
    "# Libraries\n",
    "import pandas as pd\n",
    "import numpy as np\n",
    "import matplotlib.pyplot as plt\n",
    "\n",
    "import m5.config as cfg\n",
    "import m5.preprocessing\n",
    "\n",
    "# Library settings\n",
    "pd.options.display.max_columns = 999\n",
    "plt.rcParams[\"figure.figsize\"] = (14, 4)"
   ]
  },
  {
   "cell_type": "markdown",
   "id": "d9d6177b-3189-4b70-9542-ca825a007af1",
   "metadata": {},
   "source": [
    "## Preprocessing"
   ]
  },
  {
   "cell_type": "code",
   "execution_count": null,
   "id": "1e9a3659-8ea3-47b7-9ab5-2fb06201438e",
   "metadata": {},
   "outputs": [],
   "source": [
    "m5.preprocessing.prepare_base_data(cfg.DATA_DIR)"
   ]
  },
  {
   "cell_type": "code",
   "execution_count": null,
   "id": "197e599f-05f7-4c3c-b871-f10a52b343ed",
   "metadata": {},
   "outputs": [],
   "source": [
    "m5.preprocessing.prepare_agg_levels(cfg.DATA_DIR)"
   ]
  },
  {
   "cell_type": "code",
   "execution_count": null,
   "id": "6464e446-3fb3-4a15-9cbb-00eb862a9bee",
   "metadata": {},
   "outputs": [],
   "source": [
    "m5.preprocessing.prepare_datasets(cfg.DATA_DIR, cfg.TARGET, cfg.FH, cfg.N_LAGS)"
   ]
  },
  {
   "cell_type": "code",
   "execution_count": null,
   "id": "a114f7a4-bc7d-4def-845f-38fc427c141d",
   "metadata": {},
   "outputs": [],
   "source": [
    "m5.preprocessing.prepare_train_val_split(cfg.DATA_DIR, cfg.FH)"
   ]
  },
  {
   "cell_type": "code",
   "execution_count": null,
   "id": "8163162f-1103-458c-8070-313bd34f38ec",
   "metadata": {},
   "outputs": [],
   "source": [
    "m5.preprocessing.prepare_dataset_binaries(cfg.DATA_DIR, cfg.N_LAGS)"
   ]
  },
  {
   "cell_type": "code",
   "execution_count": null,
   "id": "cce0735a-24e7-44d5-ae61-ff3be03c844d",
   "metadata": {},
   "outputs": [],
   "source": []
  }
 ],
 "metadata": {
  "kernelspec": {
   "display_name": "Python 3 (ipykernel)",
   "language": "python",
   "name": "python3"
  },
  "language_info": {
   "codemirror_mode": {
    "name": "ipython",
    "version": 3
   },
   "file_extension": ".py",
   "mimetype": "text/x-python",
   "name": "python",
   "nbconvert_exporter": "python",
   "pygments_lexer": "ipython3",
   "version": "3.9.7"
  }
 },
 "nbformat": 4,
 "nbformat_minor": 5
}
