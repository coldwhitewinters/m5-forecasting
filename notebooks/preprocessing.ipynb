{
 "cells": [
  {
   "cell_type": "markdown",
   "id": "cf67e8b4-3f43-437a-afb3-d666def58e02",
   "metadata": {},
   "source": [
    "# Preprocessing"
   ]
  },
  {
   "cell_type": "markdown",
   "id": "db01a074-52df-475b-a54a-a754b84f2251",
   "metadata": {
    "tags": []
   },
   "source": [
    "## Setup"
   ]
  },
  {
   "cell_type": "code",
   "execution_count": 1,
   "id": "fb6ab9fc-2b2d-4c69-bccf-13a545604b52",
   "metadata": {},
   "outputs": [],
   "source": [
    "%load_ext autoreload\n",
    "%autoreload 2"
   ]
  },
  {
   "cell_type": "code",
   "execution_count": 2,
   "id": "372f5539-cb1b-4dd8-8d3d-2d9506e3d476",
   "metadata": {},
   "outputs": [],
   "source": [
    "import sys\n",
    "sys.path.append(\"..\")\n",
    "\n",
    "# Libraries\n",
    "import pandas as pd\n",
    "import numpy as np\n",
    "import matplotlib.pyplot as plt\n",
    "\n",
    "import m5.config as cfg\n",
    "import m5.preprocessing\n",
    "\n",
    "import lightgbm as lgb\n",
    "import gc\n",
    "\n",
    "# Library settings\n",
    "pd.options.display.max_columns = 999\n",
    "plt.rcParams[\"figure.figsize\"] = (14, 4)"
   ]
  },
  {
   "cell_type": "markdown",
   "id": "d9d6177b-3189-4b70-9542-ca825a007af1",
   "metadata": {},
   "source": [
    "## Preprocessing"
   ]
  },
  {
   "cell_type": "code",
   "execution_count": 4,
   "id": "1e9a3659-8ea3-47b7-9ab5-2fb06201438e",
   "metadata": {},
   "outputs": [],
   "source": [
    "m5.preprocessing.prepare_base_data(cfg.DATA_DIR)"
   ]
  },
  {
   "cell_type": "code",
   "execution_count": 3,
   "id": "197e599f-05f7-4c3c-b871-f10a52b343ed",
   "metadata": {},
   "outputs": [
    {
     "name": "stdout",
     "output_type": "stream",
     "text": [
      "Preparing agg level 12\n",
      "Preparing agg level 1\n",
      "Preparing agg level 2\n",
      "Preparing agg level 3\n",
      "Preparing agg level 4\n",
      "Preparing agg level 5\n",
      "Preparing agg level 6\n",
      "Preparing agg level 7\n",
      "Preparing agg level 8\n",
      "Preparing agg level 9\n",
      "Preparing agg level 10\n",
      "Preparing agg level 11\n"
     ]
    }
   ],
   "source": [
    "m5.preprocessing.prepare_agg_levels(cfg.DATA_DIR)"
   ]
  },
  {
   "cell_type": "code",
   "execution_count": 3,
   "id": "6464e446-3fb3-4a15-9cbb-00eb862a9bee",
   "metadata": {},
   "outputs": [
    {
     "name": "stdout",
     "output_type": "stream",
     "text": [
      "Preparing dataset level 1\n",
      "Preparing dataset level 2\n",
      "Preparing dataset level 3\n",
      "Preparing dataset level 4\n",
      "Preparing dataset level 5\n",
      "Preparing dataset level 6\n",
      "Preparing dataset level 7\n",
      "Preparing dataset level 8\n",
      "Preparing dataset level 9\n",
      "Preparing dataset level 10\n",
      "Preparing dataset level 11\n",
      "Preparing dataset level 12\n"
     ]
    }
   ],
   "source": [
    "m5.preprocessing.prepare_datasets(cfg.DATA_DIR, cfg.TARGET, cfg.FH, cfg.N_LAGS)"
   ]
  },
  {
   "cell_type": "code",
   "execution_count": 3,
   "id": "a114f7a4-bc7d-4def-845f-38fc427c141d",
   "metadata": {},
   "outputs": [
    {
     "name": "stdout",
     "output_type": "stream",
     "text": [
      "Splitting dataset level 1\n",
      "Splitting dataset level 2\n",
      "Splitting dataset level 3\n",
      "Splitting dataset level 4\n",
      "Splitting dataset level 5\n",
      "Splitting dataset level 6\n",
      "Splitting dataset level 7\n",
      "Splitting dataset level 8\n",
      "Splitting dataset level 9\n",
      "Splitting dataset level 10\n",
      "Splitting dataset level 11\n",
      "Splitting dataset level 12\n"
     ]
    }
   ],
   "source": [
    "m5.preprocessing.prepare_train_val_split(cfg.DATA_DIR, cfg.FH)"
   ]
  },
  {
   "cell_type": "code",
   "execution_count": 12,
   "id": "8163162f-1103-458c-8070-313bd34f38ec",
   "metadata": {},
   "outputs": [
    {
     "name": "stdout",
     "output_type": "stream",
     "text": [
      "[LightGBM] [Warning] Met categorical feature which contains sparse values. Consider renumbering to consecutive integers started from zero\n",
      "[LightGBM] [Info] Construct bin mappers from text data time 0.06 seconds\n",
      "[LightGBM] [Info] Saving data to binary file /home/ariel/Playground/m5-forecasting/data/processed/datasets/1/train.bin\n",
      "[LightGBM] [Info] Saving data to binary file /home/ariel/Playground/m5-forecasting/data/processed/datasets/1/val.bin\n",
      "[LightGBM] [Warning] Met categorical feature which contains sparse values. Consider renumbering to consecutive integers started from zero\n",
      "[LightGBM] [Info] Construct bin mappers from text data time 0.01 seconds\n",
      "[LightGBM] [Info] Saving data to binary file /home/ariel/Playground/m5-forecasting/data/processed/datasets/2/train.bin\n",
      "[LightGBM] [Info] Saving data to binary file /home/ariel/Playground/m5-forecasting/data/processed/datasets/2/val.bin\n",
      "[LightGBM] [Warning] Met categorical feature which contains sparse values. Consider renumbering to consecutive integers started from zero\n",
      "[LightGBM] [Info] Construct bin mappers from text data time 0.08 seconds\n",
      "[LightGBM] [Info] Saving data to binary file /home/ariel/Playground/m5-forecasting/data/processed/datasets/3/train.bin\n",
      "[LightGBM] [Info] Saving data to binary file /home/ariel/Playground/m5-forecasting/data/processed/datasets/3/val.bin\n",
      "[LightGBM] [Warning] Met categorical feature which contains sparse values. Consider renumbering to consecutive integers started from zero\n",
      "[LightGBM] [Info] Construct bin mappers from text data time 0.00 seconds\n",
      "[LightGBM] [Info] Saving data to binary file /home/ariel/Playground/m5-forecasting/data/processed/datasets/4/train.bin\n",
      "[LightGBM] [Info] Saving data to binary file /home/ariel/Playground/m5-forecasting/data/processed/datasets/4/val.bin\n",
      "[LightGBM] [Warning] Met categorical feature which contains sparse values. Consider renumbering to consecutive integers started from zero\n",
      "[LightGBM] [Info] Construct bin mappers from text data time 0.01 seconds\n",
      "[LightGBM] [Info] Saving data to binary file /home/ariel/Playground/m5-forecasting/data/processed/datasets/5/train.bin\n",
      "[LightGBM] [Info] Saving data to binary file /home/ariel/Playground/m5-forecasting/data/processed/datasets/5/val.bin\n",
      "[LightGBM] [Warning] Met categorical feature which contains sparse values. Consider renumbering to consecutive integers started from zero\n",
      "[LightGBM] [Info] Construct bin mappers from text data time 0.01 seconds\n",
      "[LightGBM] [Info] Saving data to binary file /home/ariel/Playground/m5-forecasting/data/processed/datasets/6/train.bin\n",
      "[LightGBM] [Info] Saving data to binary file /home/ariel/Playground/m5-forecasting/data/processed/datasets/6/val.bin\n",
      "[LightGBM] [Warning] Met categorical feature which contains sparse values. Consider renumbering to consecutive integers started from zero\n",
      "[LightGBM] [Info] Construct bin mappers from text data time 0.07 seconds\n",
      "[LightGBM] [Info] Saving data to binary file /home/ariel/Playground/m5-forecasting/data/processed/datasets/7/train.bin\n",
      "[LightGBM] [Info] Saving data to binary file /home/ariel/Playground/m5-forecasting/data/processed/datasets/7/val.bin\n",
      "[LightGBM] [Warning] Met categorical feature which contains sparse values. Consider renumbering to consecutive integers started from zero\n",
      "[LightGBM] [Info] Construct bin mappers from text data time 0.03 seconds\n",
      "[LightGBM] [Info] Saving data to binary file /home/ariel/Playground/m5-forecasting/data/processed/datasets/8/train.bin\n",
      "[LightGBM] [Info] Saving data to binary file /home/ariel/Playground/m5-forecasting/data/processed/datasets/8/val.bin\n",
      "[LightGBM] [Warning] Met categorical feature which contains sparse values. Consider renumbering to consecutive integers started from zero\n",
      "[LightGBM] [Info] Construct bin mappers from text data time 0.10 seconds\n",
      "[LightGBM] [Info] Saving data to binary file /home/ariel/Playground/m5-forecasting/data/processed/datasets/9/train.bin\n",
      "[LightGBM] [Info] Saving data to binary file /home/ariel/Playground/m5-forecasting/data/processed/datasets/9/val.bin\n",
      "[LightGBM] [Warning] Met categorical feature which contains sparse values. Consider renumbering to consecutive integers started from zero\n",
      "[LightGBM] [Info] Construct bin mappers from text data time 0.16 seconds\n",
      "[LightGBM] [Info] Saving data to binary file /home/ariel/Playground/m5-forecasting/data/processed/datasets/10/train.bin\n",
      "[LightGBM] [Info] Saving data to binary file /home/ariel/Playground/m5-forecasting/data/processed/datasets/10/val.bin\n",
      "[LightGBM] [Warning] Met categorical feature which contains sparse values. Consider renumbering to consecutive integers started from zero\n",
      "[LightGBM] [Info] Construct bin mappers from text data time 0.19 seconds\n",
      "[LightGBM] [Info] Saving data to binary file /home/ariel/Playground/m5-forecasting/data/processed/datasets/11/train.bin\n",
      "[LightGBM] [Info] Saving data to binary file /home/ariel/Playground/m5-forecasting/data/processed/datasets/11/val.bin\n",
      "[LightGBM] [Warning] Met categorical feature which contains sparse values. Consider renumbering to consecutive integers started from zero\n",
      "[LightGBM] [Info] Construct bin mappers from text data time 0.42 seconds\n",
      "[LightGBM] [Info] Saving data to binary file /home/ariel/Playground/m5-forecasting/data/processed/datasets/12/train.bin\n",
      "[LightGBM] [Info] Saving data to binary file /home/ariel/Playground/m5-forecasting/data/processed/datasets/12/val.bin\n"
     ]
    }
   ],
   "source": [
    "m5.preprocessing.prepare_dataset_binaries(cfg.DATA_DIR, cfg.N_LAGS)"
   ]
  },
  {
   "cell_type": "code",
   "execution_count": null,
   "id": "66a349a9-6f64-4068-b1a4-5fbbcbda9a66",
   "metadata": {},
   "outputs": [],
   "source": []
  },
  {
   "cell_type": "code",
   "execution_count": null,
   "id": "29ab7727-6ca0-4046-a022-488f6ec1f26b",
   "metadata": {},
   "outputs": [],
   "source": []
  },
  {
   "cell_type": "code",
   "execution_count": null,
   "id": "ef3aa260-0e5c-4cc4-ad02-498b543de335",
   "metadata": {},
   "outputs": [],
   "source": []
  }
 ],
 "metadata": {
  "kernelspec": {
   "display_name": "Python 3 (ipykernel)",
   "language": "python",
   "name": "python3"
  },
  "language_info": {
   "codemirror_mode": {
    "name": "ipython",
    "version": 3
   },
   "file_extension": ".py",
   "mimetype": "text/x-python",
   "name": "python",
   "nbconvert_exporter": "python",
   "pygments_lexer": "ipython3",
   "version": "3.9.7"
  }
 },
 "nbformat": 4,
 "nbformat_minor": 5
}
