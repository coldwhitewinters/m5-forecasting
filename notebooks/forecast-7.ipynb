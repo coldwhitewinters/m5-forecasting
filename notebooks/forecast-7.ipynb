{
 "cells": [
  {
   "cell_type": "markdown",
   "id": "2e97f892-e21b-412e-9d7c-0401cd572d32",
   "metadata": {
    "papermill": {
     "duration": 0.009345,
     "end_time": "2021-10-14T00:32:15.573721",
     "exception": false,
     "start_time": "2021-10-14T00:32:15.564376",
     "status": "completed"
    },
    "tags": []
   },
   "source": [
    "# Forecast"
   ]
  },
  {
   "cell_type": "markdown",
   "id": "db01a074-52df-475b-a54a-a754b84f2251",
   "metadata": {
    "papermill": {
     "duration": 0.00541,
     "end_time": "2021-10-14T00:32:15.584601",
     "exception": false,
     "start_time": "2021-10-14T00:32:15.579191",
     "status": "completed"
    },
    "tags": []
   },
   "source": [
    "## Setup"
   ]
  },
  {
   "cell_type": "code",
   "execution_count": 1,
   "id": "fb6ab9fc-2b2d-4c69-bccf-13a545604b52",
   "metadata": {
    "execution": {
     "iopub.execute_input": "2021-10-14T00:32:15.603958Z",
     "iopub.status.busy": "2021-10-14T00:32:15.603606Z",
     "iopub.status.idle": "2021-10-14T00:32:15.609920Z",
     "shell.execute_reply": "2021-10-14T00:32:15.609569Z"
    },
    "papermill": {
     "duration": 0.018902,
     "end_time": "2021-10-14T00:32:15.610001",
     "exception": false,
     "start_time": "2021-10-14T00:32:15.591099",
     "status": "completed"
    },
    "tags": []
   },
   "outputs": [],
   "source": [
    "%load_ext autoreload\n",
    "%autoreload 2"
   ]
  },
  {
   "cell_type": "code",
   "execution_count": 2,
   "id": "372f5539-cb1b-4dd8-8d3d-2d9506e3d476",
   "metadata": {
    "execution": {
     "iopub.execute_input": "2021-10-14T00:32:15.625711Z",
     "iopub.status.busy": "2021-10-14T00:32:15.625352Z",
     "iopub.status.idle": "2021-10-14T00:32:16.462707Z",
     "shell.execute_reply": "2021-10-14T00:32:16.462930Z"
    },
    "papermill": {
     "duration": 0.846565,
     "end_time": "2021-10-14T00:32:16.463022",
     "exception": false,
     "start_time": "2021-10-14T00:32:15.616457",
     "status": "completed"
    },
    "tags": []
   },
   "outputs": [],
   "source": [
    "import sys\n",
    "sys.path.append(\"..\")\n",
    "\n",
    "# Libraries\n",
    "import pandas as pd\n",
    "import numpy as np\n",
    "import matplotlib.pyplot as plt\n",
    "\n",
    "import m5.config as cfg\n",
    "from m5.model import train, predict\n",
    "from m5.evaluate import accuracy\n",
    "from m5.plot import plot_fcst\n",
    "\n",
    "# Library settings\n",
    "pd.options.display.max_columns = 999\n",
    "plt.rcParams[\"figure.figsize\"] = (14, 4)"
   ]
  },
  {
   "cell_type": "markdown",
   "id": "d9d6177b-3189-4b70-9542-ca825a007af1",
   "metadata": {
    "papermill": {
     "duration": 0.005488,
     "end_time": "2021-10-14T00:32:16.474100",
     "exception": false,
     "start_time": "2021-10-14T00:32:16.468612",
     "status": "completed"
    },
    "tags": []
   },
   "source": [
    "## Parameters"
   ]
  },
  {
   "cell_type": "code",
   "execution_count": 3,
   "id": "ca52ac99-bbcd-4bdd-9b6c-a8cc8e448eb2",
   "metadata": {
    "execution": {
     "iopub.execute_input": "2021-10-14T00:32:16.487983Z",
     "iopub.status.busy": "2021-10-14T00:32:16.487435Z",
     "iopub.status.idle": "2021-10-14T00:32:16.498324Z",
     "shell.execute_reply": "2021-10-14T00:32:16.498582Z"
    },
    "papermill": {
     "duration": 0.019456,
     "end_time": "2021-10-14T00:32:16.498678",
     "exception": false,
     "start_time": "2021-10-14T00:32:16.479222",
     "status": "completed"
    },
    "tags": [
     "parameters"
    ]
   },
   "outputs": [],
   "source": [
    "level = 1"
   ]
  },
  {
   "cell_type": "code",
   "execution_count": 4,
   "id": "244e28f3",
   "metadata": {
    "execution": {
     "iopub.execute_input": "2021-10-14T00:32:16.513728Z",
     "iopub.status.busy": "2021-10-14T00:32:16.513411Z",
     "iopub.status.idle": "2021-10-14T00:32:16.524293Z",
     "shell.execute_reply": "2021-10-14T00:32:16.524019Z"
    },
    "papermill": {
     "duration": 0.01979,
     "end_time": "2021-10-14T00:32:16.524365",
     "exception": false,
     "start_time": "2021-10-14T00:32:16.504575",
     "status": "completed"
    },
    "tags": [
     "injected-parameters"
    ]
   },
   "outputs": [],
   "source": [
    "# Parameters\n",
    "level = 7\n"
   ]
  },
  {
   "cell_type": "markdown",
   "id": "5e8ebb71-583a-4cd1-b60e-7006ebc85e82",
   "metadata": {
    "papermill": {
     "duration": 0.005478,
     "end_time": "2021-10-14T00:32:16.535132",
     "exception": false,
     "start_time": "2021-10-14T00:32:16.529654",
     "status": "completed"
    },
    "tags": []
   },
   "source": [
    "## Train"
   ]
  },
  {
   "cell_type": "code",
   "execution_count": 5,
   "id": "a462d470-398d-4f64-927f-7d9a0538508b",
   "metadata": {
    "execution": {
     "iopub.execute_input": "2021-10-14T00:32:16.550282Z",
     "iopub.status.busy": "2021-10-14T00:32:16.549963Z",
     "iopub.status.idle": "2021-10-14T00:32:16.560182Z",
     "shell.execute_reply": "2021-10-14T00:32:16.560462Z"
    },
    "papermill": {
     "duration": 0.020156,
     "end_time": "2021-10-14T00:32:16.560560",
     "exception": false,
     "start_time": "2021-10-14T00:32:16.540404",
     "status": "completed"
    },
    "tags": []
   },
   "outputs": [],
   "source": [
    "params = {\n",
    "    \"task\": \"train\",\n",
    "    \"objective\": \"tweedie\",\n",
    "    \"num_iterations\": 1000,\n",
    "    \"learning_rate\": 0.1,\n",
    "    \"num_leaves\": 31,\n",
    "    \"num_threads\": 4,\n",
    "    \"early_stopping_round\": 100,\n",
    "}"
   ]
  },
  {
   "cell_type": "code",
   "execution_count": 6,
   "id": "1a9cdb58-c9eb-4839-b1c6-5e6d44b4a36a",
   "metadata": {
    "execution": {
     "iopub.execute_input": "2021-10-14T00:32:16.575595Z",
     "iopub.status.busy": "2021-10-14T00:32:16.575275Z",
     "iopub.status.idle": "2021-10-14T00:32:17.577978Z",
     "shell.execute_reply": "2021-10-14T00:32:17.577634Z"
    },
    "papermill": {
     "duration": 1.01202,
     "end_time": "2021-10-14T00:32:17.578065",
     "exception": false,
     "start_time": "2021-10-14T00:32:16.566045",
     "status": "completed"
    },
    "tags": []
   },
   "outputs": [
    {
     "name": "stdout",
     "output_type": "stream",
     "text": [
      "Training model...\n",
      "[LightGBM] [Info] Load from binary file /home/ariel/Playground/m5-forecasting/data/processed/datasets/7/train.bin\n",
      "[LightGBM] [Warning] Auto-choosing row-wise multi-threading, the overhead of testing was 0.001569 seconds.\n",
      "You can set `force_row_wise=true` to remove the overhead.\n",
      "And if memory is not enough, you can set `force_col_wise=true`.\n",
      "[LightGBM] [Info] Total Bins 5490\n",
      "[LightGBM] [Info] Number of data points in the train set: 38724, number of used features: 27\n",
      "[LightGBM] [Info] Start training from score 7.401496\n",
      "[1]\tvalid_0's tweedie: 176.763\n",
      "Training until validation scores don't improve for 100 rounds\n",
      "[2]\tvalid_0's tweedie: 173.676\n",
      "[3]\tvalid_0's tweedie: 171.055\n",
      "[4]\tvalid_0's tweedie: 168.852\n",
      "[5]\tvalid_0's tweedie: 166.994\n",
      "[6]\tvalid_0's tweedie: 165.457\n",
      "[7]\tvalid_0's tweedie: 164.164\n",
      "[8]\tvalid_0's tweedie: 163.088\n",
      "[9]\tvalid_0's tweedie: 162.195\n",
      "[10]\tvalid_0's tweedie: 161.446\n",
      "[11]\tvalid_0's tweedie: 160.83\n",
      "[12]\tvalid_0's tweedie: 160.321\n",
      "[13]\tvalid_0's tweedie: 159.918\n",
      "[14]\tvalid_0's tweedie: 159.571\n",
      "[15]\tvalid_0's tweedie: 159.295\n",
      "[16]\tvalid_0's tweedie: 159.065\n",
      "[17]\tvalid_0's tweedie: 158.88\n",
      "[18]\tvalid_0's tweedie: 158.731\n",
      "[19]\tvalid_0's tweedie: 158.61\n",
      "[20]\tvalid_0's tweedie: 158.506\n",
      "[21]\tvalid_0's tweedie: 158.429\n",
      "[22]\tvalid_0's tweedie: 158.363\n",
      "[23]\tvalid_0's tweedie: 158.306\n",
      "[24]\tvalid_0's tweedie: 158.263\n",
      "[25]\tvalid_0's tweedie: 158.227\n",
      "[26]\tvalid_0's tweedie: 158.197\n",
      "[27]\tvalid_0's tweedie: 158.174\n",
      "[28]\tvalid_0's tweedie: 158.156\n",
      "[29]\tvalid_0's tweedie: 158.14\n",
      "[30]\tvalid_0's tweedie: 158.126\n",
      "[31]\tvalid_0's tweedie: 158.114\n",
      "[32]\tvalid_0's tweedie: 158.105\n",
      "[33]\tvalid_0's tweedie: 158.1\n",
      "[34]\tvalid_0's tweedie: 158.094\n",
      "[35]\tvalid_0's tweedie: 158.089\n",
      "[36]\tvalid_0's tweedie: 158.087\n",
      "[37]\tvalid_0's tweedie: 158.085\n",
      "[38]\tvalid_0's tweedie: 158.083\n",
      "[39]\tvalid_0's tweedie: 158.082\n",
      "[40]\tvalid_0's tweedie: 158.081\n",
      "[41]\tvalid_0's tweedie: 158.079\n",
      "[42]\tvalid_0's tweedie: 158.078\n",
      "[43]\tvalid_0's tweedie: 158.078\n",
      "[44]\tvalid_0's tweedie: 158.076\n",
      "[45]\tvalid_0's tweedie: 158.074\n",
      "[46]\tvalid_0's tweedie: 158.074\n",
      "[47]\tvalid_0's tweedie: 158.075\n",
      "[48]\tvalid_0's tweedie: 158.074\n",
      "[49]\tvalid_0's tweedie: 158.073\n",
      "[50]\tvalid_0's tweedie: 158.073\n",
      "[51]\tvalid_0's tweedie: 158.073\n",
      "[52]\tvalid_0's tweedie: 158.073\n"
     ]
    },
    {
     "name": "stderr",
     "output_type": "stream",
     "text": [
      "/home/ariel/anaconda3/envs/merlion/lib/python3.9/site-packages/lightgbm/engine.py:148: UserWarning: Found `num_iterations` in params. Will use it instead of argument\n",
      "  _log_warning(\"Found `{}` in params. Will use it instead of argument\".format(alias))\n",
      "/home/ariel/anaconda3/envs/merlion/lib/python3.9/site-packages/lightgbm/engine.py:153: UserWarning: Found `early_stopping_round` in params. Will use it instead of argument\n",
      "  _log_warning(\"Found `{}` in params. Will use it instead of argument\".format(alias))\n"
     ]
    },
    {
     "name": "stdout",
     "output_type": "stream",
     "text": [
      "[53]\tvalid_0's tweedie: 158.073\n",
      "[54]\tvalid_0's tweedie: 158.074\n",
      "[55]\tvalid_0's tweedie: 158.072\n",
      "[56]\tvalid_0's tweedie: 158.073\n",
      "[57]\tvalid_0's tweedie: 158.073\n",
      "[58]\tvalid_0's tweedie: 158.073\n",
      "[59]\tvalid_0's tweedie: 158.072\n",
      "[60]\tvalid_0's tweedie: 158.071\n",
      "[61]\tvalid_0's tweedie: 158.071\n",
      "[62]\tvalid_0's tweedie: 158.071\n",
      "[63]\tvalid_0's tweedie: 158.071\n",
      "[64]\tvalid_0's tweedie: 158.07\n",
      "[65]\tvalid_0's tweedie: 158.07\n",
      "[66]\tvalid_0's tweedie: 158.07\n",
      "[67]\tvalid_0's tweedie: 158.068\n",
      "[68]\tvalid_0's tweedie: 158.068\n",
      "[69]\tvalid_0's tweedie: 158.068\n",
      "[70]\tvalid_0's tweedie: 158.068\n",
      "[71]\tvalid_0's tweedie: 158.07\n",
      "[72]\tvalid_0's tweedie: 158.07\n",
      "[73]\tvalid_0's tweedie: 158.07\n",
      "[74]\tvalid_0's tweedie: 158.07\n",
      "[75]\tvalid_0's tweedie: 158.07\n",
      "[76]\tvalid_0's tweedie: 158.07\n",
      "[77]\tvalid_0's tweedie: 158.07\n",
      "[78]\tvalid_0's tweedie: 158.07\n",
      "[79]\tvalid_0's tweedie: 158.07\n",
      "[80]\tvalid_0's tweedie: 158.069\n",
      "[81]\tvalid_0's tweedie: 158.069\n",
      "[82]\tvalid_0's tweedie: 158.069\n",
      "[83]\tvalid_0's tweedie: 158.069\n",
      "[84]\tvalid_0's tweedie: 158.068\n",
      "[85]\tvalid_0's tweedie: 158.068\n",
      "[86]\tvalid_0's tweedie: 158.068\n",
      "[87]\tvalid_0's tweedie: 158.068\n",
      "[88]\tvalid_0's tweedie: 158.068\n",
      "[89]\tvalid_0's tweedie: 158.068\n",
      "[90]\tvalid_0's tweedie: 158.068\n",
      "[91]\tvalid_0's tweedie: 158.068\n",
      "[92]\tvalid_0's tweedie: 158.067\n",
      "[93]\tvalid_0's tweedie: 158.067\n",
      "[94]\tvalid_0's tweedie: 158.067\n",
      "[95]\tvalid_0's tweedie: 158.066\n",
      "[96]\tvalid_0's tweedie: 158.066\n",
      "[97]\tvalid_0's tweedie: 158.064\n",
      "[98]\tvalid_0's tweedie: 158.064\n",
      "[99]\tvalid_0's tweedie: 158.064\n",
      "[100]\tvalid_0's tweedie: 158.063\n",
      "[101]\tvalid_0's tweedie: 158.063\n",
      "[102]\tvalid_0's tweedie: 158.063\n",
      "[103]\tvalid_0's tweedie: 158.063\n"
     ]
    },
    {
     "name": "stdout",
     "output_type": "stream",
     "text": [
      "[104]\tvalid_0's tweedie: 158.063\n",
      "[105]\tvalid_0's tweedie: 158.063\n",
      "[106]\tvalid_0's tweedie: 158.063\n",
      "[107]\tvalid_0's tweedie: 158.063\n",
      "[108]\tvalid_0's tweedie: 158.063\n",
      "[109]\tvalid_0's tweedie: 158.063\n",
      "[110]\tvalid_0's tweedie: 158.062\n",
      "[111]\tvalid_0's tweedie: 158.062\n",
      "[112]\tvalid_0's tweedie: 158.062\n",
      "[113]\tvalid_0's tweedie: 158.062\n",
      "[114]\tvalid_0's tweedie: 158.062\n",
      "[115]\tvalid_0's tweedie: 158.062\n",
      "[116]\tvalid_0's tweedie: 158.062\n",
      "[117]\tvalid_0's tweedie: 158.062\n",
      "[118]\tvalid_0's tweedie: 158.062\n",
      "[119]\tvalid_0's tweedie: 158.061\n",
      "[120]\tvalid_0's tweedie: 158.06\n",
      "[121]\tvalid_0's tweedie: 158.06\n",
      "[122]\tvalid_0's tweedie: 158.06\n",
      "[123]\tvalid_0's tweedie: 158.06\n",
      "[124]\tvalid_0's tweedie: 158.06\n",
      "[125]\tvalid_0's tweedie: 158.06\n",
      "[126]\tvalid_0's tweedie: 158.06\n",
      "[127]\tvalid_0's tweedie: 158.059\n",
      "[128]\tvalid_0's tweedie: 158.06\n",
      "[129]\tvalid_0's tweedie: 158.06\n",
      "[130]\tvalid_0's tweedie: 158.06\n",
      "[131]\tvalid_0's tweedie: 158.06\n",
      "[132]\tvalid_0's tweedie: 158.06\n",
      "[133]\tvalid_0's tweedie: 158.06\n",
      "[134]\tvalid_0's tweedie: 158.06\n",
      "[135]\tvalid_0's tweedie: 158.06\n",
      "[136]\tvalid_0's tweedie: 158.06\n",
      "[137]\tvalid_0's tweedie: 158.06\n",
      "[138]\tvalid_0's tweedie: 158.06\n",
      "[139]\tvalid_0's tweedie: 158.059\n",
      "[140]\tvalid_0's tweedie: 158.059\n",
      "[141]\tvalid_0's tweedie: 158.059\n",
      "[142]\tvalid_0's tweedie: 158.059\n",
      "[143]\tvalid_0's tweedie: 158.059\n",
      "[144]\tvalid_0's tweedie: 158.059\n",
      "[145]\tvalid_0's tweedie: 158.059\n",
      "[146]\tvalid_0's tweedie: 158.059\n",
      "[147]\tvalid_0's tweedie: 158.058\n",
      "[148]\tvalid_0's tweedie: 158.058\n",
      "[149]\tvalid_0's tweedie: 158.058\n",
      "[150]\tvalid_0's tweedie: 158.058\n",
      "[151]\tvalid_0's tweedie: 158.058\n",
      "[152]\tvalid_0's tweedie: 158.058\n",
      "[153]\tvalid_0's tweedie: 158.058\n",
      "[154]\tvalid_0's tweedie: 158.058\n",
      "[155]\tvalid_0's tweedie: 158.057\n",
      "[156]\tvalid_0's tweedie: 158.057\n",
      "[157]\tvalid_0's tweedie: 158.057\n",
      "[158]\tvalid_0's tweedie: 158.056\n",
      "[159]\tvalid_0's tweedie: 158.056\n",
      "[160]\tvalid_0's tweedie: 158.056\n",
      "[161]\tvalid_0's tweedie: 158.056\n",
      "[162]\tvalid_0's tweedie: 158.056\n",
      "[163]\tvalid_0's tweedie: 158.056\n",
      "[164]\tvalid_0's tweedie: 158.056\n",
      "[165]\tvalid_0's tweedie: 158.056\n",
      "[166]\tvalid_0's tweedie: 158.056\n",
      "[167]\tvalid_0's tweedie: 158.056\n",
      "[168]\tvalid_0's tweedie: 158.056\n"
     ]
    },
    {
     "name": "stdout",
     "output_type": "stream",
     "text": [
      "[169]\tvalid_0's tweedie: 158.056\n",
      "[170]\tvalid_0's tweedie: 158.056\n",
      "[171]\tvalid_0's tweedie: 158.056\n",
      "[172]\tvalid_0's tweedie: 158.056\n",
      "[173]\tvalid_0's tweedie: 158.056\n",
      "[174]\tvalid_0's tweedie: 158.056\n",
      "[175]\tvalid_0's tweedie: 158.056\n",
      "[176]\tvalid_0's tweedie: 158.056\n",
      "[177]\tvalid_0's tweedie: 158.056\n",
      "[178]\tvalid_0's tweedie: 158.056\n",
      "[179]\tvalid_0's tweedie: 158.056\n",
      "[180]\tvalid_0's tweedie: 158.055\n",
      "[181]\tvalid_0's tweedie: 158.055\n",
      "[182]\tvalid_0's tweedie: 158.055\n",
      "[183]\tvalid_0's tweedie: 158.055\n",
      "[184]\tvalid_0's tweedie: 158.054\n",
      "[185]\tvalid_0's tweedie: 158.054\n",
      "[186]\tvalid_0's tweedie: 158.054\n",
      "[187]\tvalid_0's tweedie: 158.054\n",
      "[188]\tvalid_0's tweedie: 158.054\n",
      "[189]\tvalid_0's tweedie: 158.054\n",
      "[190]\tvalid_0's tweedie: 158.054\n",
      "[191]\tvalid_0's tweedie: 158.054\n",
      "[192]\tvalid_0's tweedie: 158.054\n",
      "[193]\tvalid_0's tweedie: 158.056\n",
      "[194]\tvalid_0's tweedie: 158.056\n",
      "[195]\tvalid_0's tweedie: 158.056\n",
      "[196]\tvalid_0's tweedie: 158.056\n",
      "[197]\tvalid_0's tweedie: 158.056\n",
      "[198]\tvalid_0's tweedie: 158.055\n",
      "[199]\tvalid_0's tweedie: 158.055\n",
      "[200]\tvalid_0's tweedie: 158.056\n",
      "[201]\tvalid_0's tweedie: 158.056\n",
      "[202]\tvalid_0's tweedie: 158.055\n",
      "[203]\tvalid_0's tweedie: 158.056\n",
      "[204]\tvalid_0's tweedie: 158.056\n",
      "[205]\tvalid_0's tweedie: 158.056\n",
      "[206]\tvalid_0's tweedie: 158.056\n",
      "[207]\tvalid_0's tweedie: 158.056\n",
      "[208]\tvalid_0's tweedie: 158.056\n",
      "[209]\tvalid_0's tweedie: 158.056\n",
      "[210]\tvalid_0's tweedie: 158.056\n",
      "[211]\tvalid_0's tweedie: 158.056\n",
      "[212]\tvalid_0's tweedie: 158.056\n",
      "[213]\tvalid_0's tweedie: 158.056\n",
      "[214]\tvalid_0's tweedie: 158.056\n",
      "[215]\tvalid_0's tweedie: 158.056\n",
      "[216]\tvalid_0's tweedie: 158.056\n",
      "[217]\tvalid_0's tweedie: 158.056\n",
      "[218]\tvalid_0's tweedie: 158.056\n",
      "[219]\tvalid_0's tweedie: 158.056\n",
      "[220]\tvalid_0's tweedie: 158.056\n",
      "[221]\tvalid_0's tweedie: 158.056\n",
      "[222]\tvalid_0's tweedie: 158.056\n",
      "[223]\tvalid_0's tweedie: 158.056\n",
      "[224]\tvalid_0's tweedie: 158.057\n",
      "[225]\tvalid_0's tweedie: 158.057\n",
      "[226]\tvalid_0's tweedie: 158.057\n",
      "[227]\tvalid_0's tweedie: 158.057\n",
      "[228]\tvalid_0's tweedie: 158.057\n",
      "[229]\tvalid_0's tweedie: 158.057\n",
      "[230]\tvalid_0's tweedie: 158.057\n",
      "[231]\tvalid_0's tweedie: 158.057\n",
      "[232]\tvalid_0's tweedie: 158.057\n",
      "[233]\tvalid_0's tweedie: 158.056\n"
     ]
    },
    {
     "name": "stdout",
     "output_type": "stream",
     "text": [
      "[234]\tvalid_0's tweedie: 158.056\n",
      "[235]\tvalid_0's tweedie: 158.056\n",
      "[236]\tvalid_0's tweedie: 158.056\n",
      "[237]\tvalid_0's tweedie: 158.056\n",
      "[238]\tvalid_0's tweedie: 158.056\n",
      "[239]\tvalid_0's tweedie: 158.056\n",
      "[240]\tvalid_0's tweedie: 158.056\n",
      "[241]\tvalid_0's tweedie: 158.056\n",
      "[242]\tvalid_0's tweedie: 158.056\n",
      "[243]\tvalid_0's tweedie: 158.056\n",
      "[244]\tvalid_0's tweedie: 158.056\n",
      "[245]\tvalid_0's tweedie: 158.056\n",
      "[246]\tvalid_0's tweedie: 158.055\n",
      "[247]\tvalid_0's tweedie: 158.055\n",
      "[248]\tvalid_0's tweedie: 158.055\n",
      "[249]\tvalid_0's tweedie: 158.055\n",
      "[250]\tvalid_0's tweedie: 158.055\n",
      "[251]\tvalid_0's tweedie: 158.055\n",
      "[252]\tvalid_0's tweedie: 158.055\n",
      "[253]\tvalid_0's tweedie: 158.056\n",
      "[254]\tvalid_0's tweedie: 158.056\n",
      "[255]\tvalid_0's tweedie: 158.056\n",
      "[256]\tvalid_0's tweedie: 158.056\n",
      "[257]\tvalid_0's tweedie: 158.056\n",
      "[258]\tvalid_0's tweedie: 158.056\n",
      "[259]\tvalid_0's tweedie: 158.056\n",
      "[260]\tvalid_0's tweedie: 158.056\n",
      "[261]\tvalid_0's tweedie: 158.056\n",
      "[262]\tvalid_0's tweedie: 158.056\n",
      "[263]\tvalid_0's tweedie: 158.056\n",
      "[264]\tvalid_0's tweedie: 158.055\n",
      "[265]\tvalid_0's tweedie: 158.055\n",
      "[266]\tvalid_0's tweedie: 158.055\n",
      "[267]\tvalid_0's tweedie: 158.055\n",
      "[268]\tvalid_0's tweedie: 158.055\n",
      "[269]\tvalid_0's tweedie: 158.055\n",
      "[270]\tvalid_0's tweedie: 158.056\n",
      "[271]\tvalid_0's tweedie: 158.055\n",
      "[272]\tvalid_0's tweedie: 158.055\n",
      "[273]\tvalid_0's tweedie: 158.055\n",
      "[274]\tvalid_0's tweedie: 158.055\n",
      "[275]\tvalid_0's tweedie: 158.056\n",
      "[276]\tvalid_0's tweedie: 158.056\n",
      "[277]\tvalid_0's tweedie: 158.056\n",
      "[278]\tvalid_0's tweedie: 158.056\n",
      "[279]\tvalid_0's tweedie: 158.056\n",
      "[280]\tvalid_0's tweedie: 158.056\n",
      "[281]\tvalid_0's tweedie: 158.056\n",
      "[282]\tvalid_0's tweedie: 158.056\n",
      "[283]\tvalid_0's tweedie: 158.056\n",
      "[284]\tvalid_0's tweedie: 158.056\n",
      "[285]\tvalid_0's tweedie: 158.056\n",
      "[286]\tvalid_0's tweedie: 158.056\n",
      "[287]\tvalid_0's tweedie: 158.056\n",
      "[288]\tvalid_0's tweedie: 158.056\n",
      "[289]\tvalid_0's tweedie: 158.056\n",
      "[290]\tvalid_0's tweedie: 158.056\n",
      "Early stopping, best iteration is:\n",
      "[190]\tvalid_0's tweedie: 158.054\n",
      "Done.\n"
     ]
    }
   ],
   "source": [
    "train(cfg.DATA_DIR, cfg.MODEL_DIR, level, params)"
   ]
  },
  {
   "cell_type": "markdown",
   "id": "e40d6d12-d2da-4317-8bf1-1395e76d2d0c",
   "metadata": {
    "papermill": {
     "duration": 0.007409,
     "end_time": "2021-10-14T00:32:17.594462",
     "exception": false,
     "start_time": "2021-10-14T00:32:17.587053",
     "status": "completed"
    },
    "tags": []
   },
   "source": [
    "## Predict"
   ]
  },
  {
   "cell_type": "code",
   "execution_count": 7,
   "id": "40387698-a478-4d41-90ec-889a8401b7e5",
   "metadata": {
    "execution": {
     "iopub.execute_input": "2021-10-14T00:32:17.613658Z",
     "iopub.status.busy": "2021-10-14T00:32:17.613303Z",
     "iopub.status.idle": "2021-10-14T00:32:17.668110Z",
     "shell.execute_reply": "2021-10-14T00:32:17.668353Z"
    },
    "papermill": {
     "duration": 0.066896,
     "end_time": "2021-10-14T00:32:17.668444",
     "exception": false,
     "start_time": "2021-10-14T00:32:17.601548",
     "status": "completed"
    },
    "tags": []
   },
   "outputs": [
    {
     "data": {
      "text/html": [
       "<div>\n",
       "<style scoped>\n",
       "    .dataframe tbody tr th:only-of-type {\n",
       "        vertical-align: middle;\n",
       "    }\n",
       "\n",
       "    .dataframe tbody tr th {\n",
       "        vertical-align: top;\n",
       "    }\n",
       "\n",
       "    .dataframe thead th {\n",
       "        text-align: right;\n",
       "    }\n",
       "</style>\n",
       "<table border=\"1\" class=\"dataframe\">\n",
       "  <thead>\n",
       "    <tr style=\"text-align: right;\">\n",
       "      <th></th>\n",
       "      <th>state_id</th>\n",
       "      <th>dept_id</th>\n",
       "      <th>d</th>\n",
       "      <th>sales</th>\n",
       "      <th>fcst</th>\n",
       "    </tr>\n",
       "  </thead>\n",
       "  <tbody>\n",
       "    <tr>\n",
       "      <th>39585</th>\n",
       "      <td>0</td>\n",
       "      <td>0</td>\n",
       "      <td>1886</td>\n",
       "      <td>1048</td>\n",
       "      <td>1159.767646</td>\n",
       "    </tr>\n",
       "    <tr>\n",
       "      <th>39606</th>\n",
       "      <td>0</td>\n",
       "      <td>0</td>\n",
       "      <td>1887</td>\n",
       "      <td>943</td>\n",
       "      <td>1077.173961</td>\n",
       "    </tr>\n",
       "    <tr>\n",
       "      <th>39627</th>\n",
       "      <td>0</td>\n",
       "      <td>0</td>\n",
       "      <td>1888</td>\n",
       "      <td>1017</td>\n",
       "      <td>1128.878209</td>\n",
       "    </tr>\n",
       "    <tr>\n",
       "      <th>39648</th>\n",
       "      <td>0</td>\n",
       "      <td>0</td>\n",
       "      <td>1889</td>\n",
       "      <td>1253</td>\n",
       "      <td>1254.119385</td>\n",
       "    </tr>\n",
       "    <tr>\n",
       "      <th>39669</th>\n",
       "      <td>0</td>\n",
       "      <td>0</td>\n",
       "      <td>1890</td>\n",
       "      <td>1419</td>\n",
       "      <td>1420.890201</td>\n",
       "    </tr>\n",
       "    <tr>\n",
       "      <th>...</th>\n",
       "      <td>...</td>\n",
       "      <td>...</td>\n",
       "      <td>...</td>\n",
       "      <td>...</td>\n",
       "      <td>...</td>\n",
       "    </tr>\n",
       "    <tr>\n",
       "      <th>40088</th>\n",
       "      <td>2</td>\n",
       "      <td>6</td>\n",
       "      <td>1909</td>\n",
       "      <td>419</td>\n",
       "      <td>354.449885</td>\n",
       "    </tr>\n",
       "    <tr>\n",
       "      <th>40109</th>\n",
       "      <td>2</td>\n",
       "      <td>6</td>\n",
       "      <td>1910</td>\n",
       "      <td>438</td>\n",
       "      <td>355.571376</td>\n",
       "    </tr>\n",
       "    <tr>\n",
       "      <th>40130</th>\n",
       "      <td>2</td>\n",
       "      <td>6</td>\n",
       "      <td>1911</td>\n",
       "      <td>518</td>\n",
       "      <td>480.842444</td>\n",
       "    </tr>\n",
       "    <tr>\n",
       "      <th>40151</th>\n",
       "      <td>2</td>\n",
       "      <td>6</td>\n",
       "      <td>1912</td>\n",
       "      <td>629</td>\n",
       "      <td>577.563874</td>\n",
       "    </tr>\n",
       "    <tr>\n",
       "      <th>40172</th>\n",
       "      <td>2</td>\n",
       "      <td>6</td>\n",
       "      <td>1913</td>\n",
       "      <td>602</td>\n",
       "      <td>488.907937</td>\n",
       "    </tr>\n",
       "  </tbody>\n",
       "</table>\n",
       "<p>588 rows × 5 columns</p>\n",
       "</div>"
      ],
      "text/plain": [
       "       state_id  dept_id     d  sales         fcst\n",
       "39585         0        0  1886   1048  1159.767646\n",
       "39606         0        0  1887    943  1077.173961\n",
       "39627         0        0  1888   1017  1128.878209\n",
       "39648         0        0  1889   1253  1254.119385\n",
       "39669         0        0  1890   1419  1420.890201\n",
       "...         ...      ...   ...    ...          ...\n",
       "40088         2        6  1909    419   354.449885\n",
       "40109         2        6  1910    438   355.571376\n",
       "40130         2        6  1911    518   480.842444\n",
       "40151         2        6  1912    629   577.563874\n",
       "40172         2        6  1913    602   488.907937\n",
       "\n",
       "[588 rows x 5 columns]"
      ]
     },
     "execution_count": 7,
     "metadata": {},
     "output_type": "execute_result"
    }
   ],
   "source": [
    "fcst = predict(cfg.DATA_DIR, cfg.MODEL_DIR, cfg.FCST_DIR, level)\n",
    "fcst"
   ]
  },
  {
   "cell_type": "code",
   "execution_count": 8,
   "id": "2b597f99-2385-4c62-8b50-e15b1d61869c",
   "metadata": {
    "execution": {
     "iopub.execute_input": "2021-10-14T00:32:17.691668Z",
     "iopub.status.busy": "2021-10-14T00:32:17.690525Z",
     "iopub.status.idle": "2021-10-14T00:32:17.876870Z",
     "shell.execute_reply": "2021-10-14T00:32:17.877115Z"
    },
    "papermill": {
     "duration": 0.201438,
     "end_time": "2021-10-14T00:32:17.877208",
     "exception": false,
     "start_time": "2021-10-14T00:32:17.675770",
     "status": "completed"
    },
    "tags": []
   },
   "outputs": [
    {
     "data": {
      "image/png": "[encoded data removed]",
      "text/plain": [
       "<Figure size 1008x288 with 1 Axes>"
      ]
     },
     "metadata": {
      "needs_background": "light"
     },
     "output_type": "display_data"
    }
   ],
   "source": [
    "plot_fcst(cfg.DATA_DIR, cfg.FCST_DIR, level=level)"
   ]
  },
  {
   "cell_type": "markdown",
   "id": "09bfab3b-9cf9-41f0-a340-7c0363b7df0d",
   "metadata": {
    "papermill": {
     "duration": 0.008228,
     "end_time": "2021-10-14T00:32:17.893667",
     "exception": false,
     "start_time": "2021-10-14T00:32:17.885439",
     "status": "completed"
    },
    "tags": []
   },
   "source": [
    "## Evaluate"
   ]
  },
  {
   "cell_type": "code",
   "execution_count": 9,
   "id": "d8b7a2f7-996f-4a76-8adf-c77b27d83b02",
   "metadata": {
    "execution": {
     "iopub.execute_input": "2021-10-14T00:32:17.913805Z",
     "iopub.status.busy": "2021-10-14T00:32:17.913335Z",
     "iopub.status.idle": "2021-10-14T00:32:17.966074Z",
     "shell.execute_reply": "2021-10-14T00:32:17.965646Z"
    },
    "papermill": {
     "duration": 0.064529,
     "end_time": "2021-10-14T00:32:17.966191",
     "exception": false,
     "start_time": "2021-10-14T00:32:17.901662",
     "status": "completed"
    },
    "tags": []
   },
   "outputs": [
    {
     "data": {
      "text/html": [
       "<div>\n",
       "<style scoped>\n",
       "    .dataframe tbody tr th:only-of-type {\n",
       "        vertical-align: middle;\n",
       "    }\n",
       "\n",
       "    .dataframe tbody tr th {\n",
       "        vertical-align: top;\n",
       "    }\n",
       "\n",
       "    .dataframe thead th {\n",
       "        text-align: right;\n",
       "    }\n",
       "</style>\n",
       "<table border=\"1\" class=\"dataframe\">\n",
       "  <thead>\n",
       "    <tr style=\"text-align: right;\">\n",
       "      <th></th>\n",
       "      <th>state_id</th>\n",
       "      <th>dept_id</th>\n",
       "      <th>mse_fcst</th>\n",
       "      <th>mse_naive_insample</th>\n",
       "      <th>weights</th>\n",
       "      <th>msse</th>\n",
       "      <th>rmsse</th>\n",
       "      <th>wrmsse</th>\n",
       "    </tr>\n",
       "  </thead>\n",
       "  <tbody>\n",
       "    <tr>\n",
       "      <th>0</th>\n",
       "      <td>0</td>\n",
       "      <td>0</td>\n",
       "      <td>10482.364982</td>\n",
       "      <td>6.057973e+04</td>\n",
       "      <td>0.028617</td>\n",
       "      <td>0.173034</td>\n",
       "      <td>0.415974</td>\n",
       "      <td>0.011904</td>\n",
       "    </tr>\n",
       "    <tr>\n",
       "      <th>1</th>\n",
       "      <td>0</td>\n",
       "      <td>1</td>\n",
       "      <td>37789.224794</td>\n",
       "      <td>9.131427e+04</td>\n",
       "      <td>0.057833</td>\n",
       "      <td>0.413837</td>\n",
       "      <td>0.643302</td>\n",
       "      <td>0.037204</td>\n",
       "    </tr>\n",
       "    <tr>\n",
       "      <th>2</th>\n",
       "      <td>0</td>\n",
       "      <td>2</td>\n",
       "      <td>146523.675315</td>\n",
       "      <td>1.807183e+06</td>\n",
       "      <td>0.150900</td>\n",
       "      <td>0.081078</td>\n",
       "      <td>0.284743</td>\n",
       "      <td>0.042968</td>\n",
       "    </tr>\n",
       "    <tr>\n",
       "      <th>3</th>\n",
       "      <td>0</td>\n",
       "      <td>3</td>\n",
       "      <td>32724.072542</td>\n",
       "      <td>8.514719e+04</td>\n",
       "      <td>0.056969</td>\n",
       "      <td>0.384324</td>\n",
       "      <td>0.619938</td>\n",
       "      <td>0.035318</td>\n",
       "    </tr>\n",
       "    <tr>\n",
       "      <th>4</th>\n",
       "      <td>0</td>\n",
       "      <td>4</td>\n",
       "      <td>394.122317</td>\n",
       "      <td>1.118596e+03</td>\n",
       "      <td>0.002436</td>\n",
       "      <td>0.352337</td>\n",
       "      <td>0.593579</td>\n",
       "      <td>0.001446</td>\n",
       "    </tr>\n",
       "    <tr>\n",
       "      <th>5</th>\n",
       "      <td>0</td>\n",
       "      <td>5</td>\n",
       "      <td>48712.161365</td>\n",
       "      <td>3.196392e+05</td>\n",
       "      <td>0.100941</td>\n",
       "      <td>0.152397</td>\n",
       "      <td>0.390381</td>\n",
       "      <td>0.039406</td>\n",
       "    </tr>\n",
       "    <tr>\n",
       "      <th>6</th>\n",
       "      <td>0</td>\n",
       "      <td>6</td>\n",
       "      <td>13601.526011</td>\n",
       "      <td>3.014655e+04</td>\n",
       "      <td>0.036055</td>\n",
       "      <td>0.451180</td>\n",
       "      <td>0.671699</td>\n",
       "      <td>0.024218</td>\n",
       "    </tr>\n",
       "    <tr>\n",
       "      <th>7</th>\n",
       "      <td>1</td>\n",
       "      <td>0</td>\n",
       "      <td>7974.420918</td>\n",
       "      <td>1.797124e+04</td>\n",
       "      <td>0.017479</td>\n",
       "      <td>0.443732</td>\n",
       "      <td>0.666132</td>\n",
       "      <td>0.011643</td>\n",
       "    </tr>\n",
       "    <tr>\n",
       "      <th>8</th>\n",
       "      <td>1</td>\n",
       "      <td>1</td>\n",
       "      <td>15454.823635</td>\n",
       "      <td>5.888359e+04</td>\n",
       "      <td>0.036103</td>\n",
       "      <td>0.262464</td>\n",
       "      <td>0.512312</td>\n",
       "      <td>0.018496</td>\n",
       "    </tr>\n",
       "    <tr>\n",
       "      <th>9</th>\n",
       "      <td>1</td>\n",
       "      <td>2</td>\n",
       "      <td>97555.651793</td>\n",
       "      <td>1.041819e+06</td>\n",
       "      <td>0.094111</td>\n",
       "      <td>0.093640</td>\n",
       "      <td>0.306006</td>\n",
       "      <td>0.028799</td>\n",
       "    </tr>\n",
       "    <tr>\n",
       "      <th>10</th>\n",
       "      <td>1</td>\n",
       "      <td>3</td>\n",
       "      <td>13773.483411</td>\n",
       "      <td>2.856006e+04</td>\n",
       "      <td>0.039514</td>\n",
       "      <td>0.482264</td>\n",
       "      <td>0.694452</td>\n",
       "      <td>0.027441</td>\n",
       "    </tr>\n",
       "    <tr>\n",
       "      <th>11</th>\n",
       "      <td>1</td>\n",
       "      <td>4</td>\n",
       "      <td>1064.124798</td>\n",
       "      <td>9.992946e+02</td>\n",
       "      <td>0.001910</td>\n",
       "      <td>1.064876</td>\n",
       "      <td>1.031928</td>\n",
       "      <td>0.001971</td>\n",
       "    </tr>\n",
       "    <tr>\n",
       "      <th>12</th>\n",
       "      <td>1</td>\n",
       "      <td>5</td>\n",
       "      <td>37863.076032</td>\n",
       "      <td>1.492872e+05</td>\n",
       "      <td>0.070013</td>\n",
       "      <td>0.253626</td>\n",
       "      <td>0.503613</td>\n",
       "      <td>0.035259</td>\n",
       "    </tr>\n",
       "    <tr>\n",
       "      <th>13</th>\n",
       "      <td>1</td>\n",
       "      <td>6</td>\n",
       "      <td>3085.499752</td>\n",
       "      <td>7.950885e+03</td>\n",
       "      <td>0.020240</td>\n",
       "      <td>0.388070</td>\n",
       "      <td>0.622953</td>\n",
       "      <td>0.012608</td>\n",
       "    </tr>\n",
       "    <tr>\n",
       "      <th>14</th>\n",
       "      <td>2</td>\n",
       "      <td>0</td>\n",
       "      <td>8692.376785</td>\n",
       "      <td>2.597520e+04</td>\n",
       "      <td>0.020698</td>\n",
       "      <td>0.334641</td>\n",
       "      <td>0.578482</td>\n",
       "      <td>0.011973</td>\n",
       "    </tr>\n",
       "    <tr>\n",
       "      <th>15</th>\n",
       "      <td>2</td>\n",
       "      <td>1</td>\n",
       "      <td>130565.611158</td>\n",
       "      <td>1.149059e+05</td>\n",
       "      <td>0.061745</td>\n",
       "      <td>1.136283</td>\n",
       "      <td>1.065966</td>\n",
       "      <td>0.065818</td>\n",
       "    </tr>\n",
       "    <tr>\n",
       "      <th>16</th>\n",
       "      <td>2</td>\n",
       "      <td>2</td>\n",
       "      <td>198303.417592</td>\n",
       "      <td>1.050751e+06</td>\n",
       "      <td>0.102216</td>\n",
       "      <td>0.188725</td>\n",
       "      <td>0.434425</td>\n",
       "      <td>0.044405</td>\n",
       "    </tr>\n",
       "    <tr>\n",
       "      <th>17</th>\n",
       "      <td>2</td>\n",
       "      <td>3</td>\n",
       "      <td>11449.770716</td>\n",
       "      <td>4.061761e+04</td>\n",
       "      <td>0.026310</td>\n",
       "      <td>0.281892</td>\n",
       "      <td>0.530935</td>\n",
       "      <td>0.013969</td>\n",
       "    </tr>\n",
       "    <tr>\n",
       "      <th>18</th>\n",
       "      <td>2</td>\n",
       "      <td>4</td>\n",
       "      <td>577.790947</td>\n",
       "      <td>6.031056e+02</td>\n",
       "      <td>0.001531</td>\n",
       "      <td>0.958026</td>\n",
       "      <td>0.978788</td>\n",
       "      <td>0.001498</td>\n",
       "    </tr>\n",
       "    <tr>\n",
       "      <th>19</th>\n",
       "      <td>2</td>\n",
       "      <td>5</td>\n",
       "      <td>97925.249141</td>\n",
       "      <td>1.467370e+05</td>\n",
       "      <td>0.058247</td>\n",
       "      <td>0.667352</td>\n",
       "      <td>0.816916</td>\n",
       "      <td>0.047583</td>\n",
       "    </tr>\n",
       "    <tr>\n",
       "      <th>20</th>\n",
       "      <td>2</td>\n",
       "      <td>6</td>\n",
       "      <td>2313.105421</td>\n",
       "      <td>5.994338e+03</td>\n",
       "      <td>0.016133</td>\n",
       "      <td>0.385882</td>\n",
       "      <td>0.621194</td>\n",
       "      <td>0.010022</td>\n",
       "    </tr>\n",
       "  </tbody>\n",
       "</table>\n",
       "</div>"
      ],
      "text/plain": [
       "    state_id  dept_id       mse_fcst  mse_naive_insample   weights      msse  \\\n",
       "0          0        0   10482.364982        6.057973e+04  0.028617  0.173034   \n",
       "1          0        1   37789.224794        9.131427e+04  0.057833  0.413837   \n",
       "2          0        2  146523.675315        1.807183e+06  0.150900  0.081078   \n",
       "3          0        3   32724.072542        8.514719e+04  0.056969  0.384324   \n",
       "4          0        4     394.122317        1.118596e+03  0.002436  0.352337   \n",
       "5          0        5   48712.161365        3.196392e+05  0.100941  0.152397   \n",
       "6          0        6   13601.526011        3.014655e+04  0.036055  0.451180   \n",
       "7          1        0    7974.420918        1.797124e+04  0.017479  0.443732   \n",
       "8          1        1   15454.823635        5.888359e+04  0.036103  0.262464   \n",
       "9          1        2   97555.651793        1.041819e+06  0.094111  0.093640   \n",
       "10         1        3   13773.483411        2.856006e+04  0.039514  0.482264   \n",
       "11         1        4    1064.124798        9.992946e+02  0.001910  1.064876   \n",
       "12         1        5   37863.076032        1.492872e+05  0.070013  0.253626   \n",
       "13         1        6    3085.499752        7.950885e+03  0.020240  0.388070   \n",
       "14         2        0    8692.376785        2.597520e+04  0.020698  0.334641   \n",
       "15         2        1  130565.611158        1.149059e+05  0.061745  1.136283   \n",
       "16         2        2  198303.417592        1.050751e+06  0.102216  0.188725   \n",
       "17         2        3   11449.770716        4.061761e+04  0.026310  0.281892   \n",
       "18         2        4     577.790947        6.031056e+02  0.001531  0.958026   \n",
       "19         2        5   97925.249141        1.467370e+05  0.058247  0.667352   \n",
       "20         2        6    2313.105421        5.994338e+03  0.016133  0.385882   \n",
       "\n",
       "       rmsse    wrmsse  \n",
       "0   0.415974  0.011904  \n",
       "1   0.643302  0.037204  \n",
       "2   0.284743  0.042968  \n",
       "3   0.619938  0.035318  \n",
       "4   0.593579  0.001446  \n",
       "5   0.390381  0.039406  \n",
       "6   0.671699  0.024218  \n",
       "7   0.666132  0.011643  \n",
       "8   0.512312  0.018496  \n",
       "9   0.306006  0.028799  \n",
       "10  0.694452  0.027441  \n",
       "11  1.031928  0.001971  \n",
       "12  0.503613  0.035259  \n",
       "13  0.622953  0.012608  \n",
       "14  0.578482  0.011973  \n",
       "15  1.065966  0.065818  \n",
       "16  0.434425  0.044405  \n",
       "17  0.530935  0.013969  \n",
       "18  0.978788  0.001498  \n",
       "19  0.816916  0.047583  \n",
       "20  0.621194  0.010022  "
      ]
     },
     "execution_count": 9,
     "metadata": {},
     "output_type": "execute_result"
    }
   ],
   "source": [
    "accuracy_df = accuracy(cfg.DATA_DIR, cfg.FCST_DIR, cfg.METRICS_DIR, level)\n",
    "accuracy_df"
   ]
  },
  {
   "cell_type": "code",
   "execution_count": 10,
   "id": "2f7e4bc6-8e33-449a-9853-3cae4192d1ea",
   "metadata": {
    "execution": {
     "iopub.execute_input": "2021-10-14T00:32:17.986158Z",
     "iopub.status.busy": "2021-10-14T00:32:17.985664Z",
     "iopub.status.idle": "2021-10-14T00:32:17.997443Z",
     "shell.execute_reply": "2021-10-14T00:32:17.997662Z"
    },
    "papermill": {
     "duration": 0.023019,
     "end_time": "2021-10-14T00:32:17.997746",
     "exception": false,
     "start_time": "2021-10-14T00:32:17.974727",
     "status": "completed"
    },
    "tags": []
   },
   "outputs": [
    {
     "data": {
      "text/plain": [
       "1.0"
      ]
     },
     "execution_count": 10,
     "metadata": {},
     "output_type": "execute_result"
    }
   ],
   "source": [
    "accuracy_df[\"weights\"].sum()"
   ]
  },
  {
   "cell_type": "code",
   "execution_count": 11,
   "id": "a0258800-c530-4b7c-98c5-2274bb70e942",
   "metadata": {
    "execution": {
     "iopub.execute_input": "2021-10-14T00:32:18.017838Z",
     "iopub.status.busy": "2021-10-14T00:32:18.017410Z",
     "iopub.status.idle": "2021-10-14T00:32:18.030610Z",
     "shell.execute_reply": "2021-10-14T00:32:18.030303Z"
    },
    "papermill": {
     "duration": 0.024655,
     "end_time": "2021-10-14T00:32:18.030686",
     "exception": false,
     "start_time": "2021-10-14T00:32:18.006031",
     "status": "completed"
    },
    "tags": []
   },
   "outputs": [
    {
     "data": {
      "text/plain": [
       "0.5239482062069095"
      ]
     },
     "execution_count": 11,
     "metadata": {},
     "output_type": "execute_result"
    }
   ],
   "source": [
    "accuracy_df[\"wrmsse\"].sum()"
   ]
  },
  {
   "cell_type": "markdown",
   "id": "1ceb0cd5-c916-463f-a49b-4377d84f54ee",
   "metadata": {
    "papermill": {
     "duration": 0.009082,
     "end_time": "2021-10-14T00:32:18.048739",
     "exception": false,
     "start_time": "2021-10-14T00:32:18.039657",
     "status": "completed"
    },
    "tags": []
   },
   "source": [
    "## Misc"
   ]
  },
  {
   "cell_type": "code",
   "execution_count": null,
   "id": "475d6cb9-66f8-4102-8e08-349557a780c5",
   "metadata": {
    "papermill": {
     "duration": 0.009408,
     "end_time": "2021-10-14T00:32:18.067177",
     "exception": false,
     "start_time": "2021-10-14T00:32:18.057769",
     "status": "completed"
    },
    "tags": []
   },
   "outputs": [],
   "source": []
  }
 ],
 "metadata": {
  "kernelspec": {
   "display_name": "Python 3 (ipykernel)",
   "language": "python",
   "name": "python3"
  },
  "language_info": {
   "codemirror_mode": {
    "name": "ipython",
    "version": 3
   },
   "file_extension": ".py",
   "mimetype": "text/x-python",
   "name": "python",
   "nbconvert_exporter": "python",
   "pygments_lexer": "ipython3",
   "version": "3.9.7"
  },
  "papermill": {
   "default_parameters": {},
   "duration": 3.6611,
   "end_time": "2021-10-14T00:32:18.382912",
   "environment_variables": {},
   "exception": null,
   "input_path": "/home/ariel/Playground/m5-forecasting/notebooks/forecast.ipynb",
   "output_path": "/home/ariel/Playground/m5-forecasting/notebooks/forecast-7.ipynb",
   "parameters": {
    "level": 7
   },
   "start_time": "2021-10-14T00:32:14.721812",
   "version": "2.3.3"
  }
 },
 "nbformat": 4,
 "nbformat_minor": 5
}