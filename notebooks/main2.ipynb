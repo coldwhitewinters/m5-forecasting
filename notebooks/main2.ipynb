{
 "cells": [
  {
   "cell_type": "markdown",
   "id": "cf67e8b4-3f43-437a-afb3-d666def58e02",
   "metadata": {},
   "source": [
    "# Forecast"
   ]
  },
  {
   "cell_type": "markdown",
   "id": "db01a074-52df-475b-a54a-a754b84f2251",
   "metadata": {
    "tags": []
   },
   "source": [
    "## Setup"
   ]
  },
  {
   "cell_type": "code",
   "execution_count": 1,
   "id": "fb6ab9fc-2b2d-4c69-bccf-13a545604b52",
   "metadata": {},
   "outputs": [],
   "source": [
    "%load_ext autoreload\n",
    "%autoreload 2"
   ]
  },
  {
   "cell_type": "code",
   "execution_count": 11,
   "id": "372f5539-cb1b-4dd8-8d3d-2d9506e3d476",
   "metadata": {},
   "outputs": [],
   "source": [
    "import sys\n",
    "sys.path.append(\"..\")\n",
    "\n",
    "# Libraries\n",
    "import pandas as pd\n",
    "import numpy as np\n",
    "import matplotlib.pyplot as plt\n",
    "import plotly.express as px\n",
    "\n",
    "import m5.config as cfg\n",
    "import m5.preprocessing\n",
    "from m5.models import Naive, ETS, ARIMA, BottomUp\n",
    "from m5.evaluate import accuracy\n",
    "from m5.plot import plot_fcst\n",
    "\n",
    "# Library settings\n",
    "pd.options.display.max_columns = 999\n",
    "plt.rcParams[\"figure.figsize\"] = (16, 4)"
   ]
  },
  {
   "cell_type": "markdown",
   "id": "d9d6177b-3189-4b70-9542-ca825a007af1",
   "metadata": {},
   "source": [
    "## Preprocessing"
   ]
  },
  {
   "cell_type": "code",
   "execution_count": 7,
   "id": "f7edca09-9935-44e3-b9a3-b13a48de0b06",
   "metadata": {},
   "outputs": [],
   "source": [
    "m5.preprocessing.unzip_data()"
   ]
  },
  {
   "cell_type": "code",
   "execution_count": 8,
   "id": "1e9a3659-8ea3-47b7-9ab5-2fb06201438e",
   "metadata": {},
   "outputs": [],
   "source": [
    "m5.preprocessing.prepare_base_data(cfg.TASK)"
   ]
  },
  {
   "cell_type": "code",
   "execution_count": 10,
   "id": "197e599f-05f7-4c3c-b871-f10a52b343ed",
   "metadata": {},
   "outputs": [
    {
     "name": "stdout",
     "output_type": "stream",
     "text": [
      "Preparing agg level 12\n",
      "Preparing agg level 11 \n",
      "Done.\n"
     ]
    }
   ],
   "source": [
    "m5.preprocessing.prepare_agg_levels()"
   ]
  },
  {
   "cell_type": "code",
   "execution_count": 13,
   "id": "c1403891-19a1-46b0-bf52-8b0a7fefe64a",
   "metadata": {},
   "outputs": [
    {
     "name": "stdout",
     "output_type": "stream",
     "text": [
      "Preparing store data 9\n",
      "Done.\n"
     ]
    }
   ],
   "source": [
    "m5.preprocessing.prepare_store_data()"
   ]
  },
  {
   "cell_type": "markdown",
   "id": "eac0ea8d",
   "metadata": {},
   "source": [
    "## Naive"
   ]
  },
  {
   "cell_type": "code",
   "execution_count": 3,
   "id": "2d5124e6-17a3-4dda-b97f-0df3a0118047",
   "metadata": {},
   "outputs": [],
   "source": [
    "naive_bu = BottomUp(\"naive\", Naive)"
   ]
  },
  {
   "cell_type": "code",
   "execution_count": 4,
   "id": "f40bc718-878a-43cc-928c-46cda9d9b1c6",
   "metadata": {},
   "outputs": [
    {
     "name": "stdout",
     "output_type": "stream",
     "text": [
      "Training model for item 3048 and store 9   \n",
      "Done.\n"
     ]
    }
   ],
   "source": [
    "naive_bu.train()"
   ]
  },
  {
   "cell_type": "code",
   "execution_count": 5,
   "id": "573ec71f-15df-4fc7-aa06-ed1cc944826a",
   "metadata": {},
   "outputs": [
    {
     "name": "stdout",
     "output_type": "stream",
     "text": [
      "Making predictions for item 3048 and store 9   \n",
      "Done.\n",
      "Making predictions for level 11   \n",
      "Done\n"
     ]
    }
   ],
   "source": [
    "naive_bu.predict(fh=cfg.FH)"
   ]
  },
  {
   "cell_type": "code",
   "execution_count": 10,
   "id": "e2e367ee-60dc-4716-ae1b-48684ab98983",
   "metadata": {},
   "outputs": [
    {
     "data": {
      "image/png": "[encoded data removed]",
      "text/plain": [
       "<Figure size 1152x288 with 1 Axes>"
      ]
     },
     "metadata": {
      "needs_background": "light"
     },
     "output_type": "display_data"
    }
   ],
   "source": [
    "plot_fcst(\"naive\", level=12, key=(0, 0))"
   ]
  },
  {
   "cell_type": "code",
   "execution_count": 9,
   "id": "02a392d5",
   "metadata": {},
   "outputs": [
    {
     "name": "stdout",
     "output_type": "stream",
     "text": [
      "Calculating accuracy for level 12   \r"
     ]
    },
    {
     "data": {
      "text/html": [
       "<div>\n",
       "<style scoped>\n",
       "    .dataframe tbody tr th:only-of-type {\n",
       "        vertical-align: middle;\n",
       "    }\n",
       "\n",
       "    .dataframe tbody tr th {\n",
       "        vertical-align: top;\n",
       "    }\n",
       "\n",
       "    .dataframe thead th {\n",
       "        text-align: right;\n",
       "    }\n",
       "</style>\n",
       "<table border=\"1\" class=\"dataframe\">\n",
       "  <thead>\n",
       "    <tr style=\"text-align: right;\">\n",
       "      <th></th>\n",
       "      <th>1</th>\n",
       "      <th>2</th>\n",
       "      <th>3</th>\n",
       "      <th>4</th>\n",
       "      <th>5</th>\n",
       "      <th>6</th>\n",
       "      <th>7</th>\n",
       "      <th>8</th>\n",
       "      <th>9</th>\n",
       "      <th>10</th>\n",
       "      <th>11</th>\n",
       "      <th>12</th>\n",
       "      <th>Average</th>\n",
       "    </tr>\n",
       "  </thead>\n",
       "  <tbody>\n",
       "    <tr>\n",
       "      <th>wmrsse</th>\n",
       "      <td>1.487876</td>\n",
       "      <td>1.517161</td>\n",
       "      <td>1.53457</td>\n",
       "      <td>1.519981</td>\n",
       "      <td>1.605545</td>\n",
       "      <td>1.540474</td>\n",
       "      <td>1.614279</td>\n",
       "      <td>1.538774</td>\n",
       "      <td>1.561589</td>\n",
       "      <td>1.270802</td>\n",
       "      <td>1.210713</td>\n",
       "      <td>1.164504</td>\n",
       "      <td>1.463856</td>\n",
       "    </tr>\n",
       "  </tbody>\n",
       "</table>\n",
       "</div>"
      ],
      "text/plain": [
       "               1         2        3         4         5         6         7  \\\n",
       "wmrsse  1.487876  1.517161  1.53457  1.519981  1.605545  1.540474  1.614279   \n",
       "\n",
       "               8         9        10        11        12   Average  \n",
       "wmrsse  1.538774  1.561589  1.270802  1.210713  1.164504  1.463856  "
      ]
     },
     "execution_count": 9,
     "metadata": {},
     "output_type": "execute_result"
    }
   ],
   "source": [
    "accuracy(model=\"naive\")"
   ]
  },
  {
   "cell_type": "markdown",
   "id": "90466136",
   "metadata": {},
   "source": [
    "## ETS"
   ]
  },
  {
   "cell_type": "code",
   "execution_count": 3,
   "id": "9547d39d-9fda-4720-a2b1-74ee4692452f",
   "metadata": {},
   "outputs": [
    {
     "name": "stdout",
     "output_type": "stream",
     "text": [
      "Training model for item 3048 and store 9   \n",
      "Done.\n"
     ]
    }
   ],
   "source": [
    "ets.train(level=12, params=dict(error=\"add\", trend=None, seasonal=\"add\", seasonal_periods=7))"
   ]
  },
  {
   "cell_type": "code",
   "execution_count": 4,
   "id": "880ace9d-8b21-49b5-93dc-9e0e889797c2",
   "metadata": {},
   "outputs": [
    {
     "name": "stdout",
     "output_type": "stream",
     "text": [
      "Making predictions for item 3048 and store 9   \n",
      "Done.\n"
     ]
    }
   ],
   "source": [
    "ets.predict(level=12)"
   ]
  },
  {
   "cell_type": "code",
   "execution_count": 6,
   "id": "284b8951-9eba-4098-9879-95b9e42e0e12",
   "metadata": {},
   "outputs": [
    {
     "name": "stdout",
     "output_type": "stream",
     "text": [
      "Making predictions for level 11   \n",
      "Done.\n"
     ]
    }
   ],
   "source": [
    "bottom_up(model=\"ets\")"
   ]
  },
  {
   "cell_type": "code",
   "execution_count": 7,
   "id": "82cbe812-077e-481a-85a1-86f9e439752f",
   "metadata": {},
   "outputs": [
    {
     "name": "stdout",
     "output_type": "stream",
     "text": [
      "Calculating accuracy for level 12   \n",
      "Done.\n"
     ]
    }
   ],
   "source": [
    "accuracy_all_levels(model=\"ets\")"
   ]
  },
  {
   "cell_type": "code",
   "execution_count": 9,
   "id": "aa69838b-a151-4af9-8625-0081182857af",
   "metadata": {},
   "outputs": [
    {
     "name": "stdout",
     "output_type": "stream",
     "text": [
      "           wmrsse\n",
      "1        0.698489\n",
      "2        0.707789\n",
      "3        0.741688\n",
      "4        0.705884\n",
      "5        0.761146\n",
      "6        0.724194\n",
      "7        0.764957\n",
      "8        0.753594\n",
      "9        0.793867\n",
      "10       0.842976\n",
      "11       0.866412\n",
      "12       0.892628\n",
      "Average  0.771135\n"
     ]
    }
   ],
   "source": [
    "collect_metrics(model=\"ets\")"
   ]
  },
  {
   "cell_type": "markdown",
   "id": "019155c6-3001-40ba-a42d-e71faca43312",
   "metadata": {},
   "source": [
    "## Misc"
   ]
  },
  {
   "cell_type": "code",
   "execution_count": 63,
   "id": "5b958805-c877-40d7-ba2a-28f683962c00",
   "metadata": {},
   "outputs": [
    {
     "data": {
      "text/html": [
       "<div>\n",
       "<style scoped>\n",
       "    .dataframe tbody tr th:only-of-type {\n",
       "        vertical-align: middle;\n",
       "    }\n",
       "\n",
       "    .dataframe tbody tr th {\n",
       "        vertical-align: top;\n",
       "    }\n",
       "\n",
       "    .dataframe thead th {\n",
       "        text-align: right;\n",
       "    }\n",
       "</style>\n",
       "<table border=\"1\" class=\"dataframe\">\n",
       "  <thead>\n",
       "    <tr style=\"text-align: right;\">\n",
       "      <th></th>\n",
       "      <th>state_id</th>\n",
       "      <th>d</th>\n",
       "      <th>sales</th>\n",
       "      <th>fcst</th>\n",
       "    </tr>\n",
       "  </thead>\n",
       "  <tbody>\n",
       "    <tr>\n",
       "      <th>0</th>\n",
       "      <td>0</td>\n",
       "      <td>1914</td>\n",
       "      <td>17524</td>\n",
       "      <td>17176.080888</td>\n",
       "    </tr>\n",
       "    <tr>\n",
       "      <th>1</th>\n",
       "      <td>0</td>\n",
       "      <td>1915</td>\n",
       "      <td>15012</td>\n",
       "      <td>15622.870379</td>\n",
       "    </tr>\n",
       "    <tr>\n",
       "      <th>2</th>\n",
       "      <td>0</td>\n",
       "      <td>1916</td>\n",
       "      <td>14836</td>\n",
       "      <td>15206.127008</td>\n",
       "    </tr>\n",
       "    <tr>\n",
       "      <th>3</th>\n",
       "      <td>0</td>\n",
       "      <td>1917</td>\n",
       "      <td>14664</td>\n",
       "      <td>15184.976567</td>\n",
       "    </tr>\n",
       "    <tr>\n",
       "      <th>4</th>\n",
       "      <td>0</td>\n",
       "      <td>1918</td>\n",
       "      <td>17180</td>\n",
       "      <td>17106.344041</td>\n",
       "    </tr>\n",
       "    <tr>\n",
       "      <th>...</th>\n",
       "      <td>...</td>\n",
       "      <td>...</td>\n",
       "      <td>...</td>\n",
       "      <td>...</td>\n",
       "    </tr>\n",
       "    <tr>\n",
       "      <th>79</th>\n",
       "      <td>2</td>\n",
       "      <td>1937</td>\n",
       "      <td>11043</td>\n",
       "      <td>11277.708813</td>\n",
       "    </tr>\n",
       "    <tr>\n",
       "      <th>80</th>\n",
       "      <td>2</td>\n",
       "      <td>1938</td>\n",
       "      <td>11504</td>\n",
       "      <td>11402.100014</td>\n",
       "    </tr>\n",
       "    <tr>\n",
       "      <th>81</th>\n",
       "      <td>2</td>\n",
       "      <td>1939</td>\n",
       "      <td>12819</td>\n",
       "      <td>13097.135689</td>\n",
       "    </tr>\n",
       "    <tr>\n",
       "      <th>82</th>\n",
       "      <td>2</td>\n",
       "      <td>1940</td>\n",
       "      <td>14734</td>\n",
       "      <td>15380.725169</td>\n",
       "    </tr>\n",
       "    <tr>\n",
       "      <th>83</th>\n",
       "      <td>2</td>\n",
       "      <td>1941</td>\n",
       "      <td>14879</td>\n",
       "      <td>14084.816040</td>\n",
       "    </tr>\n",
       "  </tbody>\n",
       "</table>\n",
       "<p>84 rows × 4 columns</p>\n",
       "</div>"
      ],
      "text/plain": [
       "    state_id     d  sales          fcst\n",
       "0          0  1914  17524  17176.080888\n",
       "1          0  1915  15012  15622.870379\n",
       "2          0  1916  14836  15206.127008\n",
       "3          0  1917  14664  15184.976567\n",
       "4          0  1918  17180  17106.344041\n",
       "..       ...   ...    ...           ...\n",
       "79         2  1937  11043  11277.708813\n",
       "80         2  1938  11504  11402.100014\n",
       "81         2  1939  12819  13097.135689\n",
       "82         2  1940  14734  15380.725169\n",
       "83         2  1941  14879  14084.816040\n",
       "\n",
       "[84 rows x 4 columns]"
      ]
     },
     "execution_count": 63,
     "metadata": {},
     "output_type": "execute_result"
    }
   ],
   "source": [
    "fcst = pd.read_parquet(cfg.ROOT_DIR / \"fcst/ets/2/fcst.parquet\")\n",
    "fcst"
   ]
  },
  {
   "cell_type": "code",
   "execution_count": 61,
   "id": "1e5d02c0-6b64-4d30-9a16-183f20a2efc4",
   "metadata": {},
   "outputs": [
    {
     "data": {
      "image/png": "[encoded data removed]",
      "text/plain": [
       "<Figure size 1152x288 with 1 Axes>"
      ]
     },
     "metadata": {
      "needs_background": "light"
     },
     "output_type": "display_data"
    }
   ],
   "source": [
    "plot_fcst(model=\"ets\", level=2, key=2)"
   ]
  },
  {
   "cell_type": "code",
   "execution_count": null,
   "id": "2d656250-f9e3-435b-bc08-9c9691fe4ee8",
   "metadata": {},
   "outputs": [],
   "source": []
  }
 ],
 "metadata": {
  "kernelspec": {
   "display_name": "Python 3 (ipykernel)",
   "language": "python",
   "name": "python3"
  },
  "language_info": {
   "codemirror_mode": {
    "name": "ipython",
    "version": 3
   },
   "file_extension": ".py",
   "mimetype": "text/x-python",
   "name": "python",
   "nbconvert_exporter": "python",
   "pygments_lexer": "ipython3",
   "version": "3.8.12"
  }
 },
 "nbformat": 4,
 "nbformat_minor": 5
}
