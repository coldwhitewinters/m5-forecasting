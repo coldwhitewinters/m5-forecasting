{
 "cells": [
  {
   "cell_type": "markdown",
   "id": "cf67e8b4-3f43-437a-afb3-d666def58e02",
   "metadata": {},
   "source": [
    "# Forecast"
   ]
  },
  {
   "cell_type": "markdown",
   "id": "db01a074-52df-475b-a54a-a754b84f2251",
   "metadata": {
    "tags": []
   },
   "source": [
    "## Setup"
   ]
  },
  {
   "cell_type": "code",
   "execution_count": 1,
   "id": "fb6ab9fc-2b2d-4c69-bccf-13a545604b52",
   "metadata": {},
   "outputs": [],
   "source": [
    "%load_ext autoreload\n",
    "%autoreload 2"
   ]
  },
  {
   "cell_type": "code",
   "execution_count": 2,
   "id": "372f5539-cb1b-4dd8-8d3d-2d9506e3d476",
   "metadata": {},
   "outputs": [],
   "source": [
    "import sys\n",
    "sys.path.append(\"..\")\n",
    "\n",
    "# Libraries\n",
    "import pandas as pd\n",
    "import numpy as np\n",
    "import matplotlib.pyplot as plt\n",
    "import plotly.express as px\n",
    "\n",
    "import m5.config as cfg\n",
    "import m5.preprocessing\n",
    "from m5.models import Naive, ETS, ARIMA, BottomUp\n",
    "from m5.evaluate import accuracy\n",
    "from m5.plot import plot_fcst\n",
    "\n",
    "# Library settings\n",
    "pd.options.display.max_columns = 999\n",
    "plt.rcParams[\"figure.figsize\"] = (16, 4)"
   ]
  },
  {
   "cell_type": "markdown",
   "id": "d9d6177b-3189-4b70-9542-ca825a007af1",
   "metadata": {},
   "source": [
    "## Preprocessing"
   ]
  },
  {
   "cell_type": "code",
   "execution_count": 7,
   "id": "f7edca09-9935-44e3-b9a3-b13a48de0b06",
   "metadata": {},
   "outputs": [],
   "source": [
    "m5.preprocessing.unzip_data()"
   ]
  },
  {
   "cell_type": "code",
   "execution_count": 8,
   "id": "1e9a3659-8ea3-47b7-9ab5-2fb06201438e",
   "metadata": {},
   "outputs": [],
   "source": [
    "m5.preprocessing.prepare_base_data(cfg.TASK)"
   ]
  },
  {
   "cell_type": "code",
   "execution_count": 10,
   "id": "197e599f-05f7-4c3c-b871-f10a52b343ed",
   "metadata": {},
   "outputs": [
    {
     "name": "stdout",
     "output_type": "stream",
     "text": [
      "Preparing agg level 12\n",
      "Preparing agg level 11 \n",
      "Done.\n"
     ]
    }
   ],
   "source": [
    "m5.preprocessing.prepare_agg_levels()"
   ]
  },
  {
   "cell_type": "code",
   "execution_count": 13,
   "id": "c1403891-19a1-46b0-bf52-8b0a7fefe64a",
   "metadata": {},
   "outputs": [
    {
     "name": "stdout",
     "output_type": "stream",
     "text": [
      "Preparing store data 9\n",
      "Done.\n"
     ]
    }
   ],
   "source": [
    "m5.preprocessing.prepare_store_data()"
   ]
  },
  {
   "cell_type": "markdown",
   "id": "eac0ea8d",
   "metadata": {},
   "source": [
    "## Naive"
   ]
  },
  {
   "cell_type": "code",
   "execution_count": 3,
   "id": "2d5124e6-17a3-4dda-b97f-0df3a0118047",
   "metadata": {},
   "outputs": [],
   "source": [
    "naive_bu = BottomUp(\"naive\", Naive)"
   ]
  },
  {
   "cell_type": "code",
   "execution_count": 4,
   "id": "f40bc718-878a-43cc-928c-46cda9d9b1c6",
   "metadata": {},
   "outputs": [
    {
     "name": "stdout",
     "output_type": "stream",
     "text": [
      "Training model for item 3048 and store 0   \n",
      "Done.\n"
     ]
    }
   ],
   "source": [
    "naive_bu.train()"
   ]
  },
  {
   "cell_type": "code",
   "execution_count": 5,
   "id": "573ec71f-15df-4fc7-aa06-ed1cc944826a",
   "metadata": {},
   "outputs": [
    {
     "name": "stdout",
     "output_type": "stream",
     "text": [
      "Making predictions for item 3048 and store 0   \n",
      "Done.\n",
      "Making predictions for level 11   \n",
      "Done\n"
     ]
    }
   ],
   "source": [
    "naive_bu.predict(fh=cfg.FH)"
   ]
  },
  {
   "cell_type": "code",
   "execution_count": 6,
   "id": "e2e367ee-60dc-4716-ae1b-48684ab98983",
   "metadata": {},
   "outputs": [
    {
     "data": {
      "image/png": "[encoded data removed]",
      "text/plain": [
       "<Figure size 1152x288 with 1 Axes>"
      ]
     },
     "metadata": {
      "needs_background": "light"
     },
     "output_type": "display_data"
    }
   ],
   "source": [
    "plot_fcst(\"naive\", level=12, key=(0, 0))"
   ]
  },
  {
   "cell_type": "code",
   "execution_count": 7,
   "id": "02a392d5",
   "metadata": {},
   "outputs": [
    {
     "name": "stdout",
     "output_type": "stream",
     "text": [
      "Calculating accuracy for level 12   \r"
     ]
    },
    {
     "data": {
      "text/html": [
       "<div>\n",
       "<style scoped>\n",
       "    .dataframe tbody tr th:only-of-type {\n",
       "        vertical-align: middle;\n",
       "    }\n",
       "\n",
       "    .dataframe tbody tr th {\n",
       "        vertical-align: top;\n",
       "    }\n",
       "\n",
       "    .dataframe thead th {\n",
       "        text-align: right;\n",
       "    }\n",
       "</style>\n",
       "<table border=\"1\" class=\"dataframe\">\n",
       "  <thead>\n",
       "    <tr style=\"text-align: right;\">\n",
       "      <th></th>\n",
       "      <th>1</th>\n",
       "      <th>2</th>\n",
       "      <th>3</th>\n",
       "      <th>4</th>\n",
       "      <th>5</th>\n",
       "      <th>6</th>\n",
       "      <th>7</th>\n",
       "      <th>8</th>\n",
       "      <th>9</th>\n",
       "      <th>10</th>\n",
       "      <th>11</th>\n",
       "      <th>12</th>\n",
       "      <th>Average</th>\n",
       "    </tr>\n",
       "  </thead>\n",
       "  <tbody>\n",
       "    <tr>\n",
       "      <th>wmrsse</th>\n",
       "      <td>0.271476</td>\n",
       "      <td>0.262661</td>\n",
       "      <td>0.205999</td>\n",
       "      <td>0.269965</td>\n",
       "      <td>0.271293</td>\n",
       "      <td>0.255919</td>\n",
       "      <td>0.256477</td>\n",
       "      <td>0.197482</td>\n",
       "      <td>0.194196</td>\n",
       "      <td>0.322608</td>\n",
       "      <td>0.234173</td>\n",
       "      <td>0.126265</td>\n",
       "      <td>0.239043</td>\n",
       "    </tr>\n",
       "  </tbody>\n",
       "</table>\n",
       "</div>"
      ],
      "text/plain": [
       "               1         2         3         4         5         6         7  \\\n",
       "wmrsse  0.271476  0.262661  0.205999  0.269965  0.271293  0.255919  0.256477   \n",
       "\n",
       "               8         9        10        11        12   Average  \n",
       "wmrsse  0.197482  0.194196  0.322608  0.234173  0.126265  0.239043  "
      ]
     },
     "execution_count": 7,
     "metadata": {},
     "output_type": "execute_result"
    }
   ],
   "source": [
    "accuracy(model=\"naive\")"
   ]
  },
  {
   "cell_type": "markdown",
   "id": "90466136",
   "metadata": {},
   "source": [
    "## ETS"
   ]
  },
  {
   "cell_type": "code",
   "execution_count": 8,
   "id": "9547d39d-9fda-4720-a2b1-74ee4692452f",
   "metadata": {},
   "outputs": [],
   "source": [
    "ets_bu = BottomUp(model_name=\"ets\", model_cls=ETS, model_params={\"auto\": True}, regressors=None)"
   ]
  },
  {
   "cell_type": "code",
   "execution_count": null,
   "id": "83d4d71a-52a5-45dc-a8af-bc1ad99164ce",
   "metadata": {},
   "outputs": [
    {
     "name": "stdout",
     "output_type": "stream",
     "text": [
      "Training model for item 1667 and store 0   \r"
     ]
    },
    {
     "name": "stderr",
     "output_type": "stream",
     "text": [
      "C:\\Users\\ariel\\anaconda3\\envs\\python\\lib\\site-packages\\statsmodels\\base\\model.py:604: ConvergenceWarning: Maximum Likelihood optimization failed to converge. Check mle_retvals\n",
      "  warnings.warn(\"Maximum Likelihood optimization failed to \"\n"
     ]
    },
    {
     "name": "stdout",
     "output_type": "stream",
     "text": [
      "Training model for item 2721 and store 0   \r"
     ]
    },
    {
     "name": "stderr",
     "output_type": "stream",
     "text": [
      "C:\\Users\\ariel\\anaconda3\\envs\\python\\lib\\site-packages\\statsmodels\\base\\model.py:604: ConvergenceWarning: Maximum Likelihood optimization failed to converge. Check mle_retvals\n",
      "  warnings.warn(\"Maximum Likelihood optimization failed to \"\n",
      "C:\\Users\\ariel\\anaconda3\\envs\\python\\lib\\site-packages\\statsmodels\\base\\model.py:604: ConvergenceWarning: Maximum Likelihood optimization failed to converge. Check mle_retvals\n",
      "  warnings.warn(\"Maximum Likelihood optimization failed to \"\n"
     ]
    },
    {
     "name": "stdout",
     "output_type": "stream",
     "text": [
      "Training model for item 2723 and store 0   \r"
     ]
    }
   ],
   "source": [
    "ets_bu.train()"
   ]
  },
  {
   "cell_type": "code",
   "execution_count": 4,
   "id": "880ace9d-8b21-49b5-93dc-9e0e889797c2",
   "metadata": {},
   "outputs": [
    {
     "name": "stdout",
     "output_type": "stream",
     "text": [
      "Making predictions for item 3048 and store 9   \n",
      "Done.\n"
     ]
    }
   ],
   "source": [
    "ets_bu.predict(fh=28)"
   ]
  },
  {
   "cell_type": "code",
   "execution_count": 7,
   "id": "82cbe812-077e-481a-85a1-86f9e439752f",
   "metadata": {},
   "outputs": [
    {
     "name": "stdout",
     "output_type": "stream",
     "text": [
      "Calculating accuracy for level 12   \n",
      "Done.\n"
     ]
    }
   ],
   "source": [
    "accuracy(model=\"ets\")"
   ]
  },
  {
   "cell_type": "markdown",
   "id": "019155c6-3001-40ba-a42d-e71faca43312",
   "metadata": {},
   "source": [
    "## Misc"
   ]
  },
  {
   "cell_type": "code",
   "execution_count": null,
   "id": "2d656250-f9e3-435b-bc08-9c9691fe4ee8",
   "metadata": {},
   "outputs": [],
   "source": []
  }
 ],
 "metadata": {
  "kernelspec": {
   "display_name": "Python 3 (ipykernel)",
   "language": "python",
   "name": "python3"
  },
  "language_info": {
   "codemirror_mode": {
    "name": "ipython",
    "version": 3
   },
   "file_extension": ".py",
   "mimetype": "text/x-python",
   "name": "python",
   "nbconvert_exporter": "python",
   "pygments_lexer": "ipython3",
   "version": "3.8.12"
  }
 },
 "nbformat": 4,
 "nbformat_minor": 5
}
