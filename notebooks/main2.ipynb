{
 "cells": [
  {
   "cell_type": "markdown",
   "id": "cf67e8b4-3f43-437a-afb3-d666def58e02",
   "metadata": {},
   "source": [
    "# Forecast"
   ]
  },
  {
   "cell_type": "markdown",
   "id": "db01a074-52df-475b-a54a-a754b84f2251",
   "metadata": {
    "tags": []
   },
   "source": [
    "## Setup"
   ]
  },
  {
   "cell_type": "code",
   "execution_count": null,
   "id": "fb6ab9fc-2b2d-4c69-bccf-13a545604b52",
   "metadata": {},
   "outputs": [],
   "source": [
    "%load_ext autoreload\n",
    "%autoreload 2"
   ]
  },
  {
   "cell_type": "code",
   "execution_count": null,
   "id": "372f5539-cb1b-4dd8-8d3d-2d9506e3d476",
   "metadata": {},
   "outputs": [],
   "source": [
    "import sys\n",
    "sys.path.append(\"..\")\n",
    "\n",
    "# Libraries\n",
    "import pandas as pd\n",
    "import numpy as np\n",
    "import matplotlib.pyplot as plt\n",
    "import plotly.express as px\n",
    "\n",
    "import m5.preprocessing\n",
    "from m5.models import Naive, ETS, ARIMA, BottomUp\n",
    "from m5.evaluate import accuracy\n",
    "from m5.plot import plot_fcst\n",
    "from m5.definitions import ROOT_DIR\n",
    "\n",
    "# Library settings\n",
    "pd.options.display.max_columns = 999\n",
    "plt.rcParams[\"figure.figsize\"] = (16, 4)"
   ]
  },
  {
   "cell_type": "markdown",
   "id": "d9d6177b-3189-4b70-9542-ca825a007af1",
   "metadata": {},
   "source": [
    "## Preprocessing"
   ]
  },
  {
   "cell_type": "code",
   "execution_count": null,
   "id": "f7edca09-9935-44e3-b9a3-b13a48de0b06",
   "metadata": {},
   "outputs": [],
   "source": [
    "m5.preprocessing.unzip_data()"
   ]
  },
  {
   "cell_type": "code",
   "execution_count": null,
   "id": "1e9a3659-8ea3-47b7-9ab5-2fb06201438e",
   "metadata": {},
   "outputs": [],
   "source": [
    "m5.preprocessing.prepare_base_data(cfg.TASK)"
   ]
  },
  {
   "cell_type": "code",
   "execution_count": null,
   "id": "197e599f-05f7-4c3c-b871-f10a52b343ed",
   "metadata": {},
   "outputs": [],
   "source": [
    "m5.preprocessing.prepare_agg_levels()"
   ]
  },
  {
   "cell_type": "code",
   "execution_count": null,
   "id": "c1403891-19a1-46b0-bf52-8b0a7fefe64a",
   "metadata": {},
   "outputs": [],
   "source": [
    "m5.preprocessing.prepare_store_data()"
   ]
  },
  {
   "cell_type": "markdown",
   "id": "eac0ea8d",
   "metadata": {},
   "source": [
    "## Naive"
   ]
  },
  {
   "cell_type": "code",
   "execution_count": null,
   "id": "2d5124e6-17a3-4dda-b97f-0df3a0118047",
   "metadata": {},
   "outputs": [],
   "source": [
    "naive_bu = BottomUp(\"naive\", Naive, n_jobs=-1)"
   ]
  },
  {
   "cell_type": "code",
   "execution_count": null,
   "id": "f40bc718-878a-43cc-928c-46cda9d9b1c6",
   "metadata": {},
   "outputs": [],
   "source": [
    "naive_bu.train()"
   ]
  },
  {
   "cell_type": "code",
   "execution_count": null,
   "id": "573ec71f-15df-4fc7-aa06-ed1cc944826a",
   "metadata": {},
   "outputs": [],
   "source": [
    "naive_bu.predict(fh=28)"
   ]
  },
  {
   "cell_type": "code",
   "execution_count": null,
   "id": "e2e367ee-60dc-4716-ae1b-48684ab98983",
   "metadata": {},
   "outputs": [],
   "source": [
    "plot_fcst(\"naive\", level=12, key=(0, 0))"
   ]
  },
  {
   "cell_type": "code",
   "execution_count": null,
   "id": "02a392d5",
   "metadata": {},
   "outputs": [],
   "source": [
    "accuracy(model=\"naive\")"
   ]
  },
  {
   "cell_type": "markdown",
   "id": "90466136",
   "metadata": {},
   "source": [
    "## ETS"
   ]
  },
  {
   "cell_type": "code",
   "execution_count": null,
   "id": "9547d39d-9fda-4720-a2b1-74ee4692452f",
   "metadata": {},
   "outputs": [],
   "source": [
    "ets_bu = BottomUp(model_name=\"ets\", model_cls=ETS, model_params={\"auto\": True}, regressors=None, n_jobs=-1)"
   ]
  },
  {
   "cell_type": "code",
   "execution_count": null,
   "id": "83d4d71a-52a5-45dc-a8af-bc1ad99164ce",
   "metadata": {},
   "outputs": [],
   "source": [
    "ets_bu.train(disp=False)"
   ]
  },
  {
   "cell_type": "code",
   "execution_count": null,
   "id": "880ace9d-8b21-49b5-93dc-9e0e889797c2",
   "metadata": {},
   "outputs": [],
   "source": [
    "ets_bu.predict(fh=28)"
   ]
  },
  {
   "cell_type": "code",
   "execution_count": null,
   "id": "be1aee97-b44c-4903-a841-d663a6289cf3",
   "metadata": {},
   "outputs": [],
   "source": [
    "plot_fcst(\"ets\", level=12, key=(500, 0), plot_tail=False)"
   ]
  },
  {
   "cell_type": "code",
   "execution_count": null,
   "id": "82cbe812-077e-481a-85a1-86f9e439752f",
   "metadata": {},
   "outputs": [],
   "source": [
    "accuracy(model=\"ets\")"
   ]
  },
  {
   "cell_type": "markdown",
   "id": "34e35cb4-1e5c-48a7-b33f-5ffbf700c7c2",
   "metadata": {},
   "source": [
    "## ARIMA"
   ]
  },
  {
   "cell_type": "code",
   "execution_count": null,
   "id": "ec2c012b-b6b7-4a08-998f-25abdded9faf",
   "metadata": {},
   "outputs": [],
   "source": [
    "arima_bu = BottomUp(\n",
    "    model_name=\"arima\", \n",
    "    model_cls=ARIMA, \n",
    "    model_params={\n",
    "        \"d\": None, \n",
    "        \"start_p\": 1, \n",
    "        \"max_p\": 7, \n",
    "        \"start_q\": 0, \n",
    "        \"max_q\": 0,\n",
    "        \"m\": 1,\n",
    "        \"method\": \"lbfgs\",\n",
    "    }, \n",
    "    regressors=None,\n",
    ")"
   ]
  },
  {
   "cell_type": "code",
   "execution_count": null,
   "id": "1b915917-3018-42a3-938a-ee23437d4db4",
   "metadata": {},
   "outputs": [],
   "source": [
    "arima_bu.train()"
   ]
  },
  {
   "cell_type": "code",
   "execution_count": null,
   "id": "4ddda100-fb89-4b30-be39-36e0ada63a62",
   "metadata": {},
   "outputs": [],
   "source": [
    "arima_bu.predict(fh=28)"
   ]
  },
  {
   "cell_type": "code",
   "execution_count": null,
   "id": "3682ea4c-b5ee-49cd-bd7e-932e946d825f",
   "metadata": {},
   "outputs": [],
   "source": [
    "plot_fcst(\"arima\", level=12, key=(0, 0))"
   ]
  },
  {
   "cell_type": "code",
   "execution_count": null,
   "id": "909728d9-92f3-4162-914f-4ad3b47f5ae1",
   "metadata": {},
   "outputs": [],
   "source": [
    "accuracy(model=\"arima\")"
   ]
  },
  {
   "cell_type": "markdown",
   "id": "019155c6-3001-40ba-a42d-e71faca43312",
   "metadata": {},
   "source": [
    "## Misc"
   ]
  },
  {
   "cell_type": "code",
   "execution_count": null,
   "id": "2d656250-f9e3-435b-bc08-9c9691fe4ee8",
   "metadata": {},
   "outputs": [],
   "source": []
  }
 ],
 "metadata": {
  "kernelspec": {
   "display_name": "Python 3 (ipykernel)",
   "language": "python",
   "name": "python3"
  },
  "language_info": {
   "codemirror_mode": {
    "name": "ipython",
    "version": 3
   },
   "file_extension": ".py",
   "mimetype": "text/x-python",
   "name": "python",
   "nbconvert_exporter": "python",
   "pygments_lexer": "ipython3",
   "version": "3.9.9"
  }
 },
 "nbformat": 4,
 "nbformat_minor": 5
}
