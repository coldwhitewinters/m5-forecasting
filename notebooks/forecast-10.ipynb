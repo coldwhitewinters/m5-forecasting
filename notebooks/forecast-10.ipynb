{
 "cells": [
  {
   "cell_type": "markdown",
   "id": "2e97f892-e21b-412e-9d7c-0401cd572d32",
   "metadata": {
    "papermill": {
     "duration": 0.009516,
     "end_time": "2021-10-14T00:32:30.768461",
     "exception": false,
     "start_time": "2021-10-14T00:32:30.758945",
     "status": "completed"
    },
    "tags": []
   },
   "source": [
    "# Forecast"
   ]
  },
  {
   "cell_type": "markdown",
   "id": "db01a074-52df-475b-a54a-a754b84f2251",
   "metadata": {
    "papermill": {
     "duration": 0.005345,
     "end_time": "2021-10-14T00:32:30.779760",
     "exception": false,
     "start_time": "2021-10-14T00:32:30.774415",
     "status": "completed"
    },
    "tags": []
   },
   "source": [
    "## Setup"
   ]
  },
  {
   "cell_type": "code",
   "execution_count": 1,
   "id": "fb6ab9fc-2b2d-4c69-bccf-13a545604b52",
   "metadata": {
    "execution": {
     "iopub.execute_input": "2021-10-14T00:32:30.797171Z",
     "iopub.status.busy": "2021-10-14T00:32:30.796838Z",
     "iopub.status.idle": "2021-10-14T00:32:30.804851Z",
     "shell.execute_reply": "2021-10-14T00:32:30.804544Z"
    },
    "papermill": {
     "duration": 0.019854,
     "end_time": "2021-10-14T00:32:30.804932",
     "exception": false,
     "start_time": "2021-10-14T00:32:30.785078",
     "status": "completed"
    },
    "tags": []
   },
   "outputs": [],
   "source": [
    "%load_ext autoreload\n",
    "%autoreload 2"
   ]
  },
  {
   "cell_type": "code",
   "execution_count": 2,
   "id": "372f5539-cb1b-4dd8-8d3d-2d9506e3d476",
   "metadata": {
    "execution": {
     "iopub.execute_input": "2021-10-14T00:32:30.819549Z",
     "iopub.status.busy": "2021-10-14T00:32:30.819222Z",
     "iopub.status.idle": "2021-10-14T00:32:31.658697Z",
     "shell.execute_reply": "2021-10-14T00:32:31.658428Z"
    },
    "papermill": {
     "duration": 0.848475,
     "end_time": "2021-10-14T00:32:31.658769",
     "exception": false,
     "start_time": "2021-10-14T00:32:30.810294",
     "status": "completed"
    },
    "tags": []
   },
   "outputs": [],
   "source": [
    "import sys\n",
    "sys.path.append(\"..\")\n",
    "\n",
    "# Libraries\n",
    "import pandas as pd\n",
    "import numpy as np\n",
    "import matplotlib.pyplot as plt\n",
    "\n",
    "import m5.config as cfg\n",
    "from m5.model import train, predict\n",
    "from m5.evaluate import accuracy\n",
    "from m5.plot import plot_fcst\n",
    "\n",
    "# Library settings\n",
    "pd.options.display.max_columns = 999\n",
    "plt.rcParams[\"figure.figsize\"] = (14, 4)"
   ]
  },
  {
   "cell_type": "markdown",
   "id": "d9d6177b-3189-4b70-9542-ca825a007af1",
   "metadata": {
    "papermill": {
     "duration": 0.00657,
     "end_time": "2021-10-14T00:32:31.670813",
     "exception": false,
     "start_time": "2021-10-14T00:32:31.664243",
     "status": "completed"
    },
    "tags": []
   },
   "source": [
    "## Parameters"
   ]
  },
  {
   "cell_type": "code",
   "execution_count": 3,
   "id": "ca52ac99-bbcd-4bdd-9b6c-a8cc8e448eb2",
   "metadata": {
    "execution": {
     "iopub.execute_input": "2021-10-14T00:32:31.685229Z",
     "iopub.status.busy": "2021-10-14T00:32:31.684823Z",
     "iopub.status.idle": "2021-10-14T00:32:31.695404Z",
     "shell.execute_reply": "2021-10-14T00:32:31.695658Z"
    },
    "papermill": {
     "duration": 0.01862,
     "end_time": "2021-10-14T00:32:31.695752",
     "exception": false,
     "start_time": "2021-10-14T00:32:31.677132",
     "status": "completed"
    },
    "tags": [
     "parameters"
    ]
   },
   "outputs": [],
   "source": [
    "level = 1"
   ]
  },
  {
   "cell_type": "code",
   "execution_count": 4,
   "id": "9d92b908",
   "metadata": {
    "execution": {
     "iopub.execute_input": "2021-10-14T00:32:31.709787Z",
     "iopub.status.busy": "2021-10-14T00:32:31.709470Z",
     "iopub.status.idle": "2021-10-14T00:32:31.719322Z",
     "shell.execute_reply": "2021-10-14T00:32:31.719602Z"
    },
    "papermill": {
     "duration": 0.018344,
     "end_time": "2021-10-14T00:32:31.719706",
     "exception": false,
     "start_time": "2021-10-14T00:32:31.701362",
     "status": "completed"
    },
    "tags": [
     "injected-parameters"
    ]
   },
   "outputs": [],
   "source": [
    "# Parameters\n",
    "level = 10\n"
   ]
  },
  {
   "cell_type": "markdown",
   "id": "5e8ebb71-583a-4cd1-b60e-7006ebc85e82",
   "metadata": {
    "papermill": {
     "duration": 0.005649,
     "end_time": "2021-10-14T00:32:31.730870",
     "exception": false,
     "start_time": "2021-10-14T00:32:31.725221",
     "status": "completed"
    },
    "tags": []
   },
   "source": [
    "## Train"
   ]
  },
  {
   "cell_type": "code",
   "execution_count": 5,
   "id": "a462d470-398d-4f64-927f-7d9a0538508b",
   "metadata": {
    "execution": {
     "iopub.execute_input": "2021-10-14T00:32:31.745165Z",
     "iopub.status.busy": "2021-10-14T00:32:31.744846Z",
     "iopub.status.idle": "2021-10-14T00:32:31.758968Z",
     "shell.execute_reply": "2021-10-14T00:32:31.759288Z"
    },
    "papermill": {
     "duration": 0.022732,
     "end_time": "2021-10-14T00:32:31.759384",
     "exception": false,
     "start_time": "2021-10-14T00:32:31.736652",
     "status": "completed"
    },
    "tags": []
   },
   "outputs": [],
   "source": [
    "params = {\n",
    "    \"task\": \"train\",\n",
    "    \"objective\": \"tweedie\",\n",
    "    \"num_iterations\": 1000,\n",
    "    \"learning_rate\": 0.1,\n",
    "    \"num_leaves\": 31,\n",
    "    \"num_threads\": 4,\n",
    "    \"early_stopping_round\": 100,\n",
    "}"
   ]
  },
  {
   "cell_type": "code",
   "execution_count": 6,
   "id": "1a9cdb58-c9eb-4839-b1c6-5e6d44b4a36a",
   "metadata": {
    "execution": {
     "iopub.execute_input": "2021-10-14T00:32:31.775547Z",
     "iopub.status.busy": "2021-10-14T00:32:31.775172Z",
     "iopub.status.idle": "2021-10-14T00:33:03.736937Z",
     "shell.execute_reply": "2021-10-14T00:33:03.737233Z"
    },
    "papermill": {
     "duration": 31.972082,
     "end_time": "2021-10-14T00:33:03.737328",
     "exception": false,
     "start_time": "2021-10-14T00:32:31.765246",
     "status": "completed"
    },
    "tags": []
   },
   "outputs": [
    {
     "name": "stdout",
     "output_type": "stream",
     "text": [
      "Training model...\n",
      "[LightGBM] [Info] Load from binary file /home/ariel/Playground/m5-forecasting/data/processed/datasets/10/train.bin\n"
     ]
    },
    {
     "name": "stderr",
     "output_type": "stream",
     "text": [
      "/home/ariel/anaconda3/envs/merlion/lib/python3.9/site-packages/lightgbm/engine.py:148: UserWarning: Found `num_iterations` in params. Will use it instead of argument\n",
      "  _log_warning(\"Found `{}` in params. Will use it instead of argument\".format(alias))\n",
      "/home/ariel/anaconda3/envs/merlion/lib/python3.9/site-packages/lightgbm/engine.py:153: UserWarning: Found `early_stopping_round` in params. Will use it instead of argument\n",
      "  _log_warning(\"Found `{}` in params. Will use it instead of argument\".format(alias))\n"
     ]
    },
    {
     "name": "stdout",
     "output_type": "stream",
     "text": [
      "[LightGBM] [Warning] Auto-choosing row-wise multi-threading, the overhead of testing was 0.154363 seconds.\n",
      "You can set `force_row_wise=true` to remove the overhead.\n",
      "And if memory is not enough, you can set `force_col_wise=true`.\n",
      "[LightGBM] [Info] Total Bins 8405\n",
      "[LightGBM] [Info] Number of data points in the train set: 4585249, number of used features: 26\n",
      "[LightGBM] [Info] Start training from score 2.617967\n"
     ]
    },
    {
     "name": "stdout",
     "output_type": "stream",
     "text": [
      "[1]\tvalid_0's tweedie: 14.5427\n",
      "Training until validation scores don't improve for 100 rounds\n"
     ]
    },
    {
     "name": "stdout",
     "output_type": "stream",
     "text": [
      "[2]\tvalid_0's tweedie: 14.2439\n"
     ]
    },
    {
     "name": "stdout",
     "output_type": "stream",
     "text": [
      "[3]\tvalid_0's tweedie: 13.992\n"
     ]
    },
    {
     "name": "stdout",
     "output_type": "stream",
     "text": [
      "[4]\tvalid_0's tweedie: 13.7788\n"
     ]
    },
    {
     "name": "stdout",
     "output_type": "stream",
     "text": [
      "[5]\tvalid_0's tweedie: 13.5973\n"
     ]
    },
    {
     "name": "stdout",
     "output_type": "stream",
     "text": [
      "[6]\tvalid_0's tweedie: 13.4449\n"
     ]
    },
    {
     "name": "stdout",
     "output_type": "stream",
     "text": [
      "[7]\tvalid_0's tweedie: 13.3168\n"
     ]
    },
    {
     "name": "stdout",
     "output_type": "stream",
     "text": [
      "[8]\tvalid_0's tweedie: 13.2099\n"
     ]
    },
    {
     "name": "stdout",
     "output_type": "stream",
     "text": [
      "[9]\tvalid_0's tweedie: 13.1199\n"
     ]
    },
    {
     "name": "stdout",
     "output_type": "stream",
     "text": [
      "[10]\tvalid_0's tweedie: 13.0455\n"
     ]
    },
    {
     "name": "stdout",
     "output_type": "stream",
     "text": [
      "[11]\tvalid_0's tweedie: 12.9831\n"
     ]
    },
    {
     "name": "stdout",
     "output_type": "stream",
     "text": [
      "[12]\tvalid_0's tweedie: 12.9316\n"
     ]
    },
    {
     "name": "stdout",
     "output_type": "stream",
     "text": [
      "[13]\tvalid_0's tweedie: 12.8888\n"
     ]
    },
    {
     "name": "stdout",
     "output_type": "stream",
     "text": [
      "[14]\tvalid_0's tweedie: 12.8541\n",
      "[15]\tvalid_0's tweedie: 12.826\n"
     ]
    },
    {
     "name": "stdout",
     "output_type": "stream",
     "text": [
      "[16]\tvalid_0's tweedie: 12.8005\n",
      "[17]\tvalid_0's tweedie: 12.7801\n"
     ]
    },
    {
     "name": "stdout",
     "output_type": "stream",
     "text": [
      "[18]\tvalid_0's tweedie: 12.7641\n"
     ]
    },
    {
     "name": "stdout",
     "output_type": "stream",
     "text": [
      "[19]\tvalid_0's tweedie: 12.7502\n",
      "[20]\tvalid_0's tweedie: 12.7389\n"
     ]
    },
    {
     "name": "stdout",
     "output_type": "stream",
     "text": [
      "[21]\tvalid_0's tweedie: 12.7291\n",
      "[22]\tvalid_0's tweedie: 12.7211\n"
     ]
    },
    {
     "name": "stdout",
     "output_type": "stream",
     "text": [
      "[23]\tvalid_0's tweedie: 12.7132\n",
      "[24]\tvalid_0's tweedie: 12.7091\n"
     ]
    },
    {
     "name": "stdout",
     "output_type": "stream",
     "text": [
      "[25]\tvalid_0's tweedie: 12.7058\n"
     ]
    },
    {
     "name": "stdout",
     "output_type": "stream",
     "text": [
      "[26]\tvalid_0's tweedie: 12.7024\n",
      "[27]\tvalid_0's tweedie: 12.7006\n"
     ]
    },
    {
     "name": "stdout",
     "output_type": "stream",
     "text": [
      "[28]\tvalid_0's tweedie: 12.6979\n",
      "[29]\tvalid_0's tweedie: 12.6959\n"
     ]
    },
    {
     "name": "stdout",
     "output_type": "stream",
     "text": [
      "[30]\tvalid_0's tweedie: 12.6932\n"
     ]
    },
    {
     "name": "stdout",
     "output_type": "stream",
     "text": [
      "[31]\tvalid_0's tweedie: 12.6912\n",
      "[32]\tvalid_0's tweedie: 12.6911\n"
     ]
    },
    {
     "name": "stdout",
     "output_type": "stream",
     "text": [
      "[33]\tvalid_0's tweedie: 12.6901\n",
      "[34]\tvalid_0's tweedie: 12.6886\n"
     ]
    },
    {
     "name": "stdout",
     "output_type": "stream",
     "text": [
      "[35]\tvalid_0's tweedie: 12.6888\n",
      "[36]\tvalid_0's tweedie: 12.689\n"
     ]
    },
    {
     "name": "stdout",
     "output_type": "stream",
     "text": [
      "[37]\tvalid_0's tweedie: 12.6876\n",
      "[38]\tvalid_0's tweedie: 12.6884\n"
     ]
    },
    {
     "name": "stdout",
     "output_type": "stream",
     "text": [
      "[39]\tvalid_0's tweedie: 12.6873\n",
      "[40]\tvalid_0's tweedie: 12.6864\n"
     ]
    },
    {
     "name": "stdout",
     "output_type": "stream",
     "text": [
      "[41]\tvalid_0's tweedie: 12.6871\n",
      "[42]\tvalid_0's tweedie: 12.6868\n"
     ]
    },
    {
     "name": "stdout",
     "output_type": "stream",
     "text": [
      "[43]\tvalid_0's tweedie: 12.6872\n"
     ]
    },
    {
     "name": "stdout",
     "output_type": "stream",
     "text": [
      "[44]\tvalid_0's tweedie: 12.6864\n",
      "[45]\tvalid_0's tweedie: 12.6863\n"
     ]
    },
    {
     "name": "stdout",
     "output_type": "stream",
     "text": [
      "[46]\tvalid_0's tweedie: 12.6857\n",
      "[47]\tvalid_0's tweedie: 12.6859\n"
     ]
    },
    {
     "name": "stdout",
     "output_type": "stream",
     "text": [
      "[48]\tvalid_0's tweedie: 12.6855\n"
     ]
    },
    {
     "name": "stdout",
     "output_type": "stream",
     "text": [
      "[49]\tvalid_0's tweedie: 12.685\n",
      "[50]\tvalid_0's tweedie: 12.6852\n"
     ]
    },
    {
     "name": "stdout",
     "output_type": "stream",
     "text": [
      "[51]\tvalid_0's tweedie: 12.6847\n",
      "[52]\tvalid_0's tweedie: 12.6855\n"
     ]
    },
    {
     "name": "stdout",
     "output_type": "stream",
     "text": [
      "[53]\tvalid_0's tweedie: 12.6854\n",
      "[54]\tvalid_0's tweedie: 12.6855\n"
     ]
    },
    {
     "name": "stdout",
     "output_type": "stream",
     "text": [
      "[55]\tvalid_0's tweedie: 12.6856\n",
      "[56]\tvalid_0's tweedie: 12.6855\n"
     ]
    },
    {
     "name": "stdout",
     "output_type": "stream",
     "text": [
      "[57]\tvalid_0's tweedie: 12.6855\n"
     ]
    },
    {
     "name": "stdout",
     "output_type": "stream",
     "text": [
      "[58]\tvalid_0's tweedie: 12.6852\n",
      "[59]\tvalid_0's tweedie: 12.6855\n"
     ]
    },
    {
     "name": "stdout",
     "output_type": "stream",
     "text": [
      "[60]\tvalid_0's tweedie: 12.6859\n"
     ]
    },
    {
     "name": "stdout",
     "output_type": "stream",
     "text": [
      "[61]\tvalid_0's tweedie: 12.686\n",
      "[62]\tvalid_0's tweedie: 12.6856\n"
     ]
    },
    {
     "name": "stdout",
     "output_type": "stream",
     "text": [
      "[63]\tvalid_0's tweedie: 12.6858\n",
      "[64]\tvalid_0's tweedie: 12.6852\n"
     ]
    },
    {
     "name": "stdout",
     "output_type": "stream",
     "text": [
      "[65]\tvalid_0's tweedie: 12.685\n"
     ]
    },
    {
     "name": "stdout",
     "output_type": "stream",
     "text": [
      "[66]\tvalid_0's tweedie: 12.6844\n"
     ]
    },
    {
     "name": "stdout",
     "output_type": "stream",
     "text": [
      "[67]\tvalid_0's tweedie: 12.6854\n"
     ]
    },
    {
     "name": "stdout",
     "output_type": "stream",
     "text": [
      "[68]\tvalid_0's tweedie: 12.6851\n"
     ]
    },
    {
     "name": "stdout",
     "output_type": "stream",
     "text": [
      "[69]\tvalid_0's tweedie: 12.6848\n"
     ]
    },
    {
     "name": "stdout",
     "output_type": "stream",
     "text": [
      "[70]\tvalid_0's tweedie: 12.6844\n",
      "[71]\tvalid_0's tweedie: 12.6841\n"
     ]
    },
    {
     "name": "stdout",
     "output_type": "stream",
     "text": [
      "[72]\tvalid_0's tweedie: 12.6839\n",
      "[73]\tvalid_0's tweedie: 12.6839\n"
     ]
    },
    {
     "name": "stdout",
     "output_type": "stream",
     "text": [
      "[74]\tvalid_0's tweedie: 12.6838\n",
      "[75]\tvalid_0's tweedie: 12.6835\n"
     ]
    },
    {
     "name": "stdout",
     "output_type": "stream",
     "text": [
      "[76]\tvalid_0's tweedie: 12.6832\n",
      "[77]\tvalid_0's tweedie: 12.6829\n"
     ]
    },
    {
     "name": "stdout",
     "output_type": "stream",
     "text": [
      "[78]\tvalid_0's tweedie: 12.6826\n",
      "[79]\tvalid_0's tweedie: 12.6836\n"
     ]
    },
    {
     "name": "stdout",
     "output_type": "stream",
     "text": [
      "[80]\tvalid_0's tweedie: 12.6835\n",
      "[81]\tvalid_0's tweedie: 12.6842\n"
     ]
    },
    {
     "name": "stdout",
     "output_type": "stream",
     "text": [
      "[82]\tvalid_0's tweedie: 12.6841\n",
      "[83]\tvalid_0's tweedie: 12.6838\n"
     ]
    },
    {
     "name": "stdout",
     "output_type": "stream",
     "text": [
      "[84]\tvalid_0's tweedie: 12.684\n",
      "[85]\tvalid_0's tweedie: 12.6844\n"
     ]
    },
    {
     "name": "stdout",
     "output_type": "stream",
     "text": [
      "[86]\tvalid_0's tweedie: 12.685\n",
      "[87]\tvalid_0's tweedie: 12.6852\n"
     ]
    },
    {
     "name": "stdout",
     "output_type": "stream",
     "text": [
      "[88]\tvalid_0's tweedie: 12.6852\n",
      "[89]\tvalid_0's tweedie: 12.6854\n"
     ]
    },
    {
     "name": "stdout",
     "output_type": "stream",
     "text": [
      "[90]\tvalid_0's tweedie: 12.6852\n",
      "[91]\tvalid_0's tweedie: 12.686\n"
     ]
    },
    {
     "name": "stdout",
     "output_type": "stream",
     "text": [
      "[92]\tvalid_0's tweedie: 12.686\n",
      "[93]\tvalid_0's tweedie: 12.686\n"
     ]
    },
    {
     "name": "stdout",
     "output_type": "stream",
     "text": [
      "[94]\tvalid_0's tweedie: 12.6859\n",
      "[95]\tvalid_0's tweedie: 12.6863\n"
     ]
    },
    {
     "name": "stdout",
     "output_type": "stream",
     "text": [
      "[96]\tvalid_0's tweedie: 12.6861\n",
      "[97]\tvalid_0's tweedie: 12.6859\n"
     ]
    },
    {
     "name": "stdout",
     "output_type": "stream",
     "text": [
      "[98]\tvalid_0's tweedie: 12.6861\n",
      "[99]\tvalid_0's tweedie: 12.6868\n"
     ]
    },
    {
     "name": "stdout",
     "output_type": "stream",
     "text": [
      "[100]\tvalid_0's tweedie: 12.6867\n",
      "[101]\tvalid_0's tweedie: 12.6866\n"
     ]
    },
    {
     "name": "stdout",
     "output_type": "stream",
     "text": [
      "[102]\tvalid_0's tweedie: 12.6867\n",
      "[103]\tvalid_0's tweedie: 12.6875\n"
     ]
    },
    {
     "name": "stdout",
     "output_type": "stream",
     "text": [
      "[104]\tvalid_0's tweedie: 12.6874\n",
      "[105]\tvalid_0's tweedie: 12.6873\n"
     ]
    },
    {
     "name": "stdout",
     "output_type": "stream",
     "text": [
      "[106]\tvalid_0's tweedie: 12.6871\n",
      "[107]\tvalid_0's tweedie: 12.687\n"
     ]
    },
    {
     "name": "stdout",
     "output_type": "stream",
     "text": [
      "[108]\tvalid_0's tweedie: 12.6868\n",
      "[109]\tvalid_0's tweedie: 12.6933\n"
     ]
    },
    {
     "name": "stdout",
     "output_type": "stream",
     "text": [
      "[110]\tvalid_0's tweedie: 12.6932\n",
      "[111]\tvalid_0's tweedie: 12.6926\n"
     ]
    },
    {
     "name": "stdout",
     "output_type": "stream",
     "text": [
      "[112]\tvalid_0's tweedie: 12.6926\n",
      "[113]\tvalid_0's tweedie: 12.6927\n"
     ]
    },
    {
     "name": "stdout",
     "output_type": "stream",
     "text": [
      "[114]\tvalid_0's tweedie: 12.6926\n",
      "[115]\tvalid_0's tweedie: 12.6926\n"
     ]
    },
    {
     "name": "stdout",
     "output_type": "stream",
     "text": [
      "[116]\tvalid_0's tweedie: 12.6925\n",
      "[117]\tvalid_0's tweedie: 12.6928\n"
     ]
    },
    {
     "name": "stdout",
     "output_type": "stream",
     "text": [
      "[118]\tvalid_0's tweedie: 12.6928\n",
      "[119]\tvalid_0's tweedie: 12.6926\n"
     ]
    },
    {
     "name": "stdout",
     "output_type": "stream",
     "text": [
      "[120]\tvalid_0's tweedie: 12.6925\n",
      "[121]\tvalid_0's tweedie: 12.6925\n"
     ]
    },
    {
     "name": "stdout",
     "output_type": "stream",
     "text": [
      "[122]\tvalid_0's tweedie: 12.6924\n",
      "[123]\tvalid_0's tweedie: 12.6923\n"
     ]
    },
    {
     "name": "stdout",
     "output_type": "stream",
     "text": [
      "[124]\tvalid_0's tweedie: 12.6922\n",
      "[125]\tvalid_0's tweedie: 12.6923\n"
     ]
    },
    {
     "name": "stdout",
     "output_type": "stream",
     "text": [
      "[126]\tvalid_0's tweedie: 12.6927\n",
      "[127]\tvalid_0's tweedie: 12.6927\n"
     ]
    },
    {
     "name": "stdout",
     "output_type": "stream",
     "text": [
      "[128]\tvalid_0's tweedie: 12.6925\n",
      "[129]\tvalid_0's tweedie: 12.6924\n"
     ]
    },
    {
     "name": "stdout",
     "output_type": "stream",
     "text": [
      "[130]\tvalid_0's tweedie: 12.6927\n",
      "[131]\tvalid_0's tweedie: 12.6931\n"
     ]
    },
    {
     "name": "stdout",
     "output_type": "stream",
     "text": [
      "[132]\tvalid_0's tweedie: 12.6931\n",
      "[133]\tvalid_0's tweedie: 12.6931\n"
     ]
    },
    {
     "name": "stdout",
     "output_type": "stream",
     "text": [
      "[134]\tvalid_0's tweedie: 12.6931\n",
      "[135]\tvalid_0's tweedie: 12.693\n"
     ]
    },
    {
     "name": "stdout",
     "output_type": "stream",
     "text": [
      "[136]\tvalid_0's tweedie: 12.6929\n",
      "[137]\tvalid_0's tweedie: 12.6931\n"
     ]
    },
    {
     "name": "stdout",
     "output_type": "stream",
     "text": [
      "[138]\tvalid_0's tweedie: 12.6932\n",
      "[139]\tvalid_0's tweedie: 12.6932\n"
     ]
    },
    {
     "name": "stdout",
     "output_type": "stream",
     "text": [
      "[140]\tvalid_0's tweedie: 12.6937\n",
      "[141]\tvalid_0's tweedie: 12.6937\n"
     ]
    },
    {
     "name": "stdout",
     "output_type": "stream",
     "text": [
      "[142]\tvalid_0's tweedie: 12.6946\n",
      "[143]\tvalid_0's tweedie: 12.6946\n"
     ]
    },
    {
     "name": "stdout",
     "output_type": "stream",
     "text": [
      "[144]\tvalid_0's tweedie: 12.695\n",
      "[145]\tvalid_0's tweedie: 12.6949\n"
     ]
    },
    {
     "name": "stdout",
     "output_type": "stream",
     "text": [
      "[146]\tvalid_0's tweedie: 12.6949\n",
      "[147]\tvalid_0's tweedie: 12.6947\n"
     ]
    },
    {
     "name": "stdout",
     "output_type": "stream",
     "text": [
      "[148]\tvalid_0's tweedie: 12.6946\n",
      "[149]\tvalid_0's tweedie: 12.6945\n"
     ]
    },
    {
     "name": "stdout",
     "output_type": "stream",
     "text": [
      "[150]\tvalid_0's tweedie: 12.6944\n",
      "[151]\tvalid_0's tweedie: 12.6944\n"
     ]
    },
    {
     "name": "stdout",
     "output_type": "stream",
     "text": [
      "[152]\tvalid_0's tweedie: 12.6943\n",
      "[153]\tvalid_0's tweedie: 12.6943\n"
     ]
    },
    {
     "name": "stdout",
     "output_type": "stream",
     "text": [
      "[154]\tvalid_0's tweedie: 12.6941\n",
      "[155]\tvalid_0's tweedie: 12.6947\n"
     ]
    },
    {
     "name": "stdout",
     "output_type": "stream",
     "text": [
      "[156]\tvalid_0's tweedie: 12.6946\n",
      "[157]\tvalid_0's tweedie: 12.6953\n"
     ]
    },
    {
     "name": "stdout",
     "output_type": "stream",
     "text": [
      "[158]\tvalid_0's tweedie: 12.6955\n",
      "[159]\tvalid_0's tweedie: 12.6952\n"
     ]
    },
    {
     "name": "stdout",
     "output_type": "stream",
     "text": [
      "[160]\tvalid_0's tweedie: 12.6953\n",
      "[161]\tvalid_0's tweedie: 12.6961\n"
     ]
    },
    {
     "name": "stdout",
     "output_type": "stream",
     "text": [
      "[162]\tvalid_0's tweedie: 12.6961\n",
      "[163]\tvalid_0's tweedie: 12.696\n"
     ]
    },
    {
     "name": "stdout",
     "output_type": "stream",
     "text": [
      "[164]\tvalid_0's tweedie: 12.6958\n",
      "[165]\tvalid_0's tweedie: 12.6958\n"
     ]
    },
    {
     "name": "stdout",
     "output_type": "stream",
     "text": [
      "[166]\tvalid_0's tweedie: 12.6957\n",
      "[167]\tvalid_0's tweedie: 12.6957\n"
     ]
    },
    {
     "name": "stdout",
     "output_type": "stream",
     "text": [
      "[168]\tvalid_0's tweedie: 12.6956\n",
      "[169]\tvalid_0's tweedie: 12.6955\n"
     ]
    },
    {
     "name": "stdout",
     "output_type": "stream",
     "text": [
      "[170]\tvalid_0's tweedie: 12.6955\n",
      "[171]\tvalid_0's tweedie: 12.6954\n"
     ]
    },
    {
     "name": "stdout",
     "output_type": "stream",
     "text": [
      "[172]\tvalid_0's tweedie: 12.6954\n",
      "[173]\tvalid_0's tweedie: 12.6954\n"
     ]
    },
    {
     "name": "stdout",
     "output_type": "stream",
     "text": [
      "[174]\tvalid_0's tweedie: 12.6954\n",
      "[175]\tvalid_0's tweedie: 12.6953\n"
     ]
    },
    {
     "name": "stdout",
     "output_type": "stream",
     "text": [
      "[176]\tvalid_0's tweedie: 12.6958\n",
      "[177]\tvalid_0's tweedie: 12.6958\n"
     ]
    },
    {
     "name": "stdout",
     "output_type": "stream",
     "text": [
      "[178]\tvalid_0's tweedie: 12.6957\n",
      "Early stopping, best iteration is:\n",
      "[78]\tvalid_0's tweedie: 12.6826\n",
      "Done.\n"
     ]
    }
   ],
   "source": [
    "train(cfg.DATA_DIR, cfg.MODEL_DIR, level, params)"
   ]
  },
  {
   "cell_type": "markdown",
   "id": "e40d6d12-d2da-4317-8bf1-1395e76d2d0c",
   "metadata": {
    "papermill": {
     "duration": 0.021579,
     "end_time": "2021-10-14T00:33:03.780582",
     "exception": false,
     "start_time": "2021-10-14T00:33:03.759003",
     "status": "completed"
    },
    "tags": []
   },
   "source": [
    "## Predict"
   ]
  },
  {
   "cell_type": "code",
   "execution_count": 7,
   "id": "40387698-a478-4d41-90ec-889a8401b7e5",
   "metadata": {
    "execution": {
     "iopub.execute_input": "2021-10-14T00:33:03.824689Z",
     "iopub.status.busy": "2021-10-14T00:33:03.824375Z",
     "iopub.status.idle": "2021-10-14T00:33:04.011779Z",
     "shell.execute_reply": "2021-10-14T00:33:04.012025Z"
    },
    "papermill": {
     "duration": 0.210456,
     "end_time": "2021-10-14T00:33:04.012116",
     "exception": false,
     "start_time": "2021-10-14T00:33:03.801660",
     "status": "completed"
    },
    "tags": []
   },
   "outputs": [
    {
     "data": {
      "text/html": [
       "<div>\n",
       "<style scoped>\n",
       "    .dataframe tbody tr th:only-of-type {\n",
       "        vertical-align: middle;\n",
       "    }\n",
       "\n",
       "    .dataframe tbody tr th {\n",
       "        vertical-align: top;\n",
       "    }\n",
       "\n",
       "    .dataframe thead th {\n",
       "        text-align: right;\n",
       "    }\n",
       "</style>\n",
       "<table border=\"1\" class=\"dataframe\">\n",
       "  <thead>\n",
       "    <tr style=\"text-align: right;\">\n",
       "      <th></th>\n",
       "      <th>item_id</th>\n",
       "      <th>d</th>\n",
       "      <th>sales</th>\n",
       "      <th>fcst</th>\n",
       "    </tr>\n",
       "  </thead>\n",
       "  <tbody>\n",
       "    <tr>\n",
       "      <th>4710258</th>\n",
       "      <td>0</td>\n",
       "      <td>1886</td>\n",
       "      <td>5</td>\n",
       "      <td>4.345897</td>\n",
       "    </tr>\n",
       "    <tr>\n",
       "      <th>4713307</th>\n",
       "      <td>0</td>\n",
       "      <td>1887</td>\n",
       "      <td>2</td>\n",
       "      <td>4.632003</td>\n",
       "    </tr>\n",
       "    <tr>\n",
       "      <th>4716356</th>\n",
       "      <td>0</td>\n",
       "      <td>1888</td>\n",
       "      <td>3</td>\n",
       "      <td>4.458635</td>\n",
       "    </tr>\n",
       "    <tr>\n",
       "      <th>4719405</th>\n",
       "      <td>0</td>\n",
       "      <td>1889</td>\n",
       "      <td>5</td>\n",
       "      <td>5.168969</td>\n",
       "    </tr>\n",
       "    <tr>\n",
       "      <th>4722454</th>\n",
       "      <td>0</td>\n",
       "      <td>1890</td>\n",
       "      <td>5</td>\n",
       "      <td>4.986676</td>\n",
       "    </tr>\n",
       "    <tr>\n",
       "      <th>...</th>\n",
       "      <td>...</td>\n",
       "      <td>...</td>\n",
       "      <td>...</td>\n",
       "      <td>...</td>\n",
       "    </tr>\n",
       "    <tr>\n",
       "      <th>4783433</th>\n",
       "      <td>3048</td>\n",
       "      <td>1909</td>\n",
       "      <td>1</td>\n",
       "      <td>1.095984</td>\n",
       "    </tr>\n",
       "    <tr>\n",
       "      <th>4786482</th>\n",
       "      <td>3048</td>\n",
       "      <td>1910</td>\n",
       "      <td>2</td>\n",
       "      <td>1.128271</td>\n",
       "    </tr>\n",
       "    <tr>\n",
       "      <th>4789531</th>\n",
       "      <td>3048</td>\n",
       "      <td>1911</td>\n",
       "      <td>1</td>\n",
       "      <td>1.374763</td>\n",
       "    </tr>\n",
       "    <tr>\n",
       "      <th>4792580</th>\n",
       "      <td>3048</td>\n",
       "      <td>1912</td>\n",
       "      <td>0</td>\n",
       "      <td>1.893749</td>\n",
       "    </tr>\n",
       "    <tr>\n",
       "      <th>4795629</th>\n",
       "      <td>3048</td>\n",
       "      <td>1913</td>\n",
       "      <td>1</td>\n",
       "      <td>1.976238</td>\n",
       "    </tr>\n",
       "  </tbody>\n",
       "</table>\n",
       "<p>85372 rows × 4 columns</p>\n",
       "</div>"
      ],
      "text/plain": [
       "         item_id     d  sales      fcst\n",
       "4710258        0  1886      5  4.345897\n",
       "4713307        0  1887      2  4.632003\n",
       "4716356        0  1888      3  4.458635\n",
       "4719405        0  1889      5  5.168969\n",
       "4722454        0  1890      5  4.986676\n",
       "...          ...   ...    ...       ...\n",
       "4783433     3048  1909      1  1.095984\n",
       "4786482     3048  1910      2  1.128271\n",
       "4789531     3048  1911      1  1.374763\n",
       "4792580     3048  1912      0  1.893749\n",
       "4795629     3048  1913      1  1.976238\n",
       "\n",
       "[85372 rows x 4 columns]"
      ]
     },
     "execution_count": 7,
     "metadata": {},
     "output_type": "execute_result"
    }
   ],
   "source": [
    "fcst = predict(cfg.DATA_DIR, cfg.MODEL_DIR, cfg.FCST_DIR, level)\n",
    "fcst"
   ]
  },
  {
   "cell_type": "code",
   "execution_count": 8,
   "id": "2b597f99-2385-4c62-8b50-e15b1d61869c",
   "metadata": {
    "execution": {
     "iopub.execute_input": "2021-10-14T00:33:04.057646Z",
     "iopub.status.busy": "2021-10-14T00:33:04.057104Z",
     "iopub.status.idle": "2021-10-14T00:33:04.805737Z",
     "shell.execute_reply": "2021-10-14T00:33:04.806076Z"
    },
    "papermill": {
     "duration": 0.774068,
     "end_time": "2021-10-14T00:33:04.806193",
     "exception": false,
     "start_time": "2021-10-14T00:33:04.032125",
     "status": "completed"
    },
    "tags": []
   },
   "outputs": [
    {
     "data": {
      "image/png": "[encoded data removed]",
      "text/plain": [
       "<Figure size 1008x288 with 1 Axes>"
      ]
     },
     "metadata": {
      "needs_background": "light"
     },
     "output_type": "display_data"
    }
   ],
   "source": [
    "plot_fcst(cfg.DATA_DIR, cfg.FCST_DIR, level=level)"
   ]
  },
  {
   "cell_type": "markdown",
   "id": "09bfab3b-9cf9-41f0-a340-7c0363b7df0d",
   "metadata": {
    "papermill": {
     "duration": 0.021589,
     "end_time": "2021-10-14T00:33:04.859036",
     "exception": false,
     "start_time": "2021-10-14T00:33:04.837447",
     "status": "completed"
    },
    "tags": []
   },
   "source": [
    "## Evaluate"
   ]
  },
  {
   "cell_type": "code",
   "execution_count": 9,
   "id": "d8b7a2f7-996f-4a76-8adf-c77b27d83b02",
   "metadata": {
    "execution": {
     "iopub.execute_input": "2021-10-14T00:33:04.907658Z",
     "iopub.status.busy": "2021-10-14T00:33:04.907174Z",
     "iopub.status.idle": "2021-10-14T00:33:06.772039Z",
     "shell.execute_reply": "2021-10-14T00:33:06.772267Z"
    },
    "papermill": {
     "duration": 1.890933,
     "end_time": "2021-10-14T00:33:06.772362",
     "exception": false,
     "start_time": "2021-10-14T00:33:04.881429",
     "status": "completed"
    },
    "tags": []
   },
   "outputs": [
    {
     "data": {
      "text/html": [
       "<div>\n",
       "<style scoped>\n",
       "    .dataframe tbody tr th:only-of-type {\n",
       "        vertical-align: middle;\n",
       "    }\n",
       "\n",
       "    .dataframe tbody tr th {\n",
       "        vertical-align: top;\n",
       "    }\n",
       "\n",
       "    .dataframe thead th {\n",
       "        text-align: right;\n",
       "    }\n",
       "</style>\n",
       "<table border=\"1\" class=\"dataframe\">\n",
       "  <thead>\n",
       "    <tr style=\"text-align: right;\">\n",
       "      <th></th>\n",
       "      <th>item_id</th>\n",
       "      <th>mse_fcst</th>\n",
       "      <th>mse_naive_insample</th>\n",
       "      <th>weights</th>\n",
       "      <th>msse</th>\n",
       "      <th>rmsse</th>\n",
       "      <th>wrmsse</th>\n",
       "    </tr>\n",
       "  </thead>\n",
       "  <tbody>\n",
       "    <tr>\n",
       "      <th>0</th>\n",
       "      <td>0</td>\n",
       "      <td>24.077085</td>\n",
       "      <td>33.235669</td>\n",
       "      <td>0.000103</td>\n",
       "      <td>0.724435</td>\n",
       "      <td>0.851138</td>\n",
       "      <td>0.000088</td>\n",
       "    </tr>\n",
       "    <tr>\n",
       "      <th>1</th>\n",
       "      <td>1</td>\n",
       "      <td>7.161452</td>\n",
       "      <td>10.496815</td>\n",
       "      <td>0.000303</td>\n",
       "      <td>0.682250</td>\n",
       "      <td>0.825984</td>\n",
       "      <td>0.000250</td>\n",
       "    </tr>\n",
       "    <tr>\n",
       "      <th>2</th>\n",
       "      <td>2</td>\n",
       "      <td>8.274531</td>\n",
       "      <td>25.130573</td>\n",
       "      <td>0.000162</td>\n",
       "      <td>0.329262</td>\n",
       "      <td>0.573813</td>\n",
       "      <td>0.000093</td>\n",
       "    </tr>\n",
       "    <tr>\n",
       "      <th>3</th>\n",
       "      <td>3</td>\n",
       "      <td>1623.057413</td>\n",
       "      <td>804.858204</td>\n",
       "      <td>0.000002</td>\n",
       "      <td>2.016576</td>\n",
       "      <td>1.420062</td>\n",
       "      <td>0.000003</td>\n",
       "    </tr>\n",
       "    <tr>\n",
       "      <th>4</th>\n",
       "      <td>4</td>\n",
       "      <td>76.290965</td>\n",
       "      <td>70.742569</td>\n",
       "      <td>0.000548</td>\n",
       "      <td>1.078431</td>\n",
       "      <td>1.038475</td>\n",
       "      <td>0.000569</td>\n",
       "    </tr>\n",
       "    <tr>\n",
       "      <th>...</th>\n",
       "      <td>...</td>\n",
       "      <td>...</td>\n",
       "      <td>...</td>\n",
       "      <td>...</td>\n",
       "      <td>...</td>\n",
       "      <td>...</td>\n",
       "      <td>...</td>\n",
       "    </tr>\n",
       "    <tr>\n",
       "      <th>3044</th>\n",
       "      <td>3044</td>\n",
       "      <td>9.359314</td>\n",
       "      <td>21.973461</td>\n",
       "      <td>0.000183</td>\n",
       "      <td>0.425937</td>\n",
       "      <td>0.652639</td>\n",
       "      <td>0.000119</td>\n",
       "    </tr>\n",
       "    <tr>\n",
       "      <th>3045</th>\n",
       "      <td>3045</td>\n",
       "      <td>8.649919</td>\n",
       "      <td>21.332428</td>\n",
       "      <td>0.000091</td>\n",
       "      <td>0.405482</td>\n",
       "      <td>0.636775</td>\n",
       "      <td>0.000058</td>\n",
       "    </tr>\n",
       "    <tr>\n",
       "      <th>3046</th>\n",
       "      <td>3046</td>\n",
       "      <td>1.101221</td>\n",
       "      <td>3.900743</td>\n",
       "      <td>0.000213</td>\n",
       "      <td>0.282311</td>\n",
       "      <td>0.531329</td>\n",
       "      <td>0.000113</td>\n",
       "    </tr>\n",
       "    <tr>\n",
       "      <th>3047</th>\n",
       "      <td>3047</td>\n",
       "      <td>1.100432</td>\n",
       "      <td>3.326406</td>\n",
       "      <td>0.000021</td>\n",
       "      <td>0.330817</td>\n",
       "      <td>0.575167</td>\n",
       "      <td>0.000012</td>\n",
       "    </tr>\n",
       "    <tr>\n",
       "      <th>3048</th>\n",
       "      <td>3048</td>\n",
       "      <td>1.141329</td>\n",
       "      <td>3.092887</td>\n",
       "      <td>0.000065</td>\n",
       "      <td>0.369017</td>\n",
       "      <td>0.607468</td>\n",
       "      <td>0.000039</td>\n",
       "    </tr>\n",
       "  </tbody>\n",
       "</table>\n",
       "<p>3049 rows × 7 columns</p>\n",
       "</div>"
      ],
      "text/plain": [
       "      item_id     mse_fcst  mse_naive_insample   weights      msse     rmsse  \\\n",
       "0           0    24.077085           33.235669  0.000103  0.724435  0.851138   \n",
       "1           1     7.161452           10.496815  0.000303  0.682250  0.825984   \n",
       "2           2     8.274531           25.130573  0.000162  0.329262  0.573813   \n",
       "3           3  1623.057413          804.858204  0.000002  2.016576  1.420062   \n",
       "4           4    76.290965           70.742569  0.000548  1.078431  1.038475   \n",
       "...       ...          ...                 ...       ...       ...       ...   \n",
       "3044     3044     9.359314           21.973461  0.000183  0.425937  0.652639   \n",
       "3045     3045     8.649919           21.332428  0.000091  0.405482  0.636775   \n",
       "3046     3046     1.101221            3.900743  0.000213  0.282311  0.531329   \n",
       "3047     3047     1.100432            3.326406  0.000021  0.330817  0.575167   \n",
       "3048     3048     1.141329            3.092887  0.000065  0.369017  0.607468   \n",
       "\n",
       "        wrmsse  \n",
       "0     0.000088  \n",
       "1     0.000250  \n",
       "2     0.000093  \n",
       "3     0.000003  \n",
       "4     0.000569  \n",
       "...        ...  \n",
       "3044  0.000119  \n",
       "3045  0.000058  \n",
       "3046  0.000113  \n",
       "3047  0.000012  \n",
       "3048  0.000039  \n",
       "\n",
       "[3049 rows x 7 columns]"
      ]
     },
     "execution_count": 9,
     "metadata": {},
     "output_type": "execute_result"
    }
   ],
   "source": [
    "accuracy_df = accuracy(cfg.DATA_DIR, cfg.FCST_DIR, cfg.METRICS_DIR, level)\n",
    "accuracy_df"
   ]
  },
  {
   "cell_type": "code",
   "execution_count": 10,
   "id": "2f7e4bc6-8e33-449a-9853-3cae4192d1ea",
   "metadata": {
    "execution": {
     "iopub.execute_input": "2021-10-14T00:33:06.818262Z",
     "iopub.status.busy": "2021-10-14T00:33:06.817926Z",
     "iopub.status.idle": "2021-10-14T00:33:06.828567Z",
     "shell.execute_reply": "2021-10-14T00:33:06.828773Z"
    },
    "papermill": {
     "duration": 0.034608,
     "end_time": "2021-10-14T00:33:06.828860",
     "exception": false,
     "start_time": "2021-10-14T00:33:06.794252",
     "status": "completed"
    },
    "tags": []
   },
   "outputs": [
    {
     "data": {
      "text/plain": [
       "1.0"
      ]
     },
     "execution_count": 10,
     "metadata": {},
     "output_type": "execute_result"
    }
   ],
   "source": [
    "accuracy_df[\"weights\"].sum()"
   ]
  },
  {
   "cell_type": "code",
   "execution_count": 11,
   "id": "a0258800-c530-4b7c-98c5-2274bb70e942",
   "metadata": {
    "execution": {
     "iopub.execute_input": "2021-10-14T00:33:06.878207Z",
     "iopub.status.busy": "2021-10-14T00:33:06.877878Z",
     "iopub.status.idle": "2021-10-14T00:33:06.890651Z",
     "shell.execute_reply": "2021-10-14T00:33:06.890404Z"
    },
    "papermill": {
     "duration": 0.038441,
     "end_time": "2021-10-14T00:33:06.890719",
     "exception": false,
     "start_time": "2021-10-14T00:33:06.852278",
     "status": "completed"
    },
    "tags": []
   },
   "outputs": [
    {
     "data": {
      "text/plain": [
       "0.8828565035127796"
      ]
     },
     "execution_count": 11,
     "metadata": {},
     "output_type": "execute_result"
    }
   ],
   "source": [
    "accuracy_df[\"wrmsse\"].sum()"
   ]
  },
  {
   "cell_type": "markdown",
   "id": "1ceb0cd5-c916-463f-a49b-4377d84f54ee",
   "metadata": {
    "papermill": {
     "duration": 0.021938,
     "end_time": "2021-10-14T00:33:06.934825",
     "exception": false,
     "start_time": "2021-10-14T00:33:06.912887",
     "status": "completed"
    },
    "tags": []
   },
   "source": [
    "## Misc"
   ]
  },
  {
   "cell_type": "code",
   "execution_count": null,
   "id": "475d6cb9-66f8-4102-8e08-349557a780c5",
   "metadata": {
    "papermill": {
     "duration": 0.024896,
     "end_time": "2021-10-14T00:33:06.982501",
     "exception": false,
     "start_time": "2021-10-14T00:33:06.957605",
     "status": "completed"
    },
    "tags": []
   },
   "outputs": [],
   "source": []
  }
 ],
 "metadata": {
  "kernelspec": {
   "display_name": "Python 3 (ipykernel)",
   "language": "python",
   "name": "python3"
  },
  "language_info": {
   "codemirror_mode": {
    "name": "ipython",
    "version": 3
   },
   "file_extension": ".py",
   "mimetype": "text/x-python",
   "name": "python",
   "nbconvert_exporter": "python",
   "pygments_lexer": "ipython3",
   "version": "3.9.7"
  },
  "papermill": {
   "default_parameters": {},
   "duration": 37.220391,
   "end_time": "2021-10-14T00:33:07.312317",
   "environment_variables": {},
   "exception": null,
   "input_path": "/home/ariel/Playground/m5-forecasting/notebooks/forecast.ipynb",
   "output_path": "/home/ariel/Playground/m5-forecasting/notebooks/forecast-10.ipynb",
   "parameters": {
    "level": 10
   },
   "start_time": "2021-10-14T00:32:30.091926",
   "version": "2.3.3"
  }
 },
 "nbformat": 4,
 "nbformat_minor": 5
}