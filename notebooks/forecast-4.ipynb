{
 "cells": [
  {
   "cell_type": "markdown",
   "id": "2e97f892-e21b-412e-9d7c-0401cd572d32",
   "metadata": {
    "papermill": {
     "duration": 0.010104,
     "end_time": "2021-10-14T00:32:06.835288",
     "exception": false,
     "start_time": "2021-10-14T00:32:06.825184",
     "status": "completed"
    },
    "tags": []
   },
   "source": [
    "# Forecast"
   ]
  },
  {
   "cell_type": "markdown",
   "id": "db01a074-52df-475b-a54a-a754b84f2251",
   "metadata": {
    "papermill": {
     "duration": 0.006989,
     "end_time": "2021-10-14T00:32:06.851313",
     "exception": false,
     "start_time": "2021-10-14T00:32:06.844324",
     "status": "completed"
    },
    "tags": []
   },
   "source": [
    "## Setup"
   ]
  },
  {
   "cell_type": "code",
   "execution_count": 1,
   "id": "fb6ab9fc-2b2d-4c69-bccf-13a545604b52",
   "metadata": {
    "execution": {
     "iopub.execute_input": "2021-10-14T00:32:06.875786Z",
     "iopub.status.busy": "2021-10-14T00:32:06.875161Z",
     "iopub.status.idle": "2021-10-14T00:32:06.884107Z",
     "shell.execute_reply": "2021-10-14T00:32:06.884342Z"
    },
    "papermill": {
     "duration": 0.023776,
     "end_time": "2021-10-14T00:32:06.884483",
     "exception": false,
     "start_time": "2021-10-14T00:32:06.860707",
     "status": "completed"
    },
    "tags": []
   },
   "outputs": [],
   "source": [
    "%load_ext autoreload\n",
    "%autoreload 2"
   ]
  },
  {
   "cell_type": "code",
   "execution_count": 2,
   "id": "372f5539-cb1b-4dd8-8d3d-2d9506e3d476",
   "metadata": {
    "execution": {
     "iopub.execute_input": "2021-10-14T00:32:06.902837Z",
     "iopub.status.busy": "2021-10-14T00:32:06.902508Z",
     "iopub.status.idle": "2021-10-14T00:32:07.834885Z",
     "shell.execute_reply": "2021-10-14T00:32:07.835187Z"
    },
    "papermill": {
     "duration": 0.943877,
     "end_time": "2021-10-14T00:32:07.835300",
     "exception": false,
     "start_time": "2021-10-14T00:32:06.891423",
     "status": "completed"
    },
    "tags": []
   },
   "outputs": [],
   "source": [
    "import sys\n",
    "sys.path.append(\"..\")\n",
    "\n",
    "# Libraries\n",
    "import pandas as pd\n",
    "import numpy as np\n",
    "import matplotlib.pyplot as plt\n",
    "\n",
    "import m5.config as cfg\n",
    "from m5.model import train, predict\n",
    "from m5.evaluate import accuracy\n",
    "from m5.plot import plot_fcst\n",
    "\n",
    "# Library settings\n",
    "pd.options.display.max_columns = 999\n",
    "plt.rcParams[\"figure.figsize\"] = (14, 4)"
   ]
  },
  {
   "cell_type": "markdown",
   "id": "d9d6177b-3189-4b70-9542-ca825a007af1",
   "metadata": {
    "papermill": {
     "duration": 0.005396,
     "end_time": "2021-10-14T00:32:07.846130",
     "exception": false,
     "start_time": "2021-10-14T00:32:07.840734",
     "status": "completed"
    },
    "tags": []
   },
   "source": [
    "## Parameters"
   ]
  },
  {
   "cell_type": "code",
   "execution_count": 3,
   "id": "ca52ac99-bbcd-4bdd-9b6c-a8cc8e448eb2",
   "metadata": {
    "execution": {
     "iopub.execute_input": "2021-10-14T00:32:07.861537Z",
     "iopub.status.busy": "2021-10-14T00:32:07.861220Z",
     "iopub.status.idle": "2021-10-14T00:32:07.873183Z",
     "shell.execute_reply": "2021-10-14T00:32:07.872930Z"
    },
    "papermill": {
     "duration": 0.021875,
     "end_time": "2021-10-14T00:32:07.873257",
     "exception": false,
     "start_time": "2021-10-14T00:32:07.851382",
     "status": "completed"
    },
    "tags": [
     "parameters"
    ]
   },
   "outputs": [],
   "source": [
    "level = 1"
   ]
  },
  {
   "cell_type": "code",
   "execution_count": 4,
   "id": "804296c0",
   "metadata": {
    "execution": {
     "iopub.execute_input": "2021-10-14T00:32:07.886086Z",
     "iopub.status.busy": "2021-10-14T00:32:07.885740Z",
     "iopub.status.idle": "2021-10-14T00:32:07.896525Z",
     "shell.execute_reply": "2021-10-14T00:32:07.896906Z"
    },
    "papermill": {
     "duration": 0.018626,
     "end_time": "2021-10-14T00:32:07.897038",
     "exception": false,
     "start_time": "2021-10-14T00:32:07.878412",
     "status": "completed"
    },
    "tags": [
     "injected-parameters"
    ]
   },
   "outputs": [],
   "source": [
    "# Parameters\n",
    "level = 4\n"
   ]
  },
  {
   "cell_type": "markdown",
   "id": "5e8ebb71-583a-4cd1-b60e-7006ebc85e82",
   "metadata": {
    "papermill": {
     "duration": 0.005584,
     "end_time": "2021-10-14T00:32:07.910699",
     "exception": false,
     "start_time": "2021-10-14T00:32:07.905115",
     "status": "completed"
    },
    "tags": []
   },
   "source": [
    "## Train"
   ]
  },
  {
   "cell_type": "code",
   "execution_count": 5,
   "id": "a462d470-398d-4f64-927f-7d9a0538508b",
   "metadata": {
    "execution": {
     "iopub.execute_input": "2021-10-14T00:32:07.924847Z",
     "iopub.status.busy": "2021-10-14T00:32:07.924534Z",
     "iopub.status.idle": "2021-10-14T00:32:07.934268Z",
     "shell.execute_reply": "2021-10-14T00:32:07.934500Z"
    },
    "papermill": {
     "duration": 0.01881,
     "end_time": "2021-10-14T00:32:07.934596",
     "exception": false,
     "start_time": "2021-10-14T00:32:07.915786",
     "status": "completed"
    },
    "tags": []
   },
   "outputs": [],
   "source": [
    "params = {\n",
    "    \"task\": \"train\",\n",
    "    \"objective\": \"tweedie\",\n",
    "    \"num_iterations\": 1000,\n",
    "    \"learning_rate\": 0.1,\n",
    "    \"num_leaves\": 31,\n",
    "    \"num_threads\": 4,\n",
    "    \"early_stopping_round\": 100,\n",
    "}"
   ]
  },
  {
   "cell_type": "code",
   "execution_count": 6,
   "id": "1a9cdb58-c9eb-4839-b1c6-5e6d44b4a36a",
   "metadata": {
    "execution": {
     "iopub.execute_input": "2021-10-14T00:32:07.948674Z",
     "iopub.status.busy": "2021-10-14T00:32:07.948359Z",
     "iopub.status.idle": "2021-10-14T00:32:08.285980Z",
     "shell.execute_reply": "2021-10-14T00:32:08.285626Z"
    },
    "papermill": {
     "duration": 0.345778,
     "end_time": "2021-10-14T00:32:08.286067",
     "exception": false,
     "start_time": "2021-10-14T00:32:07.940289",
     "status": "completed"
    },
    "tags": []
   },
   "outputs": [
    {
     "name": "stdout",
     "output_type": "stream",
     "text": [
      "Training model...\n",
      "[LightGBM] [Info] Load from binary file /home/ariel/Playground/m5-forecasting/data/processed/datasets/4/train.bin\n",
      "[LightGBM] [Warning] Auto-choosing col-wise multi-threading, the overhead of testing was 0.000803 seconds.\n",
      "You can set `force_col_wise=true` to remove the overhead.\n",
      "[LightGBM] [Info] Total Bins 5482\n",
      "[LightGBM] [Info] Number of data points in the train set: 5532, number of used features: 26\n",
      "[LightGBM] [Info] Start training from score 9.347406\n",
      "[1]\tvalid_0's tweedie: 470.955\n",
      "Training until validation scores don't improve for 100 rounds\n",
      "[2]\tvalid_0's tweedie: 465.578\n",
      "[3]\tvalid_0's tweedie: 461.114\n",
      "[4]\tvalid_0's tweedie: 457.494\n",
      "[5]\tvalid_0's tweedie: 454.505\n",
      "[6]\tvalid_0's tweedie: 452.035\n",
      "[7]\tvalid_0's tweedie: 449.984\n",
      "[8]\tvalid_0's tweedie: 448.302\n",
      "[9]\tvalid_0's tweedie: 446.9\n",
      "[10]\tvalid_0's tweedie: 445.786\n",
      "[11]\tvalid_0's tweedie: 444.861\n",
      "[12]\tvalid_0's tweedie: 444.145\n",
      "[13]\tvalid_0's tweedie: 443.526\n",
      "[14]\tvalid_0's tweedie: 443.037\n",
      "[15]\tvalid_0's tweedie: 442.615\n",
      "[16]\tvalid_0's tweedie: 442.271\n",
      "[17]\tvalid_0's tweedie: 442.014\n",
      "[18]\tvalid_0's tweedie: 441.772\n",
      "[19]\tvalid_0's tweedie: 441.573\n",
      "[20]\tvalid_0's tweedie: 441.419\n",
      "[21]\tvalid_0's tweedie: 441.278\n",
      "[22]\tvalid_0's tweedie: 441.166\n",
      "[23]\tvalid_0's tweedie: 441.069\n",
      "[24]\tvalid_0's tweedie: 440.996\n",
      "[25]\tvalid_0's tweedie: 440.94\n",
      "[26]\tvalid_0's tweedie: 440.883\n",
      "[27]\tvalid_0's tweedie: 440.836\n",
      "[28]\tvalid_0's tweedie: 440.754\n",
      "[29]\tvalid_0's tweedie: 440.724\n",
      "[30]\tvalid_0's tweedie: 440.696\n",
      "[31]\tvalid_0's tweedie: 440.663\n",
      "[32]\tvalid_0's tweedie: 440.645\n",
      "[33]\tvalid_0's tweedie: 440.627\n",
      "[34]\tvalid_0's tweedie: 440.585\n",
      "[35]\tvalid_0's tweedie: 440.576\n",
      "[36]\tvalid_0's tweedie: 440.567\n",
      "[37]\tvalid_0's tweedie: 440.535\n",
      "[38]\tvalid_0's tweedie: 440.509\n",
      "[39]\tvalid_0's tweedie: 440.49\n",
      "[40]\tvalid_0's tweedie: 440.473\n",
      "[41]\tvalid_0's tweedie: 440.463\n",
      "[42]\tvalid_0's tweedie: 440.453\n",
      "[43]\tvalid_0's tweedie: 440.445\n",
      "[44]\tvalid_0's tweedie: 440.44\n",
      "[45]\tvalid_0's tweedie: 440.436\n",
      "[46]\tvalid_0's tweedie: 440.431\n",
      "[47]\tvalid_0's tweedie: 440.43\n",
      "[48]\tvalid_0's tweedie: 440.428\n",
      "[49]\tvalid_0's tweedie: 440.426\n",
      "[50]\tvalid_0's tweedie: 440.425\n",
      "[51]\tvalid_0's tweedie: 440.418\n",
      "[52]\tvalid_0's tweedie: 440.417\n",
      "[53]\tvalid_0's tweedie: 440.414\n",
      "[54]\tvalid_0's tweedie: 440.41\n",
      "[55]\tvalid_0's tweedie: 440.41\n",
      "[56]\tvalid_0's tweedie: 440.409\n",
      "[57]\tvalid_0's tweedie: 440.405\n",
      "[58]\tvalid_0's tweedie: 440.402\n",
      "[59]\tvalid_0's tweedie: 440.399\n",
      "[60]\tvalid_0's tweedie: 440.397\n",
      "[61]\tvalid_0's tweedie: 440.395\n",
      "[62]\tvalid_0's tweedie: 440.395\n",
      "[63]\tvalid_0's tweedie: 440.394\n",
      "[64]\tvalid_0's tweedie: 440.394\n",
      "[65]\tvalid_0's tweedie: 440.393\n",
      "[66]\tvalid_0's tweedie: 440.391\n",
      "[67]\tvalid_0's tweedie: 440.388\n",
      "[68]\tvalid_0's tweedie: 440.387\n",
      "[69]\tvalid_0's tweedie: 440.385\n",
      "[70]\tvalid_0's tweedie: 440.383\n",
      "[71]\tvalid_0's tweedie: 440.383\n",
      "[72]\tvalid_0's tweedie: 440.382\n",
      "[73]\tvalid_0's tweedie: 440.379\n",
      "[74]\tvalid_0's tweedie: 440.38\n",
      "[75]\tvalid_0's tweedie: 440.378\n",
      "[76]\tvalid_0's tweedie: 440.377\n",
      "[77]\tvalid_0's tweedie: 440.378\n",
      "[78]\tvalid_0's tweedie: 440.378\n",
      "[79]\tvalid_0's tweedie: 440.378\n",
      "[80]\tvalid_0's tweedie: 440.378\n",
      "[81]\tvalid_0's tweedie: 440.378\n",
      "[82]\tvalid_0's tweedie: 440.38\n",
      "[83]\tvalid_0's tweedie: 440.378\n",
      "[84]\tvalid_0's tweedie: 440.377\n",
      "[85]\tvalid_0's tweedie: 440.376\n",
      "[86]\tvalid_0's tweedie: 440.376\n",
      "[87]\tvalid_0's tweedie: 440.376\n",
      "[88]\tvalid_0's tweedie: 440.377\n",
      "[89]\tvalid_0's tweedie: 440.376\n",
      "[90]\tvalid_0's tweedie: 440.375\n",
      "[91]\tvalid_0's tweedie: 440.375\n",
      "[92]\tvalid_0's tweedie: 440.374\n",
      "[93]\tvalid_0's tweedie: 440.373\n",
      "[94]\tvalid_0's tweedie: 440.374\n",
      "[95]\tvalid_0's tweedie: 440.373\n",
      "[96]\tvalid_0's tweedie: 440.373\n",
      "[97]\tvalid_0's tweedie: 440.373\n",
      "[98]\tvalid_0's tweedie: 440.372\n",
      "[99]\tvalid_0's tweedie: 440.372\n",
      "[100]\tvalid_0's tweedie: 440.371\n",
      "[101]\tvalid_0's tweedie: 440.37\n",
      "[102]\tvalid_0's tweedie: 440.37\n",
      "[103]\tvalid_0's tweedie: 440.37\n",
      "[104]\tvalid_0's tweedie: 440.37\n",
      "[105]\tvalid_0's tweedie: 440.369\n",
      "[106]\tvalid_0's tweedie: 440.369\n",
      "[107]\tvalid_0's tweedie: 440.368\n",
      "[108]\tvalid_0's tweedie: 440.368\n",
      "[109]\tvalid_0's tweedie: 440.367\n",
      "[110]\tvalid_0's tweedie: 440.368\n",
      "[111]\tvalid_0's tweedie: 440.367\n",
      "[112]\tvalid_0's tweedie: 440.367\n",
      "[113]\tvalid_0's tweedie: 440.369\n",
      "[114]\tvalid_0's tweedie: 440.369\n",
      "[115]\tvalid_0's tweedie: 440.369\n",
      "[116]\tvalid_0's tweedie: 440.368\n",
      "[117]\tvalid_0's tweedie: 440.368\n",
      "[118]\tvalid_0's tweedie: 440.368\n",
      "[119]\tvalid_0's tweedie: 440.368\n",
      "[120]\tvalid_0's tweedie: 440.368\n",
      "[121]\tvalid_0's tweedie: 440.369\n",
      "[122]\tvalid_0's tweedie: 440.369\n",
      "[123]\tvalid_0's tweedie: 440.368\n",
      "[124]\tvalid_0's tweedie: 440.368\n",
      "[125]\tvalid_0's tweedie: 440.368\n",
      "[126]\tvalid_0's tweedie: 440.367\n",
      "[127]\tvalid_0's tweedie: 440.367\n",
      "[128]\tvalid_0's tweedie: 440.368\n",
      "[129]\tvalid_0's tweedie: 440.365\n",
      "[130]\tvalid_0's tweedie: 440.365\n",
      "[131]\tvalid_0's tweedie: 440.364\n",
      "[132]\tvalid_0's tweedie: 440.364\n",
      "[133]\tvalid_0's tweedie: 440.364\n",
      "[134]\tvalid_0's tweedie: 440.363\n",
      "[135]\tvalid_0's tweedie: 440.363\n",
      "[136]\tvalid_0's tweedie: 440.364\n",
      "[137]\tvalid_0's tweedie: 440.364\n",
      "[138]\tvalid_0's tweedie: 440.366\n",
      "[139]\tvalid_0's tweedie: 440.365\n",
      "[140]\tvalid_0's tweedie: 440.364\n",
      "[141]\tvalid_0's tweedie: 440.364\n",
      "[142]\tvalid_0's tweedie: 440.365\n",
      "[143]\tvalid_0's tweedie: 440.365\n",
      "[144]\tvalid_0's tweedie: 440.364\n",
      "[145]\tvalid_0's tweedie: 440.365\n",
      "[146]\tvalid_0's tweedie: 440.364\n",
      "[147]\tvalid_0's tweedie: 440.365\n",
      "[148]\tvalid_0's tweedie: 440.364\n",
      "[149]\tvalid_0's tweedie: 440.365\n",
      "[150]\tvalid_0's tweedie: 440.365\n",
      "[151]\tvalid_0's tweedie: 440.365\n",
      "[152]\tvalid_0's tweedie: 440.365\n",
      "[153]\tvalid_0's tweedie: 440.364\n",
      "[154]\tvalid_0's tweedie: 440.364\n",
      "[155]\tvalid_0's tweedie: 440.364\n",
      "[156]\tvalid_0's tweedie: 440.365\n",
      "[157]\tvalid_0's tweedie: 440.364\n",
      "[158]\tvalid_0's tweedie: 440.364\n",
      "[159]\tvalid_0's tweedie: 440.364\n",
      "[160]\tvalid_0's tweedie: 440.364\n",
      "[161]\tvalid_0's tweedie: 440.363\n",
      "[162]\tvalid_0's tweedie: 440.363\n",
      "[163]\tvalid_0's tweedie: 440.363\n",
      "[164]\tvalid_0's tweedie: 440.363\n",
      "[165]\tvalid_0's tweedie: 440.363\n",
      "[166]\tvalid_0's tweedie: 440.363\n",
      "[167]\tvalid_0's tweedie: 440.363\n",
      "[168]\tvalid_0's tweedie: 440.363\n",
      "[169]\tvalid_0's tweedie: 440.363\n",
      "[170]\tvalid_0's tweedie: 440.364\n",
      "[171]\tvalid_0's tweedie: 440.364\n",
      "[172]\tvalid_0's tweedie: 440.364\n",
      "[173]\tvalid_0's tweedie: 440.364\n",
      "[174]\tvalid_0's tweedie: 440.363\n",
      "[175]\tvalid_0's tweedie: 440.363\n",
      "[176]\tvalid_0's tweedie: 440.364\n",
      "[177]\tvalid_0's tweedie: 440.364\n",
      "[178]\tvalid_0's tweedie: 440.364\n",
      "[179]\tvalid_0's tweedie: 440.364\n",
      "[180]\tvalid_0's tweedie: 440.363\n",
      "[181]\tvalid_0's tweedie: 440.365\n",
      "[182]\tvalid_0's tweedie: 440.365\n",
      "[183]\tvalid_0's tweedie: 440.364\n",
      "[184]\tvalid_0's tweedie: 440.364\n",
      "[185]\tvalid_0's tweedie: 440.363\n",
      "[186]\tvalid_0's tweedie: 440.363\n",
      "[187]\tvalid_0's tweedie: 440.363\n",
      "[188]\tvalid_0's tweedie: 440.363\n",
      "[189]\tvalid_0's tweedie: 440.363\n",
      "[190]\tvalid_0's tweedie: 440.363\n",
      "[191]\tvalid_0's tweedie: 440.363\n",
      "[192]\tvalid_0's tweedie: 440.363\n",
      "[193]\tvalid_0's tweedie: 440.363\n",
      "[194]\tvalid_0's tweedie: 440.362\n",
      "[195]\tvalid_0's tweedie: 440.362\n",
      "[196]\tvalid_0's tweedie: 440.363\n",
      "[197]\tvalid_0's tweedie: 440.362\n",
      "[198]\tvalid_0's tweedie: 440.363\n",
      "[199]\tvalid_0's tweedie: 440.363\n",
      "[200]\tvalid_0's tweedie: 440.362\n",
      "[201]\tvalid_0's tweedie: 440.362\n",
      "[202]\tvalid_0's tweedie: 440.362\n",
      "[203]\tvalid_0's tweedie: 440.361\n",
      "[204]\tvalid_0's tweedie: 440.361\n",
      "[205]\tvalid_0's tweedie: 440.363\n",
      "[206]\tvalid_0's tweedie: 440.362\n",
      "[207]\tvalid_0's tweedie: 440.362\n",
      "[208]\tvalid_0's tweedie: 440.362\n",
      "[209]\tvalid_0's tweedie: 440.362\n",
      "[210]\tvalid_0's tweedie: 440.362\n",
      "[211]\tvalid_0's tweedie: 440.362\n",
      "[212]\tvalid_0's tweedie: 440.362\n",
      "[213]\tvalid_0's tweedie: 440.362\n",
      "[214]\tvalid_0's tweedie: 440.362\n",
      "[215]\tvalid_0's tweedie: 440.362\n",
      "[216]\tvalid_0's tweedie: 440.363\n",
      "[217]\tvalid_0's tweedie: 440.362\n",
      "[218]\tvalid_0's tweedie: 440.362\n",
      "[219]\tvalid_0's tweedie: 440.362\n",
      "[220]\tvalid_0's tweedie: 440.362\n",
      "[221]\tvalid_0's tweedie: 440.362\n",
      "[222]\tvalid_0's tweedie: 440.362\n",
      "[223]\tvalid_0's tweedie: 440.362\n",
      "[224]\tvalid_0's tweedie: 440.363\n",
      "[225]\tvalid_0's tweedie: 440.362\n",
      "[226]\tvalid_0's tweedie: 440.362\n",
      "[227]\tvalid_0's tweedie: 440.362\n",
      "[228]\tvalid_0's tweedie: 440.362\n",
      "[229]\tvalid_0's tweedie: 440.361\n",
      "[230]\tvalid_0's tweedie: 440.361\n",
      "[231]\tvalid_0's tweedie: 440.361\n",
      "[232]\tvalid_0's tweedie: 440.361\n",
      "[233]\tvalid_0's tweedie: 440.361\n",
      "[234]\tvalid_0's tweedie: 440.361\n",
      "[235]\tvalid_0's tweedie: 440.361\n",
      "[236]\tvalid_0's tweedie: 440.361\n",
      "[237]\tvalid_0's tweedie: 440.361\n",
      "[238]\tvalid_0's tweedie: 440.361\n",
      "[239]\tvalid_0's tweedie: 440.361\n",
      "[240]\tvalid_0's tweedie: 440.361\n",
      "[241]\tvalid_0's tweedie: 440.361\n",
      "[242]\tvalid_0's tweedie: 440.361\n",
      "[243]\tvalid_0's tweedie: 440.361\n",
      "[244]\tvalid_0's tweedie: 440.36\n",
      "[245]\tvalid_0's tweedie: 440.361\n",
      "[246]\tvalid_0's tweedie: 440.361\n",
      "[247]\tvalid_0's tweedie: 440.361\n",
      "[248]\tvalid_0's tweedie: 440.361\n",
      "[249]\tvalid_0's tweedie: 440.361\n",
      "[250]\tvalid_0's tweedie: 440.361\n",
      "[251]\tvalid_0's tweedie: 440.361\n",
      "[252]\tvalid_0's tweedie: 440.361\n",
      "[253]\tvalid_0's tweedie: 440.36\n",
      "[254]\tvalid_0's tweedie: 440.36\n",
      "[255]\tvalid_0's tweedie: 440.36\n",
      "[256]\tvalid_0's tweedie: 440.359\n",
      "[257]\tvalid_0's tweedie: 440.359\n",
      "[258]\tvalid_0's tweedie: 440.359\n",
      "[259]\tvalid_0's tweedie: 440.359\n",
      "[260]\tvalid_0's tweedie: 440.358\n",
      "[261]\tvalid_0's tweedie: 440.358\n",
      "[262]\tvalid_0's tweedie: 440.358\n",
      "[263]\tvalid_0's tweedie: 440.358\n",
      "[264]\tvalid_0's tweedie: 440.359\n",
      "[265]\tvalid_0's tweedie: 440.359\n",
      "[266]\tvalid_0's tweedie: 440.359\n",
      "[267]\tvalid_0's tweedie: 440.358\n",
      "[268]\tvalid_0's tweedie: 440.358\n",
      "[269]\tvalid_0's tweedie: 440.358\n",
      "[270]\tvalid_0's tweedie: 440.358\n",
      "[271]\tvalid_0's tweedie: 440.358\n",
      "[272]\tvalid_0's tweedie: 440.358\n",
      "[273]\tvalid_0's tweedie: 440.358\n",
      "[274]\tvalid_0's tweedie: 440.358\n",
      "[275]\tvalid_0's tweedie: 440.358\n",
      "[276]\tvalid_0's tweedie: 440.358\n",
      "[277]\tvalid_0's tweedie: 440.358\n",
      "[278]\tvalid_0's tweedie: 440.359\n",
      "[279]\tvalid_0's tweedie: 440.359\n",
      "[280]\tvalid_0's tweedie: 440.359\n"
     ]
    },
    {
     "name": "stderr",
     "output_type": "stream",
     "text": [
      "/home/ariel/anaconda3/envs/merlion/lib/python3.9/site-packages/lightgbm/engine.py:148: UserWarning: Found `num_iterations` in params. Will use it instead of argument\n",
      "  _log_warning(\"Found `{}` in params. Will use it instead of argument\".format(alias))\n",
      "/home/ariel/anaconda3/envs/merlion/lib/python3.9/site-packages/lightgbm/engine.py:153: UserWarning: Found `early_stopping_round` in params. Will use it instead of argument\n",
      "  _log_warning(\"Found `{}` in params. Will use it instead of argument\".format(alias))\n"
     ]
    },
    {
     "name": "stdout",
     "output_type": "stream",
     "text": [
      "[281]\tvalid_0's tweedie: 440.359\n",
      "[282]\tvalid_0's tweedie: 440.358\n",
      "[283]\tvalid_0's tweedie: 440.358\n",
      "[284]\tvalid_0's tweedie: 440.358\n",
      "[285]\tvalid_0's tweedie: 440.359\n",
      "[286]\tvalid_0's tweedie: 440.359\n",
      "[287]\tvalid_0's tweedie: 440.359\n",
      "[288]\tvalid_0's tweedie: 440.359\n",
      "[289]\tvalid_0's tweedie: 440.359\n",
      "[290]\tvalid_0's tweedie: 440.358\n",
      "[291]\tvalid_0's tweedie: 440.358\n",
      "[292]\tvalid_0's tweedie: 440.358\n",
      "[293]\tvalid_0's tweedie: 440.358\n",
      "[294]\tvalid_0's tweedie: 440.358\n",
      "[295]\tvalid_0's tweedie: 440.358\n",
      "[296]\tvalid_0's tweedie: 440.358\n",
      "[297]\tvalid_0's tweedie: 440.358\n",
      "[298]\tvalid_0's tweedie: 440.358\n",
      "[299]\tvalid_0's tweedie: 440.358\n",
      "[300]\tvalid_0's tweedie: 440.358\n",
      "[301]\tvalid_0's tweedie: 440.358\n",
      "[302]\tvalid_0's tweedie: 440.358\n",
      "[303]\tvalid_0's tweedie: 440.358\n",
      "[304]\tvalid_0's tweedie: 440.358\n",
      "[305]\tvalid_0's tweedie: 440.358\n",
      "[306]\tvalid_0's tweedie: 440.358\n",
      "[307]\tvalid_0's tweedie: 440.358\n",
      "[308]\tvalid_0's tweedie: 440.358\n",
      "[309]\tvalid_0's tweedie: 440.358\n",
      "[310]\tvalid_0's tweedie: 440.359\n",
      "[311]\tvalid_0's tweedie: 440.358\n",
      "[312]\tvalid_0's tweedie: 440.358\n",
      "[313]\tvalid_0's tweedie: 440.358\n",
      "[314]\tvalid_0's tweedie: 440.357\n",
      "[315]\tvalid_0's tweedie: 440.358\n",
      "[316]\tvalid_0's tweedie: 440.358\n",
      "[317]\tvalid_0's tweedie: 440.357\n",
      "[318]\tvalid_0's tweedie: 440.357\n",
      "[319]\tvalid_0's tweedie: 440.357\n",
      "[320]\tvalid_0's tweedie: 440.357\n",
      "[321]\tvalid_0's tweedie: 440.356\n",
      "[322]\tvalid_0's tweedie: 440.356\n",
      "[323]\tvalid_0's tweedie: 440.356\n",
      "[324]\tvalid_0's tweedie: 440.356\n",
      "[325]\tvalid_0's tweedie: 440.356\n",
      "[326]\tvalid_0's tweedie: 440.356\n",
      "[327]\tvalid_0's tweedie: 440.356\n",
      "[328]\tvalid_0's tweedie: 440.357\n",
      "[329]\tvalid_0's tweedie: 440.356\n",
      "[330]\tvalid_0's tweedie: 440.356\n",
      "[331]\tvalid_0's tweedie: 440.357\n",
      "[332]\tvalid_0's tweedie: 440.357\n",
      "[333]\tvalid_0's tweedie: 440.356\n",
      "[334]\tvalid_0's tweedie: 440.357\n",
      "[335]\tvalid_0's tweedie: 440.357\n",
      "[336]\tvalid_0's tweedie: 440.357\n",
      "[337]\tvalid_0's tweedie: 440.356\n",
      "[338]\tvalid_0's tweedie: 440.356\n",
      "[339]\tvalid_0's tweedie: 440.356\n",
      "[340]\tvalid_0's tweedie: 440.356\n",
      "[341]\tvalid_0's tweedie: 440.355\n",
      "[342]\tvalid_0's tweedie: 440.355\n",
      "[343]\tvalid_0's tweedie: 440.355\n",
      "[344]\tvalid_0's tweedie: 440.355\n",
      "[345]\tvalid_0's tweedie: 440.355\n",
      "[346]\tvalid_0's tweedie: 440.355\n",
      "[347]\tvalid_0's tweedie: 440.355\n",
      "[348]\tvalid_0's tweedie: 440.356\n",
      "[349]\tvalid_0's tweedie: 440.356\n",
      "[350]\tvalid_0's tweedie: 440.355\n",
      "[351]\tvalid_0's tweedie: 440.356\n",
      "[352]\tvalid_0's tweedie: 440.356\n",
      "[353]\tvalid_0's tweedie: 440.356\n",
      "[354]\tvalid_0's tweedie: 440.356\n",
      "[355]\tvalid_0's tweedie: 440.356\n",
      "[356]\tvalid_0's tweedie: 440.356\n",
      "[357]\tvalid_0's tweedie: 440.356\n",
      "[358]\tvalid_0's tweedie: 440.356\n",
      "[359]\tvalid_0's tweedie: 440.355\n",
      "[360]\tvalid_0's tweedie: 440.356\n",
      "[361]\tvalid_0's tweedie: 440.355\n",
      "[362]\tvalid_0's tweedie: 440.355\n",
      "[363]\tvalid_0's tweedie: 440.355\n",
      "[364]\tvalid_0's tweedie: 440.356\n",
      "[365]\tvalid_0's tweedie: 440.356\n",
      "[366]\tvalid_0's tweedie: 440.356\n",
      "[367]\tvalid_0's tweedie: 440.356\n",
      "[368]\tvalid_0's tweedie: 440.356\n",
      "[369]\tvalid_0's tweedie: 440.357\n",
      "[370]\tvalid_0's tweedie: 440.357\n",
      "[371]\tvalid_0's tweedie: 440.358\n",
      "[372]\tvalid_0's tweedie: 440.357\n",
      "[373]\tvalid_0's tweedie: 440.357\n",
      "[374]\tvalid_0's tweedie: 440.357\n",
      "[375]\tvalid_0's tweedie: 440.357\n",
      "[376]\tvalid_0's tweedie: 440.357\n",
      "[377]\tvalid_0's tweedie: 440.357\n",
      "[378]\tvalid_0's tweedie: 440.357\n",
      "[379]\tvalid_0's tweedie: 440.356\n",
      "[380]\tvalid_0's tweedie: 440.356\n",
      "[381]\tvalid_0's tweedie: 440.356\n",
      "[382]\tvalid_0's tweedie: 440.356\n",
      "[383]\tvalid_0's tweedie: 440.356\n",
      "[384]\tvalid_0's tweedie: 440.357\n",
      "[385]\tvalid_0's tweedie: 440.357\n",
      "[386]\tvalid_0's tweedie: 440.356\n",
      "[387]\tvalid_0's tweedie: 440.356\n",
      "[388]\tvalid_0's tweedie: 440.357\n",
      "[389]\tvalid_0's tweedie: 440.357\n",
      "[390]\tvalid_0's tweedie: 440.357\n",
      "[391]\tvalid_0's tweedie: 440.357\n",
      "[392]\tvalid_0's tweedie: 440.357\n",
      "[393]\tvalid_0's tweedie: 440.357\n",
      "[394]\tvalid_0's tweedie: 440.357\n",
      "[395]\tvalid_0's tweedie: 440.358\n",
      "[396]\tvalid_0's tweedie: 440.358\n",
      "[397]\tvalid_0's tweedie: 440.358\n",
      "[398]\tvalid_0's tweedie: 440.358\n",
      "[399]\tvalid_0's tweedie: 440.358\n",
      "[400]\tvalid_0's tweedie: 440.358\n",
      "[401]\tvalid_0's tweedie: 440.358\n",
      "[402]\tvalid_0's tweedie: 440.358\n",
      "[403]\tvalid_0's tweedie: 440.359\n",
      "[404]\tvalid_0's tweedie: 440.359\n",
      "[405]\tvalid_0's tweedie: 440.359\n",
      "[406]\tvalid_0's tweedie: 440.359\n",
      "[407]\tvalid_0's tweedie: 440.358\n",
      "[408]\tvalid_0's tweedie: 440.358\n",
      "[409]\tvalid_0's tweedie: 440.359\n",
      "[410]\tvalid_0's tweedie: 440.358\n",
      "[411]\tvalid_0's tweedie: 440.358\n",
      "[412]\tvalid_0's tweedie: 440.358\n",
      "[413]\tvalid_0's tweedie: 440.358\n",
      "[414]\tvalid_0's tweedie: 440.358\n",
      "[415]\tvalid_0's tweedie: 440.358\n",
      "[416]\tvalid_0's tweedie: 440.359\n",
      "[417]\tvalid_0's tweedie: 440.358\n",
      "[418]\tvalid_0's tweedie: 440.358\n",
      "[419]\tvalid_0's tweedie: 440.358\n",
      "[420]\tvalid_0's tweedie: 440.358\n",
      "[421]\tvalid_0's tweedie: 440.358\n",
      "[422]\tvalid_0's tweedie: 440.359\n",
      "[423]\tvalid_0's tweedie: 440.359\n",
      "[424]\tvalid_0's tweedie: 440.359\n",
      "[425]\tvalid_0's tweedie: 440.36\n",
      "[426]\tvalid_0's tweedie: 440.36\n",
      "[427]\tvalid_0's tweedie: 440.36\n",
      "[428]\tvalid_0's tweedie: 440.36\n",
      "[429]\tvalid_0's tweedie: 440.36\n",
      "[430]\tvalid_0's tweedie: 440.36\n",
      "[431]\tvalid_0's tweedie: 440.36\n",
      "[432]\tvalid_0's tweedie: 440.36\n",
      "[433]\tvalid_0's tweedie: 440.36\n",
      "[434]\tvalid_0's tweedie: 440.36\n",
      "[435]\tvalid_0's tweedie: 440.361\n",
      "[436]\tvalid_0's tweedie: 440.36\n",
      "[437]\tvalid_0's tweedie: 440.361\n",
      "[438]\tvalid_0's tweedie: 440.361\n",
      "[439]\tvalid_0's tweedie: 440.361\n",
      "[440]\tvalid_0's tweedie: 440.361\n",
      "[441]\tvalid_0's tweedie: 440.361\n",
      "[442]\tvalid_0's tweedie: 440.361\n",
      "[443]\tvalid_0's tweedie: 440.361\n",
      "Early stopping, best iteration is:\n",
      "[343]\tvalid_0's tweedie: 440.355\n",
      "Done.\n"
     ]
    }
   ],
   "source": [
    "train(cfg.DATA_DIR, cfg.MODEL_DIR, level, params)"
   ]
  },
  {
   "cell_type": "markdown",
   "id": "e40d6d12-d2da-4317-8bf1-1395e76d2d0c",
   "metadata": {
    "papermill": {
     "duration": 0.006697,
     "end_time": "2021-10-14T00:32:08.299468",
     "exception": false,
     "start_time": "2021-10-14T00:32:08.292771",
     "status": "completed"
    },
    "tags": []
   },
   "source": [
    "## Predict"
   ]
  },
  {
   "cell_type": "code",
   "execution_count": 7,
   "id": "40387698-a478-4d41-90ec-889a8401b7e5",
   "metadata": {
    "execution": {
     "iopub.execute_input": "2021-10-14T00:32:08.318309Z",
     "iopub.status.busy": "2021-10-14T00:32:08.317787Z",
     "iopub.status.idle": "2021-10-14T00:32:08.363622Z",
     "shell.execute_reply": "2021-10-14T00:32:08.363345Z"
    },
    "papermill": {
     "duration": 0.055603,
     "end_time": "2021-10-14T00:32:08.363696",
     "exception": false,
     "start_time": "2021-10-14T00:32:08.308093",
     "status": "completed"
    },
    "tags": []
   },
   "outputs": [
    {
     "data": {
      "text/html": [
       "<div>\n",
       "<style scoped>\n",
       "    .dataframe tbody tr th:only-of-type {\n",
       "        vertical-align: middle;\n",
       "    }\n",
       "\n",
       "    .dataframe tbody tr th {\n",
       "        vertical-align: top;\n",
       "    }\n",
       "\n",
       "    .dataframe thead th {\n",
       "        text-align: right;\n",
       "    }\n",
       "</style>\n",
       "<table border=\"1\" class=\"dataframe\">\n",
       "  <thead>\n",
       "    <tr style=\"text-align: right;\">\n",
       "      <th></th>\n",
       "      <th>cat_id</th>\n",
       "      <th>d</th>\n",
       "      <th>sales</th>\n",
       "      <th>fcst</th>\n",
       "    </tr>\n",
       "  </thead>\n",
       "  <tbody>\n",
       "    <tr>\n",
       "      <th>5655</th>\n",
       "      <td>0</td>\n",
       "      <td>1886</td>\n",
       "      <td>23285</td>\n",
       "      <td>23213.835257</td>\n",
       "    </tr>\n",
       "    <tr>\n",
       "      <th>5658</th>\n",
       "      <td>0</td>\n",
       "      <td>1887</td>\n",
       "      <td>22191</td>\n",
       "      <td>21899.386481</td>\n",
       "    </tr>\n",
       "    <tr>\n",
       "      <th>5661</th>\n",
       "      <td>0</td>\n",
       "      <td>1888</td>\n",
       "      <td>21017</td>\n",
       "      <td>22223.565453</td>\n",
       "    </tr>\n",
       "    <tr>\n",
       "      <th>5664</th>\n",
       "      <td>0</td>\n",
       "      <td>1889</td>\n",
       "      <td>22127</td>\n",
       "      <td>23100.642619</td>\n",
       "    </tr>\n",
       "    <tr>\n",
       "      <th>5667</th>\n",
       "      <td>0</td>\n",
       "      <td>1890</td>\n",
       "      <td>28627</td>\n",
       "      <td>26954.149616</td>\n",
       "    </tr>\n",
       "    <tr>\n",
       "      <th>...</th>\n",
       "      <td>...</td>\n",
       "      <td>...</td>\n",
       "      <td>...</td>\n",
       "      <td>...</td>\n",
       "    </tr>\n",
       "    <tr>\n",
       "      <th>5726</th>\n",
       "      <td>2</td>\n",
       "      <td>1909</td>\n",
       "      <td>8239</td>\n",
       "      <td>7904.667438</td>\n",
       "    </tr>\n",
       "    <tr>\n",
       "      <th>5729</th>\n",
       "      <td>2</td>\n",
       "      <td>1910</td>\n",
       "      <td>8363</td>\n",
       "      <td>8333.790747</td>\n",
       "    </tr>\n",
       "    <tr>\n",
       "      <th>5732</th>\n",
       "      <td>2</td>\n",
       "      <td>1911</td>\n",
       "      <td>9728</td>\n",
       "      <td>9838.551447</td>\n",
       "    </tr>\n",
       "    <tr>\n",
       "      <th>5735</th>\n",
       "      <td>2</td>\n",
       "      <td>1912</td>\n",
       "      <td>12248</td>\n",
       "      <td>12280.035669</td>\n",
       "    </tr>\n",
       "    <tr>\n",
       "      <th>5738</th>\n",
       "      <td>2</td>\n",
       "      <td>1913</td>\n",
       "      <td>12458</td>\n",
       "      <td>11994.110543</td>\n",
       "    </tr>\n",
       "  </tbody>\n",
       "</table>\n",
       "<p>84 rows × 4 columns</p>\n",
       "</div>"
      ],
      "text/plain": [
       "      cat_id     d  sales          fcst\n",
       "5655       0  1886  23285  23213.835257\n",
       "5658       0  1887  22191  21899.386481\n",
       "5661       0  1888  21017  22223.565453\n",
       "5664       0  1889  22127  23100.642619\n",
       "5667       0  1890  28627  26954.149616\n",
       "...      ...   ...    ...           ...\n",
       "5726       2  1909   8239   7904.667438\n",
       "5729       2  1910   8363   8333.790747\n",
       "5732       2  1911   9728   9838.551447\n",
       "5735       2  1912  12248  12280.035669\n",
       "5738       2  1913  12458  11994.110543\n",
       "\n",
       "[84 rows x 4 columns]"
      ]
     },
     "execution_count": 7,
     "metadata": {},
     "output_type": "execute_result"
    }
   ],
   "source": [
    "fcst = predict(cfg.DATA_DIR, cfg.MODEL_DIR, cfg.FCST_DIR, level)\n",
    "fcst"
   ]
  },
  {
   "cell_type": "code",
   "execution_count": 8,
   "id": "2b597f99-2385-4c62-8b50-e15b1d61869c",
   "metadata": {
    "execution": {
     "iopub.execute_input": "2021-10-14T00:32:08.380212Z",
     "iopub.status.busy": "2021-10-14T00:32:08.379749Z",
     "iopub.status.idle": "2021-10-14T00:32:08.538764Z",
     "shell.execute_reply": "2021-10-14T00:32:08.539108Z"
    },
    "papermill": {
     "duration": 0.168773,
     "end_time": "2021-10-14T00:32:08.539224",
     "exception": false,
     "start_time": "2021-10-14T00:32:08.370451",
     "status": "completed"
    },
    "tags": []
   },
   "outputs": [
    {
     "data": {
      "image/png": "[encoded data removed]",
      "text/plain": [
       "<Figure size 1008x288 with 1 Axes>"
      ]
     },
     "metadata": {
      "needs_background": "light"
     },
     "output_type": "display_data"
    }
   ],
   "source": [
    "plot_fcst(cfg.DATA_DIR, cfg.FCST_DIR, level=level)"
   ]
  },
  {
   "cell_type": "markdown",
   "id": "09bfab3b-9cf9-41f0-a340-7c0363b7df0d",
   "metadata": {
    "papermill": {
     "duration": 0.012538,
     "end_time": "2021-10-14T00:32:08.563430",
     "exception": false,
     "start_time": "2021-10-14T00:32:08.550892",
     "status": "completed"
    },
    "tags": []
   },
   "source": [
    "## Evaluate"
   ]
  },
  {
   "cell_type": "code",
   "execution_count": 9,
   "id": "d8b7a2f7-996f-4a76-8adf-c77b27d83b02",
   "metadata": {
    "execution": {
     "iopub.execute_input": "2021-10-14T00:32:08.589897Z",
     "iopub.status.busy": "2021-10-14T00:32:08.589482Z",
     "iopub.status.idle": "2021-10-14T00:32:08.623506Z",
     "shell.execute_reply": "2021-10-14T00:32:08.623759Z"
    },
    "papermill": {
     "duration": 0.04845,
     "end_time": "2021-10-14T00:32:08.623849",
     "exception": false,
     "start_time": "2021-10-14T00:32:08.575399",
     "status": "completed"
    },
    "tags": []
   },
   "outputs": [
    {
     "data": {
      "text/html": [
       "<div>\n",
       "<style scoped>\n",
       "    .dataframe tbody tr th:only-of-type {\n",
       "        vertical-align: middle;\n",
       "    }\n",
       "\n",
       "    .dataframe tbody tr th {\n",
       "        vertical-align: top;\n",
       "    }\n",
       "\n",
       "    .dataframe thead th {\n",
       "        text-align: right;\n",
       "    }\n",
       "</style>\n",
       "<table border=\"1\" class=\"dataframe\">\n",
       "  <thead>\n",
       "    <tr style=\"text-align: right;\">\n",
       "      <th></th>\n",
       "      <th>cat_id</th>\n",
       "      <th>mse_fcst</th>\n",
       "      <th>mse_naive_insample</th>\n",
       "      <th>weights</th>\n",
       "      <th>msse</th>\n",
       "      <th>rmsse</th>\n",
       "      <th>wrmsse</th>\n",
       "    </tr>\n",
       "  </thead>\n",
       "  <tbody>\n",
       "    <tr>\n",
       "      <th>0</th>\n",
       "      <td>0</td>\n",
       "      <td>1.683113e+06</td>\n",
       "      <td>1.635292e+07</td>\n",
       "      <td>0.569701</td>\n",
       "      <td>0.102924</td>\n",
       "      <td>0.320818</td>\n",
       "      <td>0.182771</td>\n",
       "    </tr>\n",
       "    <tr>\n",
       "      <th>1</th>\n",
       "      <td>1</td>\n",
       "      <td>1.125680e+05</td>\n",
       "      <td>3.426265e+05</td>\n",
       "      <td>0.128669</td>\n",
       "      <td>0.328544</td>\n",
       "      <td>0.573188</td>\n",
       "      <td>0.073752</td>\n",
       "    </tr>\n",
       "    <tr>\n",
       "      <th>2</th>\n",
       "      <td>2</td>\n",
       "      <td>3.667121e+05</td>\n",
       "      <td>2.228167e+06</td>\n",
       "      <td>0.301629</td>\n",
       "      <td>0.164580</td>\n",
       "      <td>0.405685</td>\n",
       "      <td>0.122367</td>\n",
       "    </tr>\n",
       "  </tbody>\n",
       "</table>\n",
       "</div>"
      ],
      "text/plain": [
       "   cat_id      mse_fcst  mse_naive_insample   weights      msse     rmsse  \\\n",
       "0       0  1.683113e+06        1.635292e+07  0.569701  0.102924  0.320818   \n",
       "1       1  1.125680e+05        3.426265e+05  0.128669  0.328544  0.573188   \n",
       "2       2  3.667121e+05        2.228167e+06  0.301629  0.164580  0.405685   \n",
       "\n",
       "     wrmsse  \n",
       "0  0.182771  \n",
       "1  0.073752  \n",
       "2  0.122367  "
      ]
     },
     "execution_count": 9,
     "metadata": {},
     "output_type": "execute_result"
    }
   ],
   "source": [
    "accuracy_df = accuracy(cfg.DATA_DIR, cfg.FCST_DIR, cfg.METRICS_DIR, level)\n",
    "accuracy_df"
   ]
  },
  {
   "cell_type": "code",
   "execution_count": 10,
   "id": "2f7e4bc6-8e33-449a-9853-3cae4192d1ea",
   "metadata": {
    "execution": {
     "iopub.execute_input": "2021-10-14T00:32:08.642727Z",
     "iopub.status.busy": "2021-10-14T00:32:08.642421Z",
     "iopub.status.idle": "2021-10-14T00:32:08.653615Z",
     "shell.execute_reply": "2021-10-14T00:32:08.653855Z"
    },
    "papermill": {
     "duration": 0.022171,
     "end_time": "2021-10-14T00:32:08.653952",
     "exception": false,
     "start_time": "2021-10-14T00:32:08.631781",
     "status": "completed"
    },
    "tags": []
   },
   "outputs": [
    {
     "data": {
      "text/plain": [
       "1.0000001"
      ]
     },
     "execution_count": 10,
     "metadata": {},
     "output_type": "execute_result"
    }
   ],
   "source": [
    "accuracy_df[\"weights\"].sum()"
   ]
  },
  {
   "cell_type": "code",
   "execution_count": 11,
   "id": "a0258800-c530-4b7c-98c5-2274bb70e942",
   "metadata": {
    "execution": {
     "iopub.execute_input": "2021-10-14T00:32:08.674120Z",
     "iopub.status.busy": "2021-10-14T00:32:08.672378Z",
     "iopub.status.idle": "2021-10-14T00:32:08.685639Z",
     "shell.execute_reply": "2021-10-14T00:32:08.685934Z"
    },
    "papermill": {
     "duration": 0.02403,
     "end_time": "2021-10-14T00:32:08.686090",
     "exception": false,
     "start_time": "2021-10-14T00:32:08.662060",
     "status": "completed"
    },
    "tags": []
   },
   "outputs": [
    {
     "data": {
      "text/plain": [
       "0.37888873146025304"
      ]
     },
     "execution_count": 11,
     "metadata": {},
     "output_type": "execute_result"
    }
   ],
   "source": [
    "accuracy_df[\"wrmsse\"].sum()"
   ]
  },
  {
   "cell_type": "markdown",
   "id": "1ceb0cd5-c916-463f-a49b-4377d84f54ee",
   "metadata": {
    "papermill": {
     "duration": 0.008775,
     "end_time": "2021-10-14T00:32:08.702836",
     "exception": false,
     "start_time": "2021-10-14T00:32:08.694061",
     "status": "completed"
    },
    "tags": []
   },
   "source": [
    "## Misc"
   ]
  },
  {
   "cell_type": "code",
   "execution_count": null,
   "id": "475d6cb9-66f8-4102-8e08-349557a780c5",
   "metadata": {
    "papermill": {
     "duration": 0.00815,
     "end_time": "2021-10-14T00:32:08.719698",
     "exception": false,
     "start_time": "2021-10-14T00:32:08.711548",
     "status": "completed"
    },
    "tags": []
   },
   "outputs": [],
   "source": []
  }
 ],
 "metadata": {
  "kernelspec": {
   "display_name": "Python 3 (ipykernel)",
   "language": "python",
   "name": "python3"
  },
  "language_info": {
   "codemirror_mode": {
    "name": "ipython",
    "version": 3
   },
   "file_extension": ".py",
   "mimetype": "text/x-python",
   "name": "python",
   "nbconvert_exporter": "python",
   "pygments_lexer": "ipython3",
   "version": "3.9.7"
  },
  "papermill": {
   "default_parameters": {},
   "duration": 3.020376,
   "end_time": "2021-10-14T00:32:09.034789",
   "environment_variables": {},
   "exception": null,
   "input_path": "/home/ariel/Playground/m5-forecasting/notebooks/forecast.ipynb",
   "output_path": "/home/ariel/Playground/m5-forecasting/notebooks/forecast-4.ipynb",
   "parameters": {
    "level": 4
   },
   "start_time": "2021-10-14T00:32:06.014413",
   "version": "2.3.3"
  }
 },
 "nbformat": 4,
 "nbformat_minor": 5
}