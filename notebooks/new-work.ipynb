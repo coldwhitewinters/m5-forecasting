{
 "cells": [
  {
   "cell_type": "markdown",
   "id": "cf67e8b4-3f43-437a-afb3-d666def58e02",
   "metadata": {},
   "source": [
    "# Forecast"
   ]
  },
  {
   "cell_type": "markdown",
   "id": "db01a074-52df-475b-a54a-a754b84f2251",
   "metadata": {
    "tags": []
   },
   "source": [
    "## Setup"
   ]
  },
  {
   "cell_type": "code",
   "execution_count": null,
   "id": "372f5539-cb1b-4dd8-8d3d-2d9506e3d476",
   "metadata": {},
   "outputs": [],
   "source": [
    "import sys\n",
    "sys.path.append(\"..\")\n",
    "\n",
    "# Libraries\n",
    "import pandas as pd\n",
    "import numpy as np\n",
    "import matplotlib.pyplot as plt\n",
    "import plotly.express as px\n",
    "import scipy as sp\n",
    "\n",
    "from joblib import Parallel, delayed\n",
    "from itertools import product\n",
    "from tqdm import tqdm\n",
    "from pathlib import Path\n",
    "\n",
    "# Library settings\n",
    "pd.options.display.max_columns = 999\n",
    "plt.rcParams[\"figure.figsize\"] = (16, 4)\n"
   ]
  },
  {
   "cell_type": "markdown",
   "id": "c63dc17a",
   "metadata": {},
   "source": [
    "## Prepare data"
   ]
  },
  {
   "cell_type": "code",
   "execution_count": null,
   "id": "070aeae0",
   "metadata": {},
   "outputs": [],
   "source": [
    "sales = pd.read_csv(\"../data/sales_train_evaluation.csv\")\n",
    "sales.head()\n"
   ]
  },
  {
   "cell_type": "code",
   "execution_count": null,
   "id": "4102cffa",
   "metadata": {},
   "outputs": [],
   "source": [
    "calendar = pd.read_csv(\"../data/calendar.csv\", parse_dates=[\"date\"])\n",
    "calendar.head()"
   ]
  },
  {
   "cell_type": "code",
   "execution_count": null,
   "id": "9a56482b",
   "metadata": {},
   "outputs": [],
   "source": [
    "sell_prices = pd.read_csv(\"../data/sell_prices.csv\")\n",
    "sell_prices.head()"
   ]
  },
  {
   "cell_type": "code",
   "execution_count": null,
   "id": "a3c50e10",
   "metadata": {},
   "outputs": [],
   "source": [
    "def prepare_data(sales, calendar, sell_prices):\n",
    "    hierarchy_df = sales.iloc[:, 1:6].copy()\n",
    "    df = sales.drop(columns=[\"id\", \"dept_id\", \"cat_id\", \"state_id\"])\n",
    "    df = df.reset_index().rename(columns={\"index\":\"unique_id\"})\n",
    "    df_long = pd.melt(df, id_vars=df.columns[:3], var_name=\"d\", value_name=\"sales\")\n",
    "    df_long = df_long.merge(calendar[[\"d\", \"wm_yr_wk\"]], on=\"d\", how=\"left\")\n",
    "    df_long = df_long.merge(sell_prices, on=[\"item_id\", \"store_id\", \"wm_yr_wk\"], how=\"left\")\n",
    "    df_long[\"dollar_sales\"] = df_long[\"sales\"] * df_long[\"sell_price\"]\n",
    "    df_long.loc[df_long.sales == 0, \"dollar_sales\"] = 0\n",
    "    df_long[\"d\"] = df_long[\"d\"].str[2:].astype(\"int\")\n",
    "    df = pd.pivot_table(df_long, values=[\"sales\", \"dollar_sales\"], index=[\"d\"], columns=[\"unique_id\"])\n",
    "    sales_arr = df[\"sales\"].to_numpy().T\n",
    "    dollar_sales_arr = df[\"dollar_sales\"].to_numpy().T\n",
    "\n",
    "    filepath = Path(\"../data/processed/bottom_sales_arr.npy\")\n",
    "    np.save(filepath, sales_arr)\n",
    "    print(f\"Data written to {filepath}\")\n",
    "    \n",
    "    filepath = Path(\"../data/processed/bottom_dollar_sales_arr.npy\")\n",
    "    np.save(filepath, dollar_sales_arr)\n",
    "    print(f\"Data written to {filepath}\")\n",
    "\n",
    "    filepath = Path(\"../data/processed/hierarchy.csv\")\n",
    "    hierarchy_df.to_csv(filepath, index=False)\n",
    "    print(f\"Data written to {filepath}\")\n",
    "    \n",
    "    return sales_arr, dollar_sales_arr, hierarchy_df"
   ]
  },
  {
   "cell_type": "code",
   "execution_count": null,
   "id": "d9f4e0d6",
   "metadata": {},
   "outputs": [],
   "source": [
    "bottom_sales_arr, bottom_dollar_sales_arr, hierarchy_df = prepare_data(sales, calendar, sell_prices)"
   ]
  },
  {
   "cell_type": "markdown",
   "id": "b88584e4",
   "metadata": {},
   "source": [
    "## Build S matrix"
   ]
  },
  {
   "cell_type": "code",
   "execution_count": null,
   "id": "373bfd31",
   "metadata": {},
   "outputs": [],
   "source": [
    "hierarchy_df = pd.read_csv(\"../data/processed/hierarchy.csv\")\n",
    "hierarchy_df.head()"
   ]
  },
  {
   "cell_type": "code",
   "execution_count": null,
   "id": "bdc0d422",
   "metadata": {},
   "outputs": [],
   "source": [
    "agg_levels = (\n",
    "    tuple([\"TOTAL\"]),\n",
    "    tuple(['state_id']),\n",
    "    tuple(['store_id']),\n",
    "    tuple(['cat_id']),\n",
    "    tuple(['dept_id']),\n",
    "    tuple(['state_id', 'cat_id']),\n",
    "    tuple(['state_id', 'dept_id']),\n",
    "    tuple(['store_id', 'cat_id']),\n",
    "    tuple(['store_id', 'dept_id']),\n",
    "    tuple(['item_id']),\n",
    "    tuple(['item_id', 'state_id']),\n",
    "    tuple(['item_id', 'store_id']),\n",
    ")"
   ]
  },
  {
   "cell_type": "code",
   "execution_count": null,
   "id": "f442384d",
   "metadata": {},
   "outputs": [],
   "source": [
    "def generate_Smatrix(hierarchy_df, agg_levels, sparse=True):\n",
    "    arr = np.array\n",
    "    eye = np.eye\n",
    "    stack = np.row_stack\n",
    "    \n",
    "    if sparse:\n",
    "        arr = sp.sparse.csr_array\n",
    "        eye = sp.sparse.eye\n",
    "        stack = sp.sparse.vstack\n",
    "\n",
    "    def build_row(hierarchy_df, level, comb):\n",
    "        row = (hierarchy_df.loc[:, level] == comb).apply(lambda x: all(x), axis=1).astype(\"int16\")\n",
    "        return row\n",
    "    \n",
    "    top_row = np.ones(len(hierarchy_df))\n",
    "    S_rows = [top_row]\n",
    "\n",
    "    for level in agg_levels[1:-1]:\n",
    "        print(level)\n",
    "        combinations = hierarchy_df.loc[:, level].drop_duplicates().to_numpy()\n",
    "        rows = Parallel(n_jobs=8)(\n",
    "            delayed(build_row)(hierarchy_df, level, comb) for comb in combinations\n",
    "        )\n",
    "        S_rows.extend(rows)\n",
    "\n",
    "    S_top = arr(S_rows)\n",
    "    S_bottom = eye(len(hierarchy_df))\n",
    "    S = stack([S_top, S_bottom])\n",
    "    \n",
    "    filepath = Path(\"../data/processed/S.npz\")\n",
    "    sp.sparse.save_npz(filepath, S)\n",
    "    print(f\"Data written to {filepath}\")\n",
    "    return S"
   ]
  },
  {
   "cell_type": "code",
   "execution_count": null,
   "id": "40aa796c",
   "metadata": {},
   "outputs": [],
   "source": [
    "S = generate_Smatrix(hierarchy_df, agg_levels)"
   ]
  },
  {
   "cell_type": "markdown",
   "id": "e087ac4e",
   "metadata": {},
   "source": [
    "## Generate all the timeseries from the hierarchy"
   ]
  },
  {
   "cell_type": "code",
   "execution_count": null,
   "id": "1e6674d7",
   "metadata": {},
   "outputs": [],
   "source": [
    "bottom_sales_arr = np.load(\"../data/processed/bottom_sales_arr.npy\")\n",
    "bottom_dollar_sales_arr = np.load(\"../data/processed/bottom_dollar_sales_arr.npy\")\n",
    "S = sp.sparse.load_npz(\"../data/processed/S.npz\")"
   ]
  },
  {
   "cell_type": "code",
   "execution_count": null,
   "id": "c0f118df",
   "metadata": {},
   "outputs": [],
   "source": [
    "def generate_Ymatrix(S, bottom_sales_arr, bottom_dollar_sales_arr):\n",
    "    sales_arr = S @ bottom_sales_arr\n",
    "    dollar_sales_arr = S @ bottom_dollar_sales_arr\n",
    "\n",
    "    filepath = Path(\"../data/processed/sales_arr.npy\")\n",
    "    np.save(filepath, sales_arr)\n",
    "    print(f\"Data written to {filepath}\")\n",
    "\n",
    "    filepath = Path(\"../data/processed/dollar_sales_arr.npy\")\n",
    "    np.save(filepath, dollar_sales_arr)\n",
    "    print(f\"Data written to {filepath}\")\n",
    "\n",
    "    return sales_arr, dollar_sales_arr"
   ]
  },
  {
   "cell_type": "code",
   "execution_count": null,
   "id": "a3ddbebb",
   "metadata": {},
   "outputs": [],
   "source": [
    "sales_arr, dollar_sales_arr = generate_Ymatrix(S, bottom_sales_arr, bottom_dollar_sales_arr)"
   ]
  },
  {
   "cell_type": "markdown",
   "id": "554a1019",
   "metadata": {},
   "source": [
    "## Add calendar features"
   ]
  },
  {
   "cell_type": "code",
   "execution_count": null,
   "id": "c313b572",
   "metadata": {},
   "outputs": [],
   "source": [
    "sales_arr = np.load(\"../data/processed/sales_arr.npy\")\n",
    "dollar_sales_arr = np.load(\"../data/processed/dollar_sales_arr.npy\")\n",
    "calendar = pd.read_csv(\"../data/calendar.csv\", parse_dates=[\"date\"])"
   ]
  },
  {
   "cell_type": "code",
   "execution_count": null,
   "id": "e107dd5e",
   "metadata": {},
   "outputs": [],
   "source": [
    "def factorize_calendar(calendar):\n",
    "    calendar[\"event_name_1\"] = pd.factorize(calendar[\"event_name_1\"])[0]\n",
    "    calendar[\"event_type_1\"] = pd.factorize(calendar[\"event_type_1\"])[0]\n",
    "    calendar[\"event_name_2\"] = pd.factorize(calendar[\"event_name_2\"])[0]\n",
    "    calendar[\"event_type_2\"] = pd.factorize(calendar[\"event_type_2\"])[0]\n",
    "    return calendar"
   ]
  },
  {
   "cell_type": "code",
   "execution_count": null,
   "id": "f230eea1",
   "metadata": {},
   "outputs": [],
   "source": [
    "def dummify_calendar(calendar):\n",
    "    calendar = pd.get_dummies(\n",
    "        calendar, \n",
    "        columns=[\n",
    "            \"wday\",\n",
    "            \"month\",\n",
    "            \"year\",\n",
    "        ], \n",
    "        drop_first=True\n",
    "    )\n",
    "    calendar = pd.get_dummies(\n",
    "        calendar, \n",
    "        columns=[\n",
    "            \"event_name_1\", \n",
    "            \"event_type_1\", \n",
    "            \"event_name_2\", \n",
    "            \"event_type_2\",\n",
    "        ], \n",
    "        drop_first=False\n",
    "    )\n",
    "    return calendar"
   ]
  },
  {
   "cell_type": "code",
   "execution_count": null,
   "id": "0e409c49",
   "metadata": {},
   "outputs": [],
   "source": [
    "def clean_calendar(calendar, dummies=False):\n",
    "    calendar = calendar.drop(columns=[\"wm_yr_wk\", \"weekday\"])\n",
    "    calendar = calendar.rename(columns={\"date\": \"ds\"})\n",
    "    calendar[\"d\"] = calendar[\"d\"].str[2:].astype(\"int\")\n",
    "    if dummies:\n",
    "        calendar = dummify_calendar(calendar)\n",
    "    else:\n",
    "        calendar = factorize_calendar(calendar)\n",
    "    return calendar"
   ]
  },
  {
   "cell_type": "code",
   "execution_count": null,
   "id": "6a129c15",
   "metadata": {},
   "outputs": [],
   "source": [
    "calendar_dummies = clean_calendar(calendar, dummies=True)\n",
    "calendar_categorical = clean_calendar(calendar, dummies=False)"
   ]
  },
  {
   "cell_type": "code",
   "execution_count": null,
   "id": "a2c6bbe7",
   "metadata": {},
   "outputs": [],
   "source": [
    "calendar_dummies.head()"
   ]
  },
  {
   "cell_type": "code",
   "execution_count": null,
   "id": "9d823947",
   "metadata": {},
   "outputs": [],
   "source": [
    "calendar_categorical.head()"
   ]
  },
  {
   "cell_type": "code",
   "execution_count": null,
   "id": "96cb470c",
   "metadata": {},
   "outputs": [],
   "source": [
    "def generate_panel_df(sales_arr, regressors_df=None):\n",
    "    yx_df_list = []\n",
    "    for i in tqdm(range(sales_arr.shape[0])):\n",
    "        y = sales_arr[i, :]\n",
    "        yx_df = pd.DataFrame(y, index=range(len(y)), columns=[\"y\"])\n",
    "        if regressors_df is not None:\n",
    "            yx_df = pd.merge(yx_df, regressors_df, left_index=True, right_index=True, how=\"left\")\n",
    "        yx_df.insert(0, \"unique_id\", i)\n",
    "        yx_df_list.append(yx_df)\n",
    "    panel_df = pd.concat(yx_df_list)\n",
    "\n",
    "    filepath = Path(\"../data/processed/panel_df.parquet\")\n",
    "    panel_df.to_parquet(filepath)\n",
    "    print(f\"Data written to {filepath}\")\n",
    "\n",
    "    return panel_df"
   ]
  },
  {
   "cell_type": "code",
   "execution_count": null,
   "id": "28fd5f9b",
   "metadata": {},
   "outputs": [],
   "source": [
    "panel_df = generate_panel_df(sales_arr, calendar_categorical)"
   ]
  },
  {
   "cell_type": "code",
   "execution_count": null,
   "id": "c812e46d",
   "metadata": {},
   "outputs": [],
   "source": [
    "panel_df.head()"
   ]
  },
  {
   "cell_type": "markdown",
   "id": "2ad98be9",
   "metadata": {},
   "source": [
    "## Forecast"
   ]
  },
  {
   "cell_type": "code",
   "execution_count": null,
   "id": "02b4ed30",
   "metadata": {},
   "outputs": [],
   "source": [
    "from statsforecast import StatsForecast\n",
    "from statsforecast.models import AutoARIMA, ETS"
   ]
  },
  {
   "cell_type": "code",
   "execution_count": null,
   "id": "f4dc396e",
   "metadata": {},
   "outputs": [],
   "source": [
    "panel_df = pd.read_parquet(\"../data/processed/panel_df.parquet\")\n"
   ]
  },
  {
   "cell_type": "code",
   "execution_count": null,
   "id": "0c687719",
   "metadata": {},
   "outputs": [],
   "source": [
    "panel_df = panel_df.iloc[:, :3]"
   ]
  },
  {
   "cell_type": "code",
   "execution_count": null,
   "id": "46ac7cd6",
   "metadata": {},
   "outputs": [],
   "source": [
    "models = [\n",
    "    ETS(season_length=7, model='ZZA'),\n",
    "    AutoARIMA()\n",
    "]\n",
    "\n",
    "model = StatsForecast(\n",
    "    df=panel_df, \n",
    "    models=models,\n",
    "    freq='D', \n",
    "    n_jobs=-1,\n",
    ")\n",
    "\n",
    "fcst_df = model.forecast(28).reset_index()\n",
    "fcst_df.head()"
   ]
  },
  {
   "cell_type": "code",
   "execution_count": null,
   "id": "dfcf8740",
   "metadata": {},
   "outputs": [],
   "source": [
    "filepath = \"../fcst/fcst_df.csv\"\n",
    "fcst_df.to_csv(filepath)\n",
    "print(f\"Data written to {filepath}\")"
   ]
  },
  {
   "cell_type": "code",
   "execution_count": null,
   "id": "96c68354",
   "metadata": {},
   "outputs": [],
   "source": []
  },
  {
   "cell_type": "code",
   "execution_count": null,
   "id": "afb7817d",
   "metadata": {},
   "outputs": [],
   "source": [
    "i = 10000\n",
    "Y_hat_df.loc[Y_hat_df.unique_id == i].set_index(\"ds\")[\"ETS\"].plot()\n",
    "Y_test_df.loc[Y_test_df.unique_id == i].set_index(\"ds\")[\"y\"].plot()"
   ]
  },
  {
   "cell_type": "code",
   "execution_count": null,
   "id": "8f819db5",
   "metadata": {},
   "outputs": [],
   "source": []
  }
 ],
 "metadata": {
  "kernelspec": {
   "display_name": "Python 3.10.6 ('forecasting')",
   "language": "python",
   "name": "python3"
  },
  "language_info": {
   "codemirror_mode": {
    "name": "ipython",
    "version": 3
   },
   "file_extension": ".py",
   "mimetype": "text/x-python",
   "name": "python",
   "nbconvert_exporter": "python",
   "pygments_lexer": "ipython3",
   "version": "3.10.6"
  },
  "vscode": {
   "interpreter": {
    "hash": "bd41d9743e1e42bb253cce585c0d50fe0bafd7f8987a0dd4ec647801d8d44c5f"
   }
  }
 },
 "nbformat": 4,
 "nbformat_minor": 5
}
