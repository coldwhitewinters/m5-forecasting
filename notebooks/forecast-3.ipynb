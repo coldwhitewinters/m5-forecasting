{
 "cells": [
  {
   "cell_type": "markdown",
   "id": "2e97f892-e21b-412e-9d7c-0401cd572d32",
   "metadata": {
    "papermill": {
     "duration": 0.017889,
     "end_time": "2021-10-14T00:32:03.497792",
     "exception": false,
     "start_time": "2021-10-14T00:32:03.479903",
     "status": "completed"
    },
    "tags": []
   },
   "source": [
    "# Forecast"
   ]
  },
  {
   "cell_type": "markdown",
   "id": "db01a074-52df-475b-a54a-a754b84f2251",
   "metadata": {
    "papermill": {
     "duration": 0.00526,
     "end_time": "2021-10-14T00:32:03.511295",
     "exception": false,
     "start_time": "2021-10-14T00:32:03.506035",
     "status": "completed"
    },
    "tags": []
   },
   "source": [
    "## Setup"
   ]
  },
  {
   "cell_type": "code",
   "execution_count": 1,
   "id": "fb6ab9fc-2b2d-4c69-bccf-13a545604b52",
   "metadata": {
    "execution": {
     "iopub.execute_input": "2021-10-14T00:32:03.529178Z",
     "iopub.status.busy": "2021-10-14T00:32:03.528875Z",
     "iopub.status.idle": "2021-10-14T00:32:03.536002Z",
     "shell.execute_reply": "2021-10-14T00:32:03.536657Z"
    },
    "papermill": {
     "duration": 0.021093,
     "end_time": "2021-10-14T00:32:03.537504",
     "exception": false,
     "start_time": "2021-10-14T00:32:03.516411",
     "status": "completed"
    },
    "tags": []
   },
   "outputs": [],
   "source": [
    "%load_ext autoreload\n",
    "%autoreload 2"
   ]
  },
  {
   "cell_type": "code",
   "execution_count": 2,
   "id": "372f5539-cb1b-4dd8-8d3d-2d9506e3d476",
   "metadata": {
    "execution": {
     "iopub.execute_input": "2021-10-14T00:32:03.554682Z",
     "iopub.status.busy": "2021-10-14T00:32:03.554304Z",
     "iopub.status.idle": "2021-10-14T00:32:04.413913Z",
     "shell.execute_reply": "2021-10-14T00:32:04.413664Z"
    },
    "papermill": {
     "duration": 0.868805,
     "end_time": "2021-10-14T00:32:04.413984",
     "exception": false,
     "start_time": "2021-10-14T00:32:03.545179",
     "status": "completed"
    },
    "tags": []
   },
   "outputs": [],
   "source": [
    "import sys\n",
    "sys.path.append(\"..\")\n",
    "\n",
    "# Libraries\n",
    "import pandas as pd\n",
    "import numpy as np\n",
    "import matplotlib.pyplot as plt\n",
    "\n",
    "import m5.config as cfg\n",
    "from m5.model import train, predict\n",
    "from m5.evaluate import accuracy\n",
    "from m5.plot import plot_fcst\n",
    "\n",
    "# Library settings\n",
    "pd.options.display.max_columns = 999\n",
    "plt.rcParams[\"figure.figsize\"] = (14, 4)"
   ]
  },
  {
   "cell_type": "markdown",
   "id": "d9d6177b-3189-4b70-9542-ca825a007af1",
   "metadata": {
    "papermill": {
     "duration": 0.00573,
     "end_time": "2021-10-14T00:32:04.425417",
     "exception": false,
     "start_time": "2021-10-14T00:32:04.419687",
     "status": "completed"
    },
    "tags": []
   },
   "source": [
    "## Parameters"
   ]
  },
  {
   "cell_type": "code",
   "execution_count": 3,
   "id": "ca52ac99-bbcd-4bdd-9b6c-a8cc8e448eb2",
   "metadata": {
    "execution": {
     "iopub.execute_input": "2021-10-14T00:32:04.440396Z",
     "iopub.status.busy": "2021-10-14T00:32:04.439853Z",
     "iopub.status.idle": "2021-10-14T00:32:04.450426Z",
     "shell.execute_reply": "2021-10-14T00:32:04.450688Z"
    },
    "papermill": {
     "duration": 0.020073,
     "end_time": "2021-10-14T00:32:04.450785",
     "exception": false,
     "start_time": "2021-10-14T00:32:04.430712",
     "status": "completed"
    },
    "tags": [
     "parameters"
    ]
   },
   "outputs": [],
   "source": [
    "level = 1"
   ]
  },
  {
   "cell_type": "code",
   "execution_count": 4,
   "id": "f85f2913",
   "metadata": {
    "execution": {
     "iopub.execute_input": "2021-10-14T00:32:04.467772Z",
     "iopub.status.busy": "2021-10-14T00:32:04.467296Z",
     "iopub.status.idle": "2021-10-14T00:32:04.482907Z",
     "shell.execute_reply": "2021-10-14T00:32:04.482478Z"
    },
    "papermill": {
     "duration": 0.02472,
     "end_time": "2021-10-14T00:32:04.483036",
     "exception": false,
     "start_time": "2021-10-14T00:32:04.458316",
     "status": "completed"
    },
    "tags": [
     "injected-parameters"
    ]
   },
   "outputs": [],
   "source": [
    "# Parameters\n",
    "level = 3\n"
   ]
  },
  {
   "cell_type": "markdown",
   "id": "5e8ebb71-583a-4cd1-b60e-7006ebc85e82",
   "metadata": {
    "papermill": {
     "duration": 0.005687,
     "end_time": "2021-10-14T00:32:04.494623",
     "exception": false,
     "start_time": "2021-10-14T00:32:04.488936",
     "status": "completed"
    },
    "tags": []
   },
   "source": [
    "## Train"
   ]
  },
  {
   "cell_type": "code",
   "execution_count": 5,
   "id": "a462d470-398d-4f64-927f-7d9a0538508b",
   "metadata": {
    "execution": {
     "iopub.execute_input": "2021-10-14T00:32:04.509687Z",
     "iopub.status.busy": "2021-10-14T00:32:04.509188Z",
     "iopub.status.idle": "2021-10-14T00:32:04.519463Z",
     "shell.execute_reply": "2021-10-14T00:32:04.519773Z"
    },
    "papermill": {
     "duration": 0.020198,
     "end_time": "2021-10-14T00:32:04.519916",
     "exception": false,
     "start_time": "2021-10-14T00:32:04.499718",
     "status": "completed"
    },
    "tags": []
   },
   "outputs": [],
   "source": [
    "params = {\n",
    "    \"task\": \"train\",\n",
    "    \"objective\": \"tweedie\",\n",
    "    \"num_iterations\": 1000,\n",
    "    \"learning_rate\": 0.1,\n",
    "    \"num_leaves\": 31,\n",
    "    \"num_threads\": 4,\n",
    "    \"early_stopping_round\": 100,\n",
    "}"
   ]
  },
  {
   "cell_type": "code",
   "execution_count": 6,
   "id": "1a9cdb58-c9eb-4839-b1c6-5e6d44b4a36a",
   "metadata": {
    "execution": {
     "iopub.execute_input": "2021-10-14T00:32:04.535060Z",
     "iopub.status.busy": "2021-10-14T00:32:04.534587Z",
     "iopub.status.idle": "2021-10-14T00:32:04.952076Z",
     "shell.execute_reply": "2021-10-14T00:32:04.951717Z"
    },
    "papermill": {
     "duration": 0.426555,
     "end_time": "2021-10-14T00:32:04.952171",
     "exception": false,
     "start_time": "2021-10-14T00:32:04.525616",
     "status": "completed"
    },
    "tags": []
   },
   "outputs": [
    {
     "name": "stdout",
     "output_type": "stream",
     "text": [
      "Training model...\n",
      "[LightGBM] [Info] Load from binary file /home/ariel/Playground/m5-forecasting/data/processed/datasets/3/train.bin\n",
      "[LightGBM] [Warning] Auto-choosing col-wise multi-threading, the overhead of testing was 0.001883 seconds.\n",
      "You can set `force_col_wise=true` to remove the overhead.\n",
      "[LightGBM] [Info] Total Bins 5489\n",
      "[LightGBM] [Info] Number of data points in the train set: 18440, number of used features: 26\n",
      "[LightGBM] [Info] Start training from score 8.143433\n",
      "[1]\tvalid_0's tweedie: 260.767\n",
      "Training until validation scores don't improve for 100 rounds\n",
      "[2]\tvalid_0's tweedie: 260.196\n",
      "[3]\tvalid_0's tweedie: 259.729\n",
      "[4]\tvalid_0's tweedie: 259.362\n",
      "[5]\tvalid_0's tweedie: 259.065\n",
      "[6]\tvalid_0's tweedie: 258.818\n",
      "[7]\tvalid_0's tweedie: 258.617\n",
      "[8]\tvalid_0's tweedie: 258.446\n",
      "[9]\tvalid_0's tweedie: 258.312\n",
      "[10]\tvalid_0's tweedie: 258.194\n",
      "[11]\tvalid_0's tweedie: 258.1\n",
      "[12]\tvalid_0's tweedie: 258.02\n",
      "[13]\tvalid_0's tweedie: 257.944\n",
      "[14]\tvalid_0's tweedie: 257.879\n",
      "[15]\tvalid_0's tweedie: 257.831\n",
      "[16]\tvalid_0's tweedie: 257.788\n",
      "[17]\tvalid_0's tweedie: 257.762\n",
      "[18]\tvalid_0's tweedie: 257.726\n",
      "[19]\tvalid_0's tweedie: 257.699\n",
      "[20]\tvalid_0's tweedie: 257.677\n",
      "[21]\tvalid_0's tweedie: 257.661\n",
      "[22]\tvalid_0's tweedie: 257.645\n",
      "[23]\tvalid_0's tweedie: 257.635\n",
      "[24]\tvalid_0's tweedie: 257.628\n",
      "[25]\tvalid_0's tweedie: 257.621\n",
      "[26]\tvalid_0's tweedie: 257.613\n",
      "[27]\tvalid_0's tweedie: 257.606\n",
      "[28]\tvalid_0's tweedie: 257.6\n",
      "[29]\tvalid_0's tweedie: 257.594\n",
      "[30]\tvalid_0's tweedie: 257.588\n",
      "[31]\tvalid_0's tweedie: 257.584\n",
      "[32]\tvalid_0's tweedie: 257.582\n",
      "[33]\tvalid_0's tweedie: 257.579\n",
      "[34]\tvalid_0's tweedie: 257.577\n",
      "[35]\tvalid_0's tweedie: 257.575\n",
      "[36]\tvalid_0's tweedie: 257.575\n",
      "[37]\tvalid_0's tweedie: 257.574\n",
      "[38]\tvalid_0's tweedie: 257.57\n",
      "[39]\tvalid_0's tweedie: 257.569\n",
      "[40]\tvalid_0's tweedie: 257.568\n",
      "[41]\tvalid_0's tweedie: 257.571\n",
      "[42]\tvalid_0's tweedie: 257.568\n",
      "[43]\tvalid_0's tweedie: 257.567\n",
      "[44]\tvalid_0's tweedie: 257.567\n",
      "[45]\tvalid_0's tweedie: 257.57\n",
      "[46]\tvalid_0's tweedie: 257.572\n",
      "[47]\tvalid_0's tweedie: 257.57\n",
      "[48]\tvalid_0's tweedie: 257.578\n",
      "[49]\tvalid_0's tweedie: 257.576\n",
      "[50]\tvalid_0's tweedie: 257.575\n",
      "[51]\tvalid_0's tweedie: 257.575\n",
      "[52]\tvalid_0's tweedie: 257.578\n",
      "[53]\tvalid_0's tweedie: 257.576\n",
      "[54]\tvalid_0's tweedie: 257.576\n",
      "[55]\tvalid_0's tweedie: 257.576\n",
      "[56]\tvalid_0's tweedie: 257.576\n",
      "[57]\tvalid_0's tweedie: 257.575\n",
      "[58]\tvalid_0's tweedie: 257.575\n",
      "[59]\tvalid_0's tweedie: 257.571\n",
      "[60]\tvalid_0's tweedie: 257.567\n",
      "[61]\tvalid_0's tweedie: 257.568\n",
      "[62]\tvalid_0's tweedie: 257.567\n",
      "[63]\tvalid_0's tweedie: 257.566\n",
      "[64]\tvalid_0's tweedie: 257.564\n",
      "[65]\tvalid_0's tweedie: 257.564\n",
      "[66]\tvalid_0's tweedie: 257.564\n",
      "[67]\tvalid_0's tweedie: 257.564\n",
      "[68]\tvalid_0's tweedie: 257.562\n",
      "[69]\tvalid_0's tweedie: 257.561\n",
      "[70]\tvalid_0's tweedie: 257.562\n",
      "[71]\tvalid_0's tweedie: 257.563\n",
      "[72]\tvalid_0's tweedie: 257.563\n",
      "[73]\tvalid_0's tweedie: 257.564\n",
      "[74]\tvalid_0's tweedie: 257.566\n",
      "[75]\tvalid_0's tweedie: 257.566\n",
      "[76]\tvalid_0's tweedie: 257.566\n",
      "[77]\tvalid_0's tweedie: 257.566\n"
     ]
    },
    {
     "name": "stderr",
     "output_type": "stream",
     "text": [
      "/home/ariel/anaconda3/envs/merlion/lib/python3.9/site-packages/lightgbm/engine.py:148: UserWarning: Found `num_iterations` in params. Will use it instead of argument\n",
      "  _log_warning(\"Found `{}` in params. Will use it instead of argument\".format(alias))\n",
      "/home/ariel/anaconda3/envs/merlion/lib/python3.9/site-packages/lightgbm/engine.py:153: UserWarning: Found `early_stopping_round` in params. Will use it instead of argument\n",
      "  _log_warning(\"Found `{}` in params. Will use it instead of argument\".format(alias))\n"
     ]
    },
    {
     "name": "stdout",
     "output_type": "stream",
     "text": [
      "[78]\tvalid_0's tweedie: 257.566\n",
      "[79]\tvalid_0's tweedie: 257.565\n",
      "[80]\tvalid_0's tweedie: 257.564\n",
      "[81]\tvalid_0's tweedie: 257.562\n",
      "[82]\tvalid_0's tweedie: 257.562\n",
      "[83]\tvalid_0's tweedie: 257.562\n",
      "[84]\tvalid_0's tweedie: 257.564\n",
      "[85]\tvalid_0's tweedie: 257.563\n",
      "[86]\tvalid_0's tweedie: 257.562\n",
      "[87]\tvalid_0's tweedie: 257.562\n",
      "[88]\tvalid_0's tweedie: 257.563\n",
      "[89]\tvalid_0's tweedie: 257.563\n",
      "[90]\tvalid_0's tweedie: 257.563\n",
      "[91]\tvalid_0's tweedie: 257.562\n",
      "[92]\tvalid_0's tweedie: 257.563\n",
      "[93]\tvalid_0's tweedie: 257.564\n",
      "[94]\tvalid_0's tweedie: 257.562\n",
      "[95]\tvalid_0's tweedie: 257.562\n",
      "[96]\tvalid_0's tweedie: 257.561\n",
      "[97]\tvalid_0's tweedie: 257.561\n",
      "[98]\tvalid_0's tweedie: 257.562\n",
      "[99]\tvalid_0's tweedie: 257.562\n",
      "[100]\tvalid_0's tweedie: 257.562\n",
      "[101]\tvalid_0's tweedie: 257.562\n",
      "[102]\tvalid_0's tweedie: 257.562\n",
      "[103]\tvalid_0's tweedie: 257.562\n",
      "[104]\tvalid_0's tweedie: 257.562\n",
      "[105]\tvalid_0's tweedie: 257.563\n",
      "[106]\tvalid_0's tweedie: 257.564\n",
      "[107]\tvalid_0's tweedie: 257.563\n",
      "[108]\tvalid_0's tweedie: 257.563\n",
      "[109]\tvalid_0's tweedie: 257.563\n",
      "[110]\tvalid_0's tweedie: 257.563\n",
      "[111]\tvalid_0's tweedie: 257.564\n",
      "[112]\tvalid_0's tweedie: 257.565\n",
      "[113]\tvalid_0's tweedie: 257.565\n",
      "[114]\tvalid_0's tweedie: 257.565\n",
      "[115]\tvalid_0's tweedie: 257.565\n",
      "[116]\tvalid_0's tweedie: 257.565\n",
      "[117]\tvalid_0's tweedie: 257.565\n",
      "[118]\tvalid_0's tweedie: 257.565\n",
      "[119]\tvalid_0's tweedie: 257.566\n",
      "[120]\tvalid_0's tweedie: 257.566\n",
      "[121]\tvalid_0's tweedie: 257.567\n",
      "[122]\tvalid_0's tweedie: 257.566\n",
      "[123]\tvalid_0's tweedie: 257.566\n",
      "[124]\tvalid_0's tweedie: 257.565\n",
      "[125]\tvalid_0's tweedie: 257.565\n",
      "[126]\tvalid_0's tweedie: 257.564\n",
      "[127]\tvalid_0's tweedie: 257.564\n",
      "[128]\tvalid_0's tweedie: 257.566\n",
      "[129]\tvalid_0's tweedie: 257.565\n",
      "[130]\tvalid_0's tweedie: 257.565\n",
      "[131]\tvalid_0's tweedie: 257.566\n",
      "[132]\tvalid_0's tweedie: 257.566\n",
      "[133]\tvalid_0's tweedie: 257.564\n",
      "[134]\tvalid_0's tweedie: 257.565\n",
      "[135]\tvalid_0's tweedie: 257.565\n",
      "[136]\tvalid_0's tweedie: 257.565\n",
      "[137]\tvalid_0's tweedie: 257.565\n",
      "[138]\tvalid_0's tweedie: 257.565\n",
      "[139]\tvalid_0's tweedie: 257.565\n",
      "[140]\tvalid_0's tweedie: 257.565\n",
      "[141]\tvalid_0's tweedie: 257.565\n",
      "[142]\tvalid_0's tweedie: 257.564\n",
      "[143]\tvalid_0's tweedie: 257.565\n",
      "[144]\tvalid_0's tweedie: 257.564\n",
      "[145]\tvalid_0's tweedie: 257.564\n",
      "[146]\tvalid_0's tweedie: 257.564\n",
      "[147]\tvalid_0's tweedie: 257.566\n",
      "[148]\tvalid_0's tweedie: 257.565\n",
      "[149]\tvalid_0's tweedie: 257.565\n",
      "[150]\tvalid_0's tweedie: 257.565\n",
      "[151]\tvalid_0's tweedie: 257.565\n",
      "[152]\tvalid_0's tweedie: 257.565\n",
      "[153]\tvalid_0's tweedie: 257.564\n",
      "[154]\tvalid_0's tweedie: 257.565\n",
      "[155]\tvalid_0's tweedie: 257.565\n",
      "[156]\tvalid_0's tweedie: 257.564\n",
      "[157]\tvalid_0's tweedie: 257.564\n",
      "[158]\tvalid_0's tweedie: 257.564\n",
      "[159]\tvalid_0's tweedie: 257.564\n",
      "[160]\tvalid_0's tweedie: 257.562\n",
      "[161]\tvalid_0's tweedie: 257.562\n",
      "[162]\tvalid_0's tweedie: 257.562\n",
      "[163]\tvalid_0's tweedie: 257.562\n",
      "[164]\tvalid_0's tweedie: 257.562\n",
      "[165]\tvalid_0's tweedie: 257.563\n",
      "[166]\tvalid_0's tweedie: 257.563\n",
      "[167]\tvalid_0's tweedie: 257.563\n",
      "[168]\tvalid_0's tweedie: 257.563\n",
      "[169]\tvalid_0's tweedie: 257.563\n",
      "Early stopping, best iteration is:\n",
      "[69]\tvalid_0's tweedie: 257.561\n",
      "Done.\n"
     ]
    }
   ],
   "source": [
    "train(cfg.DATA_DIR, cfg.MODEL_DIR, level, params)"
   ]
  },
  {
   "cell_type": "markdown",
   "id": "e40d6d12-d2da-4317-8bf1-1395e76d2d0c",
   "metadata": {
    "papermill": {
     "duration": 0.006953,
     "end_time": "2021-10-14T00:32:04.967770",
     "exception": false,
     "start_time": "2021-10-14T00:32:04.960817",
     "status": "completed"
    },
    "tags": []
   },
   "source": [
    "## Predict"
   ]
  },
  {
   "cell_type": "code",
   "execution_count": 7,
   "id": "40387698-a478-4d41-90ec-889a8401b7e5",
   "metadata": {
    "execution": {
     "iopub.execute_input": "2021-10-14T00:32:04.989871Z",
     "iopub.status.busy": "2021-10-14T00:32:04.989184Z",
     "iopub.status.idle": "2021-10-14T00:32:05.039146Z",
     "shell.execute_reply": "2021-10-14T00:32:05.039438Z"
    },
    "papermill": {
     "duration": 0.064868,
     "end_time": "2021-10-14T00:32:05.039542",
     "exception": false,
     "start_time": "2021-10-14T00:32:04.974674",
     "status": "completed"
    },
    "tags": []
   },
   "outputs": [
    {
     "data": {
      "text/html": [
       "<div>\n",
       "<style scoped>\n",
       "    .dataframe tbody tr th:only-of-type {\n",
       "        vertical-align: middle;\n",
       "    }\n",
       "\n",
       "    .dataframe tbody tr th {\n",
       "        vertical-align: top;\n",
       "    }\n",
       "\n",
       "    .dataframe thead th {\n",
       "        text-align: right;\n",
       "    }\n",
       "</style>\n",
       "<table border=\"1\" class=\"dataframe\">\n",
       "  <thead>\n",
       "    <tr style=\"text-align: right;\">\n",
       "      <th></th>\n",
       "      <th>store_id</th>\n",
       "      <th>d</th>\n",
       "      <th>sales</th>\n",
       "      <th>fcst</th>\n",
       "    </tr>\n",
       "  </thead>\n",
       "  <tbody>\n",
       "    <tr>\n",
       "      <th>18850</th>\n",
       "      <td>0</td>\n",
       "      <td>1886</td>\n",
       "      <td>3905</td>\n",
       "      <td>3773.557657</td>\n",
       "    </tr>\n",
       "    <tr>\n",
       "      <th>18860</th>\n",
       "      <td>0</td>\n",
       "      <td>1887</td>\n",
       "      <td>3788</td>\n",
       "      <td>3604.814953</td>\n",
       "    </tr>\n",
       "    <tr>\n",
       "      <th>18870</th>\n",
       "      <td>0</td>\n",
       "      <td>1888</td>\n",
       "      <td>3339</td>\n",
       "      <td>3495.176921</td>\n",
       "    </tr>\n",
       "    <tr>\n",
       "      <th>18880</th>\n",
       "      <td>0</td>\n",
       "      <td>1889</td>\n",
       "      <td>4076</td>\n",
       "      <td>3541.036203</td>\n",
       "    </tr>\n",
       "    <tr>\n",
       "      <th>18890</th>\n",
       "      <td>0</td>\n",
       "      <td>1890</td>\n",
       "      <td>4983</td>\n",
       "      <td>4062.146883</td>\n",
       "    </tr>\n",
       "    <tr>\n",
       "      <th>...</th>\n",
       "      <td>...</td>\n",
       "      <td>...</td>\n",
       "      <td>...</td>\n",
       "      <td>...</td>\n",
       "    </tr>\n",
       "    <tr>\n",
       "      <th>19089</th>\n",
       "      <td>9</td>\n",
       "      <td>1909</td>\n",
       "      <td>3159</td>\n",
       "      <td>2818.756455</td>\n",
       "    </tr>\n",
       "    <tr>\n",
       "      <th>19099</th>\n",
       "      <td>9</td>\n",
       "      <td>1910</td>\n",
       "      <td>3226</td>\n",
       "      <td>3004.930271</td>\n",
       "    </tr>\n",
       "    <tr>\n",
       "      <th>19109</th>\n",
       "      <td>9</td>\n",
       "      <td>1911</td>\n",
       "      <td>3828</td>\n",
       "      <td>3689.981985</td>\n",
       "    </tr>\n",
       "    <tr>\n",
       "      <th>19119</th>\n",
       "      <td>9</td>\n",
       "      <td>1912</td>\n",
       "      <td>4686</td>\n",
       "      <td>4342.504595</td>\n",
       "    </tr>\n",
       "    <tr>\n",
       "      <th>19129</th>\n",
       "      <td>9</td>\n",
       "      <td>1913</td>\n",
       "      <td>4325</td>\n",
       "      <td>3972.385801</td>\n",
       "    </tr>\n",
       "  </tbody>\n",
       "</table>\n",
       "<p>280 rows × 4 columns</p>\n",
       "</div>"
      ],
      "text/plain": [
       "       store_id     d  sales         fcst\n",
       "18850         0  1886   3905  3773.557657\n",
       "18860         0  1887   3788  3604.814953\n",
       "18870         0  1888   3339  3495.176921\n",
       "18880         0  1889   4076  3541.036203\n",
       "18890         0  1890   4983  4062.146883\n",
       "...         ...   ...    ...          ...\n",
       "19089         9  1909   3159  2818.756455\n",
       "19099         9  1910   3226  3004.930271\n",
       "19109         9  1911   3828  3689.981985\n",
       "19119         9  1912   4686  4342.504595\n",
       "19129         9  1913   4325  3972.385801\n",
       "\n",
       "[280 rows x 4 columns]"
      ]
     },
     "execution_count": 7,
     "metadata": {},
     "output_type": "execute_result"
    }
   ],
   "source": [
    "fcst = predict(cfg.DATA_DIR, cfg.MODEL_DIR, cfg.FCST_DIR, level)\n",
    "fcst"
   ]
  },
  {
   "cell_type": "code",
   "execution_count": 8,
   "id": "2b597f99-2385-4c62-8b50-e15b1d61869c",
   "metadata": {
    "execution": {
     "iopub.execute_input": "2021-10-14T00:32:05.057289Z",
     "iopub.status.busy": "2021-10-14T00:32:05.056697Z",
     "iopub.status.idle": "2021-10-14T00:32:05.232944Z",
     "shell.execute_reply": "2021-10-14T00:32:05.232650Z"
    },
    "papermill": {
     "duration": 0.186671,
     "end_time": "2021-10-14T00:32:05.233021",
     "exception": false,
     "start_time": "2021-10-14T00:32:05.046350",
     "status": "completed"
    },
    "tags": []
   },
   "outputs": [
    {
     "data": {
      "image/png": "[encoded data removed]",
      "text/plain": [
       "<Figure size 1008x288 with 1 Axes>"
      ]
     },
     "metadata": {
      "needs_background": "light"
     },
     "output_type": "display_data"
    }
   ],
   "source": [
    "plot_fcst(cfg.DATA_DIR, cfg.FCST_DIR, level=level)"
   ]
  },
  {
   "cell_type": "markdown",
   "id": "09bfab3b-9cf9-41f0-a340-7c0363b7df0d",
   "metadata": {
    "papermill": {
     "duration": 0.007617,
     "end_time": "2021-10-14T00:32:05.248492",
     "exception": false,
     "start_time": "2021-10-14T00:32:05.240875",
     "status": "completed"
    },
    "tags": []
   },
   "source": [
    "## Evaluate"
   ]
  },
  {
   "cell_type": "code",
   "execution_count": 9,
   "id": "d8b7a2f7-996f-4a76-8adf-c77b27d83b02",
   "metadata": {
    "execution": {
     "iopub.execute_input": "2021-10-14T00:32:05.270054Z",
     "iopub.status.busy": "2021-10-14T00:32:05.269717Z",
     "iopub.status.idle": "2021-10-14T00:32:05.322115Z",
     "shell.execute_reply": "2021-10-14T00:32:05.322377Z"
    },
    "papermill": {
     "duration": 0.06569,
     "end_time": "2021-10-14T00:32:05.322471",
     "exception": false,
     "start_time": "2021-10-14T00:32:05.256781",
     "status": "completed"
    },
    "tags": []
   },
   "outputs": [
    {
     "data": {
      "text/html": [
       "<div>\n",
       "<style scoped>\n",
       "    .dataframe tbody tr th:only-of-type {\n",
       "        vertical-align: middle;\n",
       "    }\n",
       "\n",
       "    .dataframe tbody tr th {\n",
       "        vertical-align: top;\n",
       "    }\n",
       "\n",
       "    .dataframe thead th {\n",
       "        text-align: right;\n",
       "    }\n",
       "</style>\n",
       "<table border=\"1\" class=\"dataframe\">\n",
       "  <thead>\n",
       "    <tr style=\"text-align: right;\">\n",
       "      <th></th>\n",
       "      <th>store_id</th>\n",
       "      <th>mse_fcst</th>\n",
       "      <th>mse_naive_insample</th>\n",
       "      <th>weights</th>\n",
       "      <th>msse</th>\n",
       "      <th>rmsse</th>\n",
       "      <th>wrmsse</th>\n",
       "    </tr>\n",
       "  </thead>\n",
       "  <tbody>\n",
       "    <tr>\n",
       "      <th>0</th>\n",
       "      <td>0</td>\n",
       "      <td>145570.972110</td>\n",
       "      <td>750171.495754</td>\n",
       "      <td>0.109100</td>\n",
       "      <td>0.194050</td>\n",
       "      <td>0.440511</td>\n",
       "      <td>0.048060</td>\n",
       "    </tr>\n",
       "    <tr>\n",
       "      <th>1</th>\n",
       "      <td>1</td>\n",
       "      <td>513801.047260</td>\n",
       "      <td>563669.303609</td>\n",
       "      <td>0.102343</td>\n",
       "      <td>0.911529</td>\n",
       "      <td>0.954740</td>\n",
       "      <td>0.097711</td>\n",
       "    </tr>\n",
       "    <tr>\n",
       "      <th>2</th>\n",
       "      <td>2</td>\n",
       "      <td>157770.338897</td>\n",
       "      <td>921369.304140</td>\n",
       "      <td>0.157984</td>\n",
       "      <td>0.171235</td>\n",
       "      <td>0.413805</td>\n",
       "      <td>0.065375</td>\n",
       "    </tr>\n",
       "    <tr>\n",
       "      <th>3</th>\n",
       "      <td>3</td>\n",
       "      <td>28924.506606</td>\n",
       "      <td>100483.197452</td>\n",
       "      <td>0.064323</td>\n",
       "      <td>0.287854</td>\n",
       "      <td>0.536520</td>\n",
       "      <td>0.034511</td>\n",
       "    </tr>\n",
       "    <tr>\n",
       "      <th>4</th>\n",
       "      <td>4</td>\n",
       "      <td>51993.024137</td>\n",
       "      <td>356746.298832</td>\n",
       "      <td>0.079185</td>\n",
       "      <td>0.145742</td>\n",
       "      <td>0.381762</td>\n",
       "      <td>0.030230</td>\n",
       "    </tr>\n",
       "    <tr>\n",
       "      <th>5</th>\n",
       "      <td>5</td>\n",
       "      <td>61684.131882</td>\n",
       "      <td>583479.563163</td>\n",
       "      <td>0.101254</td>\n",
       "      <td>0.105718</td>\n",
       "      <td>0.325143</td>\n",
       "      <td>0.032922</td>\n",
       "    </tr>\n",
       "    <tr>\n",
       "      <th>6</th>\n",
       "      <td>6</td>\n",
       "      <td>64259.357614</td>\n",
       "      <td>327078.698514</td>\n",
       "      <td>0.098930</td>\n",
       "      <td>0.196465</td>\n",
       "      <td>0.443243</td>\n",
       "      <td>0.043850</td>\n",
       "    </tr>\n",
       "    <tr>\n",
       "      <th>7</th>\n",
       "      <td>7</td>\n",
       "      <td>128164.565052</td>\n",
       "      <td>509842.136943</td>\n",
       "      <td>0.085972</td>\n",
       "      <td>0.251381</td>\n",
       "      <td>0.501379</td>\n",
       "      <td>0.043105</td>\n",
       "    </tr>\n",
       "    <tr>\n",
       "      <th>8</th>\n",
       "      <td>8</td>\n",
       "      <td>372617.998400</td>\n",
       "      <td>512924.965499</td>\n",
       "      <td>0.117008</td>\n",
       "      <td>0.726457</td>\n",
       "      <td>0.852325</td>\n",
       "      <td>0.099729</td>\n",
       "    </tr>\n",
       "    <tr>\n",
       "      <th>9</th>\n",
       "      <td>9</td>\n",
       "      <td>75647.815011</td>\n",
       "      <td>506963.504777</td>\n",
       "      <td>0.083900</td>\n",
       "      <td>0.149217</td>\n",
       "      <td>0.386287</td>\n",
       "      <td>0.032410</td>\n",
       "    </tr>\n",
       "  </tbody>\n",
       "</table>\n",
       "</div>"
      ],
      "text/plain": [
       "   store_id       mse_fcst  mse_naive_insample   weights      msse     rmsse  \\\n",
       "0         0  145570.972110       750171.495754  0.109100  0.194050  0.440511   \n",
       "1         1  513801.047260       563669.303609  0.102343  0.911529  0.954740   \n",
       "2         2  157770.338897       921369.304140  0.157984  0.171235  0.413805   \n",
       "3         3   28924.506606       100483.197452  0.064323  0.287854  0.536520   \n",
       "4         4   51993.024137       356746.298832  0.079185  0.145742  0.381762   \n",
       "5         5   61684.131882       583479.563163  0.101254  0.105718  0.325143   \n",
       "6         6   64259.357614       327078.698514  0.098930  0.196465  0.443243   \n",
       "7         7  128164.565052       509842.136943  0.085972  0.251381  0.501379   \n",
       "8         8  372617.998400       512924.965499  0.117008  0.726457  0.852325   \n",
       "9         9   75647.815011       506963.504777  0.083900  0.149217  0.386287   \n",
       "\n",
       "     wrmsse  \n",
       "0  0.048060  \n",
       "1  0.097711  \n",
       "2  0.065375  \n",
       "3  0.034511  \n",
       "4  0.030230  \n",
       "5  0.032922  \n",
       "6  0.043850  \n",
       "7  0.043105  \n",
       "8  0.099729  \n",
       "9  0.032410  "
      ]
     },
     "execution_count": 9,
     "metadata": {},
     "output_type": "execute_result"
    }
   ],
   "source": [
    "accuracy_df = accuracy(cfg.DATA_DIR, cfg.FCST_DIR, cfg.METRICS_DIR, level)\n",
    "accuracy_df"
   ]
  },
  {
   "cell_type": "code",
   "execution_count": 10,
   "id": "2f7e4bc6-8e33-449a-9853-3cae4192d1ea",
   "metadata": {
    "execution": {
     "iopub.execute_input": "2021-10-14T00:32:05.341361Z",
     "iopub.status.busy": "2021-10-14T00:32:05.341023Z",
     "iopub.status.idle": "2021-10-14T00:32:05.353091Z",
     "shell.execute_reply": "2021-10-14T00:32:05.352725Z"
    },
    "papermill": {
     "duration": 0.023083,
     "end_time": "2021-10-14T00:32:05.353180",
     "exception": false,
     "start_time": "2021-10-14T00:32:05.330097",
     "status": "completed"
    },
    "tags": []
   },
   "outputs": [
    {
     "data": {
      "text/plain": [
       "1.0"
      ]
     },
     "execution_count": 10,
     "metadata": {},
     "output_type": "execute_result"
    }
   ],
   "source": [
    "accuracy_df[\"weights\"].sum()"
   ]
  },
  {
   "cell_type": "code",
   "execution_count": 11,
   "id": "a0258800-c530-4b7c-98c5-2274bb70e942",
   "metadata": {
    "execution": {
     "iopub.execute_input": "2021-10-14T00:32:05.374582Z",
     "iopub.status.busy": "2021-10-14T00:32:05.374010Z",
     "iopub.status.idle": "2021-10-14T00:32:05.399790Z",
     "shell.execute_reply": "2021-10-14T00:32:05.400384Z"
    },
    "papermill": {
     "duration": 0.038721,
     "end_time": "2021-10-14T00:32:05.400574",
     "exception": false,
     "start_time": "2021-10-14T00:32:05.361853",
     "status": "completed"
    },
    "tags": []
   },
   "outputs": [
    {
     "data": {
      "text/plain": [
       "0.5279012259419275"
      ]
     },
     "execution_count": 11,
     "metadata": {},
     "output_type": "execute_result"
    }
   ],
   "source": [
    "accuracy_df[\"wrmsse\"].sum()"
   ]
  },
  {
   "cell_type": "markdown",
   "id": "1ceb0cd5-c916-463f-a49b-4377d84f54ee",
   "metadata": {
    "papermill": {
     "duration": 0.010913,
     "end_time": "2021-10-14T00:32:05.424091",
     "exception": false,
     "start_time": "2021-10-14T00:32:05.413178",
     "status": "completed"
    },
    "tags": []
   },
   "source": [
    "## Misc"
   ]
  },
  {
   "cell_type": "code",
   "execution_count": null,
   "id": "475d6cb9-66f8-4102-8e08-349557a780c5",
   "metadata": {
    "papermill": {
     "duration": 0.010555,
     "end_time": "2021-10-14T00:32:05.443781",
     "exception": false,
     "start_time": "2021-10-14T00:32:05.433226",
     "status": "completed"
    },
    "tags": []
   },
   "outputs": [],
   "source": []
  }
 ],
 "metadata": {
  "kernelspec": {
   "display_name": "Python 3 (ipykernel)",
   "language": "python",
   "name": "python3"
  },
  "language_info": {
   "codemirror_mode": {
    "name": "ipython",
    "version": 3
   },
   "file_extension": ".py",
   "mimetype": "text/x-python",
   "name": "python",
   "nbconvert_exporter": "python",
   "pygments_lexer": "ipython3",
   "version": "3.9.7"
  },
  "papermill": {
   "default_parameters": {},
   "duration": 3.145989,
   "end_time": "2021-10-14T00:32:05.962620",
   "environment_variables": {},
   "exception": null,
   "input_path": "/home/ariel/Playground/m5-forecasting/notebooks/forecast.ipynb",
   "output_path": "/home/ariel/Playground/m5-forecasting/notebooks/forecast-3.ipynb",
   "parameters": {
    "level": 3
   },
   "start_time": "2021-10-14T00:32:02.816631",
   "version": "2.3.3"
  }
 },
 "nbformat": 4,
 "nbformat_minor": 5
}