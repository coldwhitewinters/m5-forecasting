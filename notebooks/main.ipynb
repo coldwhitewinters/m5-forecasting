{
 "cells": [
  {
   "cell_type": "markdown",
   "id": "cf67e8b4-3f43-437a-afb3-d666def58e02",
   "metadata": {},
   "source": [
    "# Forecast"
   ]
  },
  {
   "cell_type": "markdown",
   "id": "db01a074-52df-475b-a54a-a754b84f2251",
   "metadata": {
    "tags": []
   },
   "source": [
    "## Setup"
   ]
  },
  {
   "cell_type": "code",
   "execution_count": null,
   "id": "fb6ab9fc-2b2d-4c69-bccf-13a545604b52",
   "metadata": {},
   "outputs": [],
   "source": [
    "%load_ext autoreload\n",
    "%autoreload 2"
   ]
  },
  {
   "cell_type": "code",
   "execution_count": null,
   "id": "372f5539-cb1b-4dd8-8d3d-2d9506e3d476",
   "metadata": {},
   "outputs": [],
   "source": [
    "import sys\n",
    "sys.path.append(\"..\")\n",
    "\n",
    "# Libraries\n",
    "import pandas as pd\n",
    "import numpy as np\n",
    "import matplotlib.pyplot as plt\n",
    "\n",
    "import m5.config as cfg\n",
    "import m5.preprocessing\n",
    "from m5.model import train, predict, compile_fcst\n",
    "from m5.evaluate import accuracy_all_levels, collect_metrics\n",
    "from m5.plot import plot_fcst\n",
    "\n",
    "# Library settings\n",
    "pd.options.display.max_columns = 999\n",
    "plt.rcParams[\"figure.figsize\"] = (14, 4)"
   ]
  },
  {
   "cell_type": "markdown",
   "id": "d9d6177b-3189-4b70-9542-ca825a007af1",
   "metadata": {},
   "source": [
    "## Preprocessing"
   ]
  },
  {
   "cell_type": "code",
   "execution_count": null,
   "id": "9bcaf219",
   "metadata": {},
   "outputs": [],
   "source": [
    "m5.preprocessing.unzip_data(cfg.DATA_DIR)"
   ]
  },
  {
   "cell_type": "code",
   "execution_count": null,
   "id": "1e9a3659-8ea3-47b7-9ab5-2fb06201438e",
   "metadata": {},
   "outputs": [],
   "source": [
    "m5.preprocessing.prepare_base_data(cfg.DATA_DIR, task=cfg.TASK)"
   ]
  },
  {
   "cell_type": "code",
   "execution_count": null,
   "id": "197e599f-05f7-4c3c-b871-f10a52b343ed",
   "metadata": {},
   "outputs": [],
   "source": [
    "m5.preprocessing.prepare_agg_levels(cfg.DATA_DIR)"
   ]
  },
  {
   "cell_type": "code",
   "execution_count": null,
   "id": "28e924d1-ce68-4c6d-8b51-fccc81c66809",
   "metadata": {
    "tags": []
   },
   "outputs": [],
   "source": [
    "m5.preprocessing.prepare_all_datasets(cfg.DATA_DIR, cfg.TARGET, cfg.FH, cfg.N_LAGS)"
   ]
  },
  {
   "cell_type": "code",
   "execution_count": null,
   "id": "4d0d8f9d-74ce-44c3-b633-d45e41b92c01",
   "metadata": {
    "tags": []
   },
   "outputs": [],
   "source": [
    "m5.preprocessing.prepare_all_dataset_binaries(cfg.DATA_DIR)"
   ]
  },
  {
   "cell_type": "markdown",
   "id": "784d860f-ebf4-4e48-a6d8-9594f40d1026",
   "metadata": {},
   "source": [
    "## Train"
   ]
  },
  {
   "cell_type": "code",
   "execution_count": null,
   "id": "cce0735a-24e7-44d5-ae61-ff3be03c844d",
   "metadata": {},
   "outputs": [],
   "source": [
    "train(cfg.DATA_DIR, cfg.MODEL_DIR, cfg.PARAMS)"
   ]
  },
  {
   "cell_type": "markdown",
   "id": "c44a7aae-675a-4d94-b700-740ad9bdd620",
   "metadata": {},
   "source": [
    "## Predict"
   ]
  },
  {
   "cell_type": "code",
   "execution_count": null,
   "id": "f88245d7-7796-4014-8cc8-07777a7826cc",
   "metadata": {},
   "outputs": [],
   "source": [
    "predict(cfg.DATA_DIR, cfg.MODEL_DIR, cfg.FCST_DIR)"
   ]
  },
  {
   "cell_type": "code",
   "execution_count": null,
   "id": "77f60bfb-cbca-4150-8e02-2353dd8428c8",
   "metadata": {},
   "outputs": [],
   "source": [
    "if cfg.MULTI_STEP:\n",
    "    compile_fcst(cfg.FCST_DIR)"
   ]
  },
  {
   "cell_type": "markdown",
   "id": "b7eb1ffb-46b5-4b86-b675-f8d8d53238d0",
   "metadata": {},
   "source": [
    "## Evaluate"
   ]
  },
  {
   "cell_type": "code",
   "execution_count": null,
   "id": "563c397a-79eb-4457-84e9-c735bf75f7dd",
   "metadata": {},
   "outputs": [],
   "source": [
    "accuracy_all_levels(cfg.DATA_DIR, cfg.FCST_DIR, cfg.METRICS_DIR, cfg.FH, cfg.MULTI_STEP)"
   ]
  },
  {
   "cell_type": "code",
   "execution_count": null,
   "id": "1d0ab608-2a87-4480-abdd-af72bc773ccb",
   "metadata": {},
   "outputs": [],
   "source": [
    "collect_metrics(cfg.METRICS_DIR)"
   ]
  },
  {
   "cell_type": "markdown",
   "id": "d08b02e8-1a74-46b3-8789-dca512ea50d7",
   "metadata": {},
   "source": [
    "## Plot"
   ]
  },
  {
   "cell_type": "code",
   "execution_count": null,
   "id": "b2b265e4-6e46-4ade-9135-36c659dc9a65",
   "metadata": {},
   "outputs": [],
   "source": [
    "plot_fcst(cfg.DATA_DIR, cfg.FCST_DIR, cfg.MULTI_STEP, level=1)"
   ]
  },
  {
   "cell_type": "code",
   "execution_count": null,
   "id": "22584983-45aa-4385-a980-7336b838e604",
   "metadata": {},
   "outputs": [],
   "source": []
  }
 ],
 "metadata": {
  "kernelspec": {
   "display_name": "Python 3 (ipykernel)",
   "language": "python",
   "name": "python3"
  },
  "language_info": {
   "codemirror_mode": {
    "name": "ipython",
    "version": 3
   },
   "file_extension": ".py",
   "mimetype": "text/x-python",
   "name": "python",
   "nbconvert_exporter": "python",
   "pygments_lexer": "ipython3",
   "version": "3.8.12"
  }
 },
 "nbformat": 4,
 "nbformat_minor": 5
}
