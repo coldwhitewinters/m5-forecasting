{
 "cells": [
  {
   "cell_type": "markdown",
   "id": "cf67e8b4-3f43-437a-afb3-d666def58e02",
   "metadata": {},
   "source": [
    "# Forecast"
   ]
  },
  {
   "cell_type": "markdown",
   "id": "db01a074-52df-475b-a54a-a754b84f2251",
   "metadata": {
    "tags": []
   },
   "source": [
    "## Setup"
   ]
  },
  {
   "cell_type": "code",
   "execution_count": 1,
   "id": "fb6ab9fc-2b2d-4c69-bccf-13a545604b52",
   "metadata": {},
   "outputs": [],
   "source": [
    "%load_ext autoreload\n",
    "%autoreload 2"
   ]
  },
  {
   "cell_type": "code",
   "execution_count": 2,
   "id": "372f5539-cb1b-4dd8-8d3d-2d9506e3d476",
   "metadata": {},
   "outputs": [],
   "source": [
    "import sys\n",
    "sys.path.append(\"..\")\n",
    "\n",
    "# Libraries\n",
    "import pandas as pd\n",
    "import numpy as np\n",
    "import matplotlib.pyplot as plt\n",
    "import plotly.express as px\n",
    "\n",
    "import m5.preprocessing as preprocessing\n",
    "from m5.models import Naive, ETS, ARIMA, BottomUp, LGBM\n",
    "from m5.evaluate import accuracy\n",
    "from m5.plot import plot_fcst\n",
    "from m5.definitions import ROOT_DIR\n",
    "\n",
    "# Library settings\n",
    "pd.options.display.max_columns = 999\n",
    "plt.rcParams[\"figure.figsize\"] = (16, 4)"
   ]
  },
  {
   "cell_type": "markdown",
   "id": "d9d6177b-3189-4b70-9542-ca825a007af1",
   "metadata": {},
   "source": [
    "## Preprocessing"
   ]
  },
  {
   "cell_type": "code",
   "execution_count": null,
   "id": "f7edca09-9935-44e3-b9a3-b13a48de0b06",
   "metadata": {},
   "outputs": [],
   "source": [
    "preprocessing.unzip_data()"
   ]
  },
  {
   "cell_type": "code",
   "execution_count": null,
   "id": "1e9a3659-8ea3-47b7-9ab5-2fb06201438e",
   "metadata": {},
   "outputs": [],
   "source": [
    "preprocessing.prepare_base_data(task=\"test\")"
   ]
  },
  {
   "cell_type": "code",
   "execution_count": null,
   "id": "197e599f-05f7-4c3c-b871-f10a52b343ed",
   "metadata": {},
   "outputs": [],
   "source": [
    "preprocessing.prepare_agg_levels()"
   ]
  },
  {
   "cell_type": "code",
   "execution_count": null,
   "id": "c1403891-19a1-46b0-bf52-8b0a7fefe64a",
   "metadata": {},
   "outputs": [],
   "source": [
    "preprocessing.prepare_store_data()"
   ]
  },
  {
   "cell_type": "code",
   "execution_count": null,
   "id": "47189dec-b5c1-4dec-93bb-8d13908f43f2",
   "metadata": {},
   "outputs": [],
   "source": [
    "preprocessing.prepare_all_datasets()"
   ]
  },
  {
   "cell_type": "code",
   "execution_count": null,
   "id": "82af7eae-3311-4fa0-8f56-d2b3003ceb12",
   "metadata": {},
   "outputs": [],
   "source": [
    "preprocessing.prepare_all_dataset_binaries()"
   ]
  },
  {
   "cell_type": "markdown",
   "id": "eac0ea8d",
   "metadata": {},
   "source": [
    "## Naive"
   ]
  },
  {
   "cell_type": "code",
   "execution_count": 3,
   "id": "2d5124e6-17a3-4dda-b97f-0df3a0118047",
   "metadata": {},
   "outputs": [],
   "source": [
    "naive_bu = BottomUp(\"naive\", Naive, n_jobs=-1)"
   ]
  },
  {
   "cell_type": "code",
   "execution_count": 4,
   "id": "f40bc718-878a-43cc-928c-46cda9d9b1c6",
   "metadata": {},
   "outputs": [
    {
     "name": "stdout",
     "output_type": "stream",
     "text": [
      "Start training...\n",
      "Training models for store 0\n",
      "Training models for store 1\n",
      "Training models for store 2\n",
      "Training models for store 3\n",
      "Training models for store 4\n",
      "Training models for store 5\n",
      "Training models for store 6\n",
      "Training models for store 7\n",
      "Training models for store 8\n",
      "Training models for store 9\n",
      "Saving models...\n",
      "Done.\n"
     ]
    }
   ],
   "source": [
    "naive_bu.train()"
   ]
  },
  {
   "cell_type": "code",
   "execution_count": 5,
   "id": "573ec71f-15df-4fc7-aa06-ed1cc944826a",
   "metadata": {},
   "outputs": [
    {
     "name": "stdout",
     "output_type": "stream",
     "text": [
      "Start predicting...\n",
      "Making predictions for store 0\n",
      "Making predictions for store 1\n",
      "Making predictions for store 2\n",
      "Making predictions for store 3\n",
      "Making predictions for store 4\n",
      "Making predictions for store 5\n",
      "Making predictions for store 6\n",
      "Making predictions for store 7\n",
      "Making predictions for store 8\n",
      "Making predictions for store 9\n",
      "Compiling predictions...\n",
      "Making bottom up predictions...\n",
      "Done.\n"
     ]
    }
   ],
   "source": [
    "naive_bu.predict(fh=28)"
   ]
  },
  {
   "cell_type": "code",
   "execution_count": 6,
   "id": "e2e367ee-60dc-4716-ae1b-48684ab98983",
   "metadata": {},
   "outputs": [
    {
     "data": {
      "image/png": "[encoded data removed]",
      "text/plain": [
       "<Figure size 1152x288 with 1 Axes>"
      ]
     },
     "metadata": {
      "needs_background": "light"
     },
     "output_type": "display_data"
    }
   ],
   "source": [
    "plot_fcst(\"naive\", level=12, key=(0, 0))"
   ]
  },
  {
   "cell_type": "code",
   "execution_count": 7,
   "id": "02a392d5",
   "metadata": {},
   "outputs": [
    {
     "data": {
      "text/html": [
       "<div>\n",
       "<style scoped>\n",
       "    .dataframe tbody tr th:only-of-type {\n",
       "        vertical-align: middle;\n",
       "    }\n",
       "\n",
       "    .dataframe tbody tr th {\n",
       "        vertical-align: top;\n",
       "    }\n",
       "\n",
       "    .dataframe thead th {\n",
       "        text-align: right;\n",
       "    }\n",
       "</style>\n",
       "<table border=\"1\" class=\"dataframe\">\n",
       "  <thead>\n",
       "    <tr style=\"text-align: right;\">\n",
       "      <th></th>\n",
       "      <th>1</th>\n",
       "      <th>2</th>\n",
       "      <th>3</th>\n",
       "      <th>4</th>\n",
       "      <th>5</th>\n",
       "      <th>6</th>\n",
       "      <th>7</th>\n",
       "      <th>8</th>\n",
       "      <th>9</th>\n",
       "      <th>10</th>\n",
       "      <th>11</th>\n",
       "      <th>12</th>\n",
       "      <th>Average</th>\n",
       "    </tr>\n",
       "  </thead>\n",
       "  <tbody>\n",
       "    <tr>\n",
       "      <th>wmrsse</th>\n",
       "      <td>1.487876</td>\n",
       "      <td>1.517161</td>\n",
       "      <td>1.53457</td>\n",
       "      <td>1.519981</td>\n",
       "      <td>1.605545</td>\n",
       "      <td>1.540474</td>\n",
       "      <td>1.614279</td>\n",
       "      <td>1.538774</td>\n",
       "      <td>1.561589</td>\n",
       "      <td>1.270802</td>\n",
       "      <td>1.210713</td>\n",
       "      <td>1.164504</td>\n",
       "      <td>1.463856</td>\n",
       "    </tr>\n",
       "  </tbody>\n",
       "</table>\n",
       "</div>"
      ],
      "text/plain": [
       "               1         2        3         4         5         6         7  \\\n",
       "wmrsse  1.487876  1.517161  1.53457  1.519981  1.605545  1.540474  1.614279   \n",
       "\n",
       "               8         9        10        11        12   Average  \n",
       "wmrsse  1.538774  1.561589  1.270802  1.210713  1.164504  1.463856  "
      ]
     },
     "execution_count": 7,
     "metadata": {},
     "output_type": "execute_result"
    }
   ],
   "source": [
    "accuracy(model=\"naive\")"
   ]
  },
  {
   "cell_type": "markdown",
   "id": "90466136",
   "metadata": {},
   "source": [
    "## ETS"
   ]
  },
  {
   "cell_type": "code",
   "execution_count": 8,
   "id": "9547d39d-9fda-4720-a2b1-74ee4692452f",
   "metadata": {},
   "outputs": [],
   "source": [
    "ets_bu = BottomUp(model_name=\"ets\", model_cls=ETS, model_params={\"auto\": True}, regressors=None, n_jobs=-1)"
   ]
  },
  {
   "cell_type": "code",
   "execution_count": 9,
   "id": "83d4d71a-52a5-45dc-a8af-bc1ad99164ce",
   "metadata": {},
   "outputs": [
    {
     "name": "stdout",
     "output_type": "stream",
     "text": [
      "Start training...\n",
      "Training models for store 0\n"
     ]
    },
    {
     "name": "stderr",
     "output_type": "stream",
     "text": [
      "/home/ec2-user/anaconda3/envs/m5-forecasting/lib/python3.9/site-packages/statsmodels/base/model.py:604: ConvergenceWarning: Maximum Likelihood optimization failed to converge. Check mle_retvals\n",
      "  warnings.warn(\"Maximum Likelihood optimization failed to \"\n",
      "/home/ec2-user/anaconda3/envs/m5-forecasting/lib/python3.9/site-packages/statsmodels/base/model.py:604: ConvergenceWarning: Maximum Likelihood optimization failed to converge. Check mle_retvals\n",
      "  warnings.warn(\"Maximum Likelihood optimization failed to \"\n",
      "/home/ec2-user/anaconda3/envs/m5-forecasting/lib/python3.9/site-packages/statsmodels/base/model.py:604: ConvergenceWarning: Maximum Likelihood optimization failed to converge. Check mle_retvals\n",
      "  warnings.warn(\"Maximum Likelihood optimization failed to \"\n",
      "/home/ec2-user/anaconda3/envs/m5-forecasting/lib/python3.9/site-packages/statsmodels/base/model.py:604: ConvergenceWarning: Maximum Likelihood optimization failed to converge. Check mle_retvals\n",
      "  warnings.warn(\"Maximum Likelihood optimization failed to \"\n"
     ]
    },
    {
     "name": "stdout",
     "output_type": "stream",
     "text": [
      "Training models for store 1\n"
     ]
    },
    {
     "name": "stderr",
     "output_type": "stream",
     "text": [
      "/home/ec2-user/anaconda3/envs/m5-forecasting/lib/python3.9/site-packages/statsmodels/base/model.py:604: ConvergenceWarning: Maximum Likelihood optimization failed to converge. Check mle_retvals\n",
      "  warnings.warn(\"Maximum Likelihood optimization failed to \"\n"
     ]
    },
    {
     "name": "stdout",
     "output_type": "stream",
     "text": [
      "Training models for store 2\n"
     ]
    },
    {
     "name": "stderr",
     "output_type": "stream",
     "text": [
      "/home/ec2-user/anaconda3/envs/m5-forecasting/lib/python3.9/site-packages/statsmodels/base/model.py:604: ConvergenceWarning: Maximum Likelihood optimization failed to converge. Check mle_retvals\n",
      "  warnings.warn(\"Maximum Likelihood optimization failed to \"\n"
     ]
    },
    {
     "name": "stdout",
     "output_type": "stream",
     "text": [
      "Training models for store 3\n"
     ]
    },
    {
     "name": "stderr",
     "output_type": "stream",
     "text": [
      "/home/ec2-user/anaconda3/envs/m5-forecasting/lib/python3.9/site-packages/statsmodels/base/model.py:604: ConvergenceWarning: Maximum Likelihood optimization failed to converge. Check mle_retvals\n",
      "  warnings.warn(\"Maximum Likelihood optimization failed to \"\n",
      "/home/ec2-user/anaconda3/envs/m5-forecasting/lib/python3.9/site-packages/statsmodels/base/model.py:604: ConvergenceWarning: Maximum Likelihood optimization failed to converge. Check mle_retvals\n",
      "  warnings.warn(\"Maximum Likelihood optimization failed to \"\n",
      "/home/ec2-user/anaconda3/envs/m5-forecasting/lib/python3.9/site-packages/statsmodels/base/model.py:604: ConvergenceWarning: Maximum Likelihood optimization failed to converge. Check mle_retvals\n",
      "  warnings.warn(\"Maximum Likelihood optimization failed to \"\n"
     ]
    },
    {
     "name": "stdout",
     "output_type": "stream",
     "text": [
      "Training models for store 4\n"
     ]
    },
    {
     "name": "stderr",
     "output_type": "stream",
     "text": [
      "/home/ec2-user/anaconda3/envs/m5-forecasting/lib/python3.9/site-packages/statsmodels/base/model.py:604: ConvergenceWarning: Maximum Likelihood optimization failed to converge. Check mle_retvals\n",
      "  warnings.warn(\"Maximum Likelihood optimization failed to \"\n",
      "/home/ec2-user/anaconda3/envs/m5-forecasting/lib/python3.9/site-packages/statsmodels/base/model.py:604: ConvergenceWarning: Maximum Likelihood optimization failed to converge. Check mle_retvals\n",
      "  warnings.warn(\"Maximum Likelihood optimization failed to \"\n"
     ]
    },
    {
     "name": "stdout",
     "output_type": "stream",
     "text": [
      "Training models for store 5\n"
     ]
    },
    {
     "name": "stderr",
     "output_type": "stream",
     "text": [
      "/home/ec2-user/anaconda3/envs/m5-forecasting/lib/python3.9/site-packages/statsmodels/base/model.py:604: ConvergenceWarning: Maximum Likelihood optimization failed to converge. Check mle_retvals\n",
      "  warnings.warn(\"Maximum Likelihood optimization failed to \"\n",
      "/home/ec2-user/anaconda3/envs/m5-forecasting/lib/python3.9/site-packages/statsmodels/base/model.py:604: ConvergenceWarning: Maximum Likelihood optimization failed to converge. Check mle_retvals\n",
      "  warnings.warn(\"Maximum Likelihood optimization failed to \"\n",
      "/home/ec2-user/anaconda3/envs/m5-forecasting/lib/python3.9/site-packages/statsmodels/base/model.py:604: ConvergenceWarning: Maximum Likelihood optimization failed to converge. Check mle_retvals\n",
      "  warnings.warn(\"Maximum Likelihood optimization failed to \"\n",
      "/home/ec2-user/anaconda3/envs/m5-forecasting/lib/python3.9/site-packages/statsmodels/base/model.py:604: ConvergenceWarning: Maximum Likelihood optimization failed to converge. Check mle_retvals\n",
      "  warnings.warn(\"Maximum Likelihood optimization failed to \"\n"
     ]
    },
    {
     "name": "stdout",
     "output_type": "stream",
     "text": [
      "Training models for store 6\n"
     ]
    },
    {
     "name": "stderr",
     "output_type": "stream",
     "text": [
      "/home/ec2-user/anaconda3/envs/m5-forecasting/lib/python3.9/site-packages/statsmodels/base/model.py:604: ConvergenceWarning: Maximum Likelihood optimization failed to converge. Check mle_retvals\n",
      "  warnings.warn(\"Maximum Likelihood optimization failed to \"\n",
      "/home/ec2-user/anaconda3/envs/m5-forecasting/lib/python3.9/site-packages/statsmodels/base/model.py:604: ConvergenceWarning: Maximum Likelihood optimization failed to converge. Check mle_retvals\n",
      "  warnings.warn(\"Maximum Likelihood optimization failed to \"\n",
      "/home/ec2-user/anaconda3/envs/m5-forecasting/lib/python3.9/site-packages/statsmodels/base/model.py:604: ConvergenceWarning: Maximum Likelihood optimization failed to converge. Check mle_retvals\n",
      "  warnings.warn(\"Maximum Likelihood optimization failed to \"\n",
      "/home/ec2-user/anaconda3/envs/m5-forecasting/lib/python3.9/site-packages/statsmodels/base/model.py:604: ConvergenceWarning: Maximum Likelihood optimization failed to converge. Check mle_retvals\n",
      "  warnings.warn(\"Maximum Likelihood optimization failed to \"\n",
      "/home/ec2-user/anaconda3/envs/m5-forecasting/lib/python3.9/site-packages/statsmodels/base/model.py:604: ConvergenceWarning: Maximum Likelihood optimization failed to converge. Check mle_retvals\n",
      "  warnings.warn(\"Maximum Likelihood optimization failed to \"\n",
      "/home/ec2-user/anaconda3/envs/m5-forecasting/lib/python3.9/site-packages/statsmodels/base/model.py:604: ConvergenceWarning: Maximum Likelihood optimization failed to converge. Check mle_retvals\n",
      "  warnings.warn(\"Maximum Likelihood optimization failed to \"\n"
     ]
    },
    {
     "name": "stdout",
     "output_type": "stream",
     "text": [
      "Training models for store 7\n"
     ]
    },
    {
     "name": "stderr",
     "output_type": "stream",
     "text": [
      "/home/ec2-user/anaconda3/envs/m5-forecasting/lib/python3.9/site-packages/statsmodels/base/model.py:604: ConvergenceWarning: Maximum Likelihood optimization failed to converge. Check mle_retvals\n",
      "  warnings.warn(\"Maximum Likelihood optimization failed to \"\n"
     ]
    },
    {
     "name": "stdout",
     "output_type": "stream",
     "text": [
      "Training models for store 8\n"
     ]
    },
    {
     "name": "stderr",
     "output_type": "stream",
     "text": [
      "/home/ec2-user/anaconda3/envs/m5-forecasting/lib/python3.9/site-packages/statsmodels/base/model.py:604: ConvergenceWarning: Maximum Likelihood optimization failed to converge. Check mle_retvals\n",
      "  warnings.warn(\"Maximum Likelihood optimization failed to \"\n",
      "/home/ec2-user/anaconda3/envs/m5-forecasting/lib/python3.9/site-packages/statsmodels/base/model.py:604: ConvergenceWarning: Maximum Likelihood optimization failed to converge. Check mle_retvals\n",
      "  warnings.warn(\"Maximum Likelihood optimization failed to \"\n"
     ]
    },
    {
     "name": "stdout",
     "output_type": "stream",
     "text": [
      "Training models for store 9\n"
     ]
    },
    {
     "name": "stderr",
     "output_type": "stream",
     "text": [
      "/home/ec2-user/anaconda3/envs/m5-forecasting/lib/python3.9/site-packages/statsmodels/base/model.py:604: ConvergenceWarning: Maximum Likelihood optimization failed to converge. Check mle_retvals\n",
      "  warnings.warn(\"Maximum Likelihood optimization failed to \"\n",
      "/home/ec2-user/anaconda3/envs/m5-forecasting/lib/python3.9/site-packages/statsmodels/base/model.py:604: ConvergenceWarning: Maximum Likelihood optimization failed to converge. Check mle_retvals\n",
      "  warnings.warn(\"Maximum Likelihood optimization failed to \"\n"
     ]
    },
    {
     "name": "stdout",
     "output_type": "stream",
     "text": [
      "Saving models...\n",
      "Done.\n"
     ]
    }
   ],
   "source": [
    "ets_bu.train(disp=False)"
   ]
  },
  {
   "cell_type": "code",
   "execution_count": 10,
   "id": "880ace9d-8b21-49b5-93dc-9e0e889797c2",
   "metadata": {},
   "outputs": [
    {
     "name": "stdout",
     "output_type": "stream",
     "text": [
      "Start predicting...\n",
      "Making predictions for store 0\n",
      "Making predictions for store 1\n",
      "Making predictions for store 2\n",
      "Making predictions for store 3\n",
      "Making predictions for store 4\n",
      "Making predictions for store 5\n",
      "Making predictions for store 6\n",
      "Making predictions for store 7\n",
      "Making predictions for store 8\n",
      "Making predictions for store 9\n",
      "Compiling predictions...\n",
      "Making bottom up predictions...\n",
      "Done.\n"
     ]
    }
   ],
   "source": [
    "ets_bu.predict(fh=28)"
   ]
  },
  {
   "cell_type": "code",
   "execution_count": 11,
   "id": "be1aee97-b44c-4903-a841-d663a6289cf3",
   "metadata": {},
   "outputs": [
    {
     "data": {
      "image/png": "[encoded data removed]",
      "text/plain": [
       "<Figure size 1152x288 with 1 Axes>"
      ]
     },
     "metadata": {
      "needs_background": "light"
     },
     "output_type": "display_data"
    }
   ],
   "source": [
    "plot_fcst(\"ets\", level=12, key=(0, 0), plot_tail=False)"
   ]
  },
  {
   "cell_type": "code",
   "execution_count": 12,
   "id": "82cbe812-077e-481a-85a1-86f9e439752f",
   "metadata": {},
   "outputs": [
    {
     "data": {
      "text/html": [
       "<div>\n",
       "<style scoped>\n",
       "    .dataframe tbody tr th:only-of-type {\n",
       "        vertical-align: middle;\n",
       "    }\n",
       "\n",
       "    .dataframe tbody tr th {\n",
       "        vertical-align: top;\n",
       "    }\n",
       "\n",
       "    .dataframe thead th {\n",
       "        text-align: right;\n",
       "    }\n",
       "</style>\n",
       "<table border=\"1\" class=\"dataframe\">\n",
       "  <thead>\n",
       "    <tr style=\"text-align: right;\">\n",
       "      <th></th>\n",
       "      <th>1</th>\n",
       "      <th>2</th>\n",
       "      <th>3</th>\n",
       "      <th>4</th>\n",
       "      <th>5</th>\n",
       "      <th>6</th>\n",
       "      <th>7</th>\n",
       "      <th>8</th>\n",
       "      <th>9</th>\n",
       "      <th>10</th>\n",
       "      <th>11</th>\n",
       "      <th>12</th>\n",
       "      <th>Average</th>\n",
       "    </tr>\n",
       "  </thead>\n",
       "  <tbody>\n",
       "    <tr>\n",
       "      <th>wmrsse</th>\n",
       "      <td>0.70213</td>\n",
       "      <td>0.71093</td>\n",
       "      <td>0.743657</td>\n",
       "      <td>0.713441</td>\n",
       "      <td>0.773285</td>\n",
       "      <td>0.729349</td>\n",
       "      <td>0.773365</td>\n",
       "      <td>0.756105</td>\n",
       "      <td>0.798898</td>\n",
       "      <td>0.84406</td>\n",
       "      <td>0.866912</td>\n",
       "      <td>0.892591</td>\n",
       "      <td>0.775394</td>\n",
       "    </tr>\n",
       "  </tbody>\n",
       "</table>\n",
       "</div>"
      ],
      "text/plain": [
       "              1        2         3         4         5         6         7  \\\n",
       "wmrsse  0.70213  0.71093  0.743657  0.713441  0.773285  0.729349  0.773365   \n",
       "\n",
       "               8         9       10        11        12   Average  \n",
       "wmrsse  0.756105  0.798898  0.84406  0.866912  0.892591  0.775394  "
      ]
     },
     "execution_count": 12,
     "metadata": {},
     "output_type": "execute_result"
    }
   ],
   "source": [
    "accuracy(model=\"ets\")"
   ]
  },
  {
   "cell_type": "markdown",
   "id": "34e35cb4-1e5c-48a7-b33f-5ffbf700c7c2",
   "metadata": {},
   "source": [
    "## ARIMA"
   ]
  },
  {
   "cell_type": "markdown",
   "id": "ec2c012b-b6b7-4a08-998f-25abdded9faf",
   "metadata": {},
   "source": [
    "arima_bu = BottomUp(\n",
    "    model_name=\"arima\", \n",
    "    model_cls=ARIMA, \n",
    "    model_params={\n",
    "        \"d\": None, \n",
    "        \"start_p\": 1, \n",
    "        \"max_p\": 7, \n",
    "        \"start_q\": 0, \n",
    "        \"max_q\": 0,\n",
    "        \"m\": 1,\n",
    "        \"method\": \"lbfgs\",\n",
    "    }, \n",
    "    regressors=None,\n",
    "    n_jobs=-1,\n",
    ")"
   ]
  },
  {
   "cell_type": "markdown",
   "id": "1b915917-3018-42a3-938a-ee23437d4db4",
   "metadata": {},
   "source": [
    "arima_bu.train()"
   ]
  },
  {
   "cell_type": "markdown",
   "id": "4ddda100-fb89-4b30-be39-36e0ada63a62",
   "metadata": {},
   "source": [
    "arima_bu.predict(fh=28)"
   ]
  },
  {
   "cell_type": "markdown",
   "id": "3682ea4c-b5ee-49cd-bd7e-932e946d825f",
   "metadata": {},
   "source": [
    "plot_fcst(\"arima\", level=12, key=(0, 0))"
   ]
  },
  {
   "cell_type": "markdown",
   "id": "909728d9-92f3-4162-914f-4ad3b47f5ae1",
   "metadata": {},
   "source": [
    "accuracy(model=\"arima\")"
   ]
  },
  {
   "cell_type": "markdown",
   "id": "fd739e92-537a-4b0f-bbfb-b99d22558960",
   "metadata": {},
   "source": [
    "## LGBM"
   ]
  },
  {
   "cell_type": "code",
   "execution_count": 13,
   "id": "58e4c17c-92a6-450e-8ded-9c83f511b577",
   "metadata": {},
   "outputs": [],
   "source": [
    "LGBM_PARAMS = {\n",
    "    \"task\": \"train\",\n",
    "    \"objective\": \"tweedie\",\n",
    "    \"num_iterations\": 300,\n",
    "    \"learning_rate\": 0.1,\n",
    "    \"num_leaves\": 31,\n",
    "    \"num_threads\": 8,\n",
    "    \"early_stopping_round\": 20,\n",
    "}"
   ]
  },
  {
   "cell_type": "code",
   "execution_count": 14,
   "id": "15fb8f1c-e1a8-4d49-8182-8a9566213a94",
   "metadata": {},
   "outputs": [],
   "source": [
    "lgbm_bu = LGBM(\"lgbm\", model_params=LGBM_PARAMS)"
   ]
  },
  {
   "cell_type": "code",
   "execution_count": 15,
   "id": "4c5e5764-1c77-4453-84af-57e8219b7b82",
   "metadata": {
    "collapsed": true,
    "jupyter": {
     "outputs_hidden": true
    },
    "tags": []
   },
   "outputs": [
    {
     "name": "stdout",
     "output_type": "stream",
     "text": [
      "Start training...\n",
      "Training model for store 0\n",
      "Training model for store 0 and step 7\n",
      "[LightGBM] [Info] Load from binary file /home/ec2-user/m5-forecasting/data/processed/datasets/0/7/train.lgbm\n"
     ]
    },
    {
     "name": "stderr",
     "output_type": "stream",
     "text": [
      "/home/ec2-user/anaconda3/envs/m5-forecasting/lib/python3.9/site-packages/lightgbm/engine.py:177: UserWarning: Found `num_iterations` in params. Will use it instead of argument\n",
      "  _log_warning(f\"Found `{alias}` in params. Will use it instead of argument\")\n",
      "/home/ec2-user/anaconda3/envs/m5-forecasting/lib/python3.9/site-packages/lightgbm/engine.py:239: UserWarning: 'verbose_eval' argument is deprecated and will be removed in a future release of LightGBM. Pass 'log_evaluation()' callback via 'callbacks' argument instead.\n",
      "  _log_warning(\"'verbose_eval' argument is deprecated and will be removed in a future release of LightGBM. \"\n"
     ]
    },
    {
     "name": "stdout",
     "output_type": "stream",
     "text": [
      "[LightGBM] [Warning] Auto-choosing row-wise multi-threading, the overhead of testing was 0.192881 seconds.\n",
      "You can set `force_row_wise=true` to remove the overhead.\n",
      "And if memory is not enough, you can set `force_col_wise=true`.\n",
      "[LightGBM] [Info] Total Bins 6164\n",
      "[LightGBM] [Info] Number of data points in the train set: 4635212, number of used features: 27\n",
      "[LightGBM] [Info] Start training from score 0.492344\n",
      "Training model for store 0 and step 14\n",
      "[LightGBM] [Info] Load from binary file /home/ec2-user/m5-forecasting/data/processed/datasets/0/14/train.lgbm\n",
      "[LightGBM] [Warning] Auto-choosing row-wise multi-threading, the overhead of testing was 0.122593 seconds.\n",
      "You can set `force_row_wise=true` to remove the overhead.\n",
      "And if memory is not enough, you can set `force_col_wise=true`.\n",
      "[LightGBM] [Info] Total Bins 6140\n",
      "[LightGBM] [Info] Number of data points in the train set: 4613869, number of used features: 27\n",
      "[LightGBM] [Info] Start training from score 0.491981\n",
      "Training model for store 0 and step 21\n",
      "[LightGBM] [Info] Load from binary file /home/ec2-user/m5-forecasting/data/processed/datasets/0/21/train.lgbm\n",
      "[LightGBM] [Warning] Auto-choosing row-wise multi-threading, the overhead of testing was 0.116673 seconds.\n",
      "You can set `force_row_wise=true` to remove the overhead.\n",
      "And if memory is not enough, you can set `force_col_wise=true`.\n",
      "[LightGBM] [Info] Total Bins 6155\n",
      "[LightGBM] [Info] Number of data points in the train set: 4592526, number of used features: 27\n",
      "[LightGBM] [Info] Start training from score 0.491793\n",
      "Training model for store 0 and step 28\n",
      "[LightGBM] [Info] Load from binary file /home/ec2-user/m5-forecasting/data/processed/datasets/0/28/train.lgbm\n",
      "[LightGBM] [Warning] Auto-choosing row-wise multi-threading, the overhead of testing was 0.168895 seconds.\n",
      "You can set `force_row_wise=true` to remove the overhead.\n",
      "And if memory is not enough, you can set `force_col_wise=true`.\n",
      "[LightGBM] [Info] Total Bins 6170\n",
      "[LightGBM] [Info] Number of data points in the train set: 4571183, number of used features: 27\n",
      "[LightGBM] [Info] Start training from score 0.491348\n",
      "Training model for store 1\n",
      "Training model for store 1 and step 7\n",
      "[LightGBM] [Info] Load from binary file /home/ec2-user/m5-forecasting/data/processed/datasets/1/7/train.lgbm\n",
      "[LightGBM] [Warning] Auto-choosing row-wise multi-threading, the overhead of testing was 0.133199 seconds.\n",
      "You can set `force_row_wise=true` to remove the overhead.\n",
      "And if memory is not enough, you can set `force_col_wise=true`.\n",
      "[LightGBM] [Info] Total Bins 5702\n",
      "[LightGBM] [Info] Number of data points in the train set: 4202872, number of used features: 27\n",
      "[LightGBM] [Info] Start training from score 0.285153\n",
      "Training model for store 1 and step 14\n",
      "[LightGBM] [Info] Load from binary file /home/ec2-user/m5-forecasting/data/processed/datasets/1/14/train.lgbm\n",
      "[LightGBM] [Warning] Auto-choosing row-wise multi-threading, the overhead of testing was 0.112634 seconds.\n",
      "You can set `force_row_wise=true` to remove the overhead.\n",
      "And if memory is not enough, you can set `force_col_wise=true`.\n",
      "[LightGBM] [Info] Total Bins 5696\n",
      "[LightGBM] [Info] Number of data points in the train set: 4181529, number of used features: 27\n",
      "[LightGBM] [Info] Start training from score 0.284711\n",
      "Training model for store 1 and step 21\n",
      "[LightGBM] [Info] Load from binary file /home/ec2-user/m5-forecasting/data/processed/datasets/1/21/train.lgbm\n",
      "[LightGBM] [Warning] Auto-choosing row-wise multi-threading, the overhead of testing was 0.105395 seconds.\n",
      "You can set `force_row_wise=true` to remove the overhead.\n",
      "And if memory is not enough, you can set `force_col_wise=true`.\n",
      "[LightGBM] [Info] Total Bins 5701\n",
      "[LightGBM] [Info] Number of data points in the train set: 4160186, number of used features: 27\n",
      "[LightGBM] [Info] Start training from score 0.284372\n",
      "Training model for store 1 and step 28\n",
      "[LightGBM] [Info] Load from binary file /home/ec2-user/m5-forecasting/data/processed/datasets/1/28/train.lgbm\n",
      "[LightGBM] [Warning] Auto-choosing row-wise multi-threading, the overhead of testing was 0.138381 seconds.\n",
      "You can set `force_row_wise=true` to remove the overhead.\n",
      "And if memory is not enough, you can set `force_col_wise=true`.\n",
      "[LightGBM] [Info] Total Bins 5698\n",
      "[LightGBM] [Info] Number of data points in the train set: 4138843, number of used features: 27\n",
      "[LightGBM] [Info] Start training from score 0.284011\n",
      "Training model for store 2\n",
      "Training model for store 2 and step 7\n",
      "[LightGBM] [Info] Load from binary file /home/ec2-user/m5-forecasting/data/processed/datasets/2/7/train.lgbm\n",
      "[LightGBM] [Warning] Auto-choosing row-wise multi-threading, the overhead of testing was 0.121235 seconds.\n",
      "You can set `force_row_wise=true` to remove the overhead.\n",
      "And if memory is not enough, you can set `force_col_wise=true`.\n",
      "[LightGBM] [Info] Total Bins 6670\n",
      "[LightGBM] [Info] Number of data points in the train set: 4604250, number of used features: 27\n",
      "[LightGBM] [Info] Start training from score 0.873746\n",
      "Training model for store 2 and step 14\n",
      "[LightGBM] [Info] Load from binary file /home/ec2-user/m5-forecasting/data/processed/datasets/2/14/train.lgbm\n",
      "[LightGBM] [Warning] Auto-choosing row-wise multi-threading, the overhead of testing was 0.148244 seconds.\n",
      "You can set `force_row_wise=true` to remove the overhead.\n",
      "And if memory is not enough, you can set `force_col_wise=true`.\n",
      "[LightGBM] [Info] Total Bins 6574\n",
      "[LightGBM] [Info] Number of data points in the train set: 4582907, number of used features: 27\n",
      "[LightGBM] [Info] Start training from score 0.873666\n",
      "Training model for store 2 and step 21\n",
      "[LightGBM] [Info] Load from binary file /home/ec2-user/m5-forecasting/data/processed/datasets/2/21/train.lgbm\n",
      "[LightGBM] [Warning] Auto-choosing row-wise multi-threading, the overhead of testing was 0.133617 seconds.\n",
      "You can set `force_row_wise=true` to remove the overhead.\n",
      "And if memory is not enough, you can set `force_col_wise=true`.\n",
      "[LightGBM] [Info] Total Bins 6629\n",
      "[LightGBM] [Info] Number of data points in the train set: 4561564, number of used features: 27\n",
      "[LightGBM] [Info] Start training from score 0.873622\n",
      "Training model for store 2 and step 28\n",
      "[LightGBM] [Info] Load from binary file /home/ec2-user/m5-forecasting/data/processed/datasets/2/28/train.lgbm\n",
      "[LightGBM] [Warning] Auto-choosing row-wise multi-threading, the overhead of testing was 0.156508 seconds.\n",
      "You can set `force_row_wise=true` to remove the overhead.\n",
      "And if memory is not enough, you can set `force_col_wise=true`.\n",
      "[LightGBM] [Info] Total Bins 6604\n",
      "[LightGBM] [Info] Number of data points in the train set: 4540221, number of used features: 27\n",
      "[LightGBM] [Info] Start training from score 0.873471\n",
      "Training model for store 3\n",
      "Training model for store 3 and step 7\n",
      "[LightGBM] [Info] Load from binary file /home/ec2-user/m5-forecasting/data/processed/datasets/3/7/train.lgbm\n",
      "[LightGBM] [Warning] Auto-choosing row-wise multi-threading, the overhead of testing was 0.330714 seconds.\n",
      "You can set `force_row_wise=true` to remove the overhead.\n",
      "And if memory is not enough, you can set `force_col_wise=true`.\n",
      "[LightGBM] [Info] Total Bins 5547\n",
      "[LightGBM] [Info] Number of data points in the train set: 4494935, number of used features: 27\n",
      "[LightGBM] [Info] Start training from score -0.105957\n",
      "Training model for store 3 and step 14\n",
      "[LightGBM] [Info] Load from binary file /home/ec2-user/m5-forecasting/data/processed/datasets/3/14/train.lgbm\n",
      "[LightGBM] [Warning] Auto-choosing row-wise multi-threading, the overhead of testing was 0.272278 seconds.\n",
      "You can set `force_row_wise=true` to remove the overhead.\n",
      "And if memory is not enough, you can set `force_col_wise=true`.\n",
      "[LightGBM] [Info] Total Bins 5566\n",
      "[LightGBM] [Info] Number of data points in the train set: 4473592, number of used features: 27\n",
      "[LightGBM] [Info] Start training from score -0.105865\n",
      "Training model for store 3 and step 21\n",
      "[LightGBM] [Info] Load from binary file /home/ec2-user/m5-forecasting/data/processed/datasets/3/21/train.lgbm\n",
      "[LightGBM] [Warning] Auto-choosing row-wise multi-threading, the overhead of testing was 0.360354 seconds.\n",
      "You can set `force_row_wise=true` to remove the overhead.\n",
      "And if memory is not enough, you can set `force_col_wise=true`.\n",
      "[LightGBM] [Info] Total Bins 5556\n",
      "[LightGBM] [Info] Number of data points in the train set: 4452249, number of used features: 27\n",
      "[LightGBM] [Info] Start training from score -0.105935\n",
      "Training model for store 3 and step 28\n",
      "[LightGBM] [Info] Load from binary file /home/ec2-user/m5-forecasting/data/processed/datasets/3/28/train.lgbm\n",
      "[LightGBM] [Warning] Auto-choosing row-wise multi-threading, the overhead of testing was 0.277781 seconds.\n",
      "You can set `force_row_wise=true` to remove the overhead.\n",
      "And if memory is not enough, you can set `force_col_wise=true`.\n",
      "[LightGBM] [Info] Total Bins 5534\n",
      "[LightGBM] [Info] Number of data points in the train set: 4430906, number of used features: 27\n",
      "[LightGBM] [Info] Start training from score -0.105994\n",
      "Training model for store 4\n",
      "Training model for store 4 and step 7\n",
      "[LightGBM] [Info] Load from binary file /home/ec2-user/m5-forecasting/data/processed/datasets/4/7/train.lgbm\n",
      "[LightGBM] [Warning] Auto-choosing row-wise multi-threading, the overhead of testing was 0.357495 seconds.\n",
      "You can set `force_row_wise=true` to remove the overhead.\n",
      "And if memory is not enough, you can set `force_col_wise=true`.\n",
      "[LightGBM] [Info] Total Bins 6077\n",
      "[LightGBM] [Info] Number of data points in the train set: 4643845, number of used features: 27\n",
      "[LightGBM] [Info] Start training from score 0.171253\n",
      "Training model for store 4 and step 14\n",
      "[LightGBM] [Info] Load from binary file /home/ec2-user/m5-forecasting/data/processed/datasets/4/14/train.lgbm\n",
      "[LightGBM] [Warning] Auto-choosing row-wise multi-threading, the overhead of testing was 0.357874 seconds.\n",
      "You can set `force_row_wise=true` to remove the overhead.\n",
      "And if memory is not enough, you can set `force_col_wise=true`.\n",
      "[LightGBM] [Info] Total Bins 6041\n",
      "[LightGBM] [Info] Number of data points in the train set: 4622502, number of used features: 27\n",
      "[LightGBM] [Info] Start training from score 0.170926\n",
      "Training model for store 4 and step 21\n",
      "[LightGBM] [Info] Load from binary file /home/ec2-user/m5-forecasting/data/processed/datasets/4/21/train.lgbm\n",
      "[LightGBM] [Warning] Auto-choosing row-wise multi-threading, the overhead of testing was 0.322815 seconds.\n",
      "You can set `force_row_wise=true` to remove the overhead.\n",
      "And if memory is not enough, you can set `force_col_wise=true`.\n",
      "[LightGBM] [Info] Total Bins 6054\n",
      "[LightGBM] [Info] Number of data points in the train set: 4601159, number of used features: 27\n",
      "[LightGBM] [Info] Start training from score 0.170684\n",
      "Training model for store 4 and step 28\n",
      "[LightGBM] [Info] Load from binary file /home/ec2-user/m5-forecasting/data/processed/datasets/4/28/train.lgbm\n",
      "[LightGBM] [Warning] Auto-choosing row-wise multi-threading, the overhead of testing was 0.298054 seconds.\n",
      "You can set `force_row_wise=true` to remove the overhead.\n",
      "And if memory is not enough, you can set `force_col_wise=true`.\n",
      "[LightGBM] [Info] Total Bins 6008\n",
      "[LightGBM] [Info] Number of data points in the train set: 4579816, number of used features: 27\n",
      "[LightGBM] [Info] Start training from score 0.170350\n",
      "Training model for store 5\n",
      "Training model for store 5 and step 7\n",
      "[LightGBM] [Info] Load from binary file /home/ec2-user/m5-forecasting/data/processed/datasets/5/7/train.lgbm\n",
      "[LightGBM] [Warning] Auto-choosing row-wise multi-threading, the overhead of testing was 0.152377 seconds.\n",
      "You can set `force_row_wise=true` to remove the overhead.\n",
      "And if memory is not enough, you can set `force_col_wise=true`.\n",
      "[LightGBM] [Info] Total Bins 6380\n",
      "[LightGBM] [Info] Number of data points in the train set: 4653827, number of used features: 27\n",
      "[LightGBM] [Info] Start training from score 0.423171\n",
      "Training model for store 5 and step 14\n",
      "[LightGBM] [Info] Load from binary file /home/ec2-user/m5-forecasting/data/processed/datasets/5/14/train.lgbm\n",
      "[LightGBM] [Warning] Auto-choosing row-wise multi-threading, the overhead of testing was 0.151445 seconds.\n",
      "You can set `force_row_wise=true` to remove the overhead.\n",
      "And if memory is not enough, you can set `force_col_wise=true`.\n",
      "[LightGBM] [Info] Total Bins 6437\n",
      "[LightGBM] [Info] Number of data points in the train set: 4632484, number of used features: 27\n",
      "[LightGBM] [Info] Start training from score 0.422811\n",
      "Training model for store 5 and step 21\n",
      "[LightGBM] [Info] Load from binary file /home/ec2-user/m5-forecasting/data/processed/datasets/5/21/train.lgbm\n",
      "[LightGBM] [Warning] Auto-choosing row-wise multi-threading, the overhead of testing was 0.160669 seconds.\n",
      "You can set `force_row_wise=true` to remove the overhead.\n",
      "And if memory is not enough, you can set `force_col_wise=true`.\n",
      "[LightGBM] [Info] Total Bins 6412\n",
      "[LightGBM] [Info] Number of data points in the train set: 4611141, number of used features: 27\n",
      "[LightGBM] [Info] Start training from score 0.422385\n",
      "Training model for store 5 and step 28\n",
      "[LightGBM] [Info] Load from binary file /home/ec2-user/m5-forecasting/data/processed/datasets/5/28/train.lgbm\n",
      "[LightGBM] [Warning] Auto-choosing row-wise multi-threading, the overhead of testing was 0.167384 seconds.\n",
      "You can set `force_row_wise=true` to remove the overhead.\n",
      "And if memory is not enough, you can set `force_col_wise=true`.\n",
      "[LightGBM] [Info] Total Bins 6395\n",
      "[LightGBM] [Info] Number of data points in the train set: 4589798, number of used features: 27\n",
      "[LightGBM] [Info] Start training from score 0.421934\n",
      "Training model for store 6\n",
      "Training model for store 6 and step 7\n",
      "[LightGBM] [Info] Load from binary file /home/ec2-user/m5-forecasting/data/processed/datasets/6/7/train.lgbm\n",
      "[LightGBM] [Warning] Auto-choosing row-wise multi-threading, the overhead of testing was 0.289972 seconds.\n",
      "You can set `force_row_wise=true` to remove the overhead.\n",
      "And if memory is not enough, you can set `force_col_wise=true`.\n",
      "[LightGBM] [Info] Total Bins 6216\n",
      "[LightGBM] [Info] Number of data points in the train set: 4583021, number of used features: 27\n",
      "[LightGBM] [Info] Start training from score 0.269328\n",
      "Training model for store 6 and step 14\n",
      "[LightGBM] [Info] Load from binary file /home/ec2-user/m5-forecasting/data/processed/datasets/6/14/train.lgbm\n",
      "[LightGBM] [Warning] Auto-choosing row-wise multi-threading, the overhead of testing was 0.375738 seconds.\n",
      "You can set `force_row_wise=true` to remove the overhead.\n",
      "And if memory is not enough, you can set `force_col_wise=true`.\n",
      "[LightGBM] [Info] Total Bins 6262\n",
      "[LightGBM] [Info] Number of data points in the train set: 4561678, number of used features: 27\n",
      "[LightGBM] [Info] Start training from score 0.269140\n",
      "Training model for store 6 and step 21\n",
      "[LightGBM] [Info] Load from binary file /home/ec2-user/m5-forecasting/data/processed/datasets/6/21/train.lgbm\n",
      "[LightGBM] [Warning] Auto-choosing row-wise multi-threading, the overhead of testing was 0.324600 seconds.\n",
      "You can set `force_row_wise=true` to remove the overhead.\n",
      "And if memory is not enough, you can set `force_col_wise=true`.\n",
      "[LightGBM] [Info] Total Bins 6270\n",
      "[LightGBM] [Info] Number of data points in the train set: 4540335, number of used features: 27\n",
      "[LightGBM] [Info] Start training from score 0.269140\n",
      "Training model for store 6 and step 28\n",
      "[LightGBM] [Info] Load from binary file /home/ec2-user/m5-forecasting/data/processed/datasets/6/28/train.lgbm\n",
      "[LightGBM] [Warning] Auto-choosing row-wise multi-threading, the overhead of testing was 0.269571 seconds.\n",
      "You can set `force_row_wise=true` to remove the overhead.\n",
      "And if memory is not enough, you can set `force_col_wise=true`.\n",
      "[LightGBM] [Info] Total Bins 6221\n",
      "[LightGBM] [Info] Number of data points in the train set: 4518992, number of used features: 27\n",
      "[LightGBM] [Info] Start training from score 0.268943\n",
      "Training model for store 7\n",
      "Training model for store 7 and step 7\n",
      "[LightGBM] [Info] Load from binary file /home/ec2-user/m5-forecasting/data/processed/datasets/7/7/train.lgbm\n",
      "[LightGBM] [Warning] Auto-choosing row-wise multi-threading, the overhead of testing was 0.240018 seconds.\n",
      "You can set `force_row_wise=true` to remove the overhead.\n",
      "And if memory is not enough, you can set `force_col_wise=true`.\n",
      "[LightGBM] [Info] Total Bins 5704\n",
      "[LightGBM] [Info] Number of data points in the train set: 4405887, number of used features: 27\n",
      "[LightGBM] [Info] Start training from score 0.139747\n",
      "Training model for store 7 and step 14\n",
      "[LightGBM] [Info] Load from binary file /home/ec2-user/m5-forecasting/data/processed/datasets/7/14/train.lgbm\n",
      "[LightGBM] [Warning] Auto-choosing row-wise multi-threading, the overhead of testing was 0.141552 seconds.\n",
      "You can set `force_row_wise=true` to remove the overhead.\n",
      "And if memory is not enough, you can set `force_col_wise=true`.\n",
      "[LightGBM] [Info] Total Bins 5698\n",
      "[LightGBM] [Info] Number of data points in the train set: 4384544, number of used features: 27\n",
      "[LightGBM] [Info] Start training from score 0.139590\n",
      "Training model for store 7 and step 21\n",
      "[LightGBM] [Info] Load from binary file /home/ec2-user/m5-forecasting/data/processed/datasets/7/21/train.lgbm\n",
      "[LightGBM] [Warning] Auto-choosing row-wise multi-threading, the overhead of testing was 0.180806 seconds.\n",
      "You can set `force_row_wise=true` to remove the overhead.\n",
      "And if memory is not enough, you can set `force_col_wise=true`.\n",
      "[LightGBM] [Info] Total Bins 5645\n",
      "[LightGBM] [Info] Number of data points in the train set: 4363201, number of used features: 27\n",
      "[LightGBM] [Info] Start training from score 0.139514\n",
      "Training model for store 7 and step 28\n",
      "[LightGBM] [Info] Load from binary file /home/ec2-user/m5-forecasting/data/processed/datasets/7/28/train.lgbm\n",
      "[LightGBM] [Warning] Auto-choosing row-wise multi-threading, the overhead of testing was 0.152945 seconds.\n",
      "You can set `force_row_wise=true` to remove the overhead.\n",
      "And if memory is not enough, you can set `force_col_wise=true`.\n",
      "[LightGBM] [Info] Total Bins 5659\n",
      "[LightGBM] [Info] Number of data points in the train set: 4341858, number of used features: 27\n",
      "[LightGBM] [Info] Start training from score 0.139400\n",
      "Training model for store 8\n",
      "Training model for store 8 and step 7\n",
      "[LightGBM] [Info] Load from binary file /home/ec2-user/m5-forecasting/data/processed/datasets/8/7/train.lgbm\n",
      "[LightGBM] [Warning] Auto-choosing row-wise multi-threading, the overhead of testing was 0.346618 seconds.\n",
      "You can set `force_row_wise=true` to remove the overhead.\n",
      "And if memory is not enough, you can set `force_col_wise=true`.\n",
      "[LightGBM] [Info] Total Bins 6131\n",
      "[LightGBM] [Info] Number of data points in the train set: 4490177, number of used features: 27\n",
      "[LightGBM] [Info] Start training from score 0.362531\n",
      "Training model for store 8 and step 14\n",
      "[LightGBM] [Info] Load from binary file /home/ec2-user/m5-forecasting/data/processed/datasets/8/14/train.lgbm\n",
      "[LightGBM] [Warning] Auto-choosing row-wise multi-threading, the overhead of testing was 0.253986 seconds.\n",
      "You can set `force_row_wise=true` to remove the overhead.\n",
      "And if memory is not enough, you can set `force_col_wise=true`.\n",
      "[LightGBM] [Info] Total Bins 6105\n",
      "[LightGBM] [Info] Number of data points in the train set: 4468834, number of used features: 27\n",
      "[LightGBM] [Info] Start training from score 0.362957\n",
      "Training model for store 8 and step 21\n",
      "[LightGBM] [Info] Load from binary file /home/ec2-user/m5-forecasting/data/processed/datasets/8/21/train.lgbm\n",
      "[LightGBM] [Warning] Auto-choosing row-wise multi-threading, the overhead of testing was 0.321022 seconds.\n",
      "You can set `force_row_wise=true` to remove the overhead.\n",
      "And if memory is not enough, you can set `force_col_wise=true`.\n",
      "[LightGBM] [Info] Total Bins 6109\n",
      "[LightGBM] [Info] Number of data points in the train set: 4447491, number of used features: 27\n",
      "[LightGBM] [Info] Start training from score 0.363124\n",
      "Training model for store 8 and step 28\n",
      "[LightGBM] [Info] Load from binary file /home/ec2-user/m5-forecasting/data/processed/datasets/8/28/train.lgbm\n",
      "[LightGBM] [Warning] Auto-choosing row-wise multi-threading, the overhead of testing was 0.324983 seconds.\n",
      "You can set `force_row_wise=true` to remove the overhead.\n",
      "And if memory is not enough, you can set `force_col_wise=true`.\n",
      "[LightGBM] [Info] Total Bins 6099\n",
      "[LightGBM] [Info] Number of data points in the train set: 4426148, number of used features: 27\n",
      "[LightGBM] [Info] Start training from score 0.363450\n",
      "Training model for store 9\n",
      "Training model for store 9 and step 7\n",
      "[LightGBM] [Info] Load from binary file /home/ec2-user/m5-forecasting/data/processed/datasets/9/7/train.lgbm\n",
      "[LightGBM] [Warning] Auto-choosing row-wise multi-threading, the overhead of testing was 0.296202 seconds.\n",
      "You can set `force_row_wise=true` to remove the overhead.\n",
      "And if memory is not enough, you can set `force_col_wise=true`.\n",
      "[LightGBM] [Info] Total Bins 6178\n",
      "[LightGBM] [Info] Number of data points in the train set: 4618674, number of used features: 27\n",
      "[LightGBM] [Info] Start training from score 0.311475\n",
      "Training model for store 9 and step 14\n",
      "[LightGBM] [Info] Load from binary file /home/ec2-user/m5-forecasting/data/processed/datasets/9/14/train.lgbm\n",
      "[LightGBM] [Warning] Auto-choosing row-wise multi-threading, the overhead of testing was 0.356620 seconds.\n",
      "You can set `force_row_wise=true` to remove the overhead.\n",
      "And if memory is not enough, you can set `force_col_wise=true`.\n",
      "[LightGBM] [Info] Total Bins 6221\n",
      "[LightGBM] [Info] Number of data points in the train set: 4597331, number of used features: 27\n",
      "[LightGBM] [Info] Start training from score 0.310498\n",
      "Training model for store 9 and step 21\n",
      "[LightGBM] [Info] Load from binary file /home/ec2-user/m5-forecasting/data/processed/datasets/9/21/train.lgbm\n",
      "[LightGBM] [Warning] Auto-choosing row-wise multi-threading, the overhead of testing was 0.363665 seconds.\n",
      "You can set `force_row_wise=true` to remove the overhead.\n",
      "And if memory is not enough, you can set `force_col_wise=true`.\n",
      "[LightGBM] [Info] Total Bins 6186\n",
      "[LightGBM] [Info] Number of data points in the train set: 4575988, number of used features: 27\n",
      "[LightGBM] [Info] Start training from score 0.308971\n",
      "Training model for store 9 and step 28\n",
      "[LightGBM] [Info] Load from binary file /home/ec2-user/m5-forecasting/data/processed/datasets/9/28/train.lgbm\n",
      "[LightGBM] [Warning] Auto-choosing row-wise multi-threading, the overhead of testing was 0.336294 seconds.\n",
      "You can set `force_row_wise=true` to remove the overhead.\n",
      "And if memory is not enough, you can set `force_col_wise=true`.\n",
      "[LightGBM] [Info] Total Bins 6228\n",
      "[LightGBM] [Info] Number of data points in the train set: 4554645, number of used features: 27\n",
      "[LightGBM] [Info] Start training from score 0.307348\n",
      "Done.\n"
     ]
    }
   ],
   "source": [
    "lgbm_bu.train()"
   ]
  },
  {
   "cell_type": "code",
   "execution_count": 16,
   "id": "90cf03fe-2884-4a57-b78a-5e72cbcfa984",
   "metadata": {
    "tags": []
   },
   "outputs": [
    {
     "name": "stdout",
     "output_type": "stream",
     "text": [
      "Start predicting...\n",
      "Making predictions for level 0\n",
      "Making predictions for level 0 and step 7\n",
      "Making predictions for level 0 and step 14\n",
      "Making predictions for level 0 and step 21\n",
      "Making predictions for level 0 and step 28\n",
      "Making predictions for level 1\n",
      "Making predictions for level 1 and step 7\n",
      "Making predictions for level 1 and step 14\n",
      "Making predictions for level 1 and step 21\n",
      "Making predictions for level 1 and step 28\n",
      "Making predictions for level 2\n",
      "Making predictions for level 2 and step 7\n",
      "Making predictions for level 2 and step 14\n",
      "Making predictions for level 2 and step 21\n",
      "Making predictions for level 2 and step 28\n",
      "Making predictions for level 3\n",
      "Making predictions for level 3 and step 7\n",
      "Making predictions for level 3 and step 14\n",
      "Making predictions for level 3 and step 21\n",
      "Making predictions for level 3 and step 28\n",
      "Making predictions for level 4\n",
      "Making predictions for level 4 and step 7\n",
      "Making predictions for level 4 and step 14\n",
      "Making predictions for level 4 and step 21\n",
      "Making predictions for level 4 and step 28\n",
      "Making predictions for level 5\n",
      "Making predictions for level 5 and step 7\n",
      "Making predictions for level 5 and step 14\n",
      "Making predictions for level 5 and step 21\n",
      "Making predictions for level 5 and step 28\n",
      "Making predictions for level 6\n",
      "Making predictions for level 6 and step 7\n",
      "Making predictions for level 6 and step 14\n",
      "Making predictions for level 6 and step 21\n",
      "Making predictions for level 6 and step 28\n",
      "Making predictions for level 7\n",
      "Making predictions for level 7 and step 7\n",
      "Making predictions for level 7 and step 14\n",
      "Making predictions for level 7 and step 21\n",
      "Making predictions for level 7 and step 28\n",
      "Making predictions for level 8\n",
      "Making predictions for level 8 and step 7\n",
      "Making predictions for level 8 and step 14\n",
      "Making predictions for level 8 and step 21\n",
      "Making predictions for level 8 and step 28\n",
      "Making predictions for level 9\n",
      "Making predictions for level 9 and step 7\n",
      "Making predictions for level 9 and step 14\n",
      "Making predictions for level 9 and step 21\n",
      "Making predictions for level 9 and step 28\n",
      "Compiling predictions...\n",
      "Compiling forecast store 0\n",
      "Compiling forecast store 1\n",
      "Compiling forecast store 2\n",
      "Compiling forecast store 3\n",
      "Compiling forecast store 4\n",
      "Compiling forecast store 5\n",
      "Compiling forecast store 6\n",
      "Compiling forecast store 7\n",
      "Compiling forecast store 8\n",
      "Compiling forecast store 9\n",
      "Making bottom up predictions...\n",
      "Done.\n"
     ]
    }
   ],
   "source": [
    "lgbm_bu.predict()"
   ]
  },
  {
   "cell_type": "code",
   "execution_count": 17,
   "id": "865322a9-a664-4770-84ad-f36c2e45f69d",
   "metadata": {},
   "outputs": [
    {
     "data": {
      "image/png": "[encoded data removed]",
      "text/plain": [
       "<Figure size 1152x288 with 1 Axes>"
      ]
     },
     "metadata": {
      "needs_background": "light"
     },
     "output_type": "display_data"
    }
   ],
   "source": [
    "plot_fcst(\"lgbm\", level=8)"
   ]
  },
  {
   "cell_type": "code",
   "execution_count": 18,
   "id": "b58a07a2-66c0-46fe-b528-825feed4fa57",
   "metadata": {},
   "outputs": [
    {
     "data": {
      "text/html": [
       "<div>\n",
       "<style scoped>\n",
       "    .dataframe tbody tr th:only-of-type {\n",
       "        vertical-align: middle;\n",
       "    }\n",
       "\n",
       "    .dataframe tbody tr th {\n",
       "        vertical-align: top;\n",
       "    }\n",
       "\n",
       "    .dataframe thead th {\n",
       "        text-align: right;\n",
       "    }\n",
       "</style>\n",
       "<table border=\"1\" class=\"dataframe\">\n",
       "  <thead>\n",
       "    <tr style=\"text-align: right;\">\n",
       "      <th></th>\n",
       "      <th>1</th>\n",
       "      <th>2</th>\n",
       "      <th>3</th>\n",
       "      <th>4</th>\n",
       "      <th>5</th>\n",
       "      <th>6</th>\n",
       "      <th>7</th>\n",
       "      <th>8</th>\n",
       "      <th>9</th>\n",
       "      <th>10</th>\n",
       "      <th>11</th>\n",
       "      <th>12</th>\n",
       "      <th>Average</th>\n",
       "    </tr>\n",
       "  </thead>\n",
       "  <tbody>\n",
       "    <tr>\n",
       "      <th>wmrsse</th>\n",
       "      <td>0.595105</td>\n",
       "      <td>0.600441</td>\n",
       "      <td>0.656533</td>\n",
       "      <td>0.617326</td>\n",
       "      <td>0.680094</td>\n",
       "      <td>0.638869</td>\n",
       "      <td>0.694356</td>\n",
       "      <td>0.695997</td>\n",
       "      <td>0.753857</td>\n",
       "      <td>0.864307</td>\n",
       "      <td>0.876887</td>\n",
       "      <td>0.900945</td>\n",
       "      <td>0.71456</td>\n",
       "    </tr>\n",
       "  </tbody>\n",
       "</table>\n",
       "</div>"
      ],
      "text/plain": [
       "               1         2         3         4         5         6         7  \\\n",
       "wmrsse  0.595105  0.600441  0.656533  0.617326  0.680094  0.638869  0.694356   \n",
       "\n",
       "               8         9        10        11        12  Average  \n",
       "wmrsse  0.695997  0.753857  0.864307  0.876887  0.900945  0.71456  "
      ]
     },
     "execution_count": 18,
     "metadata": {},
     "output_type": "execute_result"
    }
   ],
   "source": [
    "accuracy(model=\"lgbm\")"
   ]
  },
  {
   "cell_type": "markdown",
   "id": "019155c6-3001-40ba-a42d-e71faca43312",
   "metadata": {},
   "source": [
    "## Misc"
   ]
  },
  {
   "cell_type": "code",
   "execution_count": null,
   "id": "611b504b-5129-4450-b399-cf389c01a5f7",
   "metadata": {},
   "outputs": [],
   "source": []
  }
 ],
 "metadata": {
  "kernelspec": {
   "display_name": "Python 3 (ipykernel)",
   "language": "python",
   "name": "python3"
  },
  "language_info": {
   "codemirror_mode": {
    "name": "ipython",
    "version": 3
   },
   "file_extension": ".py",
   "mimetype": "text/x-python",
   "name": "python",
   "nbconvert_exporter": "python",
   "pygments_lexer": "ipython3",
   "version": "3.9.9"
  }
 },
 "nbformat": 4,
 "nbformat_minor": 5
}
