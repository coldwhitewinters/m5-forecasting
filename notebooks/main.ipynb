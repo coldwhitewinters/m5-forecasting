{
 "cells": [
  {
   "cell_type": "markdown",
   "id": "cf67e8b4-3f43-437a-afb3-d666def58e02",
   "metadata": {},
   "source": [
    "# Forecast"
   ]
  },
  {
   "cell_type": "markdown",
   "id": "db01a074-52df-475b-a54a-a754b84f2251",
   "metadata": {
    "tags": []
   },
   "source": [
    "## Setup"
   ]
  },
  {
   "cell_type": "code",
   "execution_count": 1,
   "id": "fb6ab9fc-2b2d-4c69-bccf-13a545604b52",
   "metadata": {},
   "outputs": [],
   "source": [
    "%load_ext autoreload\n",
    "%autoreload 2"
   ]
  },
  {
   "cell_type": "code",
   "execution_count": 2,
   "id": "372f5539-cb1b-4dd8-8d3d-2d9506e3d476",
   "metadata": {},
   "outputs": [],
   "source": [
    "import sys\n",
    "sys.path.append(\"..\")\n",
    "\n",
    "# Libraries\n",
    "import pandas as pd\n",
    "import numpy as np\n",
    "import matplotlib.pyplot as plt\n",
    "\n",
    "import m5.config as cfg\n",
    "import m5.preprocessing\n",
    "from m5.model import train, predict, compile_fcst\n",
    "from m5.evaluate import accuracy_all_levels, collect_metrics\n",
    "from m5.plot import plot_fcst\n",
    "\n",
    "# Library settings\n",
    "pd.options.display.max_columns = 999\n",
    "plt.rcParams[\"figure.figsize\"] = (14, 4)"
   ]
  },
  {
   "cell_type": "markdown",
   "id": "d9d6177b-3189-4b70-9542-ca825a007af1",
   "metadata": {},
   "source": [
    "## Preprocessing"
   ]
  },
  {
   "cell_type": "code",
   "execution_count": 3,
   "id": "1e9a3659-8ea3-47b7-9ab5-2fb06201438e",
   "metadata": {},
   "outputs": [],
   "source": [
    "m5.preprocessing.prepare_base_data(cfg.DATA_DIR, task=cfg.TASK)"
   ]
  },
  {
   "cell_type": "code",
   "execution_count": 4,
   "id": "197e599f-05f7-4c3c-b871-f10a52b343ed",
   "metadata": {},
   "outputs": [
    {
     "name": "stdout",
     "output_type": "stream",
     "text": [
      "Preparing agg level 12\n",
      "Preparing agg level 1\n",
      "Preparing agg level 2\n",
      "Preparing agg level 3\n",
      "Preparing agg level 4\n",
      "Preparing agg level 5\n",
      "Preparing agg level 6\n",
      "Preparing agg level 7\n",
      "Preparing agg level 8\n",
      "Preparing agg level 9\n",
      "Preparing agg level 10\n",
      "Preparing agg level 11\n"
     ]
    }
   ],
   "source": [
    "m5.preprocessing.prepare_agg_levels(cfg.DATA_DIR)"
   ]
  },
  {
   "cell_type": "code",
   "execution_count": 5,
   "id": "28e924d1-ce68-4c6d-8b51-fccc81c66809",
   "metadata": {
    "tags": []
   },
   "outputs": [
    {
     "name": "stdout",
     "output_type": "stream",
     "text": [
      "Preparing dataset for level 1 and step 28\n",
      "Preparing dataset for level 2 and step 28\n",
      "Preparing dataset for level 3 and step 28\n",
      "Preparing dataset for level 4 and step 28\n",
      "Preparing dataset for level 5 and step 28\n",
      "Preparing dataset for level 6 and step 28\n",
      "Preparing dataset for level 7 and step 28\n",
      "Preparing dataset for level 8 and step 28\n",
      "Preparing dataset for level 9 and step 28\n",
      "Preparing dataset for level 10 and step 28\n",
      "Preparing dataset for level 11 and step 28\n",
      "Preparing dataset for level 12 and step 28\n"
     ]
    }
   ],
   "source": [
    "m5.preprocessing.prepare_all_datasets(cfg.DATA_DIR, cfg.TARGET, cfg.FH, cfg.N_LAGS)"
   ]
  },
  {
   "cell_type": "code",
   "execution_count": 6,
   "id": "4d0d8f9d-74ce-44c3-b633-d45e41b92c01",
   "metadata": {
    "tags": []
   },
   "outputs": [
    {
     "name": "stdout",
     "output_type": "stream",
     "text": [
      "[LightGBM] [Warning] Met categorical feature which contains sparse values. Consider renumbering to consecutive integers started from zero\n",
      "[LightGBM] [Info] Construct bin mappers from text data time 0.03 seconds\n",
      "[LightGBM] [Info] Saving data to binary file /home/ariel/Playground/m5-forecasting/data/processed/datasets/1/28/train.bin\n",
      "[LightGBM] [Info] Saving data to binary file /home/ariel/Playground/m5-forecasting/data/processed/datasets/1/28/val.bin\n",
      "[LightGBM] [Warning] Met categorical feature which contains sparse values. Consider renumbering to consecutive integers started from zero\n",
      "[LightGBM] [Info] Construct bin mappers from text data time 0.00 seconds\n",
      "[LightGBM] [Info] Saving data to binary file /home/ariel/Playground/m5-forecasting/data/processed/datasets/2/28/train.bin\n",
      "[LightGBM] [Info] Saving data to binary file /home/ariel/Playground/m5-forecasting/data/processed/datasets/2/28/val.bin\n",
      "[LightGBM] [Warning] Met categorical feature which contains sparse values. Consider renumbering to consecutive integers started from zero\n",
      "[LightGBM] [Info] Construct bin mappers from text data time 0.01 seconds\n",
      "[LightGBM] [Info] Saving data to binary file /home/ariel/Playground/m5-forecasting/data/processed/datasets/3/28/train.bin\n"
     ]
    },
    {
     "name": "stderr",
     "output_type": "stream",
     "text": [
      "/home/ariel/anaconda3/envs/merlion/lib/python3.9/site-packages/lightgbm/basic.py:1433: UserWarning: Overriding the parameters from Reference Dataset.\n",
      "  _log_warning('Overriding the parameters from Reference Dataset.')\n",
      "/home/ariel/anaconda3/envs/merlion/lib/python3.9/site-packages/lightgbm/basic.py:1245: UserWarning: categorical_column in param dict is overridden.\n",
      "  _log_warning('{} in param dict is overridden.'.format(cat_alias))\n"
     ]
    },
    {
     "name": "stdout",
     "output_type": "stream",
     "text": [
      "[LightGBM] [Info] Saving data to binary file /home/ariel/Playground/m5-forecasting/data/processed/datasets/3/28/val.bin\n",
      "[LightGBM] [Warning] Met categorical feature which contains sparse values. Consider renumbering to consecutive integers started from zero\n",
      "[LightGBM] [Info] Construct bin mappers from text data time 0.00 seconds\n",
      "[LightGBM] [Info] Saving data to binary file /home/ariel/Playground/m5-forecasting/data/processed/datasets/4/28/train.bin\n",
      "[LightGBM] [Info] Saving data to binary file /home/ariel/Playground/m5-forecasting/data/processed/datasets/4/28/val.bin\n",
      "[LightGBM] [Warning] Met categorical feature which contains sparse values. Consider renumbering to consecutive integers started from zero\n",
      "[LightGBM] [Info] Construct bin mappers from text data time 0.01 seconds\n",
      "[LightGBM] [Info] Saving data to binary file /home/ariel/Playground/m5-forecasting/data/processed/datasets/5/28/train.bin\n",
      "[LightGBM] [Info] Saving data to binary file /home/ariel/Playground/m5-forecasting/data/processed/datasets/5/28/val.bin\n",
      "[LightGBM] [Warning] Met categorical feature which contains sparse values. Consider renumbering to consecutive integers started from zero\n",
      "[LightGBM] [Info] Construct bin mappers from text data time 0.01 seconds\n",
      "[LightGBM] [Info] Saving data to binary file /home/ariel/Playground/m5-forecasting/data/processed/datasets/6/28/train.bin\n",
      "[LightGBM] [Info] Saving data to binary file /home/ariel/Playground/m5-forecasting/data/processed/datasets/6/28/val.bin\n",
      "[LightGBM] [Warning] Met categorical feature which contains sparse values. Consider renumbering to consecutive integers started from zero\n",
      "[LightGBM] [Info] Construct bin mappers from text data time 0.03 seconds\n",
      "[LightGBM] [Info] Saving data to binary file /home/ariel/Playground/m5-forecasting/data/processed/datasets/7/28/train.bin\n",
      "[LightGBM] [Info] Saving data to binary file /home/ariel/Playground/m5-forecasting/data/processed/datasets/7/28/val.bin\n",
      "[LightGBM] [Warning] Met categorical feature which contains sparse values. Consider renumbering to consecutive integers started from zero\n",
      "[LightGBM] [Info] Construct bin mappers from text data time 0.03 seconds\n",
      "[LightGBM] [Info] Saving data to binary file /home/ariel/Playground/m5-forecasting/data/processed/datasets/8/28/train.bin\n",
      "[LightGBM] [Info] Saving data to binary file /home/ariel/Playground/m5-forecasting/data/processed/datasets/8/28/val.bin\n",
      "[LightGBM] [Warning] Met categorical feature which contains sparse values. Consider renumbering to consecutive integers started from zero\n",
      "[LightGBM] [Info] Construct bin mappers from text data time 0.07 seconds\n",
      "[LightGBM] [Info] Saving data to binary file /home/ariel/Playground/m5-forecasting/data/processed/datasets/9/28/train.bin\n",
      "[LightGBM] [Info] Saving data to binary file /home/ariel/Playground/m5-forecasting/data/processed/datasets/9/28/val.bin\n",
      "[LightGBM] [Warning] Met categorical feature which contains sparse values. Consider renumbering to consecutive integers started from zero\n",
      "[LightGBM] [Info] Construct bin mappers from text data time 0.23 seconds\n",
      "[LightGBM] [Info] Saving data to binary file /home/ariel/Playground/m5-forecasting/data/processed/datasets/10/28/train.bin\n",
      "[LightGBM] [Info] Saving data to binary file /home/ariel/Playground/m5-forecasting/data/processed/datasets/10/28/val.bin\n",
      "[LightGBM] [Warning] Met categorical feature which contains sparse values. Consider renumbering to consecutive integers started from zero\n",
      "[LightGBM] [Info] Construct bin mappers from text data time 0.15 seconds\n",
      "[LightGBM] [Info] Saving data to binary file /home/ariel/Playground/m5-forecasting/data/processed/datasets/11/28/train.bin\n",
      "[LightGBM] [Info] Saving data to binary file /home/ariel/Playground/m5-forecasting/data/processed/datasets/11/28/val.bin\n",
      "[LightGBM] [Warning] Met categorical feature which contains sparse values. Consider renumbering to consecutive integers started from zero\n",
      "[LightGBM] [Info] Construct bin mappers from text data time 0.34 seconds\n",
      "[LightGBM] [Info] Saving data to binary file /home/ariel/Playground/m5-forecasting/data/processed/datasets/12/28/train.bin\n",
      "[LightGBM] [Info] Saving data to binary file /home/ariel/Playground/m5-forecasting/data/processed/datasets/12/28/val.bin\n"
     ]
    }
   ],
   "source": [
    "m5.preprocessing.prepare_all_dataset_binaries(cfg.DATA_DIR)"
   ]
  },
  {
   "cell_type": "markdown",
   "id": "784d860f-ebf4-4e48-a6d8-9594f40d1026",
   "metadata": {},
   "source": [
    "## Train"
   ]
  },
  {
   "cell_type": "code",
   "execution_count": 7,
   "id": "cce0735a-24e7-44d5-ae61-ff3be03c844d",
   "metadata": {},
   "outputs": [
    {
     "name": "stdout",
     "output_type": "stream",
     "text": [
      "Start training\n",
      "Training model for level 1\n",
      "Training model for level 1 and step 28\n",
      "[LightGBM] [Info] Load from binary file /home/ariel/Playground/m5-forecasting/data/processed/datasets/1/28/train.bin\n",
      "[LightGBM] [Warning] Auto-choosing col-wise multi-threading, the overhead of testing was 0.000574 seconds.\n",
      "You can set `force_col_wise=true` to remove the overhead.\n",
      "[LightGBM] [Info] Total Bins 3652\n",
      "[LightGBM] [Info] Number of data points in the train set: 1844, number of used features: 25\n",
      "[LightGBM] [Info] Start training from score 10.446018\n",
      "Training model for level 2\n",
      "Training model for level 2 and step 28\n",
      "[LightGBM] [Info] Load from binary file /home/ariel/Playground/m5-forecasting/data/processed/datasets/2/28/train.bin\n",
      "[LightGBM] [Warning] Auto-choosing col-wise multi-threading, the overhead of testing was 0.000584 seconds.\n",
      "You can set `force_col_wise=true` to remove the overhead.\n"
     ]
    },
    {
     "name": "stderr",
     "output_type": "stream",
     "text": [
      "/home/ariel/anaconda3/envs/merlion/lib/python3.9/site-packages/lightgbm/engine.py:148: UserWarning: Found `num_iterations` in params. Will use it instead of argument\n",
      "  _log_warning(\"Found `{}` in params. Will use it instead of argument\".format(alias))\n",
      "/home/ariel/anaconda3/envs/merlion/lib/python3.9/site-packages/lightgbm/engine.py:153: UserWarning: Found `early_stopping_round` in params. Will use it instead of argument\n",
      "  _log_warning(\"Found `{}` in params. Will use it instead of argument\".format(alias))\n"
     ]
    },
    {
     "name": "stdout",
     "output_type": "stream",
     "text": [
      "[LightGBM] [Info] Total Bins 5482\n",
      "[LightGBM] [Info] Number of data points in the train set: 5532, number of used features: 26\n",
      "[LightGBM] [Info] Start training from score 9.347406\n",
      "Training model for level 3\n",
      "Training model for level 3 and step 28\n",
      "[LightGBM] [Info] Load from binary file /home/ariel/Playground/m5-forecasting/data/processed/datasets/3/28/train.bin\n",
      "[LightGBM] [Warning] Auto-choosing col-wise multi-threading, the overhead of testing was 0.001380 seconds.\n",
      "You can set `force_col_wise=true` to remove the overhead.\n",
      "[LightGBM] [Info] Total Bins 5489\n",
      "[LightGBM] [Info] Number of data points in the train set: 18440, number of used features: 26\n",
      "[LightGBM] [Info] Start training from score 8.143433\n",
      "Training model for level 4\n",
      "Training model for level 4 and step 28\n",
      "[LightGBM] [Info] Load from binary file /home/ariel/Playground/m5-forecasting/data/processed/datasets/4/28/train.bin\n",
      "[LightGBM] [Warning] Auto-choosing col-wise multi-threading, the overhead of testing was 0.001247 seconds.\n",
      "You can set `force_col_wise=true` to remove the overhead.\n",
      "[LightGBM] [Info] Total Bins 5482\n",
      "[LightGBM] [Info] Number of data points in the train set: 5532, number of used features: 26\n",
      "[LightGBM] [Info] Start training from score 9.347406\n",
      "Training model for level 5\n",
      "Training model for level 5 and step 28\n",
      "[LightGBM] [Info] Load from binary file /home/ariel/Playground/m5-forecasting/data/processed/datasets/5/28/train.bin\n",
      "[LightGBM] [Warning] Auto-choosing col-wise multi-threading, the overhead of testing was 0.001612 seconds.\n",
      "You can set `force_col_wise=true` to remove the overhead.\n",
      "[LightGBM] [Info] Total Bins 5486\n",
      "[LightGBM] [Info] Number of data points in the train set: 12908, number of used features: 26\n",
      "[LightGBM] [Info] Start training from score 8.500108\n",
      "Training model for level 6\n",
      "Training model for level 6 and step 28\n",
      "[LightGBM] [Info] Load from binary file /home/ariel/Playground/m5-forecasting/data/processed/datasets/6/28/train.bin\n",
      "[LightGBM] [Warning] Auto-choosing col-wise multi-threading, the overhead of testing was 0.001397 seconds.\n",
      "You can set `force_col_wise=true` to remove the overhead.\n",
      "[LightGBM] [Info] Total Bins 5486\n",
      "[LightGBM] [Info] Number of data points in the train set: 16596, number of used features: 27\n",
      "[LightGBM] [Info] Start training from score 8.248794\n",
      "Training model for level 7\n",
      "Training model for level 7 and step 28\n",
      "[LightGBM] [Info] Load from binary file /home/ariel/Playground/m5-forecasting/data/processed/datasets/7/28/train.bin\n",
      "[LightGBM] [Warning] Auto-choosing col-wise multi-threading, the overhead of testing was 0.004046 seconds.\n",
      "You can set `force_col_wise=true` to remove the overhead.\n",
      "[LightGBM] [Info] Total Bins 5490\n",
      "[LightGBM] [Info] Number of data points in the train set: 38724, number of used features: 27\n",
      "[LightGBM] [Info] Start training from score 7.401496\n",
      "Training model for level 8\n",
      "Training model for level 8 and step 28\n",
      "[LightGBM] [Info] Load from binary file /home/ariel/Playground/m5-forecasting/data/processed/datasets/8/28/train.bin\n",
      "[LightGBM] [Warning] Auto-choosing row-wise multi-threading, the overhead of testing was 0.002118 seconds.\n",
      "You can set `force_row_wise=true` to remove the overhead.\n",
      "And if memory is not enough, you can set `force_col_wise=true`.\n",
      "[LightGBM] [Info] Total Bins 5493\n",
      "[LightGBM] [Info] Number of data points in the train set: 55320, number of used features: 27\n",
      "[LightGBM] [Info] Start training from score 7.044821\n",
      "Training model for level 9\n",
      "Training model for level 9 and step 28\n",
      "[LightGBM] [Info] Load from binary file /home/ariel/Playground/m5-forecasting/data/processed/datasets/9/28/train.bin\n",
      "[LightGBM] [Warning] Auto-choosing row-wise multi-threading, the overhead of testing was 0.006951 seconds.\n",
      "You can set `force_row_wise=true` to remove the overhead.\n",
      "And if memory is not enough, you can set `force_col_wise=true`.\n",
      "[LightGBM] [Info] Total Bins 5497\n",
      "[LightGBM] [Info] Number of data points in the train set: 129079, number of used features: 27\n",
      "[LightGBM] [Info] Start training from score 6.197531\n",
      "Training model for level 10\n",
      "Training model for level 10 and step 28\n",
      "[LightGBM] [Info] Load from binary file /home/ariel/Playground/m5-forecasting/data/processed/datasets/10/28/train.bin\n",
      "[LightGBM] [Warning] Auto-choosing row-wise multi-threading, the overhead of testing was 0.220547 seconds.\n",
      "You can set `force_row_wise=true` to remove the overhead.\n",
      "And if memory is not enough, you can set `force_col_wise=true`.\n",
      "[LightGBM] [Info] Total Bins 8405\n",
      "[LightGBM] [Info] Number of data points in the train set: 4585249, number of used features: 26\n",
      "[LightGBM] [Info] Start training from score 2.617967\n",
      "Training model for level 11\n",
      "Training model for level 11 and step 28\n",
      "[LightGBM] [Info] Load from binary file /home/ariel/Playground/m5-forecasting/data/processed/datasets/11/28/train.bin\n",
      "[LightGBM] [Warning] Auto-choosing row-wise multi-threading, the overhead of testing was 0.814794 seconds.\n",
      "You can set `force_row_wise=true` to remove the overhead.\n",
      "And if memory is not enough, you can set `force_col_wise=true`.\n",
      "[LightGBM] [Info] Total Bins 7562\n",
      "[LightGBM] [Info] Number of data points in the train set: 13624783, number of used features: 27\n",
      "[LightGBM] [Info] Start training from score 1.527395\n",
      "Training model for level 12\n",
      "Training model for level 12 and step 28\n",
      "[LightGBM] [Info] Load from binary file /home/ariel/Playground/m5-forecasting/data/processed/datasets/12/28/train.bin\n",
      "[LightGBM] [Warning] Auto-choosing row-wise multi-threading, the overhead of testing was 2.793435 seconds.\n",
      "You can set `force_row_wise=true` to remove the overhead.\n",
      "And if memory is not enough, you can set `force_col_wise=true`.\n",
      "[LightGBM] [Info] Total Bins 6157\n",
      "[LightGBM] [Info] Number of data points in the train set: 43838692, number of used features: 27\n",
      "[LightGBM] [Info] Start training from score 0.355291\n"
     ]
    }
   ],
   "source": [
    "train(cfg.DATA_DIR, cfg.MODEL_DIR, cfg.PARAMS)"
   ]
  },
  {
   "cell_type": "markdown",
   "id": "c44a7aae-675a-4d94-b700-740ad9bdd620",
   "metadata": {},
   "source": [
    "## Predict"
   ]
  },
  {
   "cell_type": "code",
   "execution_count": 8,
   "id": "f88245d7-7796-4014-8cc8-07777a7826cc",
   "metadata": {},
   "outputs": [
    {
     "name": "stdout",
     "output_type": "stream",
     "text": [
      "Start predicting\n",
      "Making predictions for level 1\n",
      "Making predictions for level 1 and step 28\n",
      "Making predictions for level 2\n",
      "Making predictions for level 2 and step 28\n",
      "Making predictions for level 3\n",
      "Making predictions for level 3 and step 28\n",
      "Making predictions for level 4\n",
      "Making predictions for level 4 and step 28\n",
      "Making predictions for level 5\n",
      "Making predictions for level 5 and step 28\n",
      "Making predictions for level 6\n",
      "Making predictions for level 6 and step 28\n",
      "Making predictions for level 7\n",
      "Making predictions for level 7 and step 28\n",
      "Making predictions for level 8\n",
      "Making predictions for level 8 and step 28\n",
      "Making predictions for level 9\n",
      "Making predictions for level 9 and step 28\n",
      "Making predictions for level 10\n",
      "Making predictions for level 10 and step 28\n",
      "Making predictions for level 11\n",
      "Making predictions for level 11 and step 28\n",
      "Making predictions for level 12\n",
      "Making predictions for level 12 and step 28\n"
     ]
    }
   ],
   "source": [
    "predict(cfg.DATA_DIR, cfg.MODEL_DIR, cfg.FCST_DIR)"
   ]
  },
  {
   "cell_type": "code",
   "execution_count": 9,
   "id": "77f60bfb-cbca-4150-8e02-2353dd8428c8",
   "metadata": {},
   "outputs": [],
   "source": [
    "if cfg.MULTI_STEP:\n",
    "    compile_fcst(cfg.FCST_DIR)"
   ]
  },
  {
   "cell_type": "markdown",
   "id": "b7eb1ffb-46b5-4b86-b675-f8d8d53238d0",
   "metadata": {},
   "source": [
    "## Evaluate"
   ]
  },
  {
   "cell_type": "code",
   "execution_count": 10,
   "id": "563c397a-79eb-4457-84e9-c735bf75f7dd",
   "metadata": {},
   "outputs": [
    {
     "name": "stdout",
     "output_type": "stream",
     "text": [
      "Calculating accuracy for level 1\n",
      "Calculating accuracy for level 2\n",
      "Calculating accuracy for level 3\n",
      "Calculating accuracy for level 4\n",
      "Calculating accuracy for level 5\n",
      "Calculating accuracy for level 6\n",
      "Calculating accuracy for level 7\n",
      "Calculating accuracy for level 8\n",
      "Calculating accuracy for level 9\n",
      "Calculating accuracy for level 10\n",
      "Calculating accuracy for level 11\n",
      "Calculating accuracy for level 12\n"
     ]
    }
   ],
   "source": [
    "accuracy_all_levels(cfg.DATA_DIR, cfg.FCST_DIR, cfg.METRICS_DIR, cfg.FH, cfg.MULTI_STEP)"
   ]
  },
  {
   "cell_type": "code",
   "execution_count": 11,
   "id": "1d0ab608-2a87-4480-abdd-af72bc773ccb",
   "metadata": {},
   "outputs": [
    {
     "name": "stdout",
     "output_type": "stream",
     "text": [
      "           wmrsse\n",
      "1        0.418399\n",
      "2        0.371687\n",
      "3        0.527901\n",
      "4        0.389154\n",
      "5        0.414361\n",
      "6        0.518248\n",
      "7        0.523948\n",
      "8        0.618166\n",
      "9        0.679773\n",
      "10       0.882857\n",
      "11       0.875582\n",
      "12       0.857629\n",
      "Average  0.589809\n"
     ]
    }
   ],
   "source": [
    "collect_metrics(cfg.METRICS_DIR)"
   ]
  },
  {
   "cell_type": "markdown",
   "id": "d08b02e8-1a74-46b3-8789-dca512ea50d7",
   "metadata": {},
   "source": [
    "## Plot"
   ]
  },
  {
   "cell_type": "code",
   "execution_count": 14,
   "id": "b2b265e4-6e46-4ade-9135-36c659dc9a65",
   "metadata": {},
   "outputs": [
    {
     "data": {
      "image/png": "[encoded data removed]",
      "text/plain": [
       "<Figure size 1008x288 with 1 Axes>"
      ]
     },
     "metadata": {
      "needs_background": "light"
     },
     "output_type": "display_data"
    }
   ],
   "source": [
    "plot_fcst(cfg.DATA_DIR, cfg.FCST_DIR, cfg.MULTI_STEP, level=1)"
   ]
  },
  {
   "cell_type": "code",
   "execution_count": null,
   "id": "22584983-45aa-4385-a980-7336b838e604",
   "metadata": {},
   "outputs": [],
   "source": []
  }
 ],
 "metadata": {
  "kernelspec": {
   "display_name": "Python 3 (ipykernel)",
   "language": "python",
   "name": "python3"
  },
  "language_info": {
   "codemirror_mode": {
    "name": "ipython",
    "version": 3
   },
   "file_extension": ".py",
   "mimetype": "text/x-python",
   "name": "python",
   "nbconvert_exporter": "python",
   "pygments_lexer": "ipython3",
   "version": "3.9.7"
  }
 },
 "nbformat": 4,
 "nbformat_minor": 5
}
