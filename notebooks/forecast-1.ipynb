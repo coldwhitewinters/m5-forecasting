{
 "cells": [
  {
   "cell_type": "markdown",
   "id": "2e97f892-e21b-412e-9d7c-0401cd572d32",
   "metadata": {
    "papermill": {
     "duration": 0.01139,
     "end_time": "2021-10-14T00:31:56.216034",
     "exception": false,
     "start_time": "2021-10-14T00:31:56.204644",
     "status": "completed"
    },
    "tags": []
   },
   "source": [
    "# Forecast"
   ]
  },
  {
   "cell_type": "markdown",
   "id": "db01a074-52df-475b-a54a-a754b84f2251",
   "metadata": {
    "papermill": {
     "duration": 0.00539,
     "end_time": "2021-10-14T00:31:56.230133",
     "exception": false,
     "start_time": "2021-10-14T00:31:56.224743",
     "status": "completed"
    },
    "tags": []
   },
   "source": [
    "## Setup"
   ]
  },
  {
   "cell_type": "code",
   "execution_count": 1,
   "id": "fb6ab9fc-2b2d-4c69-bccf-13a545604b52",
   "metadata": {
    "execution": {
     "iopub.execute_input": "2021-10-14T00:31:56.247585Z",
     "iopub.status.busy": "2021-10-14T00:31:56.247272Z",
     "iopub.status.idle": "2021-10-14T00:31:56.258402Z",
     "shell.execute_reply": "2021-10-14T00:31:56.258793Z"
    },
    "papermill": {
     "duration": 0.023264,
     "end_time": "2021-10-14T00:31:56.258993",
     "exception": false,
     "start_time": "2021-10-14T00:31:56.235729",
     "status": "completed"
    },
    "tags": []
   },
   "outputs": [],
   "source": [
    "%load_ext autoreload\n",
    "%autoreload 2"
   ]
  },
  {
   "cell_type": "code",
   "execution_count": 2,
   "id": "372f5539-cb1b-4dd8-8d3d-2d9506e3d476",
   "metadata": {
    "execution": {
     "iopub.execute_input": "2021-10-14T00:31:56.275273Z",
     "iopub.status.busy": "2021-10-14T00:31:56.274945Z",
     "iopub.status.idle": "2021-10-14T00:31:58.104782Z",
     "shell.execute_reply": "2021-10-14T00:31:58.104526Z"
    },
    "papermill": {
     "duration": 1.840081,
     "end_time": "2021-10-14T00:31:58.104853",
     "exception": false,
     "start_time": "2021-10-14T00:31:56.264772",
     "status": "completed"
    },
    "tags": []
   },
   "outputs": [],
   "source": [
    "import sys\n",
    "sys.path.append(\"..\")\n",
    "\n",
    "# Libraries\n",
    "import pandas as pd\n",
    "import numpy as np\n",
    "import matplotlib.pyplot as plt\n",
    "\n",
    "import m5.config as cfg\n",
    "from m5.model import train, predict\n",
    "from m5.evaluate import accuracy\n",
    "from m5.plot import plot_fcst\n",
    "\n",
    "# Library settings\n",
    "pd.options.display.max_columns = 999\n",
    "plt.rcParams[\"figure.figsize\"] = (14, 4)"
   ]
  },
  {
   "cell_type": "markdown",
   "id": "d9d6177b-3189-4b70-9542-ca825a007af1",
   "metadata": {
    "papermill": {
     "duration": 0.00581,
     "end_time": "2021-10-14T00:31:58.116383",
     "exception": false,
     "start_time": "2021-10-14T00:31:58.110573",
     "status": "completed"
    },
    "tags": []
   },
   "source": [
    "## Parameters"
   ]
  },
  {
   "cell_type": "code",
   "execution_count": 3,
   "id": "ca52ac99-bbcd-4bdd-9b6c-a8cc8e448eb2",
   "metadata": {
    "execution": {
     "iopub.execute_input": "2021-10-14T00:31:58.134331Z",
     "iopub.status.busy": "2021-10-14T00:31:58.133993Z",
     "iopub.status.idle": "2021-10-14T00:31:58.148590Z",
     "shell.execute_reply": "2021-10-14T00:31:58.148998Z"
    },
    "papermill": {
     "duration": 0.025059,
     "end_time": "2021-10-14T00:31:58.149128",
     "exception": false,
     "start_time": "2021-10-14T00:31:58.124069",
     "status": "completed"
    },
    "tags": [
     "parameters"
    ]
   },
   "outputs": [],
   "source": [
    "level = 1"
   ]
  },
  {
   "cell_type": "code",
   "execution_count": 4,
   "id": "3faff915",
   "metadata": {
    "execution": {
     "iopub.execute_input": "2021-10-14T00:31:58.163899Z",
     "iopub.status.busy": "2021-10-14T00:31:58.163580Z",
     "iopub.status.idle": "2021-10-14T00:31:58.174249Z",
     "shell.execute_reply": "2021-10-14T00:31:58.173937Z"
    },
    "papermill": {
     "duration": 0.019414,
     "end_time": "2021-10-14T00:31:58.174323",
     "exception": false,
     "start_time": "2021-10-14T00:31:58.154909",
     "status": "completed"
    },
    "tags": [
     "injected-parameters"
    ]
   },
   "outputs": [],
   "source": [
    "# Parameters\n",
    "level = 1\n"
   ]
  },
  {
   "cell_type": "markdown",
   "id": "5e8ebb71-583a-4cd1-b60e-7006ebc85e82",
   "metadata": {
    "papermill": {
     "duration": 0.005606,
     "end_time": "2021-10-14T00:31:58.185693",
     "exception": false,
     "start_time": "2021-10-14T00:31:58.180087",
     "status": "completed"
    },
    "tags": []
   },
   "source": [
    "## Train"
   ]
  },
  {
   "cell_type": "code",
   "execution_count": 5,
   "id": "a462d470-398d-4f64-927f-7d9a0538508b",
   "metadata": {
    "execution": {
     "iopub.execute_input": "2021-10-14T00:31:58.199972Z",
     "iopub.status.busy": "2021-10-14T00:31:58.199655Z",
     "iopub.status.idle": "2021-10-14T00:31:58.209846Z",
     "shell.execute_reply": "2021-10-14T00:31:58.210084Z"
    },
    "papermill": {
     "duration": 0.019186,
     "end_time": "2021-10-14T00:31:58.210179",
     "exception": false,
     "start_time": "2021-10-14T00:31:58.190993",
     "status": "completed"
    },
    "tags": []
   },
   "outputs": [],
   "source": [
    "params = {\n",
    "    \"task\": \"train\",\n",
    "    \"objective\": \"tweedie\",\n",
    "    \"num_iterations\": 1000,\n",
    "    \"learning_rate\": 0.1,\n",
    "    \"num_leaves\": 31,\n",
    "    \"num_threads\": 4,\n",
    "    \"early_stopping_round\": 100,\n",
    "}"
   ]
  },
  {
   "cell_type": "code",
   "execution_count": 6,
   "id": "1a9cdb58-c9eb-4839-b1c6-5e6d44b4a36a",
   "metadata": {
    "execution": {
     "iopub.execute_input": "2021-10-14T00:31:58.226174Z",
     "iopub.status.busy": "2021-10-14T00:31:58.225677Z",
     "iopub.status.idle": "2021-10-14T00:31:58.473211Z",
     "shell.execute_reply": "2021-10-14T00:31:58.472910Z"
    },
    "papermill": {
     "duration": 0.257243,
     "end_time": "2021-10-14T00:31:58.473293",
     "exception": false,
     "start_time": "2021-10-14T00:31:58.216050",
     "status": "completed"
    },
    "tags": []
   },
   "outputs": [
    {
     "name": "stdout",
     "output_type": "stream",
     "text": [
      "Training model...\n",
      "[LightGBM] [Info] Load from binary file /home/ariel/Playground/m5-forecasting/data/processed/datasets/1/train.bin\n",
      "[LightGBM] [Warning] Auto-choosing col-wise multi-threading, the overhead of testing was 0.000375 seconds.\n",
      "You can set `force_col_wise=true` to remove the overhead.\n",
      "[LightGBM] [Info] Total Bins 3652\n",
      "[LightGBM] [Info] Number of data points in the train set: 1844, number of used features: 25\n",
      "[LightGBM] [Info] Start training from score 10.446018\n",
      "[1]\tvalid_0's tweedie: 825.787\n",
      "Training until validation scores don't improve for 100 rounds\n",
      "[2]\tvalid_0's tweedie: 824.944\n",
      "[3]\tvalid_0's tweedie: 824.221\n",
      "[4]\tvalid_0's tweedie: 823.725\n",
      "[5]\tvalid_0's tweedie: 823.243\n",
      "[6]\tvalid_0's tweedie: 822.81\n",
      "[7]\tvalid_0's tweedie: 822.514\n",
      "[8]\tvalid_0's tweedie: 822.175\n",
      "[9]\tvalid_0's tweedie: 821.936\n",
      "[10]\tvalid_0's tweedie: 821.704\n",
      "[11]\tvalid_0's tweedie: 821.482\n",
      "[12]\tvalid_0's tweedie: 821.321\n",
      "[13]\tvalid_0's tweedie: 821.149\n",
      "[14]\tvalid_0's tweedie: 821.016\n",
      "[15]\tvalid_0's tweedie: 820.906\n",
      "[16]\tvalid_0's tweedie: 820.833\n",
      "[17]\tvalid_0's tweedie: 820.775\n",
      "[18]\tvalid_0's tweedie: 820.697\n",
      "[19]\tvalid_0's tweedie: 820.625\n",
      "[20]\tvalid_0's tweedie: 820.561\n",
      "[21]\tvalid_0's tweedie: 820.502\n",
      "[22]\tvalid_0's tweedie: 820.454\n",
      "[23]\tvalid_0's tweedie: 820.406\n",
      "[24]\tvalid_0's tweedie: 820.364\n",
      "[25]\tvalid_0's tweedie: 820.348\n",
      "[26]\tvalid_0's tweedie: 820.345\n",
      "[27]\tvalid_0's tweedie: 820.358\n",
      "[28]\tvalid_0's tweedie: 820.334\n",
      "[29]\tvalid_0's tweedie: 820.327\n",
      "[30]\tvalid_0's tweedie: 820.302\n",
      "[31]\tvalid_0's tweedie: 820.28\n",
      "[32]\tvalid_0's tweedie: 820.256\n",
      "[33]\tvalid_0's tweedie: 820.253\n",
      "[34]\tvalid_0's tweedie: 820.236\n",
      "[35]\tvalid_0's tweedie: 820.225\n",
      "[36]\tvalid_0's tweedie: 820.205\n",
      "[37]\tvalid_0's tweedie: 820.184\n",
      "[38]\tvalid_0's tweedie: 820.167\n",
      "[39]\tvalid_0's tweedie: 820.162\n",
      "[40]\tvalid_0's tweedie: 820.152\n",
      "[41]\tvalid_0's tweedie: 820.139\n",
      "[42]\tvalid_0's tweedie: 820.129\n",
      "[43]\tvalid_0's tweedie: 820.112\n",
      "[44]\tvalid_0's tweedie: 820.111\n",
      "[45]\tvalid_0's tweedie: 820.107\n",
      "[46]\tvalid_0's tweedie: 820.107\n",
      "[47]\tvalid_0's tweedie: 820.098\n",
      "[48]\tvalid_0's tweedie: 820.098\n",
      "[49]\tvalid_0's tweedie: 820.08\n",
      "[50]\tvalid_0's tweedie: 820.075\n",
      "[51]\tvalid_0's tweedie: 820.076\n",
      "[52]\tvalid_0's tweedie: 820.071\n",
      "[53]\tvalid_0's tweedie: 820.065\n",
      "[54]\tvalid_0's tweedie: 820.058\n",
      "[55]\tvalid_0's tweedie: 820.059\n",
      "[56]\tvalid_0's tweedie: 820.058\n",
      "[57]\tvalid_0's tweedie: 820.047\n",
      "[58]\tvalid_0's tweedie: 820.043\n",
      "[59]\tvalid_0's tweedie: 820.042\n",
      "[60]\tvalid_0's tweedie: 820.03\n",
      "[61]\tvalid_0's tweedie: 820.025\n",
      "[62]\tvalid_0's tweedie: 820.024\n",
      "[63]\tvalid_0's tweedie: 820.024\n",
      "[64]\tvalid_0's tweedie: 820.02\n",
      "[65]\tvalid_0's tweedie: 820.017\n",
      "[66]\tvalid_0's tweedie: 820.011\n",
      "[67]\tvalid_0's tweedie: 819.998\n",
      "[68]\tvalid_0's tweedie: 819.999\n",
      "[69]\tvalid_0's tweedie: 819.993\n",
      "[70]\tvalid_0's tweedie: 819.993\n",
      "[71]\tvalid_0's tweedie: 819.995\n",
      "[72]\tvalid_0's tweedie: 819.995\n",
      "[73]\tvalid_0's tweedie: 819.991\n",
      "[74]\tvalid_0's tweedie: 819.989\n",
      "[75]\tvalid_0's tweedie: 819.991\n",
      "[76]\tvalid_0's tweedie: 819.983\n",
      "[77]\tvalid_0's tweedie: 819.983\n",
      "[78]\tvalid_0's tweedie: 819.981\n",
      "[79]\tvalid_0's tweedie: 819.985\n",
      "[80]\tvalid_0's tweedie: 819.981\n",
      "[81]\tvalid_0's tweedie: 819.975\n",
      "[82]\tvalid_0's tweedie: 819.975\n",
      "[83]\tvalid_0's tweedie: 819.976\n",
      "[84]\tvalid_0's tweedie: 819.97\n",
      "[85]\tvalid_0's tweedie: 819.97\n",
      "[86]\tvalid_0's tweedie: 819.968\n",
      "[87]\tvalid_0's tweedie: 819.967\n",
      "[88]\tvalid_0's tweedie: 819.964\n",
      "[89]\tvalid_0's tweedie: 819.965\n",
      "[90]\tvalid_0's tweedie: 819.966\n",
      "[91]\tvalid_0's tweedie: 819.962\n",
      "[92]\tvalid_0's tweedie: 819.959\n",
      "[93]\tvalid_0's tweedie: 819.961\n",
      "[94]\tvalid_0's tweedie: 819.966\n",
      "[95]\tvalid_0's tweedie: 819.96\n",
      "[96]\tvalid_0's tweedie: 819.959\n",
      "[97]\tvalid_0's tweedie: 819.962\n",
      "[98]\tvalid_0's tweedie: 819.963\n",
      "[99]\tvalid_0's tweedie: 819.964\n",
      "[100]\tvalid_0's tweedie: 819.964\n",
      "[101]\tvalid_0's tweedie: 819.964\n",
      "[102]\tvalid_0's tweedie: 819.963\n",
      "[103]\tvalid_0's tweedie: 819.965\n",
      "[104]\tvalid_0's tweedie: 819.963\n",
      "[105]\tvalid_0's tweedie: 819.96\n",
      "[106]\tvalid_0's tweedie: 819.96\n",
      "[107]\tvalid_0's tweedie: 819.96\n",
      "[108]\tvalid_0's tweedie: 819.96\n",
      "[109]\tvalid_0's tweedie: 819.959\n",
      "[110]\tvalid_0's tweedie: 819.956\n",
      "[111]\tvalid_0's tweedie: 819.956\n",
      "[112]\tvalid_0's tweedie: 819.955\n",
      "[113]\tvalid_0's tweedie: 819.956\n",
      "[114]\tvalid_0's tweedie: 819.956\n",
      "[115]\tvalid_0's tweedie: 819.953\n",
      "[116]\tvalid_0's tweedie: 819.956\n",
      "[117]\tvalid_0's tweedie: 819.956\n",
      "[118]\tvalid_0's tweedie: 819.959\n",
      "[119]\tvalid_0's tweedie: 819.959\n",
      "[120]\tvalid_0's tweedie: 819.958\n",
      "[121]\tvalid_0's tweedie: 819.959\n",
      "[122]\tvalid_0's tweedie: 819.959\n",
      "[123]\tvalid_0's tweedie: 819.959\n",
      "[124]\tvalid_0's tweedie: 819.959\n",
      "[125]\tvalid_0's tweedie: 819.958\n",
      "[126]\tvalid_0's tweedie: 819.958\n",
      "[127]\tvalid_0's tweedie: 819.951\n",
      "[128]\tvalid_0's tweedie: 819.95\n",
      "[129]\tvalid_0's tweedie: 819.952\n",
      "[130]\tvalid_0's tweedie: 819.951\n",
      "[131]\tvalid_0's tweedie: 819.951\n",
      "[132]\tvalid_0's tweedie: 819.951\n",
      "[133]\tvalid_0's tweedie: 819.955\n",
      "[134]\tvalid_0's tweedie: 819.954\n",
      "[135]\tvalid_0's tweedie: 819.954\n",
      "[136]\tvalid_0's tweedie: 819.952\n",
      "[137]\tvalid_0's tweedie: 819.955\n",
      "[138]\tvalid_0's tweedie: 819.954\n",
      "[139]\tvalid_0's tweedie: 819.954\n",
      "[140]\tvalid_0's tweedie: 819.954\n",
      "[141]\tvalid_0's tweedie: 819.953\n",
      "[142]\tvalid_0's tweedie: 819.953\n",
      "[143]\tvalid_0's tweedie: 819.952\n",
      "[144]\tvalid_0's tweedie: 819.952\n",
      "[145]\tvalid_0's tweedie: 819.95\n",
      "[146]\tvalid_0's tweedie: 819.95\n",
      "[147]\tvalid_0's tweedie: 819.953\n",
      "[148]\tvalid_0's tweedie: 819.953\n",
      "[149]\tvalid_0's tweedie: 819.954\n",
      "[150]\tvalid_0's tweedie: 819.955\n",
      "[151]\tvalid_0's tweedie: 819.955\n",
      "[152]\tvalid_0's tweedie: 819.956\n",
      "[153]\tvalid_0's tweedie: 819.954\n",
      "[154]\tvalid_0's tweedie: 819.959\n",
      "[155]\tvalid_0's tweedie: 819.957\n",
      "[156]\tvalid_0's tweedie: 819.954\n",
      "[157]\tvalid_0's tweedie: 819.954\n",
      "[158]\tvalid_0's tweedie: 819.954\n",
      "[159]\tvalid_0's tweedie: 819.953\n",
      "[160]\tvalid_0's tweedie: 819.952\n",
      "[161]\tvalid_0's tweedie: 819.951\n",
      "[162]\tvalid_0's tweedie: 819.95\n",
      "[163]\tvalid_0's tweedie: 819.949\n",
      "[164]\tvalid_0's tweedie: 819.949\n",
      "[165]\tvalid_0's tweedie: 819.952\n",
      "[166]\tvalid_0's tweedie: 819.953\n",
      "[167]\tvalid_0's tweedie: 819.953\n",
      "[168]\tvalid_0's tweedie: 819.951\n",
      "[169]\tvalid_0's tweedie: 819.951\n",
      "[170]\tvalid_0's tweedie: 819.951\n",
      "[171]\tvalid_0's tweedie: 819.951\n",
      "[172]\tvalid_0's tweedie: 819.95\n",
      "[173]\tvalid_0's tweedie: 819.949\n",
      "[174]\tvalid_0's tweedie: 819.95\n",
      "[175]\tvalid_0's tweedie: 819.948\n",
      "[176]\tvalid_0's tweedie: 819.944\n",
      "[177]\tvalid_0's tweedie: 819.945\n",
      "[178]\tvalid_0's tweedie: 819.946\n",
      "[179]\tvalid_0's tweedie: 819.946\n",
      "[180]\tvalid_0's tweedie: 819.946\n",
      "[181]\tvalid_0's tweedie: 819.946\n",
      "[182]\tvalid_0's tweedie: 819.946\n",
      "[183]\tvalid_0's tweedie: 819.946\n",
      "[184]\tvalid_0's tweedie: 819.946\n",
      "[185]\tvalid_0's tweedie: 819.946\n",
      "[186]\tvalid_0's tweedie: 819.947\n",
      "[187]\tvalid_0's tweedie: 819.947\n",
      "[188]\tvalid_0's tweedie: 819.947\n",
      "[189]\tvalid_0's tweedie: 819.946\n",
      "[190]\tvalid_0's tweedie: 819.946\n",
      "[191]\tvalid_0's tweedie: 819.946\n",
      "[192]\tvalid_0's tweedie: 819.944\n",
      "[193]\tvalid_0's tweedie: 819.947\n",
      "[194]\tvalid_0's tweedie: 819.945\n",
      "[195]\tvalid_0's tweedie: 819.946\n",
      "[196]\tvalid_0's tweedie: 819.946\n",
      "[197]\tvalid_0's tweedie: 819.945\n",
      "[198]\tvalid_0's tweedie: 819.947\n",
      "[199]\tvalid_0's tweedie: 819.947\n",
      "[200]\tvalid_0's tweedie: 819.947\n",
      "[201]\tvalid_0's tweedie: 819.949\n",
      "[202]\tvalid_0's tweedie: 819.95\n",
      "[203]\tvalid_0's tweedie: 819.949\n",
      "[204]\tvalid_0's tweedie: 819.948\n",
      "[205]\tvalid_0's tweedie: 819.948\n",
      "[206]\tvalid_0's tweedie: 819.95\n",
      "[207]\tvalid_0's tweedie: 819.95\n",
      "[208]\tvalid_0's tweedie: 819.952\n",
      "[209]\tvalid_0's tweedie: 819.954\n",
      "[210]\tvalid_0's tweedie: 819.953\n",
      "[211]\tvalid_0's tweedie: 819.954\n",
      "[212]\tvalid_0's tweedie: 819.958\n",
      "[213]\tvalid_0's tweedie: 819.957\n",
      "[214]\tvalid_0's tweedie: 819.956\n",
      "[215]\tvalid_0's tweedie: 819.956\n",
      "[216]\tvalid_0's tweedie: 819.956\n",
      "[217]\tvalid_0's tweedie: 819.956\n",
      "[218]\tvalid_0's tweedie: 819.955\n",
      "[219]\tvalid_0's tweedie: 819.955\n",
      "[220]\tvalid_0's tweedie: 819.957\n",
      "[221]\tvalid_0's tweedie: 819.956\n",
      "[222]\tvalid_0's tweedie: 819.955\n",
      "[223]\tvalid_0's tweedie: 819.956\n",
      "[224]\tvalid_0's tweedie: 819.956\n",
      "[225]\tvalid_0's tweedie: 819.956\n",
      "[226]\tvalid_0's tweedie: 819.956\n",
      "[227]\tvalid_0's tweedie: 819.956\n",
      "[228]\tvalid_0's tweedie: 819.957\n",
      "[229]\tvalid_0's tweedie: 819.956\n",
      "[230]\tvalid_0's tweedie: 819.955\n",
      "[231]\tvalid_0's tweedie: 819.955\n",
      "[232]\tvalid_0's tweedie: 819.955\n",
      "[233]\tvalid_0's tweedie: 819.955\n",
      "[234]\tvalid_0's tweedie: 819.955\n",
      "[235]\tvalid_0's tweedie: 819.956\n",
      "[236]\tvalid_0's tweedie: 819.957\n",
      "[237]\tvalid_0's tweedie: 819.957\n",
      "[238]\tvalid_0's tweedie: 819.957\n",
      "[239]\tvalid_0's tweedie: 819.957\n",
      "[240]\tvalid_0's tweedie: 819.957\n",
      "[241]\tvalid_0's tweedie: 819.956\n",
      "[242]\tvalid_0's tweedie: 819.96\n",
      "[243]\tvalid_0's tweedie: 819.964\n",
      "[244]\tvalid_0's tweedie: 819.963\n",
      "[245]\tvalid_0's tweedie: 819.962\n",
      "[246]\tvalid_0's tweedie: 819.962\n",
      "[247]\tvalid_0's tweedie: 819.962\n",
      "[248]\tvalid_0's tweedie: 819.959\n",
      "[249]\tvalid_0's tweedie: 819.961\n",
      "[250]\tvalid_0's tweedie: 819.96\n",
      "[251]\tvalid_0's tweedie: 819.959\n",
      "[252]\tvalid_0's tweedie: 819.959\n",
      "[253]\tvalid_0's tweedie: 819.958\n",
      "[254]\tvalid_0's tweedie: 819.961\n",
      "[255]\tvalid_0's tweedie: 819.961\n",
      "[256]\tvalid_0's tweedie: 819.96\n",
      "[257]\tvalid_0's tweedie: 819.96\n"
     ]
    },
    {
     "name": "stderr",
     "output_type": "stream",
     "text": [
      "/home/ariel/anaconda3/envs/merlion/lib/python3.9/site-packages/lightgbm/engine.py:148: UserWarning: Found `num_iterations` in params. Will use it instead of argument\n",
      "  _log_warning(\"Found `{}` in params. Will use it instead of argument\".format(alias))\n",
      "/home/ariel/anaconda3/envs/merlion/lib/python3.9/site-packages/lightgbm/engine.py:153: UserWarning: Found `early_stopping_round` in params. Will use it instead of argument\n",
      "  _log_warning(\"Found `{}` in params. Will use it instead of argument\".format(alias))\n"
     ]
    },
    {
     "name": "stdout",
     "output_type": "stream",
     "text": [
      "[258]\tvalid_0's tweedie: 819.96\n",
      "[259]\tvalid_0's tweedie: 819.959\n",
      "[260]\tvalid_0's tweedie: 819.959\n",
      "[261]\tvalid_0's tweedie: 819.959\n",
      "[262]\tvalid_0's tweedie: 819.958\n",
      "[263]\tvalid_0's tweedie: 819.96\n",
      "[264]\tvalid_0's tweedie: 819.96\n",
      "[265]\tvalid_0's tweedie: 819.96\n",
      "[266]\tvalid_0's tweedie: 819.96\n",
      "[267]\tvalid_0's tweedie: 819.961\n",
      "[268]\tvalid_0's tweedie: 819.961\n",
      "[269]\tvalid_0's tweedie: 819.961\n",
      "[270]\tvalid_0's tweedie: 819.96\n",
      "[271]\tvalid_0's tweedie: 819.96\n",
      "[272]\tvalid_0's tweedie: 819.96\n",
      "[273]\tvalid_0's tweedie: 819.958\n",
      "[274]\tvalid_0's tweedie: 819.958\n",
      "[275]\tvalid_0's tweedie: 819.958\n",
      "[276]\tvalid_0's tweedie: 819.958\n",
      "[277]\tvalid_0's tweedie: 819.958\n",
      "[278]\tvalid_0's tweedie: 819.959\n",
      "[279]\tvalid_0's tweedie: 819.959\n",
      "[280]\tvalid_0's tweedie: 819.962\n",
      "[281]\tvalid_0's tweedie: 819.961\n",
      "[282]\tvalid_0's tweedie: 819.961\n",
      "[283]\tvalid_0's tweedie: 819.96\n",
      "[284]\tvalid_0's tweedie: 819.96\n",
      "[285]\tvalid_0's tweedie: 819.96\n",
      "[286]\tvalid_0's tweedie: 819.96\n",
      "[287]\tvalid_0's tweedie: 819.96\n",
      "[288]\tvalid_0's tweedie: 819.96\n",
      "[289]\tvalid_0's tweedie: 819.96\n",
      "[290]\tvalid_0's tweedie: 819.96\n",
      "[291]\tvalid_0's tweedie: 819.96\n",
      "[292]\tvalid_0's tweedie: 819.96\n",
      "Early stopping, best iteration is:\n",
      "[192]\tvalid_0's tweedie: 819.944\n",
      "Done.\n"
     ]
    }
   ],
   "source": [
    "train(cfg.DATA_DIR, cfg.MODEL_DIR, level, params)"
   ]
  },
  {
   "cell_type": "markdown",
   "id": "e40d6d12-d2da-4317-8bf1-1395e76d2d0c",
   "metadata": {
    "papermill": {
     "duration": 0.006772,
     "end_time": "2021-10-14T00:31:58.487972",
     "exception": false,
     "start_time": "2021-10-14T00:31:58.481200",
     "status": "completed"
    },
    "tags": []
   },
   "source": [
    "## Predict"
   ]
  },
  {
   "cell_type": "code",
   "execution_count": 7,
   "id": "40387698-a478-4d41-90ec-889a8401b7e5",
   "metadata": {
    "execution": {
     "iopub.execute_input": "2021-10-14T00:31:58.503003Z",
     "iopub.status.busy": "2021-10-14T00:31:58.502665Z",
     "iopub.status.idle": "2021-10-14T00:31:58.554387Z",
     "shell.execute_reply": "2021-10-14T00:31:58.554756Z"
    },
    "papermill": {
     "duration": 0.060807,
     "end_time": "2021-10-14T00:31:58.554873",
     "exception": false,
     "start_time": "2021-10-14T00:31:58.494066",
     "status": "completed"
    },
    "tags": []
   },
   "outputs": [
    {
     "data": {
      "text/html": [
       "<div>\n",
       "<style scoped>\n",
       "    .dataframe tbody tr th:only-of-type {\n",
       "        vertical-align: middle;\n",
       "    }\n",
       "\n",
       "    .dataframe tbody tr th {\n",
       "        vertical-align: top;\n",
       "    }\n",
       "\n",
       "    .dataframe thead th {\n",
       "        text-align: right;\n",
       "    }\n",
       "</style>\n",
       "<table border=\"1\" class=\"dataframe\">\n",
       "  <thead>\n",
       "    <tr style=\"text-align: right;\">\n",
       "      <th></th>\n",
       "      <th>d</th>\n",
       "      <th>sales</th>\n",
       "      <th>fcst</th>\n",
       "    </tr>\n",
       "  </thead>\n",
       "  <tbody>\n",
       "    <tr>\n",
       "      <th>1885</th>\n",
       "      <td>1886</td>\n",
       "      <td>36041</td>\n",
       "      <td>35437.815248</td>\n",
       "    </tr>\n",
       "    <tr>\n",
       "      <th>1886</th>\n",
       "      <td>1887</td>\n",
       "      <td>33857</td>\n",
       "      <td>34493.604846</td>\n",
       "    </tr>\n",
       "    <tr>\n",
       "      <th>1887</th>\n",
       "      <td>1888</td>\n",
       "      <td>32359</td>\n",
       "      <td>34687.205871</td>\n",
       "    </tr>\n",
       "    <tr>\n",
       "      <th>1888</th>\n",
       "      <td>1889</td>\n",
       "      <td>34681</td>\n",
       "      <td>36123.880395</td>\n",
       "    </tr>\n",
       "    <tr>\n",
       "      <th>1889</th>\n",
       "      <td>1890</td>\n",
       "      <td>45536</td>\n",
       "      <td>39219.951365</td>\n",
       "    </tr>\n",
       "    <tr>\n",
       "      <th>1890</th>\n",
       "      <td>1891</td>\n",
       "      <td>52672</td>\n",
       "      <td>50904.829709</td>\n",
       "    </tr>\n",
       "    <tr>\n",
       "      <th>1891</th>\n",
       "      <td>1892</td>\n",
       "      <td>56425</td>\n",
       "      <td>51326.290214</td>\n",
       "    </tr>\n",
       "    <tr>\n",
       "      <th>1892</th>\n",
       "      <td>1893</td>\n",
       "      <td>40418</td>\n",
       "      <td>37326.951171</td>\n",
       "    </tr>\n",
       "    <tr>\n",
       "      <th>1893</th>\n",
       "      <td>1894</td>\n",
       "      <td>39683</td>\n",
       "      <td>39573.054603</td>\n",
       "    </tr>\n",
       "    <tr>\n",
       "      <th>1894</th>\n",
       "      <td>1895</td>\n",
       "      <td>39134</td>\n",
       "      <td>38123.550792</td>\n",
       "    </tr>\n",
       "    <tr>\n",
       "      <th>1895</th>\n",
       "      <td>1896</td>\n",
       "      <td>38116</td>\n",
       "      <td>39089.801808</td>\n",
       "    </tr>\n",
       "    <tr>\n",
       "      <th>1896</th>\n",
       "      <td>1897</td>\n",
       "      <td>43220</td>\n",
       "      <td>41391.784973</td>\n",
       "    </tr>\n",
       "    <tr>\n",
       "      <th>1897</th>\n",
       "      <td>1898</td>\n",
       "      <td>56340</td>\n",
       "      <td>50650.294377</td>\n",
       "    </tr>\n",
       "    <tr>\n",
       "      <th>1898</th>\n",
       "      <td>1899</td>\n",
       "      <td>53856</td>\n",
       "      <td>49190.700738</td>\n",
       "    </tr>\n",
       "    <tr>\n",
       "      <th>1899</th>\n",
       "      <td>1900</td>\n",
       "      <td>42427</td>\n",
       "      <td>39527.370472</td>\n",
       "    </tr>\n",
       "    <tr>\n",
       "      <th>1900</th>\n",
       "      <td>1901</td>\n",
       "      <td>39069</td>\n",
       "      <td>39858.227476</td>\n",
       "    </tr>\n",
       "    <tr>\n",
       "      <th>1901</th>\n",
       "      <td>1902</td>\n",
       "      <td>35193</td>\n",
       "      <td>36442.637161</td>\n",
       "    </tr>\n",
       "    <tr>\n",
       "      <th>1902</th>\n",
       "      <td>1903</td>\n",
       "      <td>37529</td>\n",
       "      <td>36275.538072</td>\n",
       "    </tr>\n",
       "    <tr>\n",
       "      <th>1903</th>\n",
       "      <td>1904</td>\n",
       "      <td>41789</td>\n",
       "      <td>40522.197867</td>\n",
       "    </tr>\n",
       "    <tr>\n",
       "      <th>1904</th>\n",
       "      <td>1905</td>\n",
       "      <td>48362</td>\n",
       "      <td>48647.923087</td>\n",
       "    </tr>\n",
       "    <tr>\n",
       "      <th>1905</th>\n",
       "      <td>1906</td>\n",
       "      <td>51640</td>\n",
       "      <td>49067.157041</td>\n",
       "    </tr>\n",
       "    <tr>\n",
       "      <th>1906</th>\n",
       "      <td>1907</td>\n",
       "      <td>38059</td>\n",
       "      <td>38093.975789</td>\n",
       "    </tr>\n",
       "    <tr>\n",
       "      <th>1907</th>\n",
       "      <td>1908</td>\n",
       "      <td>37570</td>\n",
       "      <td>36746.642008</td>\n",
       "    </tr>\n",
       "    <tr>\n",
       "      <th>1908</th>\n",
       "      <td>1909</td>\n",
       "      <td>35343</td>\n",
       "      <td>34686.504423</td>\n",
       "    </tr>\n",
       "    <tr>\n",
       "      <th>1909</th>\n",
       "      <td>1910</td>\n",
       "      <td>35033</td>\n",
       "      <td>33731.772529</td>\n",
       "    </tr>\n",
       "    <tr>\n",
       "      <th>1910</th>\n",
       "      <td>1911</td>\n",
       "      <td>40517</td>\n",
       "      <td>39563.685016</td>\n",
       "    </tr>\n",
       "    <tr>\n",
       "      <th>1911</th>\n",
       "      <td>1912</td>\n",
       "      <td>48962</td>\n",
       "      <td>48927.717833</td>\n",
       "    </tr>\n",
       "    <tr>\n",
       "      <th>1912</th>\n",
       "      <td>1913</td>\n",
       "      <td>49795</td>\n",
       "      <td>48872.233263</td>\n",
       "    </tr>\n",
       "  </tbody>\n",
       "</table>\n",
       "</div>"
      ],
      "text/plain": [
       "         d  sales          fcst\n",
       "1885  1886  36041  35437.815248\n",
       "1886  1887  33857  34493.604846\n",
       "1887  1888  32359  34687.205871\n",
       "1888  1889  34681  36123.880395\n",
       "1889  1890  45536  39219.951365\n",
       "1890  1891  52672  50904.829709\n",
       "1891  1892  56425  51326.290214\n",
       "1892  1893  40418  37326.951171\n",
       "1893  1894  39683  39573.054603\n",
       "1894  1895  39134  38123.550792\n",
       "1895  1896  38116  39089.801808\n",
       "1896  1897  43220  41391.784973\n",
       "1897  1898  56340  50650.294377\n",
       "1898  1899  53856  49190.700738\n",
       "1899  1900  42427  39527.370472\n",
       "1900  1901  39069  39858.227476\n",
       "1901  1902  35193  36442.637161\n",
       "1902  1903  37529  36275.538072\n",
       "1903  1904  41789  40522.197867\n",
       "1904  1905  48362  48647.923087\n",
       "1905  1906  51640  49067.157041\n",
       "1906  1907  38059  38093.975789\n",
       "1907  1908  37570  36746.642008\n",
       "1908  1909  35343  34686.504423\n",
       "1909  1910  35033  33731.772529\n",
       "1910  1911  40517  39563.685016\n",
       "1911  1912  48962  48927.717833\n",
       "1912  1913  49795  48872.233263"
      ]
     },
     "execution_count": 7,
     "metadata": {},
     "output_type": "execute_result"
    }
   ],
   "source": [
    "fcst = predict(cfg.DATA_DIR, cfg.MODEL_DIR, cfg.FCST_DIR, level)\n",
    "fcst"
   ]
  },
  {
   "cell_type": "code",
   "execution_count": 8,
   "id": "2b597f99-2385-4c62-8b50-e15b1d61869c",
   "metadata": {
    "execution": {
     "iopub.execute_input": "2021-10-14T00:31:58.572262Z",
     "iopub.status.busy": "2021-10-14T00:31:58.571717Z",
     "iopub.status.idle": "2021-10-14T00:31:58.771042Z",
     "shell.execute_reply": "2021-10-14T00:31:58.771398Z"
    },
    "papermill": {
     "duration": 0.209238,
     "end_time": "2021-10-14T00:31:58.771514",
     "exception": false,
     "start_time": "2021-10-14T00:31:58.562276",
     "status": "completed"
    },
    "tags": []
   },
   "outputs": [
    {
     "data": {
      "image/png": "[encoded data removed]",
      "text/plain": [
       "<Figure size 1008x288 with 1 Axes>"
      ]
     },
     "metadata": {
      "needs_background": "light"
     },
     "output_type": "display_data"
    }
   ],
   "source": [
    "plot_fcst(cfg.DATA_DIR, cfg.FCST_DIR, level=level)"
   ]
  },
  {
   "cell_type": "markdown",
   "id": "09bfab3b-9cf9-41f0-a340-7c0363b7df0d",
   "metadata": {
    "papermill": {
     "duration": 0.009114,
     "end_time": "2021-10-14T00:31:58.791867",
     "exception": false,
     "start_time": "2021-10-14T00:31:58.782753",
     "status": "completed"
    },
    "tags": []
   },
   "source": [
    "## Evaluate"
   ]
  },
  {
   "cell_type": "code",
   "execution_count": 9,
   "id": "d8b7a2f7-996f-4a76-8adf-c77b27d83b02",
   "metadata": {
    "execution": {
     "iopub.execute_input": "2021-10-14T00:31:58.811343Z",
     "iopub.status.busy": "2021-10-14T00:31:58.811016Z",
     "iopub.status.idle": "2021-10-14T00:31:58.853201Z",
     "shell.execute_reply": "2021-10-14T00:31:58.853489Z"
    },
    "papermill": {
     "duration": 0.054069,
     "end_time": "2021-10-14T00:31:58.853605",
     "exception": false,
     "start_time": "2021-10-14T00:31:58.799536",
     "status": "completed"
    },
    "tags": []
   },
   "outputs": [
    {
     "data": {
      "text/html": [
       "<div>\n",
       "<style scoped>\n",
       "    .dataframe tbody tr th:only-of-type {\n",
       "        vertical-align: middle;\n",
       "    }\n",
       "\n",
       "    .dataframe tbody tr th {\n",
       "        vertical-align: top;\n",
       "    }\n",
       "\n",
       "    .dataframe thead th {\n",
       "        text-align: right;\n",
       "    }\n",
       "</style>\n",
       "<table border=\"1\" class=\"dataframe\">\n",
       "  <thead>\n",
       "    <tr style=\"text-align: right;\">\n",
       "      <th></th>\n",
       "      <th>mse_naive_insample</th>\n",
       "      <th>mse_fcst</th>\n",
       "      <th>weights</th>\n",
       "      <th>msse</th>\n",
       "      <th>rmsse</th>\n",
       "      <th>wrmsse</th>\n",
       "    </tr>\n",
       "  </thead>\n",
       "  <tbody>\n",
       "    <tr>\n",
       "      <th>0</th>\n",
       "      <td>3.495457e+07</td>\n",
       "      <td>6.119079e+06</td>\n",
       "      <td>1</td>\n",
       "      <td>0.175058</td>\n",
       "      <td>0.418399</td>\n",
       "      <td>0.418399</td>\n",
       "    </tr>\n",
       "  </tbody>\n",
       "</table>\n",
       "</div>"
      ],
      "text/plain": [
       "   mse_naive_insample      mse_fcst  weights      msse     rmsse    wrmsse\n",
       "0        3.495457e+07  6.119079e+06        1  0.175058  0.418399  0.418399"
      ]
     },
     "execution_count": 9,
     "metadata": {},
     "output_type": "execute_result"
    }
   ],
   "source": [
    "accuracy_df = accuracy(cfg.DATA_DIR, cfg.FCST_DIR, cfg.METRICS_DIR, level)\n",
    "accuracy_df"
   ]
  },
  {
   "cell_type": "code",
   "execution_count": 10,
   "id": "2f7e4bc6-8e33-449a-9853-3cae4192d1ea",
   "metadata": {
    "execution": {
     "iopub.execute_input": "2021-10-14T00:31:58.876521Z",
     "iopub.status.busy": "2021-10-14T00:31:58.876203Z",
     "iopub.status.idle": "2021-10-14T00:31:58.887398Z",
     "shell.execute_reply": "2021-10-14T00:31:58.887601Z"
    },
    "papermill": {
     "duration": 0.024339,
     "end_time": "2021-10-14T00:31:58.887688",
     "exception": false,
     "start_time": "2021-10-14T00:31:58.863349",
     "status": "completed"
    },
    "tags": []
   },
   "outputs": [
    {
     "data": {
      "text/plain": [
       "1"
      ]
     },
     "execution_count": 10,
     "metadata": {},
     "output_type": "execute_result"
    }
   ],
   "source": [
    "accuracy_df[\"weights\"].sum()"
   ]
  },
  {
   "cell_type": "code",
   "execution_count": 11,
   "id": "a0258800-c530-4b7c-98c5-2274bb70e942",
   "metadata": {
    "execution": {
     "iopub.execute_input": "2021-10-14T00:31:58.906658Z",
     "iopub.status.busy": "2021-10-14T00:31:58.906347Z",
     "iopub.status.idle": "2021-10-14T00:31:58.917477Z",
     "shell.execute_reply": "2021-10-14T00:31:58.917688Z"
    },
    "papermill": {
     "duration": 0.022496,
     "end_time": "2021-10-14T00:31:58.917775",
     "exception": false,
     "start_time": "2021-10-14T00:31:58.895279",
     "status": "completed"
    },
    "tags": []
   },
   "outputs": [
    {
     "data": {
      "text/plain": [
       "0.4183993630250636"
      ]
     },
     "execution_count": 11,
     "metadata": {},
     "output_type": "execute_result"
    }
   ],
   "source": [
    "accuracy_df[\"wrmsse\"].sum()"
   ]
  },
  {
   "cell_type": "markdown",
   "id": "1ceb0cd5-c916-463f-a49b-4377d84f54ee",
   "metadata": {
    "papermill": {
     "duration": 0.013549,
     "end_time": "2021-10-14T00:31:58.939552",
     "exception": false,
     "start_time": "2021-10-14T00:31:58.926003",
     "status": "completed"
    },
    "tags": []
   },
   "source": [
    "## Misc"
   ]
  },
  {
   "cell_type": "code",
   "execution_count": null,
   "id": "475d6cb9-66f8-4102-8e08-349557a780c5",
   "metadata": {
    "papermill": {
     "duration": 0.011602,
     "end_time": "2021-10-14T00:31:58.962050",
     "exception": false,
     "start_time": "2021-10-14T00:31:58.950448",
     "status": "completed"
    },
    "tags": []
   },
   "outputs": [],
   "source": []
  }
 ],
 "metadata": {
  "kernelspec": {
   "display_name": "Python 3 (ipykernel)",
   "language": "python",
   "name": "python3"
  },
  "language_info": {
   "codemirror_mode": {
    "name": "ipython",
    "version": 3
   },
   "file_extension": ".py",
   "mimetype": "text/x-python",
   "name": "python",
   "nbconvert_exporter": "python",
   "pygments_lexer": "ipython3",
   "version": "3.9.7"
  },
  "papermill": {
   "default_parameters": {},
   "duration": 4.40198,
   "end_time": "2021-10-14T00:31:59.277432",
   "environment_variables": {},
   "exception": null,
   "input_path": "/home/ariel/Playground/m5-forecasting/notebooks/forecast.ipynb",
   "output_path": "/home/ariel/Playground/m5-forecasting/notebooks/forecast-1.ipynb",
   "parameters": {
    "level": 1
   },
   "start_time": "2021-10-14T00:31:54.875452",
   "version": "2.3.3"
  }
 },
 "nbformat": 4,
 "nbformat_minor": 5
}