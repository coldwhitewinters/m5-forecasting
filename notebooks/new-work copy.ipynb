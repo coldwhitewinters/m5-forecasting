{
 "cells": [
  {
   "cell_type": "markdown",
   "id": "cf67e8b4-3f43-437a-afb3-d666def58e02",
   "metadata": {},
   "source": [
    "# Forecast"
   ]
  },
  {
   "cell_type": "markdown",
   "id": "db01a074-52df-475b-a54a-a754b84f2251",
   "metadata": {
    "tags": []
   },
   "source": [
    "## Setup"
   ]
  },
  {
   "cell_type": "code",
   "execution_count": 16,
   "id": "372f5539-cb1b-4dd8-8d3d-2d9506e3d476",
   "metadata": {},
   "outputs": [
    {
     "name": "stderr",
     "output_type": "stream",
     "text": [
      "/home/ec2-user/anaconda3/envs/forecasting/lib/python3.10/site-packages/statsforecast/core.py:14: TqdmExperimentalWarning: Using `tqdm.autonotebook.tqdm` in notebook mode. Use `tqdm.tqdm` instead to force console mode (e.g. in jupyter console)\n",
      "  from tqdm.autonotebook import tqdm\n"
     ]
    }
   ],
   "source": [
    "import sys\n",
    "sys.path.append(\"..\")\n",
    "\n",
    "# Libraries\n",
    "import pandas as pd\n",
    "import numpy as np\n",
    "import matplotlib.pyplot as plt\n",
    "import plotly.express as px\n",
    "import scipy as sp\n",
    "\n",
    "from statsforecast import StatsForecast\n",
    "from statsforecast.models import AutoARIMA, ETS\n",
    "\n",
    "from joblib import Parallel, delayed\n",
    "from itertools import product\n",
    "from tqdm import tqdm\n",
    "from pathlib import Path\n",
    "\n",
    "# Library settings\n",
    "pd.options.display.max_columns = 999\n",
    "plt.rcParams[\"figure.figsize\"] = (16, 4)\n"
   ]
  },
  {
   "cell_type": "markdown",
   "id": "c63dc17a",
   "metadata": {},
   "source": [
    "## Prepare data"
   ]
  },
  {
   "cell_type": "code",
   "execution_count": null,
   "id": "070aeae0",
   "metadata": {},
   "outputs": [],
   "source": [
    "sales = pd.read_csv(\"../data/sales_train_evaluation.csv\")\n",
    "sales.head()\n"
   ]
  },
  {
   "cell_type": "code",
   "execution_count": null,
   "id": "4102cffa",
   "metadata": {},
   "outputs": [],
   "source": [
    "calendar = pd.read_csv(\"../data/calendar.csv\", parse_dates=[\"date\"])\n",
    "calendar.head()"
   ]
  },
  {
   "cell_type": "code",
   "execution_count": null,
   "id": "9a56482b",
   "metadata": {},
   "outputs": [],
   "source": [
    "sell_prices = pd.read_csv(\"../data/sell_prices.csv\")\n",
    "sell_prices.head()"
   ]
  },
  {
   "cell_type": "code",
   "execution_count": null,
   "id": "a3c50e10",
   "metadata": {},
   "outputs": [],
   "source": [
    "def prepare_data(sales, calendar, sell_prices):\n",
    "    hierarchy_df = sales.iloc[:, 1:6].copy()\n",
    "    df = sales.drop(columns=[\"id\", \"dept_id\", \"cat_id\", \"state_id\"])\n",
    "    df = df.reset_index().rename(columns={\"index\":\"unique_id\"})\n",
    "    df_long = pd.melt(df, id_vars=df.columns[:3], var_name=\"d\", value_name=\"sales\")\n",
    "    df_long = df_long.merge(calendar[[\"d\", \"wm_yr_wk\"]], on=\"d\", how=\"left\")\n",
    "    df_long = df_long.merge(sell_prices, on=[\"item_id\", \"store_id\", \"wm_yr_wk\"], how=\"left\")\n",
    "    df_long[\"dollar_sales\"] = df_long[\"sales\"] * df_long[\"sell_price\"]\n",
    "    df_long.loc[df_long.sales == 0, \"dollar_sales\"] = 0\n",
    "    df_long[\"d\"] = df_long[\"d\"].str[2:].astype(\"int\")\n",
    "    df = pd.pivot_table(df_long, values=[\"sales\", \"dollar_sales\"], index=[\"d\"], columns=[\"unique_id\"])\n",
    "    sales_arr = df[\"sales\"].to_numpy().T\n",
    "    dollar_sales_arr = df[\"dollar_sales\"].to_numpy().T\n",
    "\n",
    "    filepath = Path(\"../data/processed/bottom_sales_arr.npy\")\n",
    "    np.save(filepath, sales_arr)\n",
    "    print(f\"Data written to {filepath}\")\n",
    "    \n",
    "    filepath = Path(\"../data/processed/bottom_dollar_sales_arr.npy\")\n",
    "    np.save(filepath, dollar_sales_arr)\n",
    "    print(f\"Data written to {filepath}\")\n",
    "\n",
    "    filepath = Path(\"../data/processed/hierarchy.csv\")\n",
    "    hierarchy_df.to_csv(filepath, index=False)\n",
    "    print(f\"Data written to {filepath}\")\n",
    "    \n",
    "    return sales_arr, dollar_sales_arr, hierarchy_df"
   ]
  },
  {
   "cell_type": "code",
   "execution_count": null,
   "id": "d9f4e0d6",
   "metadata": {},
   "outputs": [],
   "source": [
    "bottom_sales_arr, bottom_dollar_sales_arr, hierarchy_df = prepare_data(sales, calendar, sell_prices)"
   ]
  },
  {
   "cell_type": "markdown",
   "id": "b88584e4",
   "metadata": {},
   "source": [
    "## Build S matrix"
   ]
  },
  {
   "cell_type": "code",
   "execution_count": null,
   "id": "373bfd31",
   "metadata": {},
   "outputs": [],
   "source": [
    "hierarchy_df = pd.read_csv(\"../data/processed/hierarchy.csv\")\n",
    "hierarchy_df.head()"
   ]
  },
  {
   "cell_type": "code",
   "execution_count": null,
   "id": "bdc0d422",
   "metadata": {},
   "outputs": [],
   "source": [
    "agg_levels = (\n",
    "    tuple([\"TOTAL\"]),\n",
    "    tuple(['state_id']),\n",
    "    tuple(['store_id']),\n",
    "    tuple(['cat_id']),\n",
    "    tuple(['dept_id']),\n",
    "    tuple(['state_id', 'cat_id']),\n",
    "    tuple(['state_id', 'dept_id']),\n",
    "    tuple(['store_id', 'cat_id']),\n",
    "    tuple(['store_id', 'dept_id']),\n",
    "    tuple(['item_id']),\n",
    "    tuple(['item_id', 'state_id']),\n",
    "    tuple(['item_id', 'store_id']),\n",
    ")"
   ]
  },
  {
   "cell_type": "code",
   "execution_count": null,
   "id": "f442384d",
   "metadata": {},
   "outputs": [],
   "source": [
    "def generate_Smatrix(hierarchy_df, agg_levels, sparse=True):\n",
    "    arr = np.array\n",
    "    eye = np.eye\n",
    "    stack = np.row_stack\n",
    "    \n",
    "    if sparse:\n",
    "        arr = sp.sparse.csr_array\n",
    "        eye = sp.sparse.eye\n",
    "        stack = sp.sparse.vstack\n",
    "\n",
    "    def build_row(hierarchy_df, level, comb):\n",
    "        row = (hierarchy_df.loc[:, level] == comb).apply(lambda x: all(x), axis=1).astype(\"int16\")\n",
    "        return row\n",
    "    \n",
    "    top_row = np.ones(len(hierarchy_df))\n",
    "    S_rows = [top_row]\n",
    "\n",
    "    for level in agg_levels[1:-1]:\n",
    "        print(level)\n",
    "        combinations = hierarchy_df.loc[:, level].drop_duplicates().to_numpy()\n",
    "        rows = Parallel(n_jobs=8)(\n",
    "            delayed(build_row)(hierarchy_df, level, comb) for comb in combinations\n",
    "        )\n",
    "        S_rows.extend(rows)\n",
    "\n",
    "    S_top = arr(S_rows)\n",
    "    S_bottom = eye(len(hierarchy_df))\n",
    "    S = stack([S_top, S_bottom])\n",
    "    \n",
    "    filepath = Path(\"../data/processed/S.npz\")\n",
    "    sp.sparse.save_npz(filepath, S)\n",
    "    print(f\"Data written to {filepath}\")\n",
    "    return S"
   ]
  },
  {
   "cell_type": "code",
   "execution_count": null,
   "id": "40aa796c",
   "metadata": {},
   "outputs": [],
   "source": [
    "S = generate_Smatrix(hierarchy_df, agg_levels)"
   ]
  },
  {
   "cell_type": "markdown",
   "id": "e087ac4e",
   "metadata": {},
   "source": [
    "## Generate all the timeseries from the hierarchy"
   ]
  },
  {
   "cell_type": "code",
   "execution_count": null,
   "id": "1e6674d7",
   "metadata": {},
   "outputs": [],
   "source": [
    "bottom_sales_arr = np.load(\"../data/processed/bottom_sales_arr.npy\")\n",
    "bottom_dollar_sales_arr = np.load(\"../data/processed/bottom_dollar_sales_arr.npy\")\n",
    "S = sp.sparse.load_npz(\"../data/processed/S.npz\")"
   ]
  },
  {
   "cell_type": "code",
   "execution_count": null,
   "id": "c0f118df",
   "metadata": {},
   "outputs": [],
   "source": [
    "def generate_Ymatrix(S, bottom_sales_arr, bottom_dollar_sales_arr):\n",
    "    sales_arr = S @ bottom_sales_arr\n",
    "    dollar_sales_arr = S @ bottom_dollar_sales_arr\n",
    "\n",
    "    filepath = Path(\"../data/processed/sales_arr.npy\")\n",
    "    np.save(filepath, sales_arr)\n",
    "    print(f\"Data written to {filepath}\")\n",
    "\n",
    "    filepath = Path(\"../data/processed/dollar_sales_arr.npy\")\n",
    "    np.save(filepath, dollar_sales_arr)\n",
    "    print(f\"Data written to {filepath}\")\n",
    "\n",
    "    return sales_arr, dollar_sales_arr"
   ]
  },
  {
   "cell_type": "code",
   "execution_count": null,
   "id": "a3ddbebb",
   "metadata": {},
   "outputs": [],
   "source": [
    "sales_arr, dollar_sales_arr = generate_Ymatrix(S, bottom_sales_arr, bottom_dollar_sales_arr)"
   ]
  },
  {
   "cell_type": "markdown",
   "id": "554a1019",
   "metadata": {},
   "source": [
    "## Create panel data"
   ]
  },
  {
   "cell_type": "code",
   "execution_count": 3,
   "id": "c313b572",
   "metadata": {},
   "outputs": [],
   "source": [
    "sales_arr = np.load(\"../data/processed/sales_arr.npy\")\n",
    "calendar = pd.read_csv(\"../data/calendar.csv\", parse_dates=[\"date\"])"
   ]
  },
  {
   "cell_type": "code",
   "execution_count": 4,
   "id": "96cb470c",
   "metadata": {},
   "outputs": [],
   "source": [
    "def generate_panel_df(sales_arr, calendar):\n",
    "    y_df_list = []\n",
    "    for i in tqdm(range(sales_arr.shape[0])):\n",
    "        y = sales_arr[i, :]\n",
    "        y_df = pd.DataFrame(y, index=range(len(y)), columns=[\"y\"])\n",
    "        y_df = pd.merge(y_df, calendar[\"date\"], left_index=True, right_index=True, how=\"left\")\n",
    "        y_df.insert(0, \"unique_id\", i)\n",
    "        y_df_list.append(y_df)\n",
    "    panel_df = pd.concat(y_df_list)\n",
    "    panel_df = panel_df.rename(columns={\"date\": \"ds\"})\n",
    "\n",
    "    filepath = Path(\"../data/processed/panel_df.parquet\")\n",
    "    panel_df.to_parquet(filepath)\n",
    "    print(f\"Data written to {filepath}\")\n",
    "\n",
    "    return panel_df"
   ]
  },
  {
   "cell_type": "code",
   "execution_count": 5,
   "id": "28fd5f9b",
   "metadata": {},
   "outputs": [
    {
     "name": "stderr",
     "output_type": "stream",
     "text": [
      "100%|██████████| 42840/42840 [00:35<00:00, 1219.13it/s]\n"
     ]
    },
    {
     "name": "stdout",
     "output_type": "stream",
     "text": [
      "Data written to ../data/processed/panel_df.parquet\n"
     ]
    }
   ],
   "source": [
    "panel_df = generate_panel_df(sales_arr, calendar)"
   ]
  },
  {
   "cell_type": "code",
   "execution_count": 6,
   "id": "c812e46d",
   "metadata": {},
   "outputs": [
    {
     "data": {
      "text/html": [
       "<div>\n",
       "<style scoped>\n",
       "    .dataframe tbody tr th:only-of-type {\n",
       "        vertical-align: middle;\n",
       "    }\n",
       "\n",
       "    .dataframe tbody tr th {\n",
       "        vertical-align: top;\n",
       "    }\n",
       "\n",
       "    .dataframe thead th {\n",
       "        text-align: right;\n",
       "    }\n",
       "</style>\n",
       "<table border=\"1\" class=\"dataframe\">\n",
       "  <thead>\n",
       "    <tr style=\"text-align: right;\">\n",
       "      <th></th>\n",
       "      <th>unique_id</th>\n",
       "      <th>y</th>\n",
       "      <th>ds</th>\n",
       "    </tr>\n",
       "  </thead>\n",
       "  <tbody>\n",
       "    <tr>\n",
       "      <th>0</th>\n",
       "      <td>0</td>\n",
       "      <td>32631.0</td>\n",
       "      <td>2011-01-29</td>\n",
       "    </tr>\n",
       "    <tr>\n",
       "      <th>1</th>\n",
       "      <td>0</td>\n",
       "      <td>31749.0</td>\n",
       "      <td>2011-01-30</td>\n",
       "    </tr>\n",
       "    <tr>\n",
       "      <th>2</th>\n",
       "      <td>0</td>\n",
       "      <td>23783.0</td>\n",
       "      <td>2011-01-31</td>\n",
       "    </tr>\n",
       "    <tr>\n",
       "      <th>3</th>\n",
       "      <td>0</td>\n",
       "      <td>25412.0</td>\n",
       "      <td>2011-02-01</td>\n",
       "    </tr>\n",
       "    <tr>\n",
       "      <th>4</th>\n",
       "      <td>0</td>\n",
       "      <td>19146.0</td>\n",
       "      <td>2011-02-02</td>\n",
       "    </tr>\n",
       "  </tbody>\n",
       "</table>\n",
       "</div>"
      ],
      "text/plain": [
       "   unique_id        y         ds\n",
       "0          0  32631.0 2011-01-29\n",
       "1          0  31749.0 2011-01-30\n",
       "2          0  23783.0 2011-01-31\n",
       "3          0  25412.0 2011-02-01\n",
       "4          0  19146.0 2011-02-02"
      ]
     },
     "execution_count": 6,
     "metadata": {},
     "output_type": "execute_result"
    }
   ],
   "source": [
    "panel_df.head()"
   ]
  },
  {
   "cell_type": "markdown",
   "id": "2ad98be9",
   "metadata": {},
   "source": [
    "## Forecast"
   ]
  },
  {
   "cell_type": "code",
   "execution_count": 7,
   "id": "f4dc396e",
   "metadata": {},
   "outputs": [],
   "source": [
    "panel_df = pd.read_parquet(\"../data/processed/panel_df.parquet\")"
   ]
  },
  {
   "cell_type": "code",
   "execution_count": 9,
   "id": "808a6ee6",
   "metadata": {},
   "outputs": [],
   "source": [
    "train_df = panel_df[panel_df.ds <= \"2016-04-24\"]\n",
    "test_df = panel_df[panel_df.ds > \"2016-04-24\"]"
   ]
  },
  {
   "cell_type": "code",
   "execution_count": 11,
   "id": "4e83be51",
   "metadata": {},
   "outputs": [
    {
     "data": {
      "text/html": [
       "<div>\n",
       "<style scoped>\n",
       "    .dataframe tbody tr th:only-of-type {\n",
       "        vertical-align: middle;\n",
       "    }\n",
       "\n",
       "    .dataframe tbody tr th {\n",
       "        vertical-align: top;\n",
       "    }\n",
       "\n",
       "    .dataframe thead th {\n",
       "        text-align: right;\n",
       "    }\n",
       "</style>\n",
       "<table border=\"1\" class=\"dataframe\">\n",
       "  <thead>\n",
       "    <tr style=\"text-align: right;\">\n",
       "      <th></th>\n",
       "      <th>unique_id</th>\n",
       "      <th>y</th>\n",
       "      <th>ds</th>\n",
       "    </tr>\n",
       "  </thead>\n",
       "  <tbody>\n",
       "    <tr>\n",
       "      <th>0</th>\n",
       "      <td>0</td>\n",
       "      <td>32631.0</td>\n",
       "      <td>2011-01-29</td>\n",
       "    </tr>\n",
       "    <tr>\n",
       "      <th>1</th>\n",
       "      <td>0</td>\n",
       "      <td>31749.0</td>\n",
       "      <td>2011-01-30</td>\n",
       "    </tr>\n",
       "    <tr>\n",
       "      <th>2</th>\n",
       "      <td>0</td>\n",
       "      <td>23783.0</td>\n",
       "      <td>2011-01-31</td>\n",
       "    </tr>\n",
       "    <tr>\n",
       "      <th>3</th>\n",
       "      <td>0</td>\n",
       "      <td>25412.0</td>\n",
       "      <td>2011-02-01</td>\n",
       "    </tr>\n",
       "    <tr>\n",
       "      <th>4</th>\n",
       "      <td>0</td>\n",
       "      <td>19146.0</td>\n",
       "      <td>2011-02-02</td>\n",
       "    </tr>\n",
       "    <tr>\n",
       "      <th>...</th>\n",
       "      <td>...</td>\n",
       "      <td>...</td>\n",
       "      <td>...</td>\n",
       "    </tr>\n",
       "    <tr>\n",
       "      <th>1908</th>\n",
       "      <td>42839</td>\n",
       "      <td>0.0</td>\n",
       "      <td>2016-04-20</td>\n",
       "    </tr>\n",
       "    <tr>\n",
       "      <th>1909</th>\n",
       "      <td>42839</td>\n",
       "      <td>0.0</td>\n",
       "      <td>2016-04-21</td>\n",
       "    </tr>\n",
       "    <tr>\n",
       "      <th>1910</th>\n",
       "      <td>42839</td>\n",
       "      <td>0.0</td>\n",
       "      <td>2016-04-22</td>\n",
       "    </tr>\n",
       "    <tr>\n",
       "      <th>1911</th>\n",
       "      <td>42839</td>\n",
       "      <td>0.0</td>\n",
       "      <td>2016-04-23</td>\n",
       "    </tr>\n",
       "    <tr>\n",
       "      <th>1912</th>\n",
       "      <td>42839</td>\n",
       "      <td>0.0</td>\n",
       "      <td>2016-04-24</td>\n",
       "    </tr>\n",
       "  </tbody>\n",
       "</table>\n",
       "<p>81952920 rows × 3 columns</p>\n",
       "</div>"
      ],
      "text/plain": [
       "      unique_id        y         ds\n",
       "0             0  32631.0 2011-01-29\n",
       "1             0  31749.0 2011-01-30\n",
       "2             0  23783.0 2011-01-31\n",
       "3             0  25412.0 2011-02-01\n",
       "4             0  19146.0 2011-02-02\n",
       "...         ...      ...        ...\n",
       "1908      42839      0.0 2016-04-20\n",
       "1909      42839      0.0 2016-04-21\n",
       "1910      42839      0.0 2016-04-22\n",
       "1911      42839      0.0 2016-04-23\n",
       "1912      42839      0.0 2016-04-24\n",
       "\n",
       "[81952920 rows x 3 columns]"
      ]
     },
     "execution_count": 11,
     "metadata": {},
     "output_type": "execute_result"
    }
   ],
   "source": [
    "train_df"
   ]
  },
  {
   "cell_type": "code",
   "execution_count": 13,
   "id": "74219bff",
   "metadata": {},
   "outputs": [
    {
     "data": {
      "text/html": [
       "<div>\n",
       "<style scoped>\n",
       "    .dataframe tbody tr th:only-of-type {\n",
       "        vertical-align: middle;\n",
       "    }\n",
       "\n",
       "    .dataframe tbody tr th {\n",
       "        vertical-align: top;\n",
       "    }\n",
       "\n",
       "    .dataframe thead th {\n",
       "        text-align: right;\n",
       "    }\n",
       "</style>\n",
       "<table border=\"1\" class=\"dataframe\">\n",
       "  <thead>\n",
       "    <tr style=\"text-align: right;\">\n",
       "      <th></th>\n",
       "      <th>unique_id</th>\n",
       "      <th>y</th>\n",
       "      <th>ds</th>\n",
       "    </tr>\n",
       "  </thead>\n",
       "  <tbody>\n",
       "    <tr>\n",
       "      <th>1913</th>\n",
       "      <td>0</td>\n",
       "      <td>38793.0</td>\n",
       "      <td>2016-04-25</td>\n",
       "    </tr>\n",
       "    <tr>\n",
       "      <th>1914</th>\n",
       "      <td>0</td>\n",
       "      <td>35487.0</td>\n",
       "      <td>2016-04-26</td>\n",
       "    </tr>\n",
       "    <tr>\n",
       "      <th>1915</th>\n",
       "      <td>0</td>\n",
       "      <td>34445.0</td>\n",
       "      <td>2016-04-27</td>\n",
       "    </tr>\n",
       "    <tr>\n",
       "      <th>1916</th>\n",
       "      <td>0</td>\n",
       "      <td>34732.0</td>\n",
       "      <td>2016-04-28</td>\n",
       "    </tr>\n",
       "    <tr>\n",
       "      <th>1917</th>\n",
       "      <td>0</td>\n",
       "      <td>42896.0</td>\n",
       "      <td>2016-04-29</td>\n",
       "    </tr>\n",
       "    <tr>\n",
       "      <th>...</th>\n",
       "      <td>...</td>\n",
       "      <td>...</td>\n",
       "      <td>...</td>\n",
       "    </tr>\n",
       "    <tr>\n",
       "      <th>1936</th>\n",
       "      <td>42839</td>\n",
       "      <td>0.0</td>\n",
       "      <td>2016-05-18</td>\n",
       "    </tr>\n",
       "    <tr>\n",
       "      <th>1937</th>\n",
       "      <td>42839</td>\n",
       "      <td>2.0</td>\n",
       "      <td>2016-05-19</td>\n",
       "    </tr>\n",
       "    <tr>\n",
       "      <th>1938</th>\n",
       "      <td>42839</td>\n",
       "      <td>2.0</td>\n",
       "      <td>2016-05-20</td>\n",
       "    </tr>\n",
       "    <tr>\n",
       "      <th>1939</th>\n",
       "      <td>42839</td>\n",
       "      <td>5.0</td>\n",
       "      <td>2016-05-21</td>\n",
       "    </tr>\n",
       "    <tr>\n",
       "      <th>1940</th>\n",
       "      <td>42839</td>\n",
       "      <td>1.0</td>\n",
       "      <td>2016-05-22</td>\n",
       "    </tr>\n",
       "  </tbody>\n",
       "</table>\n",
       "<p>1199520 rows × 3 columns</p>\n",
       "</div>"
      ],
      "text/plain": [
       "      unique_id        y         ds\n",
       "1913          0  38793.0 2016-04-25\n",
       "1914          0  35487.0 2016-04-26\n",
       "1915          0  34445.0 2016-04-27\n",
       "1916          0  34732.0 2016-04-28\n",
       "1917          0  42896.0 2016-04-29\n",
       "...         ...      ...        ...\n",
       "1936      42839      0.0 2016-05-18\n",
       "1937      42839      2.0 2016-05-19\n",
       "1938      42839      2.0 2016-05-20\n",
       "1939      42839      5.0 2016-05-21\n",
       "1940      42839      1.0 2016-05-22\n",
       "\n",
       "[1199520 rows x 3 columns]"
      ]
     },
     "execution_count": 13,
     "metadata": {},
     "output_type": "execute_result"
    }
   ],
   "source": [
    "test_df"
   ]
  },
  {
   "cell_type": "code",
   "execution_count": 14,
   "id": "46ac7cd6",
   "metadata": {},
   "outputs": [],
   "source": [
    "def generate_forecasts(panel_df, models):\n",
    "    models = [\n",
    "        ETS(season_length=7, model='ZZA'),\n",
    "        AutoARIMA()\n",
    "    ]\n",
    "\n",
    "    model = StatsForecast(\n",
    "        df=panel_df, \n",
    "        models=models,\n",
    "        freq='D', \n",
    "        n_jobs=-1,\n",
    "    )\n",
    "\n",
    "    fcst_df = model.forecast(28).reset_index()\n",
    "\n",
    "    filepath = \"../fcst/fcst_df.csv\"\n",
    "    fcst_df.to_csv(filepath)\n",
    "    print(f\"Data written to {filepath}\")\n",
    "    return fcst_df"
   ]
  },
  {
   "cell_type": "code",
   "execution_count": 17,
   "id": "e1444a59",
   "metadata": {},
   "outputs": [],
   "source": [
    "models = [\n",
    "    ETS(season_length=7, model='ZZA'),\n",
    "    AutoARIMA()\n",
    "]\n",
    "\n",
    "fcst_df = generate_forecasts(train_df, models)\n",
    "fcst_df.reset_index()"
   ]
  },
  {
   "cell_type": "code",
   "execution_count": null,
   "id": "afb7817d",
   "metadata": {},
   "outputs": [],
   "source": [
    "i = 0\n",
    "test_df.loc[test_df.unique_id == i].set_index(\"ds\")[\"y\"].plot()\n",
    "fcst_df.loc[fcst_df.unique_id == i].set_index(\"ds\")[\"ETS\"].plot()\n",
    "fcst_df.loc[fcst_df.unique_id == i].set_index(\"ds\")[\"AutoARIMA\"].plot()"
   ]
  },
  {
   "cell_type": "code",
   "execution_count": null,
   "id": "8f819db5",
   "metadata": {},
   "outputs": [],
   "source": []
  }
 ],
 "metadata": {
  "kernelspec": {
   "display_name": "Python 3.10.6 ('forecasting')",
   "language": "python",
   "name": "python3"
  },
  "language_info": {
   "codemirror_mode": {
    "name": "ipython",
    "version": 3
   },
   "file_extension": ".py",
   "mimetype": "text/x-python",
   "name": "python",
   "nbconvert_exporter": "python",
   "pygments_lexer": "ipython3",
   "version": "3.10.6"
  },
  "vscode": {
   "interpreter": {
    "hash": "bd41d9743e1e42bb253cce585c0d50fe0bafd7f8987a0dd4ec647801d8d44c5f"
   }
  }
 },
 "nbformat": 4,
 "nbformat_minor": 5
}
