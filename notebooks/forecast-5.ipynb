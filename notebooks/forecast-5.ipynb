{
 "cells": [
  {
   "cell_type": "markdown",
   "id": "2e97f892-e21b-412e-9d7c-0401cd572d32",
   "metadata": {
    "papermill": {
     "duration": 0.013217,
     "end_time": "2021-10-14T00:32:09.733271",
     "exception": false,
     "start_time": "2021-10-14T00:32:09.720054",
     "status": "completed"
    },
    "tags": []
   },
   "source": [
    "# Forecast"
   ]
  },
  {
   "cell_type": "markdown",
   "id": "db01a074-52df-475b-a54a-a754b84f2251",
   "metadata": {
    "papermill": {
     "duration": 0.00545,
     "end_time": "2021-10-14T00:32:09.746041",
     "exception": false,
     "start_time": "2021-10-14T00:32:09.740591",
     "status": "completed"
    },
    "tags": []
   },
   "source": [
    "## Setup"
   ]
  },
  {
   "cell_type": "code",
   "execution_count": 1,
   "id": "fb6ab9fc-2b2d-4c69-bccf-13a545604b52",
   "metadata": {
    "execution": {
     "iopub.execute_input": "2021-10-14T00:32:09.763027Z",
     "iopub.status.busy": "2021-10-14T00:32:09.762692Z",
     "iopub.status.idle": "2021-10-14T00:32:09.770038Z",
     "shell.execute_reply": "2021-10-14T00:32:09.770315Z"
    },
    "papermill": {
     "duration": 0.019453,
     "end_time": "2021-10-14T00:32:09.770466",
     "exception": false,
     "start_time": "2021-10-14T00:32:09.751013",
     "status": "completed"
    },
    "tags": []
   },
   "outputs": [],
   "source": [
    "%load_ext autoreload\n",
    "%autoreload 2"
   ]
  },
  {
   "cell_type": "code",
   "execution_count": 2,
   "id": "372f5539-cb1b-4dd8-8d3d-2d9506e3d476",
   "metadata": {
    "execution": {
     "iopub.execute_input": "2021-10-14T00:32:09.788577Z",
     "iopub.status.busy": "2021-10-14T00:32:09.788113Z",
     "iopub.status.idle": "2021-10-14T00:32:10.634284Z",
     "shell.execute_reply": "2021-10-14T00:32:10.634029Z"
    },
    "papermill": {
     "duration": 0.857043,
     "end_time": "2021-10-14T00:32:10.634356",
     "exception": false,
     "start_time": "2021-10-14T00:32:09.777313",
     "status": "completed"
    },
    "tags": []
   },
   "outputs": [],
   "source": [
    "import sys\n",
    "sys.path.append(\"..\")\n",
    "\n",
    "# Libraries\n",
    "import pandas as pd\n",
    "import numpy as np\n",
    "import matplotlib.pyplot as plt\n",
    "\n",
    "import m5.config as cfg\n",
    "from m5.model import train, predict\n",
    "from m5.evaluate import accuracy\n",
    "from m5.plot import plot_fcst\n",
    "\n",
    "# Library settings\n",
    "pd.options.display.max_columns = 999\n",
    "plt.rcParams[\"figure.figsize\"] = (14, 4)"
   ]
  },
  {
   "cell_type": "markdown",
   "id": "d9d6177b-3189-4b70-9542-ca825a007af1",
   "metadata": {
    "papermill": {
     "duration": 0.005698,
     "end_time": "2021-10-14T00:32:10.645937",
     "exception": false,
     "start_time": "2021-10-14T00:32:10.640239",
     "status": "completed"
    },
    "tags": []
   },
   "source": [
    "## Parameters"
   ]
  },
  {
   "cell_type": "code",
   "execution_count": 3,
   "id": "ca52ac99-bbcd-4bdd-9b6c-a8cc8e448eb2",
   "metadata": {
    "execution": {
     "iopub.execute_input": "2021-10-14T00:32:10.661270Z",
     "iopub.status.busy": "2021-10-14T00:32:10.660955Z",
     "iopub.status.idle": "2021-10-14T00:32:10.672437Z",
     "shell.execute_reply": "2021-10-14T00:32:10.672134Z"
    },
    "papermill": {
     "duration": 0.021454,
     "end_time": "2021-10-14T00:32:10.672507",
     "exception": false,
     "start_time": "2021-10-14T00:32:10.651053",
     "status": "completed"
    },
    "tags": [
     "parameters"
    ]
   },
   "outputs": [],
   "source": [
    "level = 1"
   ]
  },
  {
   "cell_type": "code",
   "execution_count": 4,
   "id": "d1a18714",
   "metadata": {
    "execution": {
     "iopub.execute_input": "2021-10-14T00:32:10.685490Z",
     "iopub.status.busy": "2021-10-14T00:32:10.685123Z",
     "iopub.status.idle": "2021-10-14T00:32:10.696184Z",
     "shell.execute_reply": "2021-10-14T00:32:10.695926Z"
    },
    "papermill": {
     "duration": 0.018543,
     "end_time": "2021-10-14T00:32:10.696252",
     "exception": false,
     "start_time": "2021-10-14T00:32:10.677709",
     "status": "completed"
    },
    "tags": [
     "injected-parameters"
    ]
   },
   "outputs": [],
   "source": [
    "# Parameters\n",
    "level = 5\n"
   ]
  },
  {
   "cell_type": "markdown",
   "id": "5e8ebb71-583a-4cd1-b60e-7006ebc85e82",
   "metadata": {
    "papermill": {
     "duration": 0.005643,
     "end_time": "2021-10-14T00:32:10.707264",
     "exception": false,
     "start_time": "2021-10-14T00:32:10.701621",
     "status": "completed"
    },
    "tags": []
   },
   "source": [
    "## Train"
   ]
  },
  {
   "cell_type": "code",
   "execution_count": 5,
   "id": "a462d470-398d-4f64-927f-7d9a0538508b",
   "metadata": {
    "execution": {
     "iopub.execute_input": "2021-10-14T00:32:10.725444Z",
     "iopub.status.busy": "2021-10-14T00:32:10.725112Z",
     "iopub.status.idle": "2021-10-14T00:32:10.735060Z",
     "shell.execute_reply": "2021-10-14T00:32:10.734782Z"
    },
    "papermill": {
     "duration": 0.022433,
     "end_time": "2021-10-14T00:32:10.735146",
     "exception": false,
     "start_time": "2021-10-14T00:32:10.712713",
     "status": "completed"
    },
    "tags": []
   },
   "outputs": [],
   "source": [
    "params = {\n",
    "    \"task\": \"train\",\n",
    "    \"objective\": \"tweedie\",\n",
    "    \"num_iterations\": 1000,\n",
    "    \"learning_rate\": 0.1,\n",
    "    \"num_leaves\": 31,\n",
    "    \"num_threads\": 4,\n",
    "    \"early_stopping_round\": 100,\n",
    "}"
   ]
  },
  {
   "cell_type": "code",
   "execution_count": 6,
   "id": "1a9cdb58-c9eb-4839-b1c6-5e6d44b4a36a",
   "metadata": {
    "execution": {
     "iopub.execute_input": "2021-10-14T00:32:10.749959Z",
     "iopub.status.busy": "2021-10-14T00:32:10.749639Z",
     "iopub.status.idle": "2021-10-14T00:32:11.037922Z",
     "shell.execute_reply": "2021-10-14T00:32:11.038340Z"
    },
    "papermill": {
     "duration": 0.297513,
     "end_time": "2021-10-14T00:32:11.038480",
     "exception": false,
     "start_time": "2021-10-14T00:32:10.740967",
     "status": "completed"
    },
    "tags": []
   },
   "outputs": [
    {
     "name": "stdout",
     "output_type": "stream",
     "text": [
      "Training model...\n",
      "[LightGBM] [Info] Load from binary file /home/ariel/Playground/m5-forecasting/data/processed/datasets/5/train.bin\n",
      "[LightGBM] [Warning] Auto-choosing col-wise multi-threading, the overhead of testing was 0.001129 seconds.\n",
      "You can set `force_col_wise=true` to remove the overhead.\n",
      "[LightGBM] [Info] Total Bins 5486\n",
      "[LightGBM] [Info] Number of data points in the train set: 12908, number of used features: 26\n",
      "[LightGBM] [Info] Start training from score 8.500108\n",
      "[1]\tvalid_0's tweedie: 306.542\n",
      "Training until validation scores don't improve for 100 rounds\n",
      "[2]\tvalid_0's tweedie: 301.498\n",
      "[3]\tvalid_0's tweedie: 297.227\n",
      "[4]\tvalid_0's tweedie: 293.591\n",
      "[5]\tvalid_0's tweedie: 290.542\n",
      "[6]\tvalid_0's tweedie: 288.002\n",
      "[7]\tvalid_0's tweedie: 285.864\n",
      "[8]\tvalid_0's tweedie: 284.096\n",
      "[9]\tvalid_0's tweedie: 282.626\n",
      "[10]\tvalid_0's tweedie: 281.434\n",
      "[11]\tvalid_0's tweedie: 280.454\n",
      "[12]\tvalid_0's tweedie: 279.606\n",
      "[13]\tvalid_0's tweedie: 278.938\n",
      "[14]\tvalid_0's tweedie: 278.408\n",
      "[15]\tvalid_0's tweedie: 277.969\n",
      "[16]\tvalid_0's tweedie: 277.608\n",
      "[17]\tvalid_0's tweedie: 277.303\n",
      "[18]\tvalid_0's tweedie: 277.045\n",
      "[19]\tvalid_0's tweedie: 276.841\n",
      "[20]\tvalid_0's tweedie: 276.677\n",
      "[21]\tvalid_0's tweedie: 276.548\n",
      "[22]\tvalid_0's tweedie: 276.446\n",
      "[23]\tvalid_0's tweedie: 276.353\n",
      "[24]\tvalid_0's tweedie: 276.279\n",
      "[25]\tvalid_0's tweedie: 276.219\n",
      "[26]\tvalid_0's tweedie: 276.17\n",
      "[27]\tvalid_0's tweedie: 276.133\n",
      "[28]\tvalid_0's tweedie: 276.097\n",
      "[29]\tvalid_0's tweedie: 276.074\n",
      "[30]\tvalid_0's tweedie: 276.05\n",
      "[31]\tvalid_0's tweedie: 276.034\n",
      "[32]\tvalid_0's tweedie: 276.015\n",
      "[33]\tvalid_0's tweedie: 275.997\n",
      "[34]\tvalid_0's tweedie: 275.983\n",
      "[35]\tvalid_0's tweedie: 275.977\n",
      "[36]\tvalid_0's tweedie: 275.967\n",
      "[37]\tvalid_0's tweedie: 275.956\n",
      "[38]\tvalid_0's tweedie: 275.95\n",
      "[39]\tvalid_0's tweedie: 275.945\n",
      "[40]\tvalid_0's tweedie: 275.938\n",
      "[41]\tvalid_0's tweedie: 275.931\n",
      "[42]\tvalid_0's tweedie: 275.928\n",
      "[43]\tvalid_0's tweedie: 275.918\n",
      "[44]\tvalid_0's tweedie: 275.914\n",
      "[45]\tvalid_0's tweedie: 275.91\n",
      "[46]\tvalid_0's tweedie: 275.907\n",
      "[47]\tvalid_0's tweedie: 275.899\n",
      "[48]\tvalid_0's tweedie: 275.894\n",
      "[49]\tvalid_0's tweedie: 275.894\n",
      "[50]\tvalid_0's tweedie: 275.891\n",
      "[51]\tvalid_0's tweedie: 275.886\n",
      "[52]\tvalid_0's tweedie: 275.884\n",
      "[53]\tvalid_0's tweedie: 275.88\n",
      "[54]\tvalid_0's tweedie: 275.879\n",
      "[55]\tvalid_0's tweedie: 275.877\n",
      "[56]\tvalid_0's tweedie: 275.876\n",
      "[57]\tvalid_0's tweedie: 275.874\n",
      "[58]\tvalid_0's tweedie: 275.871\n",
      "[59]\tvalid_0's tweedie: 275.869\n",
      "[60]\tvalid_0's tweedie: 275.868\n",
      "[61]\tvalid_0's tweedie: 275.866\n",
      "[62]\tvalid_0's tweedie: 275.864\n",
      "[63]\tvalid_0's tweedie: 275.864\n",
      "[64]\tvalid_0's tweedie: 275.862\n",
      "[65]\tvalid_0's tweedie: 275.861\n",
      "[66]\tvalid_0's tweedie: 275.86\n",
      "[67]\tvalid_0's tweedie: 275.859\n",
      "[68]\tvalid_0's tweedie: 275.856\n",
      "[69]\tvalid_0's tweedie: 275.855\n",
      "[70]\tvalid_0's tweedie: 275.853\n",
      "[71]\tvalid_0's tweedie: 275.853\n",
      "[72]\tvalid_0's tweedie: 275.852\n",
      "[73]\tvalid_0's tweedie: 275.851\n",
      "[74]\tvalid_0's tweedie: 275.852\n",
      "[75]\tvalid_0's tweedie: 275.852\n",
      "[76]\tvalid_0's tweedie: 275.853\n",
      "[77]\tvalid_0's tweedie: 275.852\n",
      "[78]\tvalid_0's tweedie: 275.851\n",
      "[79]\tvalid_0's tweedie: 275.851\n",
      "[80]\tvalid_0's tweedie: 275.851\n",
      "[81]\tvalid_0's tweedie: 275.85\n",
      "[82]\tvalid_0's tweedie: 275.85\n",
      "[83]\tvalid_0's tweedie: 275.849\n",
      "[84]\tvalid_0's tweedie: 275.85\n",
      "[85]\tvalid_0's tweedie: 275.85\n",
      "[86]\tvalid_0's tweedie: 275.85\n",
      "[87]\tvalid_0's tweedie: 275.85\n",
      "[88]\tvalid_0's tweedie: 275.85\n",
      "[89]\tvalid_0's tweedie: 275.85\n",
      "[90]\tvalid_0's tweedie: 275.85\n",
      "[91]\tvalid_0's tweedie: 275.85\n",
      "[92]\tvalid_0's tweedie: 275.85\n",
      "[93]\tvalid_0's tweedie: 275.849\n",
      "[94]\tvalid_0's tweedie: 275.85\n",
      "[95]\tvalid_0's tweedie: 275.849\n",
      "[96]\tvalid_0's tweedie: 275.849\n",
      "[97]\tvalid_0's tweedie: 275.848\n",
      "[98]\tvalid_0's tweedie: 275.848\n",
      "[99]\tvalid_0's tweedie: 275.848\n",
      "[100]\tvalid_0's tweedie: 275.847\n",
      "[101]\tvalid_0's tweedie: 275.847\n",
      "[102]\tvalid_0's tweedie: 275.847\n",
      "[103]\tvalid_0's tweedie: 275.848\n",
      "[104]\tvalid_0's tweedie: 275.848\n",
      "[105]\tvalid_0's tweedie: 275.847\n",
      "[106]\tvalid_0's tweedie: 275.847\n",
      "[107]\tvalid_0's tweedie: 275.847\n",
      "[108]\tvalid_0's tweedie: 275.847\n",
      "[109]\tvalid_0's tweedie: 275.847\n",
      "[110]\tvalid_0's tweedie: 275.848\n",
      "[111]\tvalid_0's tweedie: 275.848\n",
      "[112]\tvalid_0's tweedie: 275.848\n",
      "[113]\tvalid_0's tweedie: 275.848\n",
      "[114]\tvalid_0's tweedie: 275.847\n",
      "[115]\tvalid_0's tweedie: 275.847\n",
      "[116]\tvalid_0's tweedie: 275.848\n",
      "[117]\tvalid_0's tweedie: 275.847\n",
      "[118]\tvalid_0's tweedie: 275.847\n",
      "[119]\tvalid_0's tweedie: 275.846\n",
      "[120]\tvalid_0's tweedie: 275.846\n",
      "[121]\tvalid_0's tweedie: 275.847\n",
      "[122]\tvalid_0's tweedie: 275.847\n",
      "[123]\tvalid_0's tweedie: 275.847\n",
      "[124]\tvalid_0's tweedie: 275.847\n",
      "[125]\tvalid_0's tweedie: 275.847\n",
      "[126]\tvalid_0's tweedie: 275.847\n",
      "[127]\tvalid_0's tweedie: 275.846\n",
      "[128]\tvalid_0's tweedie: 275.846\n",
      "[129]\tvalid_0's tweedie: 275.846\n",
      "[130]\tvalid_0's tweedie: 275.846\n",
      "[131]\tvalid_0's tweedie: 275.846\n",
      "[132]\tvalid_0's tweedie: 275.846\n",
      "[133]\tvalid_0's tweedie: 275.846\n",
      "[134]\tvalid_0's tweedie: 275.846\n",
      "[135]\tvalid_0's tweedie: 275.847\n",
      "[136]\tvalid_0's tweedie: 275.848\n",
      "[137]\tvalid_0's tweedie: 275.848\n",
      "[138]\tvalid_0's tweedie: 275.848\n",
      "[139]\tvalid_0's tweedie: 275.847\n",
      "[140]\tvalid_0's tweedie: 275.847\n",
      "[141]\tvalid_0's tweedie: 275.847\n",
      "[142]\tvalid_0's tweedie: 275.847\n",
      "[143]\tvalid_0's tweedie: 275.847\n",
      "[144]\tvalid_0's tweedie: 275.846\n",
      "[145]\tvalid_0's tweedie: 275.846\n",
      "[146]\tvalid_0's tweedie: 275.846\n",
      "[147]\tvalid_0's tweedie: 275.846\n",
      "[148]\tvalid_0's tweedie: 275.846\n",
      "[149]\tvalid_0's tweedie: 275.845\n",
      "[150]\tvalid_0's tweedie: 275.845\n",
      "[151]\tvalid_0's tweedie: 275.845\n",
      "[152]\tvalid_0's tweedie: 275.847\n",
      "[153]\tvalid_0's tweedie: 275.847\n",
      "[154]\tvalid_0's tweedie: 275.847\n",
      "[155]\tvalid_0's tweedie: 275.847\n",
      "[156]\tvalid_0's tweedie: 275.847\n",
      "[157]\tvalid_0's tweedie: 275.847\n",
      "[158]\tvalid_0's tweedie: 275.846\n",
      "[159]\tvalid_0's tweedie: 275.846\n",
      "[160]\tvalid_0's tweedie: 275.846\n",
      "[161]\tvalid_0's tweedie: 275.847\n",
      "[162]\tvalid_0's tweedie: 275.847\n",
      "[163]\tvalid_0's tweedie: 275.848\n",
      "[164]\tvalid_0's tweedie: 275.848\n",
      "[165]\tvalid_0's tweedie: 275.848\n",
      "[166]\tvalid_0's tweedie: 275.847\n",
      "[167]\tvalid_0's tweedie: 275.847\n",
      "[168]\tvalid_0's tweedie: 275.848\n",
      "[169]\tvalid_0's tweedie: 275.848\n",
      "[170]\tvalid_0's tweedie: 275.849\n",
      "[171]\tvalid_0's tweedie: 275.848\n",
      "[172]\tvalid_0's tweedie: 275.848\n",
      "[173]\tvalid_0's tweedie: 275.848\n",
      "[174]\tvalid_0's tweedie: 275.848\n",
      "[175]\tvalid_0's tweedie: 275.848\n",
      "[176]\tvalid_0's tweedie: 275.848\n"
     ]
    },
    {
     "name": "stderr",
     "output_type": "stream",
     "text": [
      "/home/ariel/anaconda3/envs/merlion/lib/python3.9/site-packages/lightgbm/engine.py:148: UserWarning: Found `num_iterations` in params. Will use it instead of argument\n",
      "  _log_warning(\"Found `{}` in params. Will use it instead of argument\".format(alias))\n",
      "/home/ariel/anaconda3/envs/merlion/lib/python3.9/site-packages/lightgbm/engine.py:153: UserWarning: Found `early_stopping_round` in params. Will use it instead of argument\n",
      "  _log_warning(\"Found `{}` in params. Will use it instead of argument\".format(alias))\n"
     ]
    },
    {
     "name": "stdout",
     "output_type": "stream",
     "text": [
      "[177]\tvalid_0's tweedie: 275.848\n",
      "[178]\tvalid_0's tweedie: 275.848\n",
      "[179]\tvalid_0's tweedie: 275.848\n",
      "[180]\tvalid_0's tweedie: 275.848\n",
      "[181]\tvalid_0's tweedie: 275.848\n",
      "[182]\tvalid_0's tweedie: 275.848\n",
      "[183]\tvalid_0's tweedie: 275.848\n",
      "[184]\tvalid_0's tweedie: 275.849\n",
      "[185]\tvalid_0's tweedie: 275.849\n",
      "[186]\tvalid_0's tweedie: 275.849\n",
      "[187]\tvalid_0's tweedie: 275.848\n",
      "[188]\tvalid_0's tweedie: 275.848\n",
      "[189]\tvalid_0's tweedie: 275.848\n",
      "[190]\tvalid_0's tweedie: 275.848\n",
      "[191]\tvalid_0's tweedie: 275.849\n",
      "[192]\tvalid_0's tweedie: 275.849\n",
      "[193]\tvalid_0's tweedie: 275.849\n",
      "[194]\tvalid_0's tweedie: 275.849\n",
      "[195]\tvalid_0's tweedie: 275.848\n",
      "[196]\tvalid_0's tweedie: 275.847\n",
      "[197]\tvalid_0's tweedie: 275.847\n",
      "[198]\tvalid_0's tweedie: 275.847\n",
      "[199]\tvalid_0's tweedie: 275.847\n",
      "[200]\tvalid_0's tweedie: 275.847\n",
      "[201]\tvalid_0's tweedie: 275.847\n",
      "[202]\tvalid_0's tweedie: 275.847\n",
      "[203]\tvalid_0's tweedie: 275.849\n",
      "[204]\tvalid_0's tweedie: 275.849\n",
      "[205]\tvalid_0's tweedie: 275.849\n",
      "[206]\tvalid_0's tweedie: 275.85\n",
      "[207]\tvalid_0's tweedie: 275.85\n",
      "[208]\tvalid_0's tweedie: 275.85\n",
      "[209]\tvalid_0's tweedie: 275.85\n",
      "[210]\tvalid_0's tweedie: 275.85\n",
      "[211]\tvalid_0's tweedie: 275.851\n",
      "[212]\tvalid_0's tweedie: 275.851\n",
      "[213]\tvalid_0's tweedie: 275.851\n",
      "[214]\tvalid_0's tweedie: 275.85\n",
      "[215]\tvalid_0's tweedie: 275.85\n",
      "[216]\tvalid_0's tweedie: 275.85\n",
      "[217]\tvalid_0's tweedie: 275.85\n",
      "[218]\tvalid_0's tweedie: 275.849\n",
      "[219]\tvalid_0's tweedie: 275.849\n",
      "[220]\tvalid_0's tweedie: 275.849\n",
      "[221]\tvalid_0's tweedie: 275.848\n",
      "[222]\tvalid_0's tweedie: 275.848\n",
      "[223]\tvalid_0's tweedie: 275.848\n",
      "[224]\tvalid_0's tweedie: 275.848\n",
      "[225]\tvalid_0's tweedie: 275.848\n",
      "[226]\tvalid_0's tweedie: 275.848\n",
      "[227]\tvalid_0's tweedie: 275.848\n",
      "[228]\tvalid_0's tweedie: 275.848\n",
      "[229]\tvalid_0's tweedie: 275.848\n",
      "[230]\tvalid_0's tweedie: 275.848\n",
      "[231]\tvalid_0's tweedie: 275.848\n",
      "[232]\tvalid_0's tweedie: 275.848\n",
      "[233]\tvalid_0's tweedie: 275.847\n",
      "[234]\tvalid_0's tweedie: 275.848\n",
      "[235]\tvalid_0's tweedie: 275.847\n",
      "[236]\tvalid_0's tweedie: 275.848\n",
      "[237]\tvalid_0's tweedie: 275.848\n",
      "[238]\tvalid_0's tweedie: 275.848\n",
      "[239]\tvalid_0's tweedie: 275.848\n",
      "[240]\tvalid_0's tweedie: 275.848\n",
      "[241]\tvalid_0's tweedie: 275.849\n",
      "[242]\tvalid_0's tweedie: 275.849\n",
      "[243]\tvalid_0's tweedie: 275.849\n",
      "[244]\tvalid_0's tweedie: 275.849\n",
      "[245]\tvalid_0's tweedie: 275.847\n",
      "[246]\tvalid_0's tweedie: 275.847\n",
      "[247]\tvalid_0's tweedie: 275.847\n",
      "[248]\tvalid_0's tweedie: 275.847\n",
      "[249]\tvalid_0's tweedie: 275.847\n",
      "[250]\tvalid_0's tweedie: 275.848\n",
      "Early stopping, best iteration is:\n",
      "[150]\tvalid_0's tweedie: 275.845\n",
      "Done.\n"
     ]
    }
   ],
   "source": [
    "train(cfg.DATA_DIR, cfg.MODEL_DIR, level, params)"
   ]
  },
  {
   "cell_type": "markdown",
   "id": "e40d6d12-d2da-4317-8bf1-1395e76d2d0c",
   "metadata": {
    "papermill": {
     "duration": 0.006829,
     "end_time": "2021-10-14T00:32:11.053325",
     "exception": false,
     "start_time": "2021-10-14T00:32:11.046496",
     "status": "completed"
    },
    "tags": []
   },
   "source": [
    "## Predict"
   ]
  },
  {
   "cell_type": "code",
   "execution_count": 7,
   "id": "40387698-a478-4d41-90ec-889a8401b7e5",
   "metadata": {
    "execution": {
     "iopub.execute_input": "2021-10-14T00:32:11.069154Z",
     "iopub.status.busy": "2021-10-14T00:32:11.068828Z",
     "iopub.status.idle": "2021-10-14T00:32:11.110125Z",
     "shell.execute_reply": "2021-10-14T00:32:11.110410Z"
    },
    "papermill": {
     "duration": 0.051109,
     "end_time": "2021-10-14T00:32:11.110512",
     "exception": false,
     "start_time": "2021-10-14T00:32:11.059403",
     "status": "completed"
    },
    "tags": []
   },
   "outputs": [
    {
     "data": {
      "text/html": [
       "<div>\n",
       "<style scoped>\n",
       "    .dataframe tbody tr th:only-of-type {\n",
       "        vertical-align: middle;\n",
       "    }\n",
       "\n",
       "    .dataframe tbody tr th {\n",
       "        vertical-align: top;\n",
       "    }\n",
       "\n",
       "    .dataframe thead th {\n",
       "        text-align: right;\n",
       "    }\n",
       "</style>\n",
       "<table border=\"1\" class=\"dataframe\">\n",
       "  <thead>\n",
       "    <tr style=\"text-align: right;\">\n",
       "      <th></th>\n",
       "      <th>dept_id</th>\n",
       "      <th>d</th>\n",
       "      <th>sales</th>\n",
       "      <th>fcst</th>\n",
       "    </tr>\n",
       "  </thead>\n",
       "  <tbody>\n",
       "    <tr>\n",
       "      <th>13195</th>\n",
       "      <td>0</td>\n",
       "      <td>1886</td>\n",
       "      <td>2261</td>\n",
       "      <td>2416.235116</td>\n",
       "    </tr>\n",
       "    <tr>\n",
       "      <th>13202</th>\n",
       "      <td>0</td>\n",
       "      <td>1887</td>\n",
       "      <td>2262</td>\n",
       "      <td>2462.182937</td>\n",
       "    </tr>\n",
       "    <tr>\n",
       "      <th>13209</th>\n",
       "      <td>0</td>\n",
       "      <td>1888</td>\n",
       "      <td>2282</td>\n",
       "      <td>2566.205638</td>\n",
       "    </tr>\n",
       "    <tr>\n",
       "      <th>13216</th>\n",
       "      <td>0</td>\n",
       "      <td>1889</td>\n",
       "      <td>2493</td>\n",
       "      <td>2786.193393</td>\n",
       "    </tr>\n",
       "    <tr>\n",
       "      <th>13223</th>\n",
       "      <td>0</td>\n",
       "      <td>1890</td>\n",
       "      <td>3403</td>\n",
       "      <td>3625.947864</td>\n",
       "    </tr>\n",
       "    <tr>\n",
       "      <th>...</th>\n",
       "      <td>...</td>\n",
       "      <td>...</td>\n",
       "      <td>...</td>\n",
       "      <td>...</td>\n",
       "    </tr>\n",
       "    <tr>\n",
       "      <th>13362</th>\n",
       "      <td>6</td>\n",
       "      <td>1909</td>\n",
       "      <td>1846</td>\n",
       "      <td>1715.757826</td>\n",
       "    </tr>\n",
       "    <tr>\n",
       "      <th>13369</th>\n",
       "      <td>6</td>\n",
       "      <td>1910</td>\n",
       "      <td>1783</td>\n",
       "      <td>1659.022907</td>\n",
       "    </tr>\n",
       "    <tr>\n",
       "      <th>13376</th>\n",
       "      <td>6</td>\n",
       "      <td>1911</td>\n",
       "      <td>1966</td>\n",
       "      <td>2230.518118</td>\n",
       "    </tr>\n",
       "    <tr>\n",
       "      <th>13383</th>\n",
       "      <td>6</td>\n",
       "      <td>1912</td>\n",
       "      <td>2703</td>\n",
       "      <td>2593.869831</td>\n",
       "    </tr>\n",
       "    <tr>\n",
       "      <th>13390</th>\n",
       "      <td>6</td>\n",
       "      <td>1913</td>\n",
       "      <td>2663</td>\n",
       "      <td>2365.285322</td>\n",
       "    </tr>\n",
       "  </tbody>\n",
       "</table>\n",
       "<p>196 rows × 4 columns</p>\n",
       "</div>"
      ],
      "text/plain": [
       "       dept_id     d  sales         fcst\n",
       "13195        0  1886   2261  2416.235116\n",
       "13202        0  1887   2262  2462.182937\n",
       "13209        0  1888   2282  2566.205638\n",
       "13216        0  1889   2493  2786.193393\n",
       "13223        0  1890   3403  3625.947864\n",
       "...        ...   ...    ...          ...\n",
       "13362        6  1909   1846  1715.757826\n",
       "13369        6  1910   1783  1659.022907\n",
       "13376        6  1911   1966  2230.518118\n",
       "13383        6  1912   2703  2593.869831\n",
       "13390        6  1913   2663  2365.285322\n",
       "\n",
       "[196 rows x 4 columns]"
      ]
     },
     "execution_count": 7,
     "metadata": {},
     "output_type": "execute_result"
    }
   ],
   "source": [
    "fcst = predict(cfg.DATA_DIR, cfg.MODEL_DIR, cfg.FCST_DIR, level)\n",
    "fcst"
   ]
  },
  {
   "cell_type": "code",
   "execution_count": 8,
   "id": "2b597f99-2385-4c62-8b50-e15b1d61869c",
   "metadata": {
    "execution": {
     "iopub.execute_input": "2021-10-14T00:32:11.128883Z",
     "iopub.status.busy": "2021-10-14T00:32:11.128592Z",
     "iopub.status.idle": "2021-10-14T00:32:11.296618Z",
     "shell.execute_reply": "2021-10-14T00:32:11.296305Z"
    },
    "papermill": {
     "duration": 0.178348,
     "end_time": "2021-10-14T00:32:11.296693",
     "exception": false,
     "start_time": "2021-10-14T00:32:11.118345",
     "status": "completed"
    },
    "tags": []
   },
   "outputs": [
    {
     "data": {
      "image/png": "[encoded data removed]",
      "text/plain": [
       "<Figure size 1008x288 with 1 Axes>"
      ]
     },
     "metadata": {
      "needs_background": "light"
     },
     "output_type": "display_data"
    }
   ],
   "source": [
    "plot_fcst(cfg.DATA_DIR, cfg.FCST_DIR, level=level)"
   ]
  },
  {
   "cell_type": "markdown",
   "id": "09bfab3b-9cf9-41f0-a340-7c0363b7df0d",
   "metadata": {
    "papermill": {
     "duration": 0.007468,
     "end_time": "2021-10-14T00:32:11.311699",
     "exception": false,
     "start_time": "2021-10-14T00:32:11.304231",
     "status": "completed"
    },
    "tags": []
   },
   "source": [
    "## Evaluate"
   ]
  },
  {
   "cell_type": "code",
   "execution_count": 9,
   "id": "d8b7a2f7-996f-4a76-8adf-c77b27d83b02",
   "metadata": {
    "execution": {
     "iopub.execute_input": "2021-10-14T00:32:11.330661Z",
     "iopub.status.busy": "2021-10-14T00:32:11.330320Z",
     "iopub.status.idle": "2021-10-14T00:32:11.372371Z",
     "shell.execute_reply": "2021-10-14T00:32:11.372626Z"
    },
    "papermill": {
     "duration": 0.053284,
     "end_time": "2021-10-14T00:32:11.372721",
     "exception": false,
     "start_time": "2021-10-14T00:32:11.319437",
     "status": "completed"
    },
    "tags": []
   },
   "outputs": [
    {
     "data": {
      "text/html": [
       "<div>\n",
       "<style scoped>\n",
       "    .dataframe tbody tr th:only-of-type {\n",
       "        vertical-align: middle;\n",
       "    }\n",
       "\n",
       "    .dataframe tbody tr th {\n",
       "        vertical-align: top;\n",
       "    }\n",
       "\n",
       "    .dataframe thead th {\n",
       "        text-align: right;\n",
       "    }\n",
       "</style>\n",
       "<table border=\"1\" class=\"dataframe\">\n",
       "  <thead>\n",
       "    <tr style=\"text-align: right;\">\n",
       "      <th></th>\n",
       "      <th>dept_id</th>\n",
       "      <th>mse_fcst</th>\n",
       "      <th>mse_naive_insample</th>\n",
       "      <th>weights</th>\n",
       "      <th>msse</th>\n",
       "      <th>rmsse</th>\n",
       "      <th>wrmsse</th>\n",
       "    </tr>\n",
       "  </thead>\n",
       "  <tbody>\n",
       "    <tr>\n",
       "      <th>0</th>\n",
       "      <td>0</td>\n",
       "      <td>31349.751176</td>\n",
       "      <td>2.230839e+05</td>\n",
       "      <td>0.066794</td>\n",
       "      <td>0.140529</td>\n",
       "      <td>0.374872</td>\n",
       "      <td>0.025039</td>\n",
       "    </tr>\n",
       "    <tr>\n",
       "      <th>1</th>\n",
       "      <td>1</td>\n",
       "      <td>234176.609382</td>\n",
       "      <td>5.305284e+05</td>\n",
       "      <td>0.155681</td>\n",
       "      <td>0.441403</td>\n",
       "      <td>0.664381</td>\n",
       "      <td>0.103431</td>\n",
       "    </tr>\n",
       "    <tr>\n",
       "      <th>2</th>\n",
       "      <td>2</td>\n",
       "      <td>628490.243109</td>\n",
       "      <td>9.276180e+06</td>\n",
       "      <td>0.347227</td>\n",
       "      <td>0.067753</td>\n",
       "      <td>0.260294</td>\n",
       "      <td>0.090381</td>\n",
       "    </tr>\n",
       "    <tr>\n",
       "      <th>3</th>\n",
       "      <td>3</td>\n",
       "      <td>62834.350387</td>\n",
       "      <td>3.083983e+05</td>\n",
       "      <td>0.122793</td>\n",
       "      <td>0.203744</td>\n",
       "      <td>0.451380</td>\n",
       "      <td>0.055426</td>\n",
       "    </tr>\n",
       "    <tr>\n",
       "      <th>4</th>\n",
       "      <td>4</td>\n",
       "      <td>1833.636125</td>\n",
       "      <td>3.751819e+03</td>\n",
       "      <td>0.005876</td>\n",
       "      <td>0.488733</td>\n",
       "      <td>0.699094</td>\n",
       "      <td>0.004108</td>\n",
       "    </tr>\n",
       "    <tr>\n",
       "      <th>5</th>\n",
       "      <td>5</td>\n",
       "      <td>303740.976345</td>\n",
       "      <td>1.454931e+06</td>\n",
       "      <td>0.229201</td>\n",
       "      <td>0.208767</td>\n",
       "      <td>0.456910</td>\n",
       "      <td>0.104724</td>\n",
       "    </tr>\n",
       "    <tr>\n",
       "      <th>6</th>\n",
       "      <td>6</td>\n",
       "      <td>17601.227015</td>\n",
       "      <td>9.454361e+04</td>\n",
       "      <td>0.072428</td>\n",
       "      <td>0.186170</td>\n",
       "      <td>0.431475</td>\n",
       "      <td>0.031251</td>\n",
       "    </tr>\n",
       "  </tbody>\n",
       "</table>\n",
       "</div>"
      ],
      "text/plain": [
       "   dept_id       mse_fcst  mse_naive_insample   weights      msse     rmsse  \\\n",
       "0        0   31349.751176        2.230839e+05  0.066794  0.140529  0.374872   \n",
       "1        1  234176.609382        5.305284e+05  0.155681  0.441403  0.664381   \n",
       "2        2  628490.243109        9.276180e+06  0.347227  0.067753  0.260294   \n",
       "3        3   62834.350387        3.083983e+05  0.122793  0.203744  0.451380   \n",
       "4        4    1833.636125        3.751819e+03  0.005876  0.488733  0.699094   \n",
       "5        5  303740.976345        1.454931e+06  0.229201  0.208767  0.456910   \n",
       "6        6   17601.227015        9.454361e+04  0.072428  0.186170  0.431475   \n",
       "\n",
       "     wrmsse  \n",
       "0  0.025039  \n",
       "1  0.103431  \n",
       "2  0.090381  \n",
       "3  0.055426  \n",
       "4  0.004108  \n",
       "5  0.104724  \n",
       "6  0.031251  "
      ]
     },
     "execution_count": 9,
     "metadata": {},
     "output_type": "execute_result"
    }
   ],
   "source": [
    "accuracy_df = accuracy(cfg.DATA_DIR, cfg.FCST_DIR, cfg.METRICS_DIR, level)\n",
    "accuracy_df"
   ]
  },
  {
   "cell_type": "code",
   "execution_count": 10,
   "id": "2f7e4bc6-8e33-449a-9853-3cae4192d1ea",
   "metadata": {
    "execution": {
     "iopub.execute_input": "2021-10-14T00:32:11.391878Z",
     "iopub.status.busy": "2021-10-14T00:32:11.391551Z",
     "iopub.status.idle": "2021-10-14T00:32:11.402001Z",
     "shell.execute_reply": "2021-10-14T00:32:11.402249Z"
    },
    "papermill": {
     "duration": 0.021835,
     "end_time": "2021-10-14T00:32:11.402341",
     "exception": false,
     "start_time": "2021-10-14T00:32:11.380506",
     "status": "completed"
    },
    "tags": []
   },
   "outputs": [
    {
     "data": {
      "text/plain": [
       "1.0000001"
      ]
     },
     "execution_count": 10,
     "metadata": {},
     "output_type": "execute_result"
    }
   ],
   "source": [
    "accuracy_df[\"weights\"].sum()"
   ]
  },
  {
   "cell_type": "code",
   "execution_count": 11,
   "id": "a0258800-c530-4b7c-98c5-2274bb70e942",
   "metadata": {
    "execution": {
     "iopub.execute_input": "2021-10-14T00:32:11.420842Z",
     "iopub.status.busy": "2021-10-14T00:32:11.420483Z",
     "iopub.status.idle": "2021-10-14T00:32:11.432880Z",
     "shell.execute_reply": "2021-10-14T00:32:11.432592Z"
    },
    "papermill": {
     "duration": 0.022969,
     "end_time": "2021-10-14T00:32:11.432954",
     "exception": false,
     "start_time": "2021-10-14T00:32:11.409985",
     "status": "completed"
    },
    "tags": []
   },
   "outputs": [
    {
     "data": {
      "text/plain": [
       "0.4143611340034676"
      ]
     },
     "execution_count": 11,
     "metadata": {},
     "output_type": "execute_result"
    }
   ],
   "source": [
    "accuracy_df[\"wrmsse\"].sum()"
   ]
  },
  {
   "cell_type": "markdown",
   "id": "1ceb0cd5-c916-463f-a49b-4377d84f54ee",
   "metadata": {
    "papermill": {
     "duration": 0.008521,
     "end_time": "2021-10-14T00:32:11.450021",
     "exception": false,
     "start_time": "2021-10-14T00:32:11.441500",
     "status": "completed"
    },
    "tags": []
   },
   "source": [
    "## Misc"
   ]
  },
  {
   "cell_type": "code",
   "execution_count": null,
   "id": "475d6cb9-66f8-4102-8e08-349557a780c5",
   "metadata": {
    "papermill": {
     "duration": 0.008171,
     "end_time": "2021-10-14T00:32:11.467840",
     "exception": false,
     "start_time": "2021-10-14T00:32:11.459669",
     "status": "completed"
    },
    "tags": []
   },
   "outputs": [],
   "source": []
  }
 ],
 "metadata": {
  "kernelspec": {
   "display_name": "Python 3 (ipykernel)",
   "language": "python",
   "name": "python3"
  },
  "language_info": {
   "codemirror_mode": {
    "name": "ipython",
    "version": 3
   },
   "file_extension": ".py",
   "mimetype": "text/x-python",
   "name": "python",
   "nbconvert_exporter": "python",
   "pygments_lexer": "ipython3",
   "version": "3.9.7"
  },
  "papermill": {
   "default_parameters": {},
   "duration": 2.712433,
   "end_time": "2021-10-14T00:32:11.783100",
   "environment_variables": {},
   "exception": null,
   "input_path": "/home/ariel/Playground/m5-forecasting/notebooks/forecast.ipynb",
   "output_path": "/home/ariel/Playground/m5-forecasting/notebooks/forecast-5.ipynb",
   "parameters": {
    "level": 5
   },
   "start_time": "2021-10-14T00:32:09.070667",
   "version": "2.3.3"
  }
 },
 "nbformat": 4,
 "nbformat_minor": 5
}