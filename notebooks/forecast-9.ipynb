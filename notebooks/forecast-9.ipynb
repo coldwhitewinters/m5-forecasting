{
 "cells": [
  {
   "cell_type": "markdown",
   "id": "2e97f892-e21b-412e-9d7c-0401cd572d32",
   "metadata": {
    "papermill": {
     "duration": 0.01325,
     "end_time": "2021-10-14T00:32:24.610178",
     "exception": false,
     "start_time": "2021-10-14T00:32:24.596928",
     "status": "completed"
    },
    "tags": []
   },
   "source": [
    "# Forecast"
   ]
  },
  {
   "cell_type": "markdown",
   "id": "db01a074-52df-475b-a54a-a754b84f2251",
   "metadata": {
    "papermill": {
     "duration": 0.006647,
     "end_time": "2021-10-14T00:32:24.623684",
     "exception": false,
     "start_time": "2021-10-14T00:32:24.617037",
     "status": "completed"
    },
    "tags": []
   },
   "source": [
    "## Setup"
   ]
  },
  {
   "cell_type": "code",
   "execution_count": 1,
   "id": "fb6ab9fc-2b2d-4c69-bccf-13a545604b52",
   "metadata": {
    "execution": {
     "iopub.execute_input": "2021-10-14T00:32:24.640759Z",
     "iopub.status.busy": "2021-10-14T00:32:24.640421Z",
     "iopub.status.idle": "2021-10-14T00:32:24.646937Z",
     "shell.execute_reply": "2021-10-14T00:32:24.647183Z"
    },
    "papermill": {
     "duration": 0.018231,
     "end_time": "2021-10-14T00:32:24.647325",
     "exception": false,
     "start_time": "2021-10-14T00:32:24.629094",
     "status": "completed"
    },
    "tags": []
   },
   "outputs": [],
   "source": [
    "%load_ext autoreload\n",
    "%autoreload 2"
   ]
  },
  {
   "cell_type": "code",
   "execution_count": 2,
   "id": "372f5539-cb1b-4dd8-8d3d-2d9506e3d476",
   "metadata": {
    "execution": {
     "iopub.execute_input": "2021-10-14T00:32:24.661978Z",
     "iopub.status.busy": "2021-10-14T00:32:24.661613Z",
     "iopub.status.idle": "2021-10-14T00:32:25.511580Z",
     "shell.execute_reply": "2021-10-14T00:32:25.511221Z"
    },
    "papermill": {
     "duration": 0.85871,
     "end_time": "2021-10-14T00:32:25.511667",
     "exception": false,
     "start_time": "2021-10-14T00:32:24.652957",
     "status": "completed"
    },
    "tags": []
   },
   "outputs": [],
   "source": [
    "import sys\n",
    "sys.path.append(\"..\")\n",
    "\n",
    "# Libraries\n",
    "import pandas as pd\n",
    "import numpy as np\n",
    "import matplotlib.pyplot as plt\n",
    "\n",
    "import m5.config as cfg\n",
    "from m5.model import train, predict\n",
    "from m5.evaluate import accuracy\n",
    "from m5.plot import plot_fcst\n",
    "\n",
    "# Library settings\n",
    "pd.options.display.max_columns = 999\n",
    "plt.rcParams[\"figure.figsize\"] = (14, 4)"
   ]
  },
  {
   "cell_type": "markdown",
   "id": "d9d6177b-3189-4b70-9542-ca825a007af1",
   "metadata": {
    "papermill": {
     "duration": 0.005606,
     "end_time": "2021-10-14T00:32:25.523607",
     "exception": false,
     "start_time": "2021-10-14T00:32:25.518001",
     "status": "completed"
    },
    "tags": []
   },
   "source": [
    "## Parameters"
   ]
  },
  {
   "cell_type": "code",
   "execution_count": 3,
   "id": "ca52ac99-bbcd-4bdd-9b6c-a8cc8e448eb2",
   "metadata": {
    "execution": {
     "iopub.execute_input": "2021-10-14T00:32:25.537876Z",
     "iopub.status.busy": "2021-10-14T00:32:25.537480Z",
     "iopub.status.idle": "2021-10-14T00:32:25.549136Z",
     "shell.execute_reply": "2021-10-14T00:32:25.548818Z"
    },
    "papermill": {
     "duration": 0.020089,
     "end_time": "2021-10-14T00:32:25.549213",
     "exception": false,
     "start_time": "2021-10-14T00:32:25.529124",
     "status": "completed"
    },
    "tags": [
     "parameters"
    ]
   },
   "outputs": [],
   "source": [
    "level = 1"
   ]
  },
  {
   "cell_type": "code",
   "execution_count": 4,
   "id": "2fc2d2ee",
   "metadata": {
    "execution": {
     "iopub.execute_input": "2021-10-14T00:32:25.563880Z",
     "iopub.status.busy": "2021-10-14T00:32:25.563526Z",
     "iopub.status.idle": "2021-10-14T00:32:25.574110Z",
     "shell.execute_reply": "2021-10-14T00:32:25.574353Z"
    },
    "papermill": {
     "duration": 0.018842,
     "end_time": "2021-10-14T00:32:25.574451",
     "exception": false,
     "start_time": "2021-10-14T00:32:25.555609",
     "status": "completed"
    },
    "tags": [
     "injected-parameters"
    ]
   },
   "outputs": [],
   "source": [
    "# Parameters\n",
    "level = 9\n"
   ]
  },
  {
   "cell_type": "markdown",
   "id": "5e8ebb71-583a-4cd1-b60e-7006ebc85e82",
   "metadata": {
    "papermill": {
     "duration": 0.005785,
     "end_time": "2021-10-14T00:32:25.585814",
     "exception": false,
     "start_time": "2021-10-14T00:32:25.580029",
     "status": "completed"
    },
    "tags": []
   },
   "source": [
    "## Train"
   ]
  },
  {
   "cell_type": "code",
   "execution_count": 5,
   "id": "a462d470-398d-4f64-927f-7d9a0538508b",
   "metadata": {
    "execution": {
     "iopub.execute_input": "2021-10-14T00:32:25.599944Z",
     "iopub.status.busy": "2021-10-14T00:32:25.599622Z",
     "iopub.status.idle": "2021-10-14T00:32:25.610430Z",
     "shell.execute_reply": "2021-10-14T00:32:25.610136Z"
    },
    "papermill": {
     "duration": 0.019032,
     "end_time": "2021-10-14T00:32:25.610507",
     "exception": false,
     "start_time": "2021-10-14T00:32:25.591475",
     "status": "completed"
    },
    "tags": []
   },
   "outputs": [],
   "source": [
    "params = {\n",
    "    \"task\": \"train\",\n",
    "    \"objective\": \"tweedie\",\n",
    "    \"num_iterations\": 1000,\n",
    "    \"learning_rate\": 0.1,\n",
    "    \"num_leaves\": 31,\n",
    "    \"num_threads\": 4,\n",
    "    \"early_stopping_round\": 100,\n",
    "}"
   ]
  },
  {
   "cell_type": "code",
   "execution_count": 6,
   "id": "1a9cdb58-c9eb-4839-b1c6-5e6d44b4a36a",
   "metadata": {
    "execution": {
     "iopub.execute_input": "2021-10-14T00:32:25.625341Z",
     "iopub.status.busy": "2021-10-14T00:32:25.625024Z",
     "iopub.status.idle": "2021-10-14T00:32:29.151022Z",
     "shell.execute_reply": "2021-10-14T00:32:29.150690Z"
    },
    "papermill": {
     "duration": 3.534577,
     "end_time": "2021-10-14T00:32:29.151119",
     "exception": false,
     "start_time": "2021-10-14T00:32:25.616542",
     "status": "completed"
    },
    "tags": []
   },
   "outputs": [
    {
     "name": "stdout",
     "output_type": "stream",
     "text": [
      "Training model...\n",
      "[LightGBM] [Info] Load from binary file /home/ariel/Playground/m5-forecasting/data/processed/datasets/9/train.bin\n",
      "[LightGBM] [Warning] Auto-choosing row-wise multi-threading, the overhead of testing was 0.004585 seconds.\n",
      "You can set `force_row_wise=true` to remove the overhead.\n",
      "And if memory is not enough, you can set `force_col_wise=true`.\n",
      "[LightGBM] [Info] Total Bins 5497\n",
      "[LightGBM] [Info] Number of data points in the train set: 129079, number of used features: 27\n",
      "[LightGBM] [Info] Start training from score 6.197531\n",
      "[1]\tvalid_0's tweedie: 96.7702\n",
      "Training until validation scores don't improve for 100 rounds\n",
      "[2]\tvalid_0's tweedie: 95.0396\n",
      "[3]\tvalid_0's tweedie: 93.5739\n",
      "[4]\tvalid_0's tweedie: 92.3428\n",
      "[5]\tvalid_0's tweedie: 91.3092\n",
      "[6]\tvalid_0's tweedie: 90.442\n",
      "[7]\tvalid_0's tweedie: 89.7199\n",
      "[8]\tvalid_0's tweedie: 89.1213\n",
      "[9]\tvalid_0's tweedie: 88.6243\n",
      "[10]\tvalid_0's tweedie: 88.2121\n",
      "[11]\tvalid_0's tweedie: 87.8741\n",
      "[12]\tvalid_0's tweedie: 87.5946\n",
      "[13]\tvalid_0's tweedie: 87.3686\n",
      "[14]\tvalid_0's tweedie: 87.1828\n",
      "[15]\tvalid_0's tweedie: 87.0285\n",
      "[16]\tvalid_0's tweedie: 86.9049\n",
      "[17]\tvalid_0's tweedie: 86.8024\n",
      "[18]\tvalid_0's tweedie: 86.7201\n",
      "[19]\tvalid_0's tweedie: 86.6548\n",
      "[20]\tvalid_0's tweedie: 86.6003\n",
      "[21]\tvalid_0's tweedie: 86.5578\n"
     ]
    },
    {
     "name": "stderr",
     "output_type": "stream",
     "text": [
      "/home/ariel/anaconda3/envs/merlion/lib/python3.9/site-packages/lightgbm/engine.py:148: UserWarning: Found `num_iterations` in params. Will use it instead of argument\n",
      "  _log_warning(\"Found `{}` in params. Will use it instead of argument\".format(alias))\n",
      "/home/ariel/anaconda3/envs/merlion/lib/python3.9/site-packages/lightgbm/engine.py:153: UserWarning: Found `early_stopping_round` in params. Will use it instead of argument\n",
      "  _log_warning(\"Found `{}` in params. Will use it instead of argument\".format(alias))\n"
     ]
    },
    {
     "name": "stdout",
     "output_type": "stream",
     "text": [
      "[22]\tvalid_0's tweedie: 86.522\n",
      "[23]\tvalid_0's tweedie: 86.4931\n",
      "[24]\tvalid_0's tweedie: 86.4705\n",
      "[25]\tvalid_0's tweedie: 86.4513\n",
      "[26]\tvalid_0's tweedie: 86.4378\n",
      "[27]\tvalid_0's tweedie: 86.4247\n",
      "[28]\tvalid_0's tweedie: 86.4147\n",
      "[29]\tvalid_0's tweedie: 86.407\n",
      "[30]\tvalid_0's tweedie: 86.4003\n",
      "[31]\tvalid_0's tweedie: 86.3945\n",
      "[32]\tvalid_0's tweedie: 86.3897\n",
      "[33]\tvalid_0's tweedie: 86.3865\n",
      "[34]\tvalid_0's tweedie: 86.3837\n",
      "[35]\tvalid_0's tweedie: 86.3824\n",
      "[36]\tvalid_0's tweedie: 86.3797\n",
      "[37]\tvalid_0's tweedie: 86.3796\n",
      "[38]\tvalid_0's tweedie: 86.3793\n",
      "[39]\tvalid_0's tweedie: 86.378\n",
      "[40]\tvalid_0's tweedie: 86.3769\n",
      "[41]\tvalid_0's tweedie: 86.3768\n",
      "[42]\tvalid_0's tweedie: 86.377\n",
      "[43]\tvalid_0's tweedie: 86.3768\n",
      "[44]\tvalid_0's tweedie: 86.3771\n",
      "[45]\tvalid_0's tweedie: 86.377\n"
     ]
    },
    {
     "name": "stdout",
     "output_type": "stream",
     "text": [
      "[46]\tvalid_0's tweedie: 86.377\n",
      "[47]\tvalid_0's tweedie: 86.3782\n",
      "[48]\tvalid_0's tweedie: 86.3785\n",
      "[49]\tvalid_0's tweedie: 86.3776\n",
      "[50]\tvalid_0's tweedie: 86.3783\n",
      "[51]\tvalid_0's tweedie: 86.3779\n",
      "[52]\tvalid_0's tweedie: 86.3779\n",
      "[53]\tvalid_0's tweedie: 86.3782\n",
      "[54]\tvalid_0's tweedie: 86.3782\n",
      "[55]\tvalid_0's tweedie: 86.3783\n",
      "[56]\tvalid_0's tweedie: 86.3785\n",
      "[57]\tvalid_0's tweedie: 86.3784\n",
      "[58]\tvalid_0's tweedie: 86.3792\n",
      "[59]\tvalid_0's tweedie: 86.3792\n",
      "[60]\tvalid_0's tweedie: 86.3794\n",
      "[61]\tvalid_0's tweedie: 86.3791\n",
      "[62]\tvalid_0's tweedie: 86.3793\n",
      "[63]\tvalid_0's tweedie: 86.3792\n",
      "[64]\tvalid_0's tweedie: 86.3794\n",
      "[65]\tvalid_0's tweedie: 86.3793\n",
      "[66]\tvalid_0's tweedie: 86.3789\n",
      "[67]\tvalid_0's tweedie: 86.3791\n",
      "[68]\tvalid_0's tweedie: 86.3792\n",
      "[69]\tvalid_0's tweedie: 86.3795\n",
      "[70]\tvalid_0's tweedie: 86.3794\n"
     ]
    },
    {
     "name": "stdout",
     "output_type": "stream",
     "text": [
      "[71]\tvalid_0's tweedie: 86.3794\n",
      "[72]\tvalid_0's tweedie: 86.3795\n",
      "[73]\tvalid_0's tweedie: 86.3799\n",
      "[74]\tvalid_0's tweedie: 86.3791\n",
      "[75]\tvalid_0's tweedie: 86.3792\n",
      "[76]\tvalid_0's tweedie: 86.3792\n",
      "[77]\tvalid_0's tweedie: 86.3792\n",
      "[78]\tvalid_0's tweedie: 86.3793\n",
      "[79]\tvalid_0's tweedie: 86.3789\n",
      "[80]\tvalid_0's tweedie: 86.3788\n",
      "[81]\tvalid_0's tweedie: 86.3787\n",
      "[82]\tvalid_0's tweedie: 86.3786\n",
      "[83]\tvalid_0's tweedie: 86.3785\n",
      "[84]\tvalid_0's tweedie: 86.3786\n",
      "[85]\tvalid_0's tweedie: 86.3787\n",
      "[86]\tvalid_0's tweedie: 86.3785\n",
      "[87]\tvalid_0's tweedie: 86.3783\n",
      "[88]\tvalid_0's tweedie: 86.3781\n",
      "[89]\tvalid_0's tweedie: 86.3781\n",
      "[90]\tvalid_0's tweedie: 86.378\n",
      "[91]\tvalid_0's tweedie: 86.3777\n",
      "[92]\tvalid_0's tweedie: 86.3775\n",
      "[93]\tvalid_0's tweedie: 86.3775\n",
      "[94]\tvalid_0's tweedie: 86.3776\n",
      "[95]\tvalid_0's tweedie: 86.3776\n",
      "[96]\tvalid_0's tweedie: 86.3776\n",
      "[97]\tvalid_0's tweedie: 86.3773\n",
      "[98]\tvalid_0's tweedie: 86.3771\n",
      "[99]\tvalid_0's tweedie: 86.3769\n"
     ]
    },
    {
     "name": "stdout",
     "output_type": "stream",
     "text": [
      "[100]\tvalid_0's tweedie: 86.377\n",
      "[101]\tvalid_0's tweedie: 86.3769\n",
      "[102]\tvalid_0's tweedie: 86.3766\n",
      "[103]\tvalid_0's tweedie: 86.3761\n",
      "[104]\tvalid_0's tweedie: 86.3762\n",
      "[105]\tvalid_0's tweedie: 86.3761\n",
      "[106]\tvalid_0's tweedie: 86.376\n",
      "[107]\tvalid_0's tweedie: 86.3761\n",
      "[108]\tvalid_0's tweedie: 86.3762\n",
      "[109]\tvalid_0's tweedie: 86.3761\n",
      "[110]\tvalid_0's tweedie: 86.3761\n",
      "[111]\tvalid_0's tweedie: 86.376\n",
      "[112]\tvalid_0's tweedie: 86.3758\n",
      "[113]\tvalid_0's tweedie: 86.3758\n",
      "[114]\tvalid_0's tweedie: 86.3757\n",
      "[115]\tvalid_0's tweedie: 86.3759\n",
      "[116]\tvalid_0's tweedie: 86.3756\n",
      "[117]\tvalid_0's tweedie: 86.3757\n",
      "[118]\tvalid_0's tweedie: 86.3752\n",
      "[119]\tvalid_0's tweedie: 86.3752\n",
      "[120]\tvalid_0's tweedie: 86.375\n",
      "[121]\tvalid_0's tweedie: 86.375\n",
      "[122]\tvalid_0's tweedie: 86.375\n",
      "[123]\tvalid_0's tweedie: 86.3751\n",
      "[124]\tvalid_0's tweedie: 86.3751\n",
      "[125]\tvalid_0's tweedie: 86.3751\n",
      "[126]\tvalid_0's tweedie: 86.3749\n",
      "[127]\tvalid_0's tweedie: 86.3747\n",
      "[128]\tvalid_0's tweedie: 86.3748\n",
      "[129]\tvalid_0's tweedie: 86.3747\n"
     ]
    },
    {
     "name": "stdout",
     "output_type": "stream",
     "text": [
      "[130]\tvalid_0's tweedie: 86.3746\n",
      "[131]\tvalid_0's tweedie: 86.3747\n",
      "[132]\tvalid_0's tweedie: 86.3747\n",
      "[133]\tvalid_0's tweedie: 86.3746\n",
      "[134]\tvalid_0's tweedie: 86.3746\n",
      "[135]\tvalid_0's tweedie: 86.3745\n",
      "[136]\tvalid_0's tweedie: 86.3746\n",
      "[137]\tvalid_0's tweedie: 86.3743\n",
      "[138]\tvalid_0's tweedie: 86.3742\n",
      "[139]\tvalid_0's tweedie: 86.374\n",
      "[140]\tvalid_0's tweedie: 86.3741\n",
      "[141]\tvalid_0's tweedie: 86.3742\n",
      "[142]\tvalid_0's tweedie: 86.3739\n",
      "[143]\tvalid_0's tweedie: 86.3736\n",
      "[144]\tvalid_0's tweedie: 86.3736\n",
      "[145]\tvalid_0's tweedie: 86.3735\n",
      "[146]\tvalid_0's tweedie: 86.3736\n",
      "[147]\tvalid_0's tweedie: 86.3738\n",
      "[148]\tvalid_0's tweedie: 86.3738\n",
      "[149]\tvalid_0's tweedie: 86.3734\n",
      "[150]\tvalid_0's tweedie: 86.3734\n",
      "[151]\tvalid_0's tweedie: 86.3732\n",
      "[152]\tvalid_0's tweedie: 86.3732\n",
      "[153]\tvalid_0's tweedie: 86.3732\n",
      "[154]\tvalid_0's tweedie: 86.3731\n",
      "[155]\tvalid_0's tweedie: 86.3731\n",
      "[156]\tvalid_0's tweedie: 86.373\n",
      "[157]\tvalid_0's tweedie: 86.3728\n",
      "[158]\tvalid_0's tweedie: 86.3728\n",
      "[159]\tvalid_0's tweedie: 86.3728\n",
      "[160]\tvalid_0's tweedie: 86.3728\n"
     ]
    },
    {
     "name": "stdout",
     "output_type": "stream",
     "text": [
      "[161]\tvalid_0's tweedie: 86.3727\n",
      "[162]\tvalid_0's tweedie: 86.3729\n",
      "[163]\tvalid_0's tweedie: 86.373\n",
      "[164]\tvalid_0's tweedie: 86.3728\n",
      "[165]\tvalid_0's tweedie: 86.3726\n",
      "[166]\tvalid_0's tweedie: 86.3727\n",
      "[167]\tvalid_0's tweedie: 86.3727\n",
      "[168]\tvalid_0's tweedie: 86.3727\n",
      "[169]\tvalid_0's tweedie: 86.3727\n",
      "[170]\tvalid_0's tweedie: 86.3726\n",
      "[171]\tvalid_0's tweedie: 86.3727\n",
      "[172]\tvalid_0's tweedie: 86.3725\n",
      "[173]\tvalid_0's tweedie: 86.3724\n",
      "[174]\tvalid_0's tweedie: 86.3723\n",
      "[175]\tvalid_0's tweedie: 86.3721\n",
      "[176]\tvalid_0's tweedie: 86.3721\n",
      "[177]\tvalid_0's tweedie: 86.3722\n",
      "[178]\tvalid_0's tweedie: 86.3721\n",
      "[179]\tvalid_0's tweedie: 86.3721\n",
      "[180]\tvalid_0's tweedie: 86.3721\n",
      "[181]\tvalid_0's tweedie: 86.3721\n",
      "[182]\tvalid_0's tweedie: 86.3717\n",
      "[183]\tvalid_0's tweedie: 86.3718\n",
      "[184]\tvalid_0's tweedie: 86.3718\n",
      "[185]\tvalid_0's tweedie: 86.372\n",
      "[186]\tvalid_0's tweedie: 86.372\n",
      "[187]\tvalid_0's tweedie: 86.3719\n",
      "[188]\tvalid_0's tweedie: 86.3719\n",
      "[189]\tvalid_0's tweedie: 86.3719\n",
      "[190]\tvalid_0's tweedie: 86.3715\n",
      "[191]\tvalid_0's tweedie: 86.3715\n",
      "[192]\tvalid_0's tweedie: 86.3715\n",
      "[193]\tvalid_0's tweedie: 86.3714\n",
      "[194]\tvalid_0's tweedie: 86.3715\n",
      "[195]\tvalid_0's tweedie: 86.3715\n"
     ]
    },
    {
     "name": "stdout",
     "output_type": "stream",
     "text": [
      "[196]\tvalid_0's tweedie: 86.3714\n",
      "[197]\tvalid_0's tweedie: 86.3715\n",
      "[198]\tvalid_0's tweedie: 86.3714\n",
      "[199]\tvalid_0's tweedie: 86.371\n",
      "[200]\tvalid_0's tweedie: 86.3711\n",
      "[201]\tvalid_0's tweedie: 86.3711\n",
      "[202]\tvalid_0's tweedie: 86.371\n",
      "[203]\tvalid_0's tweedie: 86.3711\n",
      "[204]\tvalid_0's tweedie: 86.3709\n",
      "[205]\tvalid_0's tweedie: 86.3709\n",
      "[206]\tvalid_0's tweedie: 86.3709\n",
      "[207]\tvalid_0's tweedie: 86.3709\n",
      "[208]\tvalid_0's tweedie: 86.371\n",
      "[209]\tvalid_0's tweedie: 86.371\n",
      "[210]\tvalid_0's tweedie: 86.371\n",
      "[211]\tvalid_0's tweedie: 86.3707\n",
      "[212]\tvalid_0's tweedie: 86.3707\n",
      "[213]\tvalid_0's tweedie: 86.3707\n",
      "[214]\tvalid_0's tweedie: 86.3707\n",
      "[215]\tvalid_0's tweedie: 86.3707\n",
      "[216]\tvalid_0's tweedie: 86.3704\n",
      "[217]\tvalid_0's tweedie: 86.3704\n",
      "[218]\tvalid_0's tweedie: 86.3703\n",
      "[219]\tvalid_0's tweedie: 86.3703\n",
      "[220]\tvalid_0's tweedie: 86.37\n",
      "[221]\tvalid_0's tweedie: 86.37\n",
      "[222]\tvalid_0's tweedie: 86.37\n",
      "[223]\tvalid_0's tweedie: 86.3701\n",
      "[224]\tvalid_0's tweedie: 86.3699\n",
      "[225]\tvalid_0's tweedie: 86.3699\n",
      "[226]\tvalid_0's tweedie: 86.3698\n",
      "[227]\tvalid_0's tweedie: 86.3698\n",
      "[228]\tvalid_0's tweedie: 86.3699\n",
      "[229]\tvalid_0's tweedie: 86.3699\n",
      "[230]\tvalid_0's tweedie: 86.37\n",
      "[231]\tvalid_0's tweedie: 86.3698\n"
     ]
    },
    {
     "name": "stdout",
     "output_type": "stream",
     "text": [
      "[232]\tvalid_0's tweedie: 86.3698\n",
      "[233]\tvalid_0's tweedie: 86.37\n",
      "[234]\tvalid_0's tweedie: 86.3699\n",
      "[235]\tvalid_0's tweedie: 86.37\n",
      "[236]\tvalid_0's tweedie: 86.3701\n",
      "[237]\tvalid_0's tweedie: 86.3701\n",
      "[238]\tvalid_0's tweedie: 86.37\n",
      "[239]\tvalid_0's tweedie: 86.3701\n",
      "[240]\tvalid_0's tweedie: 86.3701\n",
      "[241]\tvalid_0's tweedie: 86.3699\n",
      "[242]\tvalid_0's tweedie: 86.3699\n",
      "[243]\tvalid_0's tweedie: 86.3698\n",
      "[244]\tvalid_0's tweedie: 86.3699\n",
      "[245]\tvalid_0's tweedie: 86.3699\n",
      "[246]\tvalid_0's tweedie: 86.3699\n",
      "[247]\tvalid_0's tweedie: 86.3699\n",
      "[248]\tvalid_0's tweedie: 86.3698\n",
      "[249]\tvalid_0's tweedie: 86.3697\n",
      "[250]\tvalid_0's tweedie: 86.3696\n",
      "[251]\tvalid_0's tweedie: 86.3696\n",
      "[252]\tvalid_0's tweedie: 86.3697\n",
      "[253]\tvalid_0's tweedie: 86.3695\n",
      "[254]\tvalid_0's tweedie: 86.3694\n",
      "[255]\tvalid_0's tweedie: 86.3692\n",
      "[256]\tvalid_0's tweedie: 86.3692\n",
      "[257]\tvalid_0's tweedie: 86.3692\n",
      "[258]\tvalid_0's tweedie: 86.3693\n",
      "[259]\tvalid_0's tweedie: 86.3693\n",
      "[260]\tvalid_0's tweedie: 86.3693\n",
      "[261]\tvalid_0's tweedie: 86.3693\n",
      "[262]\tvalid_0's tweedie: 86.3694\n",
      "[263]\tvalid_0's tweedie: 86.3694\n",
      "[264]\tvalid_0's tweedie: 86.3694\n",
      "[265]\tvalid_0's tweedie: 86.3694\n",
      "[266]\tvalid_0's tweedie: 86.3694\n",
      "[267]\tvalid_0's tweedie: 86.3694\n"
     ]
    },
    {
     "name": "stdout",
     "output_type": "stream",
     "text": [
      "[268]\tvalid_0's tweedie: 86.3693\n",
      "[269]\tvalid_0's tweedie: 86.3692\n",
      "[270]\tvalid_0's tweedie: 86.3692\n",
      "[271]\tvalid_0's tweedie: 86.3692\n",
      "[272]\tvalid_0's tweedie: 86.3675\n",
      "[273]\tvalid_0's tweedie: 86.3676\n",
      "[274]\tvalid_0's tweedie: 86.3678\n",
      "[275]\tvalid_0's tweedie: 86.3676\n",
      "[276]\tvalid_0's tweedie: 86.3676\n",
      "[277]\tvalid_0's tweedie: 86.3676\n",
      "[278]\tvalid_0's tweedie: 86.3675\n",
      "[279]\tvalid_0's tweedie: 86.3674\n",
      "[280]\tvalid_0's tweedie: 86.3675\n",
      "[281]\tvalid_0's tweedie: 86.3675\n",
      "[282]\tvalid_0's tweedie: 86.3676\n",
      "[283]\tvalid_0's tweedie: 86.3677\n",
      "[284]\tvalid_0's tweedie: 86.3677\n",
      "[285]\tvalid_0's tweedie: 86.3678\n",
      "[286]\tvalid_0's tweedie: 86.3677\n",
      "[287]\tvalid_0's tweedie: 86.3676\n",
      "[288]\tvalid_0's tweedie: 86.3675\n",
      "[289]\tvalid_0's tweedie: 86.3675\n",
      "[290]\tvalid_0's tweedie: 86.3675\n",
      "[291]\tvalid_0's tweedie: 86.3663\n",
      "[292]\tvalid_0's tweedie: 86.3663\n",
      "[293]\tvalid_0's tweedie: 86.3663\n",
      "[294]\tvalid_0's tweedie: 86.3662\n",
      "[295]\tvalid_0's tweedie: 86.3662\n",
      "[296]\tvalid_0's tweedie: 86.3662\n",
      "[297]\tvalid_0's tweedie: 86.3662\n",
      "[298]\tvalid_0's tweedie: 86.3662\n",
      "[299]\tvalid_0's tweedie: 86.3661\n",
      "[300]\tvalid_0's tweedie: 86.3661\n",
      "[301]\tvalid_0's tweedie: 86.3662\n",
      "[302]\tvalid_0's tweedie: 86.3661\n"
     ]
    },
    {
     "name": "stdout",
     "output_type": "stream",
     "text": [
      "[303]\tvalid_0's tweedie: 86.3658\n",
      "[304]\tvalid_0's tweedie: 86.3658\n",
      "[305]\tvalid_0's tweedie: 86.3658\n",
      "[306]\tvalid_0's tweedie: 86.3658\n",
      "[307]\tvalid_0's tweedie: 86.3657\n",
      "[308]\tvalid_0's tweedie: 86.3657\n",
      "[309]\tvalid_0's tweedie: 86.3657\n",
      "[310]\tvalid_0's tweedie: 86.3657\n",
      "[311]\tvalid_0's tweedie: 86.3657\n",
      "[312]\tvalid_0's tweedie: 86.3659\n",
      "[313]\tvalid_0's tweedie: 86.3659\n",
      "[314]\tvalid_0's tweedie: 86.366\n",
      "[315]\tvalid_0's tweedie: 86.366\n",
      "[316]\tvalid_0's tweedie: 86.3653\n",
      "[317]\tvalid_0's tweedie: 86.3653\n",
      "[318]\tvalid_0's tweedie: 86.3654\n",
      "[319]\tvalid_0's tweedie: 86.3654\n",
      "[320]\tvalid_0's tweedie: 86.3655\n",
      "[321]\tvalid_0's tweedie: 86.3656\n",
      "[322]\tvalid_0's tweedie: 86.3657\n",
      "[323]\tvalid_0's tweedie: 86.3656\n",
      "[324]\tvalid_0's tweedie: 86.3657\n",
      "[325]\tvalid_0's tweedie: 86.3656\n",
      "[326]\tvalid_0's tweedie: 86.3656\n",
      "[327]\tvalid_0's tweedie: 86.3658\n",
      "[328]\tvalid_0's tweedie: 86.3658\n",
      "[329]\tvalid_0's tweedie: 86.3658\n",
      "[330]\tvalid_0's tweedie: 86.3657\n",
      "[331]\tvalid_0's tweedie: 86.3657\n",
      "[332]\tvalid_0's tweedie: 86.3658\n",
      "[333]\tvalid_0's tweedie: 86.3657\n",
      "[334]\tvalid_0's tweedie: 86.3655\n",
      "[335]\tvalid_0's tweedie: 86.3655\n"
     ]
    },
    {
     "name": "stdout",
     "output_type": "stream",
     "text": [
      "[336]\tvalid_0's tweedie: 86.3654\n",
      "[337]\tvalid_0's tweedie: 86.3652\n",
      "[338]\tvalid_0's tweedie: 86.3655\n",
      "[339]\tvalid_0's tweedie: 86.3655\n",
      "[340]\tvalid_0's tweedie: 86.3652\n",
      "[341]\tvalid_0's tweedie: 86.3653\n",
      "[342]\tvalid_0's tweedie: 86.3653\n",
      "[343]\tvalid_0's tweedie: 86.3654\n",
      "[344]\tvalid_0's tweedie: 86.3653\n",
      "[345]\tvalid_0's tweedie: 86.3653\n",
      "[346]\tvalid_0's tweedie: 86.3652\n",
      "[347]\tvalid_0's tweedie: 86.3653\n",
      "[348]\tvalid_0's tweedie: 86.3653\n",
      "[349]\tvalid_0's tweedie: 86.3653\n",
      "[350]\tvalid_0's tweedie: 86.3653\n",
      "[351]\tvalid_0's tweedie: 86.3653\n",
      "[352]\tvalid_0's tweedie: 86.3653\n",
      "[353]\tvalid_0's tweedie: 86.3653\n",
      "[354]\tvalid_0's tweedie: 86.3653\n",
      "[355]\tvalid_0's tweedie: 86.3653\n",
      "[356]\tvalid_0's tweedie: 86.3653\n",
      "[357]\tvalid_0's tweedie: 86.3653\n",
      "[358]\tvalid_0's tweedie: 86.3653\n",
      "[359]\tvalid_0's tweedie: 86.3653\n",
      "[360]\tvalid_0's tweedie: 86.3654\n",
      "[361]\tvalid_0's tweedie: 86.3653\n",
      "[362]\tvalid_0's tweedie: 86.3653\n",
      "[363]\tvalid_0's tweedie: 86.3653\n",
      "[364]\tvalid_0's tweedie: 86.3653\n",
      "[365]\tvalid_0's tweedie: 86.3653\n",
      "[366]\tvalid_0's tweedie: 86.3653\n",
      "[367]\tvalid_0's tweedie: 86.3651\n",
      "[368]\tvalid_0's tweedie: 86.3651\n",
      "[369]\tvalid_0's tweedie: 86.3651\n"
     ]
    },
    {
     "name": "stdout",
     "output_type": "stream",
     "text": [
      "[370]\tvalid_0's tweedie: 86.3651\n",
      "[371]\tvalid_0's tweedie: 86.365\n",
      "[372]\tvalid_0's tweedie: 86.365\n",
      "[373]\tvalid_0's tweedie: 86.3649\n",
      "[374]\tvalid_0's tweedie: 86.3649\n",
      "[375]\tvalid_0's tweedie: 86.3647\n",
      "[376]\tvalid_0's tweedie: 86.3648\n",
      "[377]\tvalid_0's tweedie: 86.3648\n",
      "[378]\tvalid_0's tweedie: 86.3648\n",
      "[379]\tvalid_0's tweedie: 86.3648\n",
      "[380]\tvalid_0's tweedie: 86.3647\n",
      "[381]\tvalid_0's tweedie: 86.3647\n",
      "[382]\tvalid_0's tweedie: 86.3646\n",
      "[383]\tvalid_0's tweedie: 86.3646\n",
      "[384]\tvalid_0's tweedie: 86.3646\n",
      "[385]\tvalid_0's tweedie: 86.3646\n",
      "[386]\tvalid_0's tweedie: 86.3646\n",
      "[387]\tvalid_0's tweedie: 86.3646\n",
      "[388]\tvalid_0's tweedie: 86.3646\n",
      "[389]\tvalid_0's tweedie: 86.3646\n",
      "[390]\tvalid_0's tweedie: 86.3647\n",
      "[391]\tvalid_0's tweedie: 86.3647\n",
      "[392]\tvalid_0's tweedie: 86.3647\n",
      "[393]\tvalid_0's tweedie: 86.3647\n",
      "[394]\tvalid_0's tweedie: 86.3647\n",
      "[395]\tvalid_0's tweedie: 86.3646\n",
      "[396]\tvalid_0's tweedie: 86.3646\n",
      "[397]\tvalid_0's tweedie: 86.3646\n",
      "[398]\tvalid_0's tweedie: 86.3647\n",
      "[399]\tvalid_0's tweedie: 86.3647\n",
      "[400]\tvalid_0's tweedie: 86.3647\n",
      "[401]\tvalid_0's tweedie: 86.3647\n",
      "[402]\tvalid_0's tweedie: 86.3647\n",
      "[403]\tvalid_0's tweedie: 86.3646\n",
      "[404]\tvalid_0's tweedie: 86.3647\n",
      "[405]\tvalid_0's tweedie: 86.3647\n",
      "[406]\tvalid_0's tweedie: 86.3647\n"
     ]
    },
    {
     "name": "stdout",
     "output_type": "stream",
     "text": [
      "[407]\tvalid_0's tweedie: 86.3647\n",
      "[408]\tvalid_0's tweedie: 86.3647\n",
      "[409]\tvalid_0's tweedie: 86.3646\n",
      "[410]\tvalid_0's tweedie: 86.3646\n",
      "[411]\tvalid_0's tweedie: 86.3646\n",
      "[412]\tvalid_0's tweedie: 86.3646\n",
      "[413]\tvalid_0's tweedie: 86.3645\n",
      "[414]\tvalid_0's tweedie: 86.3646\n",
      "[415]\tvalid_0's tweedie: 86.3645\n",
      "[416]\tvalid_0's tweedie: 86.3645\n",
      "[417]\tvalid_0's tweedie: 86.3644\n",
      "[418]\tvalid_0's tweedie: 86.3644\n",
      "[419]\tvalid_0's tweedie: 86.3644\n",
      "[420]\tvalid_0's tweedie: 86.3643\n",
      "[421]\tvalid_0's tweedie: 86.3643\n",
      "[422]\tvalid_0's tweedie: 86.3642\n",
      "[423]\tvalid_0's tweedie: 86.3642\n",
      "[424]\tvalid_0's tweedie: 86.3642\n",
      "[425]\tvalid_0's tweedie: 86.3643\n",
      "[426]\tvalid_0's tweedie: 86.3643\n",
      "[427]\tvalid_0's tweedie: 86.3643\n",
      "[428]\tvalid_0's tweedie: 86.3644\n",
      "[429]\tvalid_0's tweedie: 86.3644\n",
      "[430]\tvalid_0's tweedie: 86.3645\n",
      "[431]\tvalid_0's tweedie: 86.3645\n",
      "[432]\tvalid_0's tweedie: 86.3646\n",
      "[433]\tvalid_0's tweedie: 86.3646\n",
      "[434]\tvalid_0's tweedie: 86.3645\n",
      "[435]\tvalid_0's tweedie: 86.3646\n",
      "[436]\tvalid_0's tweedie: 86.3647\n",
      "[437]\tvalid_0's tweedie: 86.3646\n",
      "[438]\tvalid_0's tweedie: 86.3646\n",
      "[439]\tvalid_0's tweedie: 86.3641\n",
      "[440]\tvalid_0's tweedie: 86.3641\n",
      "[441]\tvalid_0's tweedie: 86.3642\n",
      "[442]\tvalid_0's tweedie: 86.3642\n",
      "[443]\tvalid_0's tweedie: 86.3642\n",
      "[444]\tvalid_0's tweedie: 86.3642\n"
     ]
    },
    {
     "name": "stdout",
     "output_type": "stream",
     "text": [
      "[445]\tvalid_0's tweedie: 86.3642\n",
      "[446]\tvalid_0's tweedie: 86.3643\n",
      "[447]\tvalid_0's tweedie: 86.3643\n",
      "[448]\tvalid_0's tweedie: 86.3642\n",
      "[449]\tvalid_0's tweedie: 86.3642\n",
      "[450]\tvalid_0's tweedie: 86.3642\n",
      "[451]\tvalid_0's tweedie: 86.3642\n",
      "[452]\tvalid_0's tweedie: 86.3643\n",
      "[453]\tvalid_0's tweedie: 86.3642\n",
      "[454]\tvalid_0's tweedie: 86.3643\n",
      "[455]\tvalid_0's tweedie: 86.3643\n",
      "[456]\tvalid_0's tweedie: 86.3644\n",
      "[457]\tvalid_0's tweedie: 86.3644\n",
      "[458]\tvalid_0's tweedie: 86.364\n",
      "[459]\tvalid_0's tweedie: 86.3638\n",
      "[460]\tvalid_0's tweedie: 86.3638\n",
      "[461]\tvalid_0's tweedie: 86.3638\n",
      "[462]\tvalid_0's tweedie: 86.3638\n",
      "[463]\tvalid_0's tweedie: 86.3638\n",
      "[464]\tvalid_0's tweedie: 86.3638\n",
      "[465]\tvalid_0's tweedie: 86.3638\n",
      "[466]\tvalid_0's tweedie: 86.3638\n",
      "[467]\tvalid_0's tweedie: 86.3638\n",
      "[468]\tvalid_0's tweedie: 86.3638\n",
      "[469]\tvalid_0's tweedie: 86.3639\n",
      "[470]\tvalid_0's tweedie: 86.364\n",
      "[471]\tvalid_0's tweedie: 86.3639\n",
      "[472]\tvalid_0's tweedie: 86.3641\n",
      "[473]\tvalid_0's tweedie: 86.364\n",
      "[474]\tvalid_0's tweedie: 86.364\n",
      "[475]\tvalid_0's tweedie: 86.364\n",
      "[476]\tvalid_0's tweedie: 86.364\n",
      "[477]\tvalid_0's tweedie: 86.3639\n",
      "[478]\tvalid_0's tweedie: 86.3638\n",
      "[479]\tvalid_0's tweedie: 86.3638\n",
      "[480]\tvalid_0's tweedie: 86.3638\n",
      "[481]\tvalid_0's tweedie: 86.364\n",
      "[482]\tvalid_0's tweedie: 86.364\n",
      "[483]\tvalid_0's tweedie: 86.3638\n",
      "[484]\tvalid_0's tweedie: 86.3638\n"
     ]
    },
    {
     "name": "stdout",
     "output_type": "stream",
     "text": [
      "[485]\tvalid_0's tweedie: 86.3638\n",
      "[486]\tvalid_0's tweedie: 86.3638\n",
      "[487]\tvalid_0's tweedie: 86.3638\n",
      "[488]\tvalid_0's tweedie: 86.3638\n",
      "[489]\tvalid_0's tweedie: 86.3638\n",
      "[490]\tvalid_0's tweedie: 86.3639\n",
      "[491]\tvalid_0's tweedie: 86.364\n",
      "[492]\tvalid_0's tweedie: 86.364\n",
      "[493]\tvalid_0's tweedie: 86.364\n",
      "[494]\tvalid_0's tweedie: 86.3639\n",
      "[495]\tvalid_0's tweedie: 86.3639\n",
      "[496]\tvalid_0's tweedie: 86.364\n",
      "[497]\tvalid_0's tweedie: 86.3641\n",
      "[498]\tvalid_0's tweedie: 86.364\n",
      "[499]\tvalid_0's tweedie: 86.364\n",
      "[500]\tvalid_0's tweedie: 86.364\n",
      "[501]\tvalid_0's tweedie: 86.3639\n",
      "[502]\tvalid_0's tweedie: 86.3639\n",
      "[503]\tvalid_0's tweedie: 86.3641\n",
      "[504]\tvalid_0's tweedie: 86.3641\n",
      "[505]\tvalid_0's tweedie: 86.3641\n",
      "[506]\tvalid_0's tweedie: 86.364\n",
      "[507]\tvalid_0's tweedie: 86.364\n",
      "[508]\tvalid_0's tweedie: 86.3641\n",
      "[509]\tvalid_0's tweedie: 86.3641\n",
      "[510]\tvalid_0's tweedie: 86.3641\n",
      "[511]\tvalid_0's tweedie: 86.3641\n",
      "[512]\tvalid_0's tweedie: 86.3642\n",
      "[513]\tvalid_0's tweedie: 86.3642\n",
      "[514]\tvalid_0's tweedie: 86.3642\n",
      "[515]\tvalid_0's tweedie: 86.3642\n",
      "[516]\tvalid_0's tweedie: 86.3642\n",
      "[517]\tvalid_0's tweedie: 86.3642\n",
      "[518]\tvalid_0's tweedie: 86.3642\n",
      "[519]\tvalid_0's tweedie: 86.3642\n",
      "[520]\tvalid_0's tweedie: 86.3642\n",
      "[521]\tvalid_0's tweedie: 86.3643\n",
      "[522]\tvalid_0's tweedie: 86.3643\n",
      "[523]\tvalid_0's tweedie: 86.3643\n"
     ]
    },
    {
     "name": "stdout",
     "output_type": "stream",
     "text": [
      "[524]\tvalid_0's tweedie: 86.3643\n",
      "[525]\tvalid_0's tweedie: 86.3643\n",
      "[526]\tvalid_0's tweedie: 86.3643\n",
      "[527]\tvalid_0's tweedie: 86.3643\n",
      "[528]\tvalid_0's tweedie: 86.3643\n",
      "[529]\tvalid_0's tweedie: 86.3642\n",
      "[530]\tvalid_0's tweedie: 86.3642\n",
      "[531]\tvalid_0's tweedie: 86.3642\n",
      "[532]\tvalid_0's tweedie: 86.3642\n",
      "[533]\tvalid_0's tweedie: 86.3642\n",
      "[534]\tvalid_0's tweedie: 86.3642\n",
      "[535]\tvalid_0's tweedie: 86.3642\n",
      "[536]\tvalid_0's tweedie: 86.3642\n",
      "[537]\tvalid_0's tweedie: 86.3642\n",
      "[538]\tvalid_0's tweedie: 86.3642\n",
      "[539]\tvalid_0's tweedie: 86.3642\n",
      "[540]\tvalid_0's tweedie: 86.3642\n",
      "[541]\tvalid_0's tweedie: 86.3642\n",
      "[542]\tvalid_0's tweedie: 86.3641\n",
      "[543]\tvalid_0's tweedie: 86.3641\n",
      "[544]\tvalid_0's tweedie: 86.3641\n",
      "[545]\tvalid_0's tweedie: 86.3642\n",
      "[546]\tvalid_0's tweedie: 86.3641\n",
      "[547]\tvalid_0's tweedie: 86.3641\n",
      "[548]\tvalid_0's tweedie: 86.3641\n",
      "[549]\tvalid_0's tweedie: 86.3641\n",
      "[550]\tvalid_0's tweedie: 86.3641\n",
      "[551]\tvalid_0's tweedie: 86.3641\n",
      "[552]\tvalid_0's tweedie: 86.3641\n",
      "[553]\tvalid_0's tweedie: 86.3641\n",
      "[554]\tvalid_0's tweedie: 86.3641\n",
      "[555]\tvalid_0's tweedie: 86.3643\n",
      "[556]\tvalid_0's tweedie: 86.3643\n",
      "[557]\tvalid_0's tweedie: 86.3643\n",
      "[558]\tvalid_0's tweedie: 86.3643\n",
      "[559]\tvalid_0's tweedie: 86.3643\n",
      "[560]\tvalid_0's tweedie: 86.3642\n",
      "[561]\tvalid_0's tweedie: 86.3642\n",
      "[562]\tvalid_0's tweedie: 86.3643\n",
      "[563]\tvalid_0's tweedie: 86.3643\n",
      "Early stopping, best iteration is:\n",
      "[463]\tvalid_0's tweedie: 86.3638\n"
     ]
    },
    {
     "name": "stdout",
     "output_type": "stream",
     "text": [
      "Done.\n"
     ]
    }
   ],
   "source": [
    "train(cfg.DATA_DIR, cfg.MODEL_DIR, level, params)"
   ]
  },
  {
   "cell_type": "markdown",
   "id": "e40d6d12-d2da-4317-8bf1-1395e76d2d0c",
   "metadata": {
    "papermill": {
     "duration": 0.010141,
     "end_time": "2021-10-14T00:32:29.172074",
     "exception": false,
     "start_time": "2021-10-14T00:32:29.161933",
     "status": "completed"
    },
    "tags": []
   },
   "source": [
    "## Predict"
   ]
  },
  {
   "cell_type": "code",
   "execution_count": 7,
   "id": "40387698-a478-4d41-90ec-889a8401b7e5",
   "metadata": {
    "execution": {
     "iopub.execute_input": "2021-10-14T00:32:29.192913Z",
     "iopub.status.busy": "2021-10-14T00:32:29.192600Z",
     "iopub.status.idle": "2021-10-14T00:32:29.258820Z",
     "shell.execute_reply": "2021-10-14T00:32:29.259123Z"
    },
    "papermill": {
     "duration": 0.078309,
     "end_time": "2021-10-14T00:32:29.259226",
     "exception": false,
     "start_time": "2021-10-14T00:32:29.180917",
     "status": "completed"
    },
    "tags": []
   },
   "outputs": [
    {
     "data": {
      "text/html": [
       "<div>\n",
       "<style scoped>\n",
       "    .dataframe tbody tr th:only-of-type {\n",
       "        vertical-align: middle;\n",
       "    }\n",
       "\n",
       "    .dataframe tbody tr th {\n",
       "        vertical-align: top;\n",
       "    }\n",
       "\n",
       "    .dataframe thead th {\n",
       "        text-align: right;\n",
       "    }\n",
       "</style>\n",
       "<table border=\"1\" class=\"dataframe\">\n",
       "  <thead>\n",
       "    <tr style=\"text-align: right;\">\n",
       "      <th></th>\n",
       "      <th>store_id</th>\n",
       "      <th>dept_id</th>\n",
       "      <th>d</th>\n",
       "      <th>sales</th>\n",
       "      <th>fcst</th>\n",
       "    </tr>\n",
       "  </thead>\n",
       "  <tbody>\n",
       "    <tr>\n",
       "      <th>131949</th>\n",
       "      <td>0</td>\n",
       "      <td>0</td>\n",
       "      <td>1886</td>\n",
       "      <td>233</td>\n",
       "      <td>263.105481</td>\n",
       "    </tr>\n",
       "    <tr>\n",
       "      <th>132019</th>\n",
       "      <td>0</td>\n",
       "      <td>0</td>\n",
       "      <td>1887</td>\n",
       "      <td>185</td>\n",
       "      <td>249.701973</td>\n",
       "    </tr>\n",
       "    <tr>\n",
       "      <th>132089</th>\n",
       "      <td>0</td>\n",
       "      <td>0</td>\n",
       "      <td>1888</td>\n",
       "      <td>215</td>\n",
       "      <td>239.351679</td>\n",
       "    </tr>\n",
       "    <tr>\n",
       "      <th>132159</th>\n",
       "      <td>0</td>\n",
       "      <td>0</td>\n",
       "      <td>1889</td>\n",
       "      <td>354</td>\n",
       "      <td>279.758607</td>\n",
       "    </tr>\n",
       "    <tr>\n",
       "      <th>132229</th>\n",
       "      <td>0</td>\n",
       "      <td>0</td>\n",
       "      <td>1890</td>\n",
       "      <td>320</td>\n",
       "      <td>321.469650</td>\n",
       "    </tr>\n",
       "    <tr>\n",
       "      <th>...</th>\n",
       "      <td>...</td>\n",
       "      <td>...</td>\n",
       "      <td>...</td>\n",
       "      <td>...</td>\n",
       "      <td>...</td>\n",
       "    </tr>\n",
       "    <tr>\n",
       "      <th>133628</th>\n",
       "      <td>9</td>\n",
       "      <td>6</td>\n",
       "      <td>1909</td>\n",
       "      <td>148</td>\n",
       "      <td>118.574418</td>\n",
       "    </tr>\n",
       "    <tr>\n",
       "      <th>133698</th>\n",
       "      <td>9</td>\n",
       "      <td>6</td>\n",
       "      <td>1910</td>\n",
       "      <td>142</td>\n",
       "      <td>115.169332</td>\n",
       "    </tr>\n",
       "    <tr>\n",
       "      <th>133768</th>\n",
       "      <td>9</td>\n",
       "      <td>6</td>\n",
       "      <td>1911</td>\n",
       "      <td>166</td>\n",
       "      <td>150.551751</td>\n",
       "    </tr>\n",
       "    <tr>\n",
       "      <th>133838</th>\n",
       "      <td>9</td>\n",
       "      <td>6</td>\n",
       "      <td>1912</td>\n",
       "      <td>232</td>\n",
       "      <td>171.959819</td>\n",
       "    </tr>\n",
       "    <tr>\n",
       "      <th>133908</th>\n",
       "      <td>9</td>\n",
       "      <td>6</td>\n",
       "      <td>1913</td>\n",
       "      <td>201</td>\n",
       "      <td>174.492001</td>\n",
       "    </tr>\n",
       "  </tbody>\n",
       "</table>\n",
       "<p>1960 rows × 5 columns</p>\n",
       "</div>"
      ],
      "text/plain": [
       "        store_id  dept_id     d  sales        fcst\n",
       "131949         0        0  1886    233  263.105481\n",
       "132019         0        0  1887    185  249.701973\n",
       "132089         0        0  1888    215  239.351679\n",
       "132159         0        0  1889    354  279.758607\n",
       "132229         0        0  1890    320  321.469650\n",
       "...          ...      ...   ...    ...         ...\n",
       "133628         9        6  1909    148  118.574418\n",
       "133698         9        6  1910    142  115.169332\n",
       "133768         9        6  1911    166  150.551751\n",
       "133838         9        6  1912    232  171.959819\n",
       "133908         9        6  1913    201  174.492001\n",
       "\n",
       "[1960 rows x 5 columns]"
      ]
     },
     "execution_count": 7,
     "metadata": {},
     "output_type": "execute_result"
    }
   ],
   "source": [
    "fcst = predict(cfg.DATA_DIR, cfg.MODEL_DIR, cfg.FCST_DIR, level)\n",
    "fcst"
   ]
  },
  {
   "cell_type": "code",
   "execution_count": 8,
   "id": "2b597f99-2385-4c62-8b50-e15b1d61869c",
   "metadata": {
    "execution": {
     "iopub.execute_input": "2021-10-14T00:32:29.281204Z",
     "iopub.status.busy": "2021-10-14T00:32:29.280211Z",
     "iopub.status.idle": "2021-10-14T00:32:29.483997Z",
     "shell.execute_reply": "2021-10-14T00:32:29.484226Z"
    },
    "papermill": {
     "duration": 0.215689,
     "end_time": "2021-10-14T00:32:29.484320",
     "exception": false,
     "start_time": "2021-10-14T00:32:29.268631",
     "status": "completed"
    },
    "tags": []
   },
   "outputs": [
    {
     "data": {
      "image/png": "[encoded data removed]",
      "text/plain": [
       "<Figure size 1008x288 with 1 Axes>"
      ]
     },
     "metadata": {
      "needs_background": "light"
     },
     "output_type": "display_data"
    }
   ],
   "source": [
    "plot_fcst(cfg.DATA_DIR, cfg.FCST_DIR, level=level)"
   ]
  },
  {
   "cell_type": "markdown",
   "id": "09bfab3b-9cf9-41f0-a340-7c0363b7df0d",
   "metadata": {
    "papermill": {
     "duration": 0.010418,
     "end_time": "2021-10-14T00:32:29.505025",
     "exception": false,
     "start_time": "2021-10-14T00:32:29.494607",
     "status": "completed"
    },
    "tags": []
   },
   "source": [
    "## Evaluate"
   ]
  },
  {
   "cell_type": "code",
   "execution_count": 9,
   "id": "d8b7a2f7-996f-4a76-8adf-c77b27d83b02",
   "metadata": {
    "execution": {
     "iopub.execute_input": "2021-10-14T00:32:29.528811Z",
     "iopub.status.busy": "2021-10-14T00:32:29.528478Z",
     "iopub.status.idle": "2021-10-14T00:32:29.615286Z",
     "shell.execute_reply": "2021-10-14T00:32:29.615515Z"
    },
    "papermill": {
     "duration": 0.099921,
     "end_time": "2021-10-14T00:32:29.615629",
     "exception": false,
     "start_time": "2021-10-14T00:32:29.515708",
     "status": "completed"
    },
    "tags": []
   },
   "outputs": [
    {
     "data": {
      "text/html": [
       "<div>\n",
       "<style scoped>\n",
       "    .dataframe tbody tr th:only-of-type {\n",
       "        vertical-align: middle;\n",
       "    }\n",
       "\n",
       "    .dataframe tbody tr th {\n",
       "        vertical-align: top;\n",
       "    }\n",
       "\n",
       "    .dataframe thead th {\n",
       "        text-align: right;\n",
       "    }\n",
       "</style>\n",
       "<table border=\"1\" class=\"dataframe\">\n",
       "  <thead>\n",
       "    <tr style=\"text-align: right;\">\n",
       "      <th></th>\n",
       "      <th>store_id</th>\n",
       "      <th>dept_id</th>\n",
       "      <th>mse_fcst</th>\n",
       "      <th>mse_naive_insample</th>\n",
       "      <th>weights</th>\n",
       "      <th>msse</th>\n",
       "      <th>rmsse</th>\n",
       "      <th>wrmsse</th>\n",
       "    </tr>\n",
       "  </thead>\n",
       "  <tbody>\n",
       "    <tr>\n",
       "      <th>0</th>\n",
       "      <td>0</td>\n",
       "      <td>0</td>\n",
       "      <td>2400.104415</td>\n",
       "      <td>5829.255839</td>\n",
       "      <td>0.005727</td>\n",
       "      <td>0.411734</td>\n",
       "      <td>0.641665</td>\n",
       "      <td>0.003675</td>\n",
       "    </tr>\n",
       "    <tr>\n",
       "      <th>1</th>\n",
       "      <td>0</td>\n",
       "      <td>1</td>\n",
       "      <td>4467.629479</td>\n",
       "      <td>11688.188960</td>\n",
       "      <td>0.014966</td>\n",
       "      <td>0.382235</td>\n",
       "      <td>0.618251</td>\n",
       "      <td>0.009253</td>\n",
       "    </tr>\n",
       "    <tr>\n",
       "      <th>2</th>\n",
       "      <td>0</td>\n",
       "      <td>2</td>\n",
       "      <td>31773.879714</td>\n",
       "      <td>232702.507962</td>\n",
       "      <td>0.040227</td>\n",
       "      <td>0.136543</td>\n",
       "      <td>0.369517</td>\n",
       "      <td>0.014864</td>\n",
       "    </tr>\n",
       "    <tr>\n",
       "      <th>3</th>\n",
       "      <td>0</td>\n",
       "      <td>3</td>\n",
       "      <td>7915.471303</td>\n",
       "      <td>14916.642251</td>\n",
       "      <td>0.017175</td>\n",
       "      <td>0.530647</td>\n",
       "      <td>0.728455</td>\n",
       "      <td>0.012512</td>\n",
       "    </tr>\n",
       "    <tr>\n",
       "      <th>4</th>\n",
       "      <td>0</td>\n",
       "      <td>4</td>\n",
       "      <td>157.349053</td>\n",
       "      <td>215.735138</td>\n",
       "      <td>0.000657</td>\n",
       "      <td>0.729362</td>\n",
       "      <td>0.854027</td>\n",
       "      <td>0.000561</td>\n",
       "    </tr>\n",
       "    <tr>\n",
       "      <th>...</th>\n",
       "      <td>...</td>\n",
       "      <td>...</td>\n",
       "      <td>...</td>\n",
       "      <td>...</td>\n",
       "      <td>...</td>\n",
       "      <td>...</td>\n",
       "      <td>...</td>\n",
       "      <td>...</td>\n",
       "    </tr>\n",
       "    <tr>\n",
       "      <th>65</th>\n",
       "      <td>9</td>\n",
       "      <td>2</td>\n",
       "      <td>23244.616109</td>\n",
       "      <td>186399.673036</td>\n",
       "      <td>0.033638</td>\n",
       "      <td>0.124703</td>\n",
       "      <td>0.353133</td>\n",
       "      <td>0.011879</td>\n",
       "    </tr>\n",
       "    <tr>\n",
       "      <th>66</th>\n",
       "      <td>9</td>\n",
       "      <td>3</td>\n",
       "      <td>3351.998748</td>\n",
       "      <td>5171.082803</td>\n",
       "      <td>0.006805</td>\n",
       "      <td>0.648220</td>\n",
       "      <td>0.805121</td>\n",
       "      <td>0.005479</td>\n",
       "    </tr>\n",
       "    <tr>\n",
       "      <th>67</th>\n",
       "      <td>9</td>\n",
       "      <td>4</td>\n",
       "      <td>136.992100</td>\n",
       "      <td>163.483546</td>\n",
       "      <td>0.000533</td>\n",
       "      <td>0.837957</td>\n",
       "      <td>0.915400</td>\n",
       "      <td>0.000488</td>\n",
       "    </tr>\n",
       "    <tr>\n",
       "      <th>68</th>\n",
       "      <td>9</td>\n",
       "      <td>5</td>\n",
       "      <td>5153.236892</td>\n",
       "      <td>17422.400743</td>\n",
       "      <td>0.016957</td>\n",
       "      <td>0.295782</td>\n",
       "      <td>0.543859</td>\n",
       "      <td>0.009222</td>\n",
       "    </tr>\n",
       "    <tr>\n",
       "      <th>69</th>\n",
       "      <td>9</td>\n",
       "      <td>6</td>\n",
       "      <td>558.119281</td>\n",
       "      <td>882.252654</td>\n",
       "      <td>0.005331</td>\n",
       "      <td>0.632607</td>\n",
       "      <td>0.795366</td>\n",
       "      <td>0.004240</td>\n",
       "    </tr>\n",
       "  </tbody>\n",
       "</table>\n",
       "<p>70 rows × 8 columns</p>\n",
       "</div>"
      ],
      "text/plain": [
       "    store_id  dept_id      mse_fcst  mse_naive_insample   weights      msse  \\\n",
       "0          0        0   2400.104415         5829.255839  0.005727  0.411734   \n",
       "1          0        1   4467.629479        11688.188960  0.014966  0.382235   \n",
       "2          0        2  31773.879714       232702.507962  0.040227  0.136543   \n",
       "3          0        3   7915.471303        14916.642251  0.017175  0.530647   \n",
       "4          0        4    157.349053          215.735138  0.000657  0.729362   \n",
       "..       ...      ...           ...                 ...       ...       ...   \n",
       "65         9        2  23244.616109       186399.673036  0.033638  0.124703   \n",
       "66         9        3   3351.998748         5171.082803  0.006805  0.648220   \n",
       "67         9        4    136.992100          163.483546  0.000533  0.837957   \n",
       "68         9        5   5153.236892        17422.400743  0.016957  0.295782   \n",
       "69         9        6    558.119281          882.252654  0.005331  0.632607   \n",
       "\n",
       "       rmsse    wrmsse  \n",
       "0   0.641665  0.003675  \n",
       "1   0.618251  0.009253  \n",
       "2   0.369517  0.014864  \n",
       "3   0.728455  0.012512  \n",
       "4   0.854027  0.000561  \n",
       "..       ...       ...  \n",
       "65  0.353133  0.011879  \n",
       "66  0.805121  0.005479  \n",
       "67  0.915400  0.000488  \n",
       "68  0.543859  0.009222  \n",
       "69  0.795366  0.004240  \n",
       "\n",
       "[70 rows x 8 columns]"
      ]
     },
     "execution_count": 9,
     "metadata": {},
     "output_type": "execute_result"
    }
   ],
   "source": [
    "accuracy_df = accuracy(cfg.DATA_DIR, cfg.FCST_DIR, cfg.METRICS_DIR, level)\n",
    "accuracy_df"
   ]
  },
  {
   "cell_type": "code",
   "execution_count": 10,
   "id": "2f7e4bc6-8e33-449a-9853-3cae4192d1ea",
   "metadata": {
    "execution": {
     "iopub.execute_input": "2021-10-14T00:32:29.640220Z",
     "iopub.status.busy": "2021-10-14T00:32:29.639289Z",
     "iopub.status.idle": "2021-10-14T00:32:29.652836Z",
     "shell.execute_reply": "2021-10-14T00:32:29.652520Z"
    },
    "papermill": {
     "duration": 0.026853,
     "end_time": "2021-10-14T00:32:29.652929",
     "exception": false,
     "start_time": "2021-10-14T00:32:29.626076",
     "status": "completed"
    },
    "tags": []
   },
   "outputs": [
    {
     "data": {
      "text/plain": [
       "0.9999999"
      ]
     },
     "execution_count": 10,
     "metadata": {},
     "output_type": "execute_result"
    }
   ],
   "source": [
    "accuracy_df[\"weights\"].sum()"
   ]
  },
  {
   "cell_type": "code",
   "execution_count": 11,
   "id": "a0258800-c530-4b7c-98c5-2274bb70e942",
   "metadata": {
    "execution": {
     "iopub.execute_input": "2021-10-14T00:32:29.677162Z",
     "iopub.status.busy": "2021-10-14T00:32:29.676823Z",
     "iopub.status.idle": "2021-10-14T00:32:29.688729Z",
     "shell.execute_reply": "2021-10-14T00:32:29.688481Z"
    },
    "papermill": {
     "duration": 0.025027,
     "end_time": "2021-10-14T00:32:29.688805",
     "exception": false,
     "start_time": "2021-10-14T00:32:29.663778",
     "status": "completed"
    },
    "tags": []
   },
   "outputs": [
    {
     "data": {
      "text/plain": [
       "0.6489790823526406"
      ]
     },
     "execution_count": 11,
     "metadata": {},
     "output_type": "execute_result"
    }
   ],
   "source": [
    "accuracy_df[\"wrmsse\"].sum()"
   ]
  },
  {
   "cell_type": "markdown",
   "id": "1ceb0cd5-c916-463f-a49b-4377d84f54ee",
   "metadata": {
    "papermill": {
     "duration": 0.010486,
     "end_time": "2021-10-14T00:32:29.709646",
     "exception": false,
     "start_time": "2021-10-14T00:32:29.699160",
     "status": "completed"
    },
    "tags": []
   },
   "source": [
    "## Misc"
   ]
  },
  {
   "cell_type": "code",
   "execution_count": null,
   "id": "475d6cb9-66f8-4102-8e08-349557a780c5",
   "metadata": {
    "papermill": {
     "duration": 0.012453,
     "end_time": "2021-10-14T00:32:29.733349",
     "exception": false,
     "start_time": "2021-10-14T00:32:29.720896",
     "status": "completed"
    },
    "tags": []
   },
   "outputs": [],
   "source": []
  }
 ],
 "metadata": {
  "kernelspec": {
   "display_name": "Python 3 (ipykernel)",
   "language": "python",
   "name": "python3"
  },
  "language_info": {
   "codemirror_mode": {
    "name": "ipython",
    "version": 3
   },
   "file_extension": ".py",
   "mimetype": "text/x-python",
   "name": "python",
   "nbconvert_exporter": "python",
   "pygments_lexer": "ipython3",
   "version": "3.9.7"
  },
  "papermill": {
   "default_parameters": {},
   "duration": 6.220659,
   "end_time": "2021-10-14T00:32:30.051618",
   "environment_variables": {},
   "exception": null,
   "input_path": "/home/ariel/Playground/m5-forecasting/notebooks/forecast.ipynb",
   "output_path": "/home/ariel/Playground/m5-forecasting/notebooks/forecast-9.ipynb",
   "parameters": {
    "level": 9
   },
   "start_time": "2021-10-14T00:32:23.830959",
   "version": "2.3.3"
  }
 },
 "nbformat": 4,
 "nbformat_minor": 5
}